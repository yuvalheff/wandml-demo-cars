{
 "cells": [
  {
   "cell_type": "markdown",
   "id": "1",
   "metadata": {},
   "source": [
    "# Vehicle Collision Prediction - EDA Report\n",
    "\n",
    "This notebook performs exploratory data analysis on telematic vehicle data to identify patterns and characteristics relevant for collision prediction modeling."
   ]
  },
  {
   "cell_type": "code",
   "execution_count": 1,
   "id": "2",
   "metadata": {
    "execution": {
     "iopub.execute_input": "2025-09-06T20:34:58.314141Z",
     "iopub.status.busy": "2025-09-06T20:34:58.313996Z",
     "iopub.status.idle": "2025-09-06T20:34:58.829962Z",
     "shell.execute_reply": "2025-09-06T20:34:58.829520Z"
    }
   },
   "outputs": [
    {
     "name": "stdout",
     "output_type": "stream",
     "text": [
      "Dataset shape: (7667, 13)\n",
      "\n",
      "First few rows:\n"
     ]
    },
    {
     "data": {
      "text/html": [
       "<div>\n",
       "<style scoped>\n",
       "    .dataframe tbody tr th:only-of-type {\n",
       "        vertical-align: middle;\n",
       "    }\n",
       "\n",
       "    .dataframe tbody tr th {\n",
       "        vertical-align: top;\n",
       "    }\n",
       "\n",
       "    .dataframe thead th {\n",
       "        text-align: right;\n",
       "    }\n",
       "</style>\n",
       "<table border=\"1\" class=\"dataframe\">\n",
       "  <thead>\n",
       "    <tr style=\"text-align: right;\">\n",
       "      <th></th>\n",
       "      <th>driver_id</th>\n",
       "      <th>month</th>\n",
       "      <th>count_trip</th>\n",
       "      <th>miles</th>\n",
       "      <th>drive_hours</th>\n",
       "      <th>count_brakes</th>\n",
       "      <th>count_accelarations</th>\n",
       "      <th>time_speeding_hours</th>\n",
       "      <th>time_phoneuse_hours</th>\n",
       "      <th>highway_miles</th>\n",
       "      <th>night_drive_hrs</th>\n",
       "      <th>maximum_speed</th>\n",
       "      <th>collisions</th>\n",
       "    </tr>\n",
       "  </thead>\n",
       "  <tbody>\n",
       "    <tr>\n",
       "      <th>0</th>\n",
       "      <td>OAW-355</td>\n",
       "      <td>Feb-22</td>\n",
       "      <td>5.0</td>\n",
       "      <td>86.81508</td>\n",
       "      <td>2.85</td>\n",
       "      <td>5.0</td>\n",
       "      <td>6.0</td>\n",
       "      <td>0.146111</td>\n",
       "      <td>0.755464</td>\n",
       "      <td>17.0063</td>\n",
       "      <td>0.0</td>\n",
       "      <td>87.0</td>\n",
       "      <td>0</td>\n",
       "    </tr>\n",
       "    <tr>\n",
       "      <th>1</th>\n",
       "      <td>CTD-636</td>\n",
       "      <td>Nov-22</td>\n",
       "      <td>2.0</td>\n",
       "      <td>27.54864</td>\n",
       "      <td>1.18</td>\n",
       "      <td>9.0</td>\n",
       "      <td>9.0</td>\n",
       "      <td>0.000000</td>\n",
       "      <td>0.972978</td>\n",
       "      <td>0.0000</td>\n",
       "      <td>0.0</td>\n",
       "      <td>73.0</td>\n",
       "      <td>0</td>\n",
       "    </tr>\n",
       "    <tr>\n",
       "      <th>2</th>\n",
       "      <td>KYJ-454</td>\n",
       "      <td>Aug-22</td>\n",
       "      <td>1.0</td>\n",
       "      <td>0.00552</td>\n",
       "      <td>0.04</td>\n",
       "      <td>7.0</td>\n",
       "      <td>11.0</td>\n",
       "      <td>0.000000</td>\n",
       "      <td>1.143315</td>\n",
       "      <td>0.0000</td>\n",
       "      <td>0.0</td>\n",
       "      <td>78.0</td>\n",
       "      <td>0</td>\n",
       "    </tr>\n",
       "    <tr>\n",
       "      <th>3</th>\n",
       "      <td>NSB-247</td>\n",
       "      <td>Feb-22</td>\n",
       "      <td>20.0</td>\n",
       "      <td>354.72636</td>\n",
       "      <td>24.64</td>\n",
       "      <td>8.0</td>\n",
       "      <td>8.0</td>\n",
       "      <td>0.000000</td>\n",
       "      <td>0.585125</td>\n",
       "      <td>81.4045</td>\n",
       "      <td>0.0</td>\n",
       "      <td>82.0</td>\n",
       "      <td>0</td>\n",
       "    </tr>\n",
       "    <tr>\n",
       "      <th>4</th>\n",
       "      <td>AJG-215</td>\n",
       "      <td>Jun-22</td>\n",
       "      <td>1.0</td>\n",
       "      <td>21.20472</td>\n",
       "      <td>0.50</td>\n",
       "      <td>4.0</td>\n",
       "      <td>4.0</td>\n",
       "      <td>0.000000</td>\n",
       "      <td>0.730539</td>\n",
       "      <td>9.7944</td>\n",
       "      <td>0.0</td>\n",
       "      <td>88.0</td>\n",
       "      <td>0</td>\n",
       "    </tr>\n",
       "  </tbody>\n",
       "</table>\n",
       "</div>"
      ],
      "text/plain": [
       "  driver_id   month  count_trip      miles  drive_hours  count_brakes  \\\n",
       "0   OAW-355  Feb-22         5.0   86.81508         2.85           5.0   \n",
       "1   CTD-636  Nov-22         2.0   27.54864         1.18           9.0   \n",
       "2   KYJ-454  Aug-22         1.0    0.00552         0.04           7.0   \n",
       "3   NSB-247  Feb-22        20.0  354.72636        24.64           8.0   \n",
       "4   AJG-215  Jun-22         1.0   21.20472         0.50           4.0   \n",
       "\n",
       "   count_accelarations  time_speeding_hours  time_phoneuse_hours  \\\n",
       "0                  6.0             0.146111             0.755464   \n",
       "1                  9.0             0.000000             0.972978   \n",
       "2                 11.0             0.000000             1.143315   \n",
       "3                  8.0             0.000000             0.585125   \n",
       "4                  4.0             0.000000             0.730539   \n",
       "\n",
       "   highway_miles  night_drive_hrs  maximum_speed  collisions  \n",
       "0        17.0063              0.0           87.0           0  \n",
       "1         0.0000              0.0           73.0           0  \n",
       "2         0.0000              0.0           78.0           0  \n",
       "3        81.4045              0.0           82.0           0  \n",
       "4         9.7944              0.0           88.0           0  "
      ]
     },
     "execution_count": 1,
     "metadata": {},
     "output_type": "execute_result"
    }
   ],
   "source": [
    "import pandas as pd\n",
    "import numpy as np\n",
    "import plotly.express as px\n",
    "import plotly.graph_objects as go\n",
    "from plotly.subplots import make_subplots\n",
    "import warnings\n",
    "warnings.filterwarnings('ignore')\n",
    "\n",
    "# Load the dataset\n",
    "df = pd.read_csv('/Users/yuvalheffetz/ds-agent-projects/session_5feb6ac6-f292-4d0c-9e41-ab6b3ffc14d6/data/train_set.csv')\n",
    "\n",
    "print(f\"Dataset shape: {df.shape}\")\n",
    "print(f\"\\nFirst few rows:\")\n",
    "df.head()"
   ]
  },
  {
   "cell_type": "markdown",
   "id": "3",
   "metadata": {},
   "source": [
    "## Dataset Structure and Basic Information"
   ]
  },
  {
   "cell_type": "code",
   "execution_count": 2,
   "id": "4",
   "metadata": {
    "execution": {
     "iopub.execute_input": "2025-09-06T20:34:58.831439Z",
     "iopub.status.busy": "2025-09-06T20:34:58.831327Z",
     "iopub.status.idle": "2025-09-06T20:34:58.847232Z",
     "shell.execute_reply": "2025-09-06T20:34:58.846930Z"
    }
   },
   "outputs": [
    {
     "name": "stdout",
     "output_type": "stream",
     "text": [
      "Dataset Info:\n",
      "<class 'pandas.core.frame.DataFrame'>\n",
      "RangeIndex: 7667 entries, 0 to 7666\n",
      "Data columns (total 13 columns):\n",
      " #   Column               Non-Null Count  Dtype  \n",
      "---  ------               --------------  -----  \n",
      " 0   driver_id            7667 non-null   object \n",
      " 1   month                7667 non-null   object \n",
      " 2   count_trip           7612 non-null   float64\n",
      " 3   miles                7612 non-null   float64\n",
      " 4   drive_hours          7612 non-null   float64\n",
      " 5   count_brakes         7612 non-null   float64\n",
      " 6   count_accelarations  7612 non-null   float64\n",
      " 7   time_speeding_hours  7612 non-null   float64\n",
      " 8   time_phoneuse_hours  6642 non-null   float64\n",
      " 9   highway_miles        7612 non-null   float64\n",
      " 10  night_drive_hrs      7612 non-null   float64\n",
      " 11  maximum_speed        7612 non-null   float64\n",
      " 12  collisions           7667 non-null   int64  \n",
      "dtypes: float64(10), int64(1), object(2)\n",
      "memory usage: 778.8+ KB\n",
      "\n",
      "==================================================\n",
      "Column names:\n",
      "['driver_id', 'month', 'count_trip', 'miles', 'drive_hours', 'count_brakes', 'count_accelarations', 'time_speeding_hours', 'time_phoneuse_hours', 'highway_miles', 'night_drive_hrs', 'maximum_speed', 'collisions']\n",
      "\n",
      "==================================================\n",
      "Basic statistics:\n"
     ]
    },
    {
     "data": {
      "text/html": [
       "<div>\n",
       "<style scoped>\n",
       "    .dataframe tbody tr th:only-of-type {\n",
       "        vertical-align: middle;\n",
       "    }\n",
       "\n",
       "    .dataframe tbody tr th {\n",
       "        vertical-align: top;\n",
       "    }\n",
       "\n",
       "    .dataframe thead th {\n",
       "        text-align: right;\n",
       "    }\n",
       "</style>\n",
       "<table border=\"1\" class=\"dataframe\">\n",
       "  <thead>\n",
       "    <tr style=\"text-align: right;\">\n",
       "      <th></th>\n",
       "      <th>count_trip</th>\n",
       "      <th>miles</th>\n",
       "      <th>drive_hours</th>\n",
       "      <th>count_brakes</th>\n",
       "      <th>count_accelarations</th>\n",
       "      <th>time_speeding_hours</th>\n",
       "      <th>time_phoneuse_hours</th>\n",
       "      <th>highway_miles</th>\n",
       "      <th>night_drive_hrs</th>\n",
       "      <th>maximum_speed</th>\n",
       "      <th>collisions</th>\n",
       "    </tr>\n",
       "  </thead>\n",
       "  <tbody>\n",
       "    <tr>\n",
       "      <th>count</th>\n",
       "      <td>7612.000000</td>\n",
       "      <td>7612.000000</td>\n",
       "      <td>7612.000000</td>\n",
       "      <td>7612.000000</td>\n",
       "      <td>7612.000000</td>\n",
       "      <td>7612.000000</td>\n",
       "      <td>6642.000000</td>\n",
       "      <td>7612.000000</td>\n",
       "      <td>7612.000000</td>\n",
       "      <td>7612.000000</td>\n",
       "      <td>7667.000000</td>\n",
       "    </tr>\n",
       "    <tr>\n",
       "      <th>mean</th>\n",
       "      <td>8.499606</td>\n",
       "      <td>470.263430</td>\n",
       "      <td>23.053007</td>\n",
       "      <td>106.514541</td>\n",
       "      <td>107.530831</td>\n",
       "      <td>0.082078</td>\n",
       "      <td>1.115344</td>\n",
       "      <td>93.098965</td>\n",
       "      <td>0.118414</td>\n",
       "      <td>78.357593</td>\n",
       "      <td>0.049693</td>\n",
       "    </tr>\n",
       "    <tr>\n",
       "      <th>std</th>\n",
       "      <td>7.710051</td>\n",
       "      <td>735.890858</td>\n",
       "      <td>36.025213</td>\n",
       "      <td>217.162076</td>\n",
       "      <td>217.185701</td>\n",
       "      <td>0.414009</td>\n",
       "      <td>0.633571</td>\n",
       "      <td>228.136664</td>\n",
       "      <td>2.027754</td>\n",
       "      <td>7.523699</td>\n",
       "      <td>0.226149</td>\n",
       "    </tr>\n",
       "    <tr>\n",
       "      <th>min</th>\n",
       "      <td>1.000000</td>\n",
       "      <td>0.000000</td>\n",
       "      <td>0.000000</td>\n",
       "      <td>0.000000</td>\n",
       "      <td>0.000000</td>\n",
       "      <td>0.000000</td>\n",
       "      <td>0.000418</td>\n",
       "      <td>0.000000</td>\n",
       "      <td>0.000000</td>\n",
       "      <td>60.000000</td>\n",
       "      <td>0.000000</td>\n",
       "    </tr>\n",
       "    <tr>\n",
       "      <th>25%</th>\n",
       "      <td>2.000000</td>\n",
       "      <td>38.429310</td>\n",
       "      <td>1.910000</td>\n",
       "      <td>8.000000</td>\n",
       "      <td>9.000000</td>\n",
       "      <td>0.000000</td>\n",
       "      <td>0.563903</td>\n",
       "      <td>2.116950</td>\n",
       "      <td>0.000000</td>\n",
       "      <td>74.000000</td>\n",
       "      <td>0.000000</td>\n",
       "    </tr>\n",
       "    <tr>\n",
       "      <th>50%</th>\n",
       "      <td>6.000000</td>\n",
       "      <td>166.630980</td>\n",
       "      <td>8.285000</td>\n",
       "      <td>26.000000</td>\n",
       "      <td>27.000000</td>\n",
       "      <td>0.000000</td>\n",
       "      <td>1.127164</td>\n",
       "      <td>17.151600</td>\n",
       "      <td>0.000000</td>\n",
       "      <td>78.500000</td>\n",
       "      <td>0.000000</td>\n",
       "    </tr>\n",
       "    <tr>\n",
       "      <th>75%</th>\n",
       "      <td>13.000000</td>\n",
       "      <td>585.986790</td>\n",
       "      <td>29.250000</td>\n",
       "      <td>106.000000</td>\n",
       "      <td>106.000000</td>\n",
       "      <td>0.028054</td>\n",
       "      <td>1.668731</td>\n",
       "      <td>78.876875</td>\n",
       "      <td>0.000000</td>\n",
       "      <td>84.000000</td>\n",
       "      <td>0.000000</td>\n",
       "    </tr>\n",
       "    <tr>\n",
       "      <th>max</th>\n",
       "      <td>31.000000</td>\n",
       "      <td>14902.604760</td>\n",
       "      <td>615.170000</td>\n",
       "      <td>5079.969246</td>\n",
       "      <td>5083.969246</td>\n",
       "      <td>13.486011</td>\n",
       "      <td>2.199764</td>\n",
       "      <td>3974.295300</td>\n",
       "      <td>106.450000</td>\n",
       "      <td>90.000000</td>\n",
       "      <td>2.000000</td>\n",
       "    </tr>\n",
       "  </tbody>\n",
       "</table>\n",
       "</div>"
      ],
      "text/plain": [
       "        count_trip         miles  drive_hours  count_brakes  \\\n",
       "count  7612.000000   7612.000000  7612.000000   7612.000000   \n",
       "mean      8.499606    470.263430    23.053007    106.514541   \n",
       "std       7.710051    735.890858    36.025213    217.162076   \n",
       "min       1.000000      0.000000     0.000000      0.000000   \n",
       "25%       2.000000     38.429310     1.910000      8.000000   \n",
       "50%       6.000000    166.630980     8.285000     26.000000   \n",
       "75%      13.000000    585.986790    29.250000    106.000000   \n",
       "max      31.000000  14902.604760   615.170000   5079.969246   \n",
       "\n",
       "       count_accelarations  time_speeding_hours  time_phoneuse_hours  \\\n",
       "count          7612.000000          7612.000000          6642.000000   \n",
       "mean            107.530831             0.082078             1.115344   \n",
       "std             217.185701             0.414009             0.633571   \n",
       "min               0.000000             0.000000             0.000418   \n",
       "25%               9.000000             0.000000             0.563903   \n",
       "50%              27.000000             0.000000             1.127164   \n",
       "75%             106.000000             0.028054             1.668731   \n",
       "max            5083.969246            13.486011             2.199764   \n",
       "\n",
       "       highway_miles  night_drive_hrs  maximum_speed   collisions  \n",
       "count    7612.000000      7612.000000    7612.000000  7667.000000  \n",
       "mean       93.098965         0.118414      78.357593     0.049693  \n",
       "std       228.136664         2.027754       7.523699     0.226149  \n",
       "min         0.000000         0.000000      60.000000     0.000000  \n",
       "25%         2.116950         0.000000      74.000000     0.000000  \n",
       "50%        17.151600         0.000000      78.500000     0.000000  \n",
       "75%        78.876875         0.000000      84.000000     0.000000  \n",
       "max      3974.295300       106.450000      90.000000     2.000000  "
      ]
     },
     "execution_count": 2,
     "metadata": {},
     "output_type": "execute_result"
    }
   ],
   "source": [
    "# Basic dataset information\n",
    "print(\"Dataset Info:\")\n",
    "df.info()\n",
    "print(\"\\n\" + \"=\"*50)\n",
    "print(\"Column names:\")\n",
    "print(df.columns.tolist())\n",
    "print(\"\\n\" + \"=\"*50)\n",
    "print(\"Basic statistics:\")\n",
    "df.describe()"
   ]
  },
  {
   "cell_type": "markdown",
   "id": "5",
   "metadata": {},
   "source": [
    "## Data Types and Missing Values Analysis"
   ]
  },
  {
   "cell_type": "code",
   "execution_count": 3,
   "id": "6",
   "metadata": {
    "execution": {
     "iopub.execute_input": "2025-09-06T20:34:58.848648Z",
     "iopub.status.busy": "2025-09-06T20:34:58.848547Z",
     "iopub.status.idle": "2025-09-06T20:34:58.856279Z",
     "shell.execute_reply": "2025-09-06T20:34:58.856045Z"
    }
   },
   "outputs": [
    {
     "name": "stdout",
     "output_type": "stream",
     "text": [
      "Missing Values Analysis:\n",
      "                                  Column Data_Type  Missing_Count  \\\n",
      "driver_id                      driver_id    object              0   \n",
      "month                              month    object              0   \n",
      "count_trip                    count_trip   float64             55   \n",
      "miles                              miles   float64             55   \n",
      "drive_hours                  drive_hours   float64             55   \n",
      "count_brakes                count_brakes   float64             55   \n",
      "count_accelarations  count_accelarations   float64             55   \n",
      "time_speeding_hours  time_speeding_hours   float64             55   \n",
      "time_phoneuse_hours  time_phoneuse_hours   float64           1025   \n",
      "highway_miles              highway_miles   float64             55   \n",
      "night_drive_hrs          night_drive_hrs   float64             55   \n",
      "maximum_speed              maximum_speed   float64             55   \n",
      "collisions                    collisions     int64              0   \n",
      "\n",
      "                     Missing_Percentage  Unique_Values  \n",
      "driver_id                      0.000000           7664  \n",
      "month                          0.000000             12  \n",
      "count_trip                     0.717360             31  \n",
      "miles                          0.717360           7570  \n",
      "drive_hours                    0.717360           3664  \n",
      "count_brakes                   0.717360            944  \n",
      "count_accelarations            0.717360            948  \n",
      "time_speeding_hours            0.717360           2329  \n",
      "time_phoneuse_hours           13.368984           6642  \n",
      "highway_miles                  0.717360           6290  \n",
      "night_drive_hrs                0.717360            146  \n",
      "maximum_speed                  0.717360             31  \n",
      "collisions                     0.000000              3  \n",
      "\n",
      "Numerical columns (11): ['count_trip', 'miles', 'drive_hours', 'count_brakes', 'count_accelarations', 'time_speeding_hours', 'time_phoneuse_hours', 'highway_miles', 'night_drive_hrs', 'maximum_speed', 'collisions']\n",
      "Categorical columns (2): ['driver_id', 'month']\n"
     ]
    }
   ],
   "source": [
    "# Check data types and missing values\n",
    "missing_info = pd.DataFrame({\n",
    "    'Column': df.columns,\n",
    "    'Data_Type': df.dtypes,\n",
    "    'Missing_Count': df.isnull().sum(),\n",
    "    'Missing_Percentage': (df.isnull().sum() / len(df)) * 100,\n",
    "    'Unique_Values': [df[col].nunique() for col in df.columns]\n",
    "})\n",
    "\n",
    "print(\"Missing Values Analysis:\")\n",
    "print(missing_info)\n",
    "\n",
    "# Identify categorical vs numerical columns\n",
    "numerical_cols = df.select_dtypes(include=[np.number]).columns.tolist()\n",
    "categorical_cols = df.select_dtypes(include=['object']).columns.tolist()\n",
    "\n",
    "print(f\"\\nNumerical columns ({len(numerical_cols)}): {numerical_cols}\")\n",
    "print(f\"Categorical columns ({len(categorical_cols)}): {categorical_cols}\")"
   ]
  },
  {
   "cell_type": "markdown",
   "id": "7",
   "metadata": {},
   "source": [
    "## Target Variable Analysis"
   ]
  },
  {
   "cell_type": "code",
   "execution_count": 4,
   "id": "8",
   "metadata": {
    "execution": {
     "iopub.execute_input": "2025-09-06T20:34:58.857544Z",
     "iopub.status.busy": "2025-09-06T20:34:58.857445Z",
     "iopub.status.idle": "2025-09-06T20:35:00.061761Z",
     "shell.execute_reply": "2025-09-06T20:35:00.060903Z"
    }
   },
   "outputs": [
    {
     "name": "stdout",
     "output_type": "stream",
     "text": [
      "Target variable: collisions\n",
      "\n",
      "Target distribution:\n",
      "0: 7301 (95.23%)\n",
      "1: 351 (4.58%)\n",
      "2: 15 (0.20%)\n"
     ]
    },
    {
     "data": {
      "application/vnd.plotly.v1+json": {
       "config": {
        "plotlyServerURL": "https://plot.ly"
       },
       "data": [
        {
         "hovertemplate": "Collision Count=%{x}<br>Frequency=%{y}<br>text=%{text}<extra></extra>",
         "legendgroup": "",
         "marker": {
          "color": "rgba(99, 110, 250, 0.8)",
          "pattern": {
           "shape": ""
          }
         },
         "name": "",
         "orientation": "v",
         "showlegend": false,
         "text": {
          "bdata": "AAAAAACFvEAAAAAAAPB1QAAAAAAAAC5A",
          "dtype": "f8"
         },
         "textposition": "outside",
         "texttemplate": "%{text}",
         "type": "bar",
         "x": {
          "bdata": "AAEC",
          "dtype": "i1"
         },
         "xaxis": "x",
         "y": {
          "bdata": "hRxfAQ8A",
          "dtype": "i2"
         },
         "yaxis": "y"
        }
       ],
       "layout": {
        "barmode": "relative",
        "font": {
         "color": "#8B5CF6",
         "size": 12
        },
        "height": 550,
        "legend": {
         "font": {
          "color": "#8B5CF6",
          "size": 11
         },
         "tracegroupgap": 0
        },
        "margin": {
         "t": 60
        },
        "paper_bgcolor": "rgba(0,0,0,0)",
        "plot_bgcolor": "rgba(0,0,0,0)",
        "template": {
         "data": {
          "bar": [
           {
            "error_x": {
             "color": "#2a3f5f"
            },
            "error_y": {
             "color": "#2a3f5f"
            },
            "marker": {
             "line": {
              "color": "#E5ECF6",
              "width": 0.5
             },
             "pattern": {
              "fillmode": "overlay",
              "size": 10,
              "solidity": 0.2
             }
            },
            "type": "bar"
           }
          ],
          "barpolar": [
           {
            "marker": {
             "line": {
              "color": "#E5ECF6",
              "width": 0.5
             },
             "pattern": {
              "fillmode": "overlay",
              "size": 10,
              "solidity": 0.2
             }
            },
            "type": "barpolar"
           }
          ],
          "carpet": [
           {
            "aaxis": {
             "endlinecolor": "#2a3f5f",
             "gridcolor": "white",
             "linecolor": "white",
             "minorgridcolor": "white",
             "startlinecolor": "#2a3f5f"
            },
            "baxis": {
             "endlinecolor": "#2a3f5f",
             "gridcolor": "white",
             "linecolor": "white",
             "minorgridcolor": "white",
             "startlinecolor": "#2a3f5f"
            },
            "type": "carpet"
           }
          ],
          "choropleth": [
           {
            "colorbar": {
             "outlinewidth": 0,
             "ticks": ""
            },
            "type": "choropleth"
           }
          ],
          "contour": [
           {
            "colorbar": {
             "outlinewidth": 0,
             "ticks": ""
            },
            "colorscale": [
             [
              0.0,
              "#0d0887"
             ],
             [
              0.1111111111111111,
              "#46039f"
             ],
             [
              0.2222222222222222,
              "#7201a8"
             ],
             [
              0.3333333333333333,
              "#9c179e"
             ],
             [
              0.4444444444444444,
              "#bd3786"
             ],
             [
              0.5555555555555556,
              "#d8576b"
             ],
             [
              0.6666666666666666,
              "#ed7953"
             ],
             [
              0.7777777777777778,
              "#fb9f3a"
             ],
             [
              0.8888888888888888,
              "#fdca26"
             ],
             [
              1.0,
              "#f0f921"
             ]
            ],
            "type": "contour"
           }
          ],
          "contourcarpet": [
           {
            "colorbar": {
             "outlinewidth": 0,
             "ticks": ""
            },
            "type": "contourcarpet"
           }
          ],
          "heatmap": [
           {
            "colorbar": {
             "outlinewidth": 0,
             "ticks": ""
            },
            "colorscale": [
             [
              0.0,
              "#0d0887"
             ],
             [
              0.1111111111111111,
              "#46039f"
             ],
             [
              0.2222222222222222,
              "#7201a8"
             ],
             [
              0.3333333333333333,
              "#9c179e"
             ],
             [
              0.4444444444444444,
              "#bd3786"
             ],
             [
              0.5555555555555556,
              "#d8576b"
             ],
             [
              0.6666666666666666,
              "#ed7953"
             ],
             [
              0.7777777777777778,
              "#fb9f3a"
             ],
             [
              0.8888888888888888,
              "#fdca26"
             ],
             [
              1.0,
              "#f0f921"
             ]
            ],
            "type": "heatmap"
           }
          ],
          "histogram": [
           {
            "marker": {
             "pattern": {
              "fillmode": "overlay",
              "size": 10,
              "solidity": 0.2
             }
            },
            "type": "histogram"
           }
          ],
          "histogram2d": [
           {
            "colorbar": {
             "outlinewidth": 0,
             "ticks": ""
            },
            "colorscale": [
             [
              0.0,
              "#0d0887"
             ],
             [
              0.1111111111111111,
              "#46039f"
             ],
             [
              0.2222222222222222,
              "#7201a8"
             ],
             [
              0.3333333333333333,
              "#9c179e"
             ],
             [
              0.4444444444444444,
              "#bd3786"
             ],
             [
              0.5555555555555556,
              "#d8576b"
             ],
             [
              0.6666666666666666,
              "#ed7953"
             ],
             [
              0.7777777777777778,
              "#fb9f3a"
             ],
             [
              0.8888888888888888,
              "#fdca26"
             ],
             [
              1.0,
              "#f0f921"
             ]
            ],
            "type": "histogram2d"
           }
          ],
          "histogram2dcontour": [
           {
            "colorbar": {
             "outlinewidth": 0,
             "ticks": ""
            },
            "colorscale": [
             [
              0.0,
              "#0d0887"
             ],
             [
              0.1111111111111111,
              "#46039f"
             ],
             [
              0.2222222222222222,
              "#7201a8"
             ],
             [
              0.3333333333333333,
              "#9c179e"
             ],
             [
              0.4444444444444444,
              "#bd3786"
             ],
             [
              0.5555555555555556,
              "#d8576b"
             ],
             [
              0.6666666666666666,
              "#ed7953"
             ],
             [
              0.7777777777777778,
              "#fb9f3a"
             ],
             [
              0.8888888888888888,
              "#fdca26"
             ],
             [
              1.0,
              "#f0f921"
             ]
            ],
            "type": "histogram2dcontour"
           }
          ],
          "mesh3d": [
           {
            "colorbar": {
             "outlinewidth": 0,
             "ticks": ""
            },
            "type": "mesh3d"
           }
          ],
          "parcoords": [
           {
            "line": {
             "colorbar": {
              "outlinewidth": 0,
              "ticks": ""
             }
            },
            "type": "parcoords"
           }
          ],
          "pie": [
           {
            "automargin": true,
            "type": "pie"
           }
          ],
          "scatter": [
           {
            "fillpattern": {
             "fillmode": "overlay",
             "size": 10,
             "solidity": 0.2
            },
            "type": "scatter"
           }
          ],
          "scatter3d": [
           {
            "line": {
             "colorbar": {
              "outlinewidth": 0,
              "ticks": ""
             }
            },
            "marker": {
             "colorbar": {
              "outlinewidth": 0,
              "ticks": ""
             }
            },
            "type": "scatter3d"
           }
          ],
          "scattercarpet": [
           {
            "marker": {
             "colorbar": {
              "outlinewidth": 0,
              "ticks": ""
             }
            },
            "type": "scattercarpet"
           }
          ],
          "scattergeo": [
           {
            "marker": {
             "colorbar": {
              "outlinewidth": 0,
              "ticks": ""
             }
            },
            "type": "scattergeo"
           }
          ],
          "scattergl": [
           {
            "marker": {
             "colorbar": {
              "outlinewidth": 0,
              "ticks": ""
             }
            },
            "type": "scattergl"
           }
          ],
          "scattermap": [
           {
            "marker": {
             "colorbar": {
              "outlinewidth": 0,
              "ticks": ""
             }
            },
            "type": "scattermap"
           }
          ],
          "scattermapbox": [
           {
            "marker": {
             "colorbar": {
              "outlinewidth": 0,
              "ticks": ""
             }
            },
            "type": "scattermapbox"
           }
          ],
          "scatterpolar": [
           {
            "marker": {
             "colorbar": {
              "outlinewidth": 0,
              "ticks": ""
             }
            },
            "type": "scatterpolar"
           }
          ],
          "scatterpolargl": [
           {
            "marker": {
             "colorbar": {
              "outlinewidth": 0,
              "ticks": ""
             }
            },
            "type": "scatterpolargl"
           }
          ],
          "scatterternary": [
           {
            "marker": {
             "colorbar": {
              "outlinewidth": 0,
              "ticks": ""
             }
            },
            "type": "scatterternary"
           }
          ],
          "surface": [
           {
            "colorbar": {
             "outlinewidth": 0,
             "ticks": ""
            },
            "colorscale": [
             [
              0.0,
              "#0d0887"
             ],
             [
              0.1111111111111111,
              "#46039f"
             ],
             [
              0.2222222222222222,
              "#7201a8"
             ],
             [
              0.3333333333333333,
              "#9c179e"
             ],
             [
              0.4444444444444444,
              "#bd3786"
             ],
             [
              0.5555555555555556,
              "#d8576b"
             ],
             [
              0.6666666666666666,
              "#ed7953"
             ],
             [
              0.7777777777777778,
              "#fb9f3a"
             ],
             [
              0.8888888888888888,
              "#fdca26"
             ],
             [
              1.0,
              "#f0f921"
             ]
            ],
            "type": "surface"
           }
          ],
          "table": [
           {
            "cells": {
             "fill": {
              "color": "#EBF0F8"
             },
             "line": {
              "color": "white"
             }
            },
            "header": {
             "fill": {
              "color": "#C8D4E3"
             },
             "line": {
              "color": "white"
             }
            },
            "type": "table"
           }
          ]
         },
         "layout": {
          "annotationdefaults": {
           "arrowcolor": "#2a3f5f",
           "arrowhead": 0,
           "arrowwidth": 1
          },
          "autotypenumbers": "strict",
          "coloraxis": {
           "colorbar": {
            "outlinewidth": 0,
            "ticks": ""
           }
          },
          "colorscale": {
           "diverging": [
            [
             0,
             "#8e0152"
            ],
            [
             0.1,
             "#c51b7d"
            ],
            [
             0.2,
             "#de77ae"
            ],
            [
             0.3,
             "#f1b6da"
            ],
            [
             0.4,
             "#fde0ef"
            ],
            [
             0.5,
             "#f7f7f7"
            ],
            [
             0.6,
             "#e6f5d0"
            ],
            [
             0.7,
             "#b8e186"
            ],
            [
             0.8,
             "#7fbc41"
            ],
            [
             0.9,
             "#4d9221"
            ],
            [
             1,
             "#276419"
            ]
           ],
           "sequential": [
            [
             0.0,
             "#0d0887"
            ],
            [
             0.1111111111111111,
             "#46039f"
            ],
            [
             0.2222222222222222,
             "#7201a8"
            ],
            [
             0.3333333333333333,
             "#9c179e"
            ],
            [
             0.4444444444444444,
             "#bd3786"
            ],
            [
             0.5555555555555556,
             "#d8576b"
            ],
            [
             0.6666666666666666,
             "#ed7953"
            ],
            [
             0.7777777777777778,
             "#fb9f3a"
            ],
            [
             0.8888888888888888,
             "#fdca26"
            ],
            [
             1.0,
             "#f0f921"
            ]
           ],
           "sequentialminus": [
            [
             0.0,
             "#0d0887"
            ],
            [
             0.1111111111111111,
             "#46039f"
            ],
            [
             0.2222222222222222,
             "#7201a8"
            ],
            [
             0.3333333333333333,
             "#9c179e"
            ],
            [
             0.4444444444444444,
             "#bd3786"
            ],
            [
             0.5555555555555556,
             "#d8576b"
            ],
            [
             0.6666666666666666,
             "#ed7953"
            ],
            [
             0.7777777777777778,
             "#fb9f3a"
            ],
            [
             0.8888888888888888,
             "#fdca26"
            ],
            [
             1.0,
             "#f0f921"
            ]
           ]
          },
          "colorway": [
           "#636efa",
           "#EF553B",
           "#00cc96",
           "#ab63fa",
           "#FFA15A",
           "#19d3f3",
           "#FF6692",
           "#B6E880",
           "#FF97FF",
           "#FECB52"
          ],
          "font": {
           "color": "#2a3f5f"
          },
          "geo": {
           "bgcolor": "white",
           "lakecolor": "white",
           "landcolor": "#E5ECF6",
           "showlakes": true,
           "showland": true,
           "subunitcolor": "white"
          },
          "hoverlabel": {
           "align": "left"
          },
          "hovermode": "closest",
          "mapbox": {
           "style": "light"
          },
          "paper_bgcolor": "white",
          "plot_bgcolor": "#E5ECF6",
          "polar": {
           "angularaxis": {
            "gridcolor": "white",
            "linecolor": "white",
            "ticks": ""
           },
           "bgcolor": "#E5ECF6",
           "radialaxis": {
            "gridcolor": "white",
            "linecolor": "white",
            "ticks": ""
           }
          },
          "scene": {
           "xaxis": {
            "backgroundcolor": "#E5ECF6",
            "gridcolor": "white",
            "gridwidth": 2,
            "linecolor": "white",
            "showbackground": true,
            "ticks": "",
            "zerolinecolor": "white"
           },
           "yaxis": {
            "backgroundcolor": "#E5ECF6",
            "gridcolor": "white",
            "gridwidth": 2,
            "linecolor": "white",
            "showbackground": true,
            "ticks": "",
            "zerolinecolor": "white"
           },
           "zaxis": {
            "backgroundcolor": "#E5ECF6",
            "gridcolor": "white",
            "gridwidth": 2,
            "linecolor": "white",
            "showbackground": true,
            "ticks": "",
            "zerolinecolor": "white"
           }
          },
          "shapedefaults": {
           "line": {
            "color": "#2a3f5f"
           }
          },
          "ternary": {
           "aaxis": {
            "gridcolor": "white",
            "linecolor": "white",
            "ticks": ""
           },
           "baxis": {
            "gridcolor": "white",
            "linecolor": "white",
            "ticks": ""
           },
           "bgcolor": "#E5ECF6",
           "caxis": {
            "gridcolor": "white",
            "linecolor": "white",
            "ticks": ""
           }
          },
          "title": {
           "x": 0.05
          },
          "xaxis": {
           "automargin": true,
           "gridcolor": "white",
           "linecolor": "white",
           "ticks": "",
           "title": {
            "standoff": 15
           },
           "zerolinecolor": "white",
           "zerolinewidth": 2
          },
          "yaxis": {
           "automargin": true,
           "gridcolor": "white",
           "linecolor": "white",
           "ticks": "",
           "title": {
            "standoff": 15
           },
           "zerolinecolor": "white",
           "zerolinewidth": 2
          }
         }
        },
        "title": {
         "font": {
          "color": "#7C3AED",
          "size": 16
         }
        },
        "xaxis": {
         "anchor": "y",
         "domain": [
          0.0,
          1.0
         ],
         "gridcolor": "rgba(139,92,246,0.2)",
         "tickfont": {
          "color": "#8B5CF6",
          "size": 11
         },
         "title": {
          "font": {
           "color": "#7C3AED",
           "size": 12
          },
          "text": "Collision Count"
         },
         "zerolinecolor": "rgba(139,92,246,0.3)"
        },
        "yaxis": {
         "anchor": "x",
         "domain": [
          0.0,
          1.0
         ],
         "gridcolor": "rgba(139,92,246,0.2)",
         "tickfont": {
          "color": "#8B5CF6",
          "size": 11
         },
         "title": {
          "font": {
           "color": "#7C3AED",
           "size": 12
          },
          "text": "Frequency"
         },
         "zerolinecolor": "rgba(139,92,246,0.3)"
        }
       }
      }
     },
     "metadata": {},
     "output_type": "display_data"
    }
   ],
   "source": [
    "# Analyze target variable distribution\n",
    "if 'collisions' in df.columns:\n",
    "    target_col = 'collisions'\n",
    "else:\n",
    "    # Find likely target column\n",
    "    likely_targets = [col for col in df.columns if 'collision' in col.lower() or 'target' in col.lower()]\n",
    "    target_col = likely_targets[0] if likely_targets else df.columns[-1]\n",
    "    \n",
    "print(f\"Target variable: {target_col}\")\n",
    "target_dist = df[target_col].value_counts().sort_index()\n",
    "target_pct = df[target_col].value_counts(normalize=True).sort_index() * 100\n",
    "\n",
    "print(\"\\nTarget distribution:\")\n",
    "for val in target_dist.index:\n",
    "    print(f\"{val}: {target_dist[val]} ({target_pct[val]:.2f}%)\")\n",
    "\n",
    "# Create target distribution plot\n",
    "app_color_palette = [\n",
    "    'rgba(99, 110, 250, 0.8)',   # Blue\n",
    "    'rgba(239, 85, 59, 0.8)',    # Red/Orange-Red\n",
    "    'rgba(0, 204, 150, 0.8)',    # Green\n",
    "    'rgba(171, 99, 250, 0.8)',   # Purple\n",
    "    'rgba(255, 161, 90, 0.8)',   # Orange\n",
    "    'rgba(25, 211, 243, 0.8)',   # Cyan\n",
    "    'rgba(255, 102, 146, 0.8)',  # Pink\n",
    "    'rgba(182, 232, 128, 0.8)',  # Light Green\n",
    "    'rgba(255, 151, 255, 0.8)',  # Magenta\n",
    "    'rgba(254, 203, 82, 0.8)'    # Yellow\n",
    "]\n",
    "\n",
    "fig_target = px.bar(\n",
    "    x=target_dist.index, \n",
    "    y=target_dist.values,\n",
    "    labels={'x': 'Collision Count', 'y': 'Frequency'},\n",
    "    text=target_dist.values\n",
    ")\n",
    "\n",
    "fig_target.update_traces(\n",
    "    marker=dict(color=app_color_palette[0]),\n",
    "    texttemplate='%{text}',\n",
    "    textposition='outside'\n",
    ")\n",
    "\n",
    "fig_target.update_layout(\n",
    "    height=550,\n",
    "    paper_bgcolor='rgba(0,0,0,0)',\n",
    "    plot_bgcolor='rgba(0,0,0,0)',\n",
    "    font=dict(color='#8B5CF6', size=12),\n",
    "    title_font=dict(color='#7C3AED', size=16),\n",
    "    xaxis=dict(\n",
    "        gridcolor='rgba(139,92,246,0.2)',\n",
    "        zerolinecolor='rgba(139,92,246,0.3)',\n",
    "        tickfont=dict(color='#8B5CF6', size=11),\n",
    "        title_font=dict(color='#7C3AED', size=12)\n",
    "    ),\n",
    "    yaxis=dict(\n",
    "        gridcolor='rgba(139,92,246,0.2)',\n",
    "        zerolinecolor='rgba(139,92,246,0.3)',\n",
    "        tickfont=dict(color='#8B5CF6', size=11),\n",
    "        title_font=dict(color='#7C3AED', size=12)\n",
    "    ),\n",
    "    legend=dict(font=dict(color='#8B5CF6', size=11))\n",
    ")\n",
    "\n",
    "fig_target.write_html(\n",
    "    \"/Users/yuvalheffetz/ds-agent-projects/session_5feb6ac6-f292-4d0c-9e41-ab6b3ffc14d6/research/plots/target_distribution.html\", \n",
    "    include_plotlyjs=True, \n",
    "    config={'responsive': True, 'displayModeBar': False}\n",
    ")\n",
    "\n",
    "fig_target.show()"
   ]
  },
  {
   "cell_type": "markdown",
   "id": "9",
   "metadata": {},
   "source": [
    "## Missing Values Analysis"
   ]
  },
  {
   "cell_type": "code",
   "execution_count": 5,
   "id": "10",
   "metadata": {
    "execution": {
     "iopub.execute_input": "2025-09-06T20:35:00.065414Z",
     "iopub.status.busy": "2025-09-06T20:35:00.065272Z",
     "iopub.status.idle": "2025-09-06T20:35:00.117036Z",
     "shell.execute_reply": "2025-09-06T20:35:00.116704Z"
    }
   },
   "outputs": [
    {
     "data": {
      "application/vnd.plotly.v1+json": {
       "config": {
        "plotlyServerURL": "https://plot.ly"
       },
       "data": [
        {
         "hovertemplate": "Columns=%{x}<br>Missing Values Count=%{y}<br>text=%{text}<extra></extra>",
         "legendgroup": "",
         "marker": {
          "color": "rgba(239, 85, 59, 0.8)",
          "pattern": {
           "shape": ""
          }
         },
         "name": "",
         "orientation": "v",
         "showlegend": false,
         "text": {
          "bdata": "AAAAAACAS0AAAAAAAIBLQAAAAAAAgEtAAAAAAACAS0AAAAAAAIBLQAAAAAAAgEtAAAAAAAAEkEAAAAAAAIBLQAAAAAAAgEtAAAAAAACAS0A=",
          "dtype": "f8"
         },
         "textposition": "outside",
         "texttemplate": "%{text}",
         "type": "bar",
         "x": [
          "count_trip",
          "miles",
          "drive_hours",
          "count_brakes",
          "count_accelarations",
          "time_speeding_hours",
          "time_phoneuse_hours",
          "highway_miles",
          "night_drive_hrs",
          "maximum_speed"
         ],
         "xaxis": "x",
         "y": {
          "bdata": "NwA3ADcANwA3ADcAAQQ3ADcANwA=",
          "dtype": "i2"
         },
         "yaxis": "y"
        }
       ],
       "layout": {
        "barmode": "relative",
        "font": {
         "color": "#8B5CF6",
         "size": 12
        },
        "height": 550,
        "legend": {
         "font": {
          "color": "#8B5CF6",
          "size": 11
         },
         "tracegroupgap": 0
        },
        "margin": {
         "t": 60
        },
        "paper_bgcolor": "rgba(0,0,0,0)",
        "plot_bgcolor": "rgba(0,0,0,0)",
        "template": {
         "data": {
          "bar": [
           {
            "error_x": {
             "color": "#2a3f5f"
            },
            "error_y": {
             "color": "#2a3f5f"
            },
            "marker": {
             "line": {
              "color": "#E5ECF6",
              "width": 0.5
             },
             "pattern": {
              "fillmode": "overlay",
              "size": 10,
              "solidity": 0.2
             }
            },
            "type": "bar"
           }
          ],
          "barpolar": [
           {
            "marker": {
             "line": {
              "color": "#E5ECF6",
              "width": 0.5
             },
             "pattern": {
              "fillmode": "overlay",
              "size": 10,
              "solidity": 0.2
             }
            },
            "type": "barpolar"
           }
          ],
          "carpet": [
           {
            "aaxis": {
             "endlinecolor": "#2a3f5f",
             "gridcolor": "white",
             "linecolor": "white",
             "minorgridcolor": "white",
             "startlinecolor": "#2a3f5f"
            },
            "baxis": {
             "endlinecolor": "#2a3f5f",
             "gridcolor": "white",
             "linecolor": "white",
             "minorgridcolor": "white",
             "startlinecolor": "#2a3f5f"
            },
            "type": "carpet"
           }
          ],
          "choropleth": [
           {
            "colorbar": {
             "outlinewidth": 0,
             "ticks": ""
            },
            "type": "choropleth"
           }
          ],
          "contour": [
           {
            "colorbar": {
             "outlinewidth": 0,
             "ticks": ""
            },
            "colorscale": [
             [
              0.0,
              "#0d0887"
             ],
             [
              0.1111111111111111,
              "#46039f"
             ],
             [
              0.2222222222222222,
              "#7201a8"
             ],
             [
              0.3333333333333333,
              "#9c179e"
             ],
             [
              0.4444444444444444,
              "#bd3786"
             ],
             [
              0.5555555555555556,
              "#d8576b"
             ],
             [
              0.6666666666666666,
              "#ed7953"
             ],
             [
              0.7777777777777778,
              "#fb9f3a"
             ],
             [
              0.8888888888888888,
              "#fdca26"
             ],
             [
              1.0,
              "#f0f921"
             ]
            ],
            "type": "contour"
           }
          ],
          "contourcarpet": [
           {
            "colorbar": {
             "outlinewidth": 0,
             "ticks": ""
            },
            "type": "contourcarpet"
           }
          ],
          "heatmap": [
           {
            "colorbar": {
             "outlinewidth": 0,
             "ticks": ""
            },
            "colorscale": [
             [
              0.0,
              "#0d0887"
             ],
             [
              0.1111111111111111,
              "#46039f"
             ],
             [
              0.2222222222222222,
              "#7201a8"
             ],
             [
              0.3333333333333333,
              "#9c179e"
             ],
             [
              0.4444444444444444,
              "#bd3786"
             ],
             [
              0.5555555555555556,
              "#d8576b"
             ],
             [
              0.6666666666666666,
              "#ed7953"
             ],
             [
              0.7777777777777778,
              "#fb9f3a"
             ],
             [
              0.8888888888888888,
              "#fdca26"
             ],
             [
              1.0,
              "#f0f921"
             ]
            ],
            "type": "heatmap"
           }
          ],
          "histogram": [
           {
            "marker": {
             "pattern": {
              "fillmode": "overlay",
              "size": 10,
              "solidity": 0.2
             }
            },
            "type": "histogram"
           }
          ],
          "histogram2d": [
           {
            "colorbar": {
             "outlinewidth": 0,
             "ticks": ""
            },
            "colorscale": [
             [
              0.0,
              "#0d0887"
             ],
             [
              0.1111111111111111,
              "#46039f"
             ],
             [
              0.2222222222222222,
              "#7201a8"
             ],
             [
              0.3333333333333333,
              "#9c179e"
             ],
             [
              0.4444444444444444,
              "#bd3786"
             ],
             [
              0.5555555555555556,
              "#d8576b"
             ],
             [
              0.6666666666666666,
              "#ed7953"
             ],
             [
              0.7777777777777778,
              "#fb9f3a"
             ],
             [
              0.8888888888888888,
              "#fdca26"
             ],
             [
              1.0,
              "#f0f921"
             ]
            ],
            "type": "histogram2d"
           }
          ],
          "histogram2dcontour": [
           {
            "colorbar": {
             "outlinewidth": 0,
             "ticks": ""
            },
            "colorscale": [
             [
              0.0,
              "#0d0887"
             ],
             [
              0.1111111111111111,
              "#46039f"
             ],
             [
              0.2222222222222222,
              "#7201a8"
             ],
             [
              0.3333333333333333,
              "#9c179e"
             ],
             [
              0.4444444444444444,
              "#bd3786"
             ],
             [
              0.5555555555555556,
              "#d8576b"
             ],
             [
              0.6666666666666666,
              "#ed7953"
             ],
             [
              0.7777777777777778,
              "#fb9f3a"
             ],
             [
              0.8888888888888888,
              "#fdca26"
             ],
             [
              1.0,
              "#f0f921"
             ]
            ],
            "type": "histogram2dcontour"
           }
          ],
          "mesh3d": [
           {
            "colorbar": {
             "outlinewidth": 0,
             "ticks": ""
            },
            "type": "mesh3d"
           }
          ],
          "parcoords": [
           {
            "line": {
             "colorbar": {
              "outlinewidth": 0,
              "ticks": ""
             }
            },
            "type": "parcoords"
           }
          ],
          "pie": [
           {
            "automargin": true,
            "type": "pie"
           }
          ],
          "scatter": [
           {
            "fillpattern": {
             "fillmode": "overlay",
             "size": 10,
             "solidity": 0.2
            },
            "type": "scatter"
           }
          ],
          "scatter3d": [
           {
            "line": {
             "colorbar": {
              "outlinewidth": 0,
              "ticks": ""
             }
            },
            "marker": {
             "colorbar": {
              "outlinewidth": 0,
              "ticks": ""
             }
            },
            "type": "scatter3d"
           }
          ],
          "scattercarpet": [
           {
            "marker": {
             "colorbar": {
              "outlinewidth": 0,
              "ticks": ""
             }
            },
            "type": "scattercarpet"
           }
          ],
          "scattergeo": [
           {
            "marker": {
             "colorbar": {
              "outlinewidth": 0,
              "ticks": ""
             }
            },
            "type": "scattergeo"
           }
          ],
          "scattergl": [
           {
            "marker": {
             "colorbar": {
              "outlinewidth": 0,
              "ticks": ""
             }
            },
            "type": "scattergl"
           }
          ],
          "scattermap": [
           {
            "marker": {
             "colorbar": {
              "outlinewidth": 0,
              "ticks": ""
             }
            },
            "type": "scattermap"
           }
          ],
          "scattermapbox": [
           {
            "marker": {
             "colorbar": {
              "outlinewidth": 0,
              "ticks": ""
             }
            },
            "type": "scattermapbox"
           }
          ],
          "scatterpolar": [
           {
            "marker": {
             "colorbar": {
              "outlinewidth": 0,
              "ticks": ""
             }
            },
            "type": "scatterpolar"
           }
          ],
          "scatterpolargl": [
           {
            "marker": {
             "colorbar": {
              "outlinewidth": 0,
              "ticks": ""
             }
            },
            "type": "scatterpolargl"
           }
          ],
          "scatterternary": [
           {
            "marker": {
             "colorbar": {
              "outlinewidth": 0,
              "ticks": ""
             }
            },
            "type": "scatterternary"
           }
          ],
          "surface": [
           {
            "colorbar": {
             "outlinewidth": 0,
             "ticks": ""
            },
            "colorscale": [
             [
              0.0,
              "#0d0887"
             ],
             [
              0.1111111111111111,
              "#46039f"
             ],
             [
              0.2222222222222222,
              "#7201a8"
             ],
             [
              0.3333333333333333,
              "#9c179e"
             ],
             [
              0.4444444444444444,
              "#bd3786"
             ],
             [
              0.5555555555555556,
              "#d8576b"
             ],
             [
              0.6666666666666666,
              "#ed7953"
             ],
             [
              0.7777777777777778,
              "#fb9f3a"
             ],
             [
              0.8888888888888888,
              "#fdca26"
             ],
             [
              1.0,
              "#f0f921"
             ]
            ],
            "type": "surface"
           }
          ],
          "table": [
           {
            "cells": {
             "fill": {
              "color": "#EBF0F8"
             },
             "line": {
              "color": "white"
             }
            },
            "header": {
             "fill": {
              "color": "#C8D4E3"
             },
             "line": {
              "color": "white"
             }
            },
            "type": "table"
           }
          ]
         },
         "layout": {
          "annotationdefaults": {
           "arrowcolor": "#2a3f5f",
           "arrowhead": 0,
           "arrowwidth": 1
          },
          "autotypenumbers": "strict",
          "coloraxis": {
           "colorbar": {
            "outlinewidth": 0,
            "ticks": ""
           }
          },
          "colorscale": {
           "diverging": [
            [
             0,
             "#8e0152"
            ],
            [
             0.1,
             "#c51b7d"
            ],
            [
             0.2,
             "#de77ae"
            ],
            [
             0.3,
             "#f1b6da"
            ],
            [
             0.4,
             "#fde0ef"
            ],
            [
             0.5,
             "#f7f7f7"
            ],
            [
             0.6,
             "#e6f5d0"
            ],
            [
             0.7,
             "#b8e186"
            ],
            [
             0.8,
             "#7fbc41"
            ],
            [
             0.9,
             "#4d9221"
            ],
            [
             1,
             "#276419"
            ]
           ],
           "sequential": [
            [
             0.0,
             "#0d0887"
            ],
            [
             0.1111111111111111,
             "#46039f"
            ],
            [
             0.2222222222222222,
             "#7201a8"
            ],
            [
             0.3333333333333333,
             "#9c179e"
            ],
            [
             0.4444444444444444,
             "#bd3786"
            ],
            [
             0.5555555555555556,
             "#d8576b"
            ],
            [
             0.6666666666666666,
             "#ed7953"
            ],
            [
             0.7777777777777778,
             "#fb9f3a"
            ],
            [
             0.8888888888888888,
             "#fdca26"
            ],
            [
             1.0,
             "#f0f921"
            ]
           ],
           "sequentialminus": [
            [
             0.0,
             "#0d0887"
            ],
            [
             0.1111111111111111,
             "#46039f"
            ],
            [
             0.2222222222222222,
             "#7201a8"
            ],
            [
             0.3333333333333333,
             "#9c179e"
            ],
            [
             0.4444444444444444,
             "#bd3786"
            ],
            [
             0.5555555555555556,
             "#d8576b"
            ],
            [
             0.6666666666666666,
             "#ed7953"
            ],
            [
             0.7777777777777778,
             "#fb9f3a"
            ],
            [
             0.8888888888888888,
             "#fdca26"
            ],
            [
             1.0,
             "#f0f921"
            ]
           ]
          },
          "colorway": [
           "#636efa",
           "#EF553B",
           "#00cc96",
           "#ab63fa",
           "#FFA15A",
           "#19d3f3",
           "#FF6692",
           "#B6E880",
           "#FF97FF",
           "#FECB52"
          ],
          "font": {
           "color": "#2a3f5f"
          },
          "geo": {
           "bgcolor": "white",
           "lakecolor": "white",
           "landcolor": "#E5ECF6",
           "showlakes": true,
           "showland": true,
           "subunitcolor": "white"
          },
          "hoverlabel": {
           "align": "left"
          },
          "hovermode": "closest",
          "mapbox": {
           "style": "light"
          },
          "paper_bgcolor": "white",
          "plot_bgcolor": "#E5ECF6",
          "polar": {
           "angularaxis": {
            "gridcolor": "white",
            "linecolor": "white",
            "ticks": ""
           },
           "bgcolor": "#E5ECF6",
           "radialaxis": {
            "gridcolor": "white",
            "linecolor": "white",
            "ticks": ""
           }
          },
          "scene": {
           "xaxis": {
            "backgroundcolor": "#E5ECF6",
            "gridcolor": "white",
            "gridwidth": 2,
            "linecolor": "white",
            "showbackground": true,
            "ticks": "",
            "zerolinecolor": "white"
           },
           "yaxis": {
            "backgroundcolor": "#E5ECF6",
            "gridcolor": "white",
            "gridwidth": 2,
            "linecolor": "white",
            "showbackground": true,
            "ticks": "",
            "zerolinecolor": "white"
           },
           "zaxis": {
            "backgroundcolor": "#E5ECF6",
            "gridcolor": "white",
            "gridwidth": 2,
            "linecolor": "white",
            "showbackground": true,
            "ticks": "",
            "zerolinecolor": "white"
           }
          },
          "shapedefaults": {
           "line": {
            "color": "#2a3f5f"
           }
          },
          "ternary": {
           "aaxis": {
            "gridcolor": "white",
            "linecolor": "white",
            "ticks": ""
           },
           "baxis": {
            "gridcolor": "white",
            "linecolor": "white",
            "ticks": ""
           },
           "bgcolor": "#E5ECF6",
           "caxis": {
            "gridcolor": "white",
            "linecolor": "white",
            "ticks": ""
           }
          },
          "title": {
           "x": 0.05
          },
          "xaxis": {
           "automargin": true,
           "gridcolor": "white",
           "linecolor": "white",
           "ticks": "",
           "title": {
            "standoff": 15
           },
           "zerolinecolor": "white",
           "zerolinewidth": 2
          },
          "yaxis": {
           "automargin": true,
           "gridcolor": "white",
           "linecolor": "white",
           "ticks": "",
           "title": {
            "standoff": 15
           },
           "zerolinecolor": "white",
           "zerolinewidth": 2
          }
         }
        },
        "title": {
         "font": {
          "color": "#7C3AED",
          "size": 16
         }
        },
        "xaxis": {
         "anchor": "y",
         "domain": [
          0.0,
          1.0
         ],
         "gridcolor": "rgba(139,92,246,0.2)",
         "tickfont": {
          "color": "#8B5CF6",
          "size": 11
         },
         "title": {
          "font": {
           "color": "#7C3AED",
           "size": 12
          },
          "text": "Columns"
         },
         "zerolinecolor": "rgba(139,92,246,0.3)"
        },
        "yaxis": {
         "anchor": "x",
         "domain": [
          0.0,
          1.0
         ],
         "gridcolor": "rgba(139,92,246,0.2)",
         "tickfont": {
          "color": "#8B5CF6",
          "size": 11
         },
         "title": {
          "font": {
           "color": "#7C3AED",
           "size": 12
          },
          "text": "Missing Values Count"
         },
         "zerolinecolor": "rgba(139,92,246,0.3)"
        }
       }
      }
     },
     "metadata": {},
     "output_type": "display_data"
    }
   ],
   "source": [
    "# Create missing values visualization\n",
    "missing_data = df.isnull().sum()\n",
    "missing_cols = missing_data[missing_data > 0]\n",
    "\n",
    "if len(missing_cols) > 0:\n",
    "    fig_missing = px.bar(\n",
    "        x=missing_cols.index,\n",
    "        y=missing_cols.values,\n",
    "        labels={'x': 'Columns', 'y': 'Missing Values Count'},\n",
    "        text=missing_cols.values\n",
    "    )\n",
    "    \n",
    "    fig_missing.update_traces(\n",
    "        marker=dict(color=app_color_palette[1]),\n",
    "        texttemplate='%{text}',\n",
    "        textposition='outside'\n",
    "    )\n",
    "    \n",
    "    fig_missing.update_layout(\n",
    "        height=550,\n",
    "        paper_bgcolor='rgba(0,0,0,0)',\n",
    "        plot_bgcolor='rgba(0,0,0,0)',\n",
    "        font=dict(color='#8B5CF6', size=12),\n",
    "        title_font=dict(color='#7C3AED', size=16),\n",
    "        xaxis=dict(\n",
    "            gridcolor='rgba(139,92,246,0.2)',\n",
    "            zerolinecolor='rgba(139,92,246,0.3)',\n",
    "            tickfont=dict(color='#8B5CF6', size=11),\n",
    "            title_font=dict(color='#7C3AED', size=12)\n",
    "        ),\n",
    "        yaxis=dict(\n",
    "            gridcolor='rgba(139,92,246,0.2)',\n",
    "            zerolinecolor='rgba(139,92,246,0.3)',\n",
    "            tickfont=dict(color='#8B5CF6', size=11),\n",
    "            title_font=dict(color='#7C3AED', size=12)\n",
    "        ),\n",
    "        legend=dict(font=dict(color='#8B5CF6', size=11))\n",
    "    )\n",
    "    \n",
    "    fig_missing.write_html(\n",
    "        \"/Users/yuvalheffetz/ds-agent-projects/session_5feb6ac6-f292-4d0c-9e41-ab6b3ffc14d6/research/plots/missing_values.html\",\n",
    "        include_plotlyjs=True,\n",
    "        config={'responsive': True, 'displayModeBar': False}\n",
    "    )\n",
    "    \n",
    "    fig_missing.show()\n",
    "else:\n",
    "    print(\"No missing values found in the dataset.\")\n",
    "    # Create a placeholder visualization showing all columns have complete data\n",
    "    complete_data = pd.Series(len(df), index=df.columns[:10])  # Show first 10 columns\n",
    "    fig_missing = px.bar(\n",
    "        x=complete_data.index,\n",
    "        y=complete_data.values,\n",
    "        labels={'x': 'Columns (Sample)', 'y': 'Complete Records Count'}\n",
    "    )\n",
    "    \n",
    "    fig_missing.update_traces(marker=dict(color=app_color_palette[2]))\n",
    "    \n",
    "    fig_missing.update_layout(\n",
    "        height=550,\n",
    "        paper_bgcolor='rgba(0,0,0,0)',\n",
    "        plot_bgcolor='rgba(0,0,0,0)',\n",
    "        font=dict(color='#8B5CF6', size=12),\n",
    "        title_font=dict(color='#7C3AED', size=16),\n",
    "        xaxis=dict(\n",
    "            gridcolor='rgba(139,92,246,0.2)',\n",
    "            zerolinecolor='rgba(139,92,246,0.3)',\n",
    "            tickfont=dict(color='#8B5CF6', size=11),\n",
    "            title_font=dict(color='#7C3AED', size=12)\n",
    "        ),\n",
    "        yaxis=dict(\n",
    "            gridcolor='rgba(139,92,246,0.2)',\n",
    "            zerolinecolor='rgba(139,92,246,0.3)',\n",
    "            tickfont=dict(color='#8B5CF6', size=11),\n",
    "            title_font=dict(color='#7C3AED', size=12)\n",
    "        )\n",
    "    )\n",
    "    \n",
    "    fig_missing.write_html(\n",
    "        \"/Users/yuvalheffetz/ds-agent-projects/session_5feb6ac6-f292-4d0c-9e41-ab6b3ffc14d6/research/plots/missing_values.html\",\n",
    "        include_plotlyjs=True,\n",
    "        config={'responsive': True, 'displayModeBar': False}\n",
    "    )\n",
    "    \n",
    "    fig_missing.show()"
   ]
  },
  {
   "cell_type": "markdown",
   "id": "11",
   "metadata": {},
   "source": [
    "## Numerical Features Distribution Analysis"
   ]
  },
  {
   "cell_type": "code",
   "execution_count": 6,
   "id": "12",
   "metadata": {
    "execution": {
     "iopub.execute_input": "2025-09-06T20:35:00.118308Z",
     "iopub.status.busy": "2025-09-06T20:35:00.118212Z",
     "iopub.status.idle": "2025-09-06T20:35:00.192710Z",
     "shell.execute_reply": "2025-09-06T20:35:00.192402Z"
    }
   },
   "outputs": [
    {
     "name": "stdout",
     "output_type": "stream",
     "text": [
      "Analyzing 10 numerical features\n",
      "Top features by variance: ['miles', 'highway_miles', 'count_accelarations', 'count_brakes', 'drive_hours', 'count_trip', 'maximum_speed', 'night_drive_hrs']\n"
     ]
    },
    {
     "data": {
      "application/vnd.plotly.v1+json": {
       "config": {
        "plotlyServerURL": "https://plot.ly"
       },
       "data": [
        {
         "marker": {
          "color": "rgba(99, 110, 250, 0.8)"
         },
         "name": "miles",
         "showlegend": false,
         "type": "histogram",
         "x": {
          "bdata": "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",
          "dtype": "f8"
         },
         "xaxis": "x",
         "yaxis": "y"
        },
        {
         "marker": {
          "color": "rgba(239, 85, 59, 0.8)"
         },
         "name": "highway_miles",
         "showlegend": false,
         "type": "histogram",
         "x": {
          "bdata": "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",
          "dtype": "f8"
         },
         "xaxis": "x2",
         "yaxis": "y2"
        },
        {
         "marker": {
          "color": "rgba(0, 204, 150, 0.8)"
         },
         "name": "count_accelarations",
         "showlegend": false,
         "type": "histogram",
         "x": {
          "bdata": "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",
          "dtype": "f8"
         },
         "xaxis": "x3",
         "yaxis": "y3"
        },
        {
         "marker": {
          "color": "rgba(171, 99, 250, 0.8)"
         },
         "name": "count_brakes",
         "showlegend": false,
         "type": "histogram",
         "x": {
          "bdata": "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",
          "dtype": "f8"
         },
         "xaxis": "x4",
         "yaxis": "y4"
        },
        {
         "marker": {
          "color": "rgba(255, 161, 90, 0.8)"
         },
         "name": "drive_hours",
         "showlegend": false,
         "type": "histogram",
         "x": {
          "bdata": "zczMzMzMBkDhehSuR+HyP3sUrkfheqQ/pHA9CtejOEAAAAAAAADgPz0K16NwPR1ArkfhehSuFEBSuB6F61ETQAAAAAAAQD1AcT0K16NwDUCuR+F6FK4fQLgehetRuL4/FK5H4XoU3j8AAAAAAJhkQAAAAAAAAPh/4XoUrkfhF0C4HoXrUbjOP2ZmZmZmZvY/7FG4HoXr8T/NzMzMzMwhQEjhehSuRwVApHA9CteDUUDXo3A9CtcyQFK4HoXrmWlA7FG4HoXr0T9cj8L1KFwpQK5H4XoU7jlAhetRuB6FBUB7FK5H4XpWQD0K16Nw/TZA7FG4HoXrE0BxPQrXo7A8QDMzMzMz8z5ASOF6FK5nQkDhehSuR+EXQNejcD0KFz9AmpmZmZmZ2T9xPQrXo3AZQHsUrkfhevw/16NwPQrX/z9mZmZmZgZPQJqZmZmZuVZApHA9CtcjL0C4HoXrUQhTQBSuR+F6NFRAj8L1KFyPJUAfhetRuB4oQI/C9ShcP1NA9ihcj8J1SkCF61G4HuVHQI/C9ShcL0FAKVyPwvUoAECPwvUoXI9MQB+F61G4XjRAPQrXo3B9QUAK16NwPQomQArXo3A9Crc/cT0K16PwVEAK16NwPQr7Px+F61G4fllAexSuR+F6+D/D9Shcj8IvQFyPwvUoXDNA9ihcj8L12D+4HoXrUbj+P6RwPQrXIyFAj8L1KFyPAEDD9Shcj8L5P83MzMzMzOQ/hetRuB6FC0CuR+F6FK4BQD0K16NwPf4/pHA9CtejBEDD9Shcj0IlQHE9CtejMDFAw/UoXI/C1T/Xo3A9Chc1QFK4HoXrUeA/exSuR+EaQ0Bcj8L1KOxQQIXrUbgeBSlACtejcD0Ktz+PwvUoXG9EQEjhehSuRxFA4XoUrkdhIUCkcD0K16PwP/YoXI/CdSZAhetRuB6F4z+PwvUoXI/iP9ejcD0K1+M/cT0K16NwC0CF61G4HgUlQHE9CtejcN0/uB6F61G4HkCkcD0K16PoPz0K16NwDVZA4XoUrkehOEAzMzMzM2NaQD0K16NwPRxAMzMzMzNTRUCF61G4HsUxQBSuR+F6FO4/7FG4HoXr+T+amZmZmZkuQNejcD0K1yhAKVyPwvWoMEB7FK5H4XrwP8P1KFyPwlRACtejcD3CYECkcD0K16MGQClcj8L1KBJAAAAAAADAN0BxPQrXo3DlPx+F61G4Hl5AexSuR+H6LUBI4XoUrkc4QHsUrkfheqQ/XI/C9ShcFkCamZmZmZkQQD0K16NwPeI/PQrXo3A92j+kcD0K18NJQNejcD0K1w9Aj8L1KFyPG0DsUbgehWstQBSuR+F6FARA7FG4HoUrTkAUrkfhelQ7QMP1KFyPwgtAj8L1KFyPK0B7FK5H4XqUP4/C9Shcj/o/pHA9CtejF0BmZmZmZmbmP3E9Ctej8CtA4XoUrkdhJUCamZmZmZn5P6RwPQrXo+A/7FG4HoXrAUDhehSuR+HaP1yPwvUoXEZA9ihcj8L14D8fhetRuB4sQBSuR+F6JF1APQrXo3A94j9xPQrXo3AFQI/C9Shc71hAFK5H4XoUEkAzMzMzMxNGQBSuR+F6lCdAXI/C9ShcQkAUrkfhehTyP5qZmZmZmck/pHA9CtejDEBcj8L1KNw5QK5H4XoU7jBAAAAAAAAACkAAAAAAAIAvQHsUrkfhesQ/9ihcj8L1EUAfhetRuN5XQB+F61G4PkpApHA9CtdjOUAfhetRuJ4mQNejcD0K1wFAuB6F61E4PEAK16NwPQosQClcj8L1KEZAXI/C9ShcNEDsUbgehev1Px+F61G4HuU/FK5H4XqUK0CPwvUoXO9TQIXrUbgehfc/MzMzMzMz4z/D9Shcj0IzQClcj8L1aEJAuB6F61G48j9SuB6F61HIPwAAAAAAAPh/exSuR+H6L0BI4XoUrpdSQHsUrkfheoQ/uB6F61G4AECF61G4HoXzP2ZmZmZmZgBAmpmZmZmZMEBcj8L1KPxFQJqZmZmZmfE/mpmZmZmZ4T/sUbgehStAQEjhehSuRyZASOF6FK7HTUCamZmZmZnpPwrXo3A9iihAAAAAAAAA6D+amZmZmflEQI/C9ShcjxVAcT0K16NwDUCamZmZmZnhP2ZmZmZmZvY/uB6F61G4IEDhehSuR+H2P5qZmZmZmUNASOF6FK5HEEB7FK5H4fogQClcj8L1KOw/AAAAAAAA0D8fhetRuB4UQM3MzMzMzPA/exSuR+H6JEAfhetRuB4DQIXrUbgeBSpAmpmZmZmZyT+F61G4HoUTQK5H4XoULiFAPQrXo3A9LUBcj8L1KBw/QAAAAAAAACtAMzMzMzMzIkA9CtejcD0gQNejcD0K1wVAPQrXo3A98j8AAAAAAKBIQHsUrkfhekhAexSuR+F6BkB7FK5H4XpJQAAAAAAAAClAPQrXo3A9+j/NzMzMzLxcQNejcD0KF3ZApHA9CtcDQEApXI/C9SgOQMP1KFyPQklAhetRuB5FPkAUrkfhehTeP4/C9ShcP2FACtejcD0Kxz9SuB6F61HIP0jhehSuBzNAcT0K16NgUkDhehSuR6E1QB+F61G4Hi9AzczMzMzMO0Bcj8L1KFzzP+xRuB6FqzJA9ihcj8KVSkB7FK5H4TpHQOF6FK5H4RpA9ihcj8L1K0DXo3A9CvdFQIXrUbgepUVA9ihcj8I1Q0AfhetRuB4oQI/C9ShcDyRA9ihcj8L1FUBcj8L1KJxIQB+F61G4HiRAKVyPwvVoPkA9CtejcL0jQClcj8L1KPg/AAAAAAAA9D+kcD0K16PoP83MzMzMjDpAzczMzMzMEkCuR+F6FK4BQD0K16NwvSVA4XoUrkdhQEAzMzMzMzPDP2ZmZmZmpklACtejcD0KM0AfhetRuD5bQBSuR+F6FPo/UrgehevRMEBmZmZmZiZIQI/C9ShcDytAFK5H4XqUT0DD9Shcj0IkQI/C9ShcDyxAXI/C9Shc+z8AAAAAAAAGQIXrUbgehds/ZmZmZmZm8j+amZmZmRkhQJqZmZmZmdk/hetRuB7FREAUrkfhelQ3QOxRuB6Fa0NArkfhehSuA0AzMzMzMzMXQEjhehSuhzNAPQrXo3A9GEApXI/C9ahDQI/C9Shc70FA16NwPQqXUUAzMzMzMzMaQGZmZmZmZv4/9ihcj8L1LECkcD0K11NkQJqZmZmZmVNAZmZmZmZmDkAfhetRuB4hQKRwPQrXIyRA7FG4HoXrR0Bcj8L1KFwYQJqZmZmZmSZAcT0K16Nw5T/Xo3A9Cpc1QLgehetRuBRA4XoUrkexX0BxPQrXozBCQMP1KFyPwgNA4XoUrkfhBkDsUbgehevRP83MzMzMzAxApHA9CtcjJUDD9Shcj8IhQClcj8L1KB1AMzMzMzMTR0BSuB6F61HYPzMzMzMzM9M/H4XrUbi+QkCkcD0K16MMQJqZmZmZGVBA4XoUrkdhLkDXo3A9CndgQHE9CtejcPE/w/UoXI/CD0CamZmZmRkiQLgehetROC9Aw/UoXI8CMkB7FK5H4TpFQOF6FK5H4QBAzczMzMzM5D/2KFyPwvUfQB+F61G4Hg9AH4XrUbjeY0BmZmZmZmYCQAAAAAAAADBAcT0K16P4YkAK16NwPUoyQKRwPQrX81NAKVyPwvXoNkAK16NwPQo4QIXrUbgehes/CtejcD0K7z8fhetRuB4BQAAAAAAAADBAj8L1KFyP4j8AAAAAAAACQDMzMzMzM+s/4XoUrkcBSUDD9ShcjwI3QKRwPQrX42RAZmZmZmZmFECPwvUoXF9eQI/C9ShcjxxAAAAAAAAAAECamZmZmZktQAAAAAAAABVAhetRuB5lS0AAAAAAAEA/QK5H4XoUbkdAXI/C9SicNUB7FK5H4XoEQOF6FK5HYSxAexSuR+HaTkBcj8L1KCxRQMP1KFyPwhpA9ihcj8I1NEDD9Shcj4JCQFK4HoXr0TVAw/UoXI9CNkDsUbgehev1PwAAAAAAADZAMzMzMzMTSEC4HoXrUbgOQFK4HoXrkUNAXI/C9ShcQ0C4HoXrUbgCQMP1KFyPwhJAzczMzMzMBkAzMzMzM7MsQHE9CtejYF1A4XoUrkfhH0A9CtejcD0EQMP1KFyPwv0/KVyPwvUovD9I4XoUrkckQDMzMzMzMyZArkfhehSOSUDNzMzMzMzcP1yPwvUoXN8/w/UoXI9iQECuR+F6FK4YQD0K16NwvTtACtejcD0KG0DhehSuR+HaPwrXo3A9ChBArkfhehSuBUD2KFyPwjVDQBSuR+F6FBdAuB6F61EwZUCamZmZmZkLQKRwPQrXoxxASOF6FK5H9T8zMzMzM7MxQJqZmZmZmVZArkfhehRuSkAK16NwPYo4QOF6FK5HmWFAuB6F61H4MUBmZmZmZgZhQLgehetROEBAUrgeheshX0Bcj8L1KJw6QFyPwvUoXAtAMzMzMzMzIEBSuB6F61EUQClcj8L1yEJAAAAAAAAA0D/sUbgehevBP8P1KFyPwu0/hetRuB6FFUBI4XoUrmdTQLgehetRuDlAuB6F61E4IkApXI/C9agsQHE9CtejcCJAXI/C9SicSkCamZmZmVlIQGZmZmZmxkJA16NwPQrX+z/hehSuR+EOQI/C9ShcjwRAZmZmZmZmFkB7FK5H4XrsP/YoXI/C9eA/4XoUrkdRUUCamZmZmZn1P0jhehSuRxRAMzMzMzMz+z8UrkfhehQ3QMP1KFyPwvE/7FG4HoXrCUBxPQrXo/BFQOxRuB6F6wtAexSuR+F6IEBI4XoUrkcFQIXrUbgehfs/pHA9Ctej4D9xPQrXo5BIQKRwPQrXo0VAXI/C9SjcUkDNzMzMzKxBQMP1KFyPwgdAexSuR+H6JEDsUbgehevRP3E9CtejIFNAH4XrUbieNkDNzMzMzMwWQGZmZmZmZv4/pHA9Ctej8D9cj8L1KNwyQK5H4XoULkNAAAAAAABANUAK16NwPQrnP6RwPQrXA0NAUrgehetR/D/2KFyPwvX0P4XrUbgeheM/SOF6FK5HCUB7FK5H4XqEP83MzMzMzNw/4XoUrkfh6j8AAAAAAAD4f83MzMzMTDNAAAAAAAAAGUD2KFyPwvUlQM3MzMzMzBlAj8L1KFyPNEB7FK5H4foiQClcj8L1CE9AexSuR+F67D/NzMzMzMzcPzMzMzMzG2FAAAAAAABAP0DhehSuR+EcQClcj8L1KBpAj8L1KFyPBkAK16NwPQrXPylcj8L1KMw/H4XrUbieIEApXI/C9SgKQFK4HoXrUeA/exSuR+F6lD89CtejcD0AQArXo3A9CjtArkfhehTuMEB7FK5H4XoGQHE9CtejsEhAH4XrUbi+RUDD9Shcj8LlPylcj8L1qCVAw/UoXI/C7T8fhetRuJ5MQOF6FK5H4eI/AAAAAAAA9D/Xo3A9Ctf3P1K4HoXr0TFAmpmZmZmZ/T+amZmZmZmpP8P1KFyPwvE/hetRuB6FNkBcj8L1KDxgQIXrUbgepWNAPQrXo3A96j8UrkfhelQ5QAAAAAAAwDJAmpmZmZmZL0CuR+F6FK7XP0jhehSuZ0hA4XoUrkeBQEC4HoXrUbi+P4XrUbgehU5AexSuR+F6+D/sUbgehTtgQB+F61G4HtU/uB6F61G4vj9mZmZmZmbuP3E9CtejcBdArkfhehTuMkCamZmZmZkwQHsUrkfheuw/cT0K16NwJUAK16NwPQoRQFyPwvUoXN8/4XoUrkfh8j+uR+F6FH5lQHsUrkfhSllAMzMzMzMzD0CF61G4HuVEQClcj8L1KOQ/pHA9CtejKkBmZmZmZmbWP4/C9Shcj+o/hetRuB5FOECuR+F6FC4vQK5H4XoUriBAexSuR+F6F0AzMzMzM7MuQBSuR+F69ERAcT0K16OIYUDhehSuR+HiP2ZmZmZmZvY/w/UoXI9CIkD2KFyPwvUYQDMzMzMzMxdAKVyPwvUovD97FK5H4Xr4P2ZmZmZmZhlArkfhehSuI0Bcj8L1KBw+QKRwPQrXo/g/zczMzMzMDkA9CtejcD07QM3MzMzM7EdAMzMzMzPDVEAUrkfhenRSQFyPwvUoXAVAPQrXo3C9OUB7FK5H4XoUQIXrUbgeVVFAMzMzMzMzwz9mZmZmZmYCQJqZmZmZGSRAMzMzMzOTREBmZmZmZmb6P3E9Ctej8DdAMzMzMzOzJUDsUbgehevRP3E9CtejcBxAKVyPwvUoCkC4HoXrUbgIQFyPwvUoXOc/uB6F61G4BEBSuB6F65FAQOxRuB6F6xtAUrgehetR2D9I4XoUrkdYQEjhehSup1JAuB6F61G4MEAfhetRuB40QK5H4XoUzkVAj8L1KFyPCECamZmZmZnJP0jhehSuRwlAZmZmZmZmIkBI4XoUrkf1P3sUrkfhGkZAmpmZmZmZ8T+amZmZmZlYQJqZmZmZmdk/MzMzMzMzO0BSuB6F61H4P5qZmZmZmck/cT0K16NwFEB7FK5H4ToyQFyPwvUoXAVAFK5H4XoUHECkcD0K16PwP3E9CtejcC1AFK5H4XoUKEBI4XoUrkf1PzMzMzMzsyJA16NwPQrXRkD2KFyPwvUsQKRwPQrXoyBAuB6F61G4nj8K16NwPQq3P9ejcD0K1zBAKVyPwvWoJUBxPQrXo3APQM3MzMzMzPg/CtejcD0K7z9mZmZmZmb6P1yPwvUoHEBAzczMzMxMIUBSuB6F61ESQBSuR+F6FBFAKVyPwvUo7D89CtejcJ1IQClcj8L1KMw/CtejcD0K8z+uR+F6FG4xQKRwPQrXo9A/exSuR+F6+D8UrkfheiRSQAAAAAAAAPg/j8L1KFyP4j+kcD0K14NAQFK4HoXrUQpArkfhehTuRUAfhetRuH5FQHE9CtejcBJAhetRuB41UUBcj8L1KFwrQK5H4XoUrgtAAAAAAAAAJUCF61G4HoX/PwAAAAAAABBA4XoUrkfhHUCF61G4HoX/P1K4HoXrkUBAPQrXo3A9AkAK16NwPQoBQDMzMzMzsyJAH4XrUbgeGkA9CtejcD0EQDMzMzMzU0VAhetRuB6F+z/NzMzMzMzkP+xRuB6F6+E/j8L1KFzPQkBcj8L1KPxCQMP1KFyPwsU/hetRuB4FYUAK16NwPQrHP83MzMzMzBlA7FG4HoXrA0BI4XoUrkfpP1K4HoXrUQJAMzMzMzMzB0DhehSuR+EZQK5H4XoUrhlAAAAAAAAAMkCPwvUoXI8GQArXo3A9ChxAuB6F61H4QED2KFyPwvXYP8P1KFyP4kBAexSuR+G6NkDD9ShcjwJBQArXo3A9SjRAcT0K16Nw+T8UrkfhepQgQIXrUbgehfM/4XoUrkdJYEBcj8L1KFwHQK5H4XoUrgFApHA9CtcjIECuR+F6FK7nP/YoXI/CFVdA7FG4HoXrFEBSuB6F61ERQClcj8L1KB1A16NwPQrX6z/hehSuR+HKP1K4HoXrURBA16NwPQo3UEB7FK5H4XpFQI/C9Shcr09ApHA9CtejE0AAAAAAAIAvQKRwPQrXo+A/AAAAAAAALEAK16NwPYouQEjhehSux0JAH4XrUbge8T/Xo3A9CqdRQKRwPQrXowJAhetRuB7FNkCF61G4HoU5QKRwPQrXox5AhetRuB4FR0AAAAAAAMBFQFyPwvUoXOc/16NwPQqXMkA9CtejcD00QAAAAAAAAPh/zczMzMzMEUCamZmZmflFQB+F61G4HvE/cT0K16NwEkD2KFyPwvX8P+F6FK5H4do/UrgehesRS0BSuB6F61EUQArXo3A9SlZAMzMzMzNzNUCuR+F6FC4lQFK4HoXrURdAZmZmZmZm7j8AAAAAAAD4f9ejcD0K1ypAKVyPwvUozD9I4XoUrsc0QClcj8L1KCVA16NwPQoXMEBI4XoUroczQOxRuB6FK1BAmpmZmZk5RUDXo3A9CtcdQIXrUbgehSdApHA9Ctej6D/hehSuR+HiP9ejcD0KFzpAzczMzMwMN0B7FK5H4XolQNejcD0KVyRA4XoUrkdhIkBcj8L1KFwjQJqZmZmZ2T9ApHA9Ctej6D9cj8L1KFzzP8P1KFyPglBAexSuR+F6+D8pXI/C9SjcP5qZmZmZs4FAw/UoXI/C+T9mZmZmZuY9QM3MzMzMzOw/XI/C9ShcGUCuR+F6FK7zP3E9CtejcO0/uB6F61G4FkBxPQrXo3DlP6RwPQrXo11ASOF6FK5nR0DXo3A9CsdUQEjhehSuxzBA4XoUrkchM0BxPQrXo3ASQB+F61G4HgtA16NwPQoXNkCamZmZmflOQM3MzMzMDDFA7FG4HoXr0T/D9Shcj8LFP+F6FK5HITtA9ihcj8LlWED2KFyPwvUAQB+F61G4XkRAUrgeheuRP0CkcD0K16MAQKRwPQrXYzpAj8L1KFxPTkB7FK5H4VpKQOF6FK5H4SdApHA9CtejG0CkcD0K1yMqQLgehetRuCBAXI/C9Shc5z8AAAAAAAAVQJqZmZmZmck/9ihcj8J1R0CF61G4HoXjPxSuR+F6FPI/9ihcj8K1MkApXI/C9SgCQHsUrkfh+jpAw/UoXI/CQkDNzMzMzAw1QMP1KFyPAjJAAAAAAAAAbkDNzMzMzMwEQJqZmZmZmRhAUrgehevRQUDhehSuR6E9QM3MzMzMzFZAexSuR+F6DEAfhetRuP5AQDMzMzMzczhAzczMzMzMFkBxPQrXo3AdQNejcD0K10ZArkfhehSuGEBxPQrXo3DdP3sUrkfhegRACtejcD0K7z97FK5H4dpCQJqZmZmZyVFAFK5H4XqUUUBxPQrXo3D9P3E9CtejcBVArkfhehSuAUBcj8L1KNwiQMP1KFyPsltAexSuR+H6NEApXI/C9SjcP8P1KFyPAkFAUrgehevhVkCamZmZmZnJPxSuR+F61DpAuB6F61G4BEAK16NwPdpfQClcj8L1KB5Aw/UoXI8SWkC4HoXrUbjOP4XrUbgehfs/hetRuB7FN0CamZmZmZkpQMP1KFyPwgNAexSuR+E6RED2KFyPwvUKQHsUrkfhevg/UrgehetRE0AAAAAAAAD4f0jhehSuRy1AzczMzMzsQkDXo3A9CidXQHE9Ctej8D1AXI/C9ShcIEC4HoXrUdhFQHE9CtejcO0/ZmZmZmamT0B7FK5H4fpRQFyPwvUojGVAw/UoXI/CFEApXI/C9SgGQEjhehSuRzdAcT0K16MwN0CuR+F6FK7XPwAAAAAAAARAw/UoXI8SUUA9CtejcD3yPz0K16NwvTpAexSuR+F6tD/sUbgehevxPwrXo3A9CgFAexSuR+F6+D+amZmZmZnxP0jhehSuR9E/16NwPQpXLUB7FK5H4XrUP5qZmZmZGS9A9ihcj8L1KkCkcD0K1wNVQD0K16NwvSlAAAAAAAAA9D+uR+F6FK4PQMP1KFyPQidACtejcD2KPEBmZmZmZgZCQNejcD0K1+s/j8L1KFxPPUCuR+F6FK7zPwrXo3A9SkNAcT0K16NwC0D2KFyPwvUaQBSuR+F6AHJAj8L1KFyPCEC4HoXrUahRQB+F61G4HvU/j8L1KFwPJkB7FK5H4XrsPzMzMzMzsylArkfhehSuL0BI4XoUrkfRP1K4HoXroW9A16NwPQpXJkBcj8L1KDxBQJqZmZmZmTFAw/UoXI/CJ0C4HoXrUbgAQBSuR+F6FApAw/UoXI/CC0AUrkfhehQyQJqZmZmZmQtAhetRuB6FJUCamZmZmXlKQHsUrkfhesQ/KVyPwvUoFkDsUbgehWs0QClcj8L1KPA/pHA9CtejCkA9CtejcD1WQK5H4XoUrh1AmpmZmZmZ6T/2KFyPwvUAQIXrUbgehds/KVyPwvUo3D97FK5H4XrsP4XrUbgexTBAzczMzMzM3D/NzMzMzMwAQFyPwvUoJGNAKVyPwvXoQEDXo3A9Chc3QDMzMzMz00BAMzMzMzMz+z+4HoXrUThMQOF6FK5H4RpAuB6F61GIVkCF61G4HoUqQD0K16NwXVdA16NwPQoXNkAUrkfhejRMQD0K16NwPRhA4XoUrkfhG0C4HoXrUbiuP83MzMzMzNw/w/UoXI/CC0Bcj8L1KFxEQHE9CtejcOU/XI/C9ShcCUBI4XoUridDQHE9CtejcA1AXI/C9Shc3z9mZmZmZrZRQAAAAAAAAARAw/UoXI/CxT8fhetRuB7xPxSuR+F6FCVAKVyPwvUoEEC4HoXrUfhBQNejcD0K1/M/XI/C9Sh8RkAUrkfhehQdQArXo3A9CgdACtejcD0qVUAzMzMzMzMLQLgehetR+DVAXI/C9ShcIEDhehSuR6FFQIXrUbgehSlAuB6F61G4IEAUrkfhepQjQFK4HoXrUeg/hetRuB6F+z/sUbgehWtJQFK4HoXrsUZAzczMzMzMAECuR+F6FK7XPz0K16NwfTVAexSuR+G6MUCkcD0K1yNPQClcj8L1KAJApHA9Ctej0D/D9Shcj4I3QOF6FK5H4TtAUrgehetRBkA9CtejcD07QArXo3A9Cuc/UrgehetRAEB7FK5H4XrUPz0K16NwPSRAXI/C9ShcCUCamZmZmRkyQFyPwvUoXBBAPQrXo3A9BECuR+F6FK4pQFyPwvUo3CxAmpmZmZmZG0BmZmZmZsZAQJqZmZmZmRBAcT0K16NQREDsUbgehesLQOF6FK5H4co/FK5H4XoU3j8K16NwPYouQFK4HoXrIVFAexSuR+F6GUDD9Shcj8JNQBSuR+F61FJAXI/C9Sg8QEBcj8L1KFwoQOF6FK5H4R5AUrgehetRBECPwvUoXI8IQHE9CtejcBJAj8L1KFyPGkCamZmZmZk4QOF6FK5HITlA7FG4HoXrPkAK16NwPeJiQFyPwvUoXA1A4XoUrkchN0AK16NwPQoYQD0K16NwPeI/mpmZmZmZOEDhehSuR+EGQBSuR+F6FBNAAAAAAACAJUCF61G4HgU7QArXo3A9Csc/uB6F61G4G0Bcj8L1KIxaQLgehetRuM4/PQrXo3CdSUAAAAAAAADQP3E9CtejcBtApHA9CtejWEDD9Shcj8LxP4/C9Shcj/I/w/UoXI+CUkDhehSuR+HKPz0K16NwPRxAexSuR+H6MUDsUbgehSs7QGZmZmZmhkNAexSuR+H6KEDhehSuR2EyQFyPwvUo3FBApHA9Ctej4D/Xo3A9Ctf7P+xRuB6F6/U/7FG4HoXrE0ApXI/C9agqQMP1KFyPgjpAuB6F61G4AkAAAAAAAAD8P+F6FK5HIU9A16NwPQrXPECkcD0K16MZQMP1KFyP4kFACtejcD2KMEDhehSuR+EdQD0K16NwPf4/mpmZmZlZWkBmZmZmZmYcQEjhehSuRxdAmpmZmZmZAUBI4XoUrlddQMP1KFyPIlRA4XoUrkfhDkCuR+F6FK4NQOF6FK5H4R1AH4XrUbgeFkBI4XoUrkfhPylcj8L1aExAcT0K16Nw+T+4HoXrUbhGQHsUrkfhevw/j8L1KFyPFEAAAAAAAAAEQK5H4XoUrvc/j8L1KFyPFECamZmZmZkBQPYoXI/C9RJAFK5H4XoUBkBI4XoUrkc6QHsUrkfheoQ/7FG4HoXrQ0BxPQrXo3D1P65H4XoULiFApHA9CtcDTEB7FK5H4XqEP6RwPQrXk1RAhetRuB5FP0BmZmZmZmY0QFyPwvUoXBpApHA9CtejGUBI4XoUrkfhP+xRuB6F68E/MzMzMzMjYUAUrkfhehQIQOxRuB6F6wtAzczMzMxMRkBxPQrXo3BIQArXo3A9SjFArkfhehSuB0BI4XoUrkcHQD0K16Nw/VVAexSuR+F6G0CPwvUoXI/SP65H4XoULjxAuB6F61GIUECPwvUoXI8TQNejcD0Kt0JAMzMzMzOzJEDXo3A9Cpc0QArXo3A9ChFA16NwPQrXC0B7FK5H4XrUPylcj8L1KDRArkfhehSuH0DhehSuR+EmQNejcD0K1/c/exSuR+F6pD/hehSuR+HiP7gehetRuB1AKVyPwvUoUEAUrkfhelRFQFK4HoXrUTlAcT0K16NwAUDD9Shcj8IBQEjhehSuRwNAXI/C9Shc7z/NzMzMzHxRQKRwPQrXIylA9ihcj8L1I0B7FK5H4XoEQKRwPQrXA0BAXI/C9ShcH0C4HoXrUTghQClcj8L1CEBACtejcD1KRUDhehSuR2EkQFyPwvUoXAVArkfhehTuO0Bcj8L1KFwrQOxRuB6Fi0pACtejcD0KHUCkcD0K16PgP0jhehSuxyBArkfhehTuQUAK16NwPQoQQLgehetRuB1ASOF6FK6HOkAUrkfhetQ1QFyPwvUoXANAAAAAAAAA+H97FK5H4bo+QKRwPQrXo+A/FK5H4XoUI0CkcD0K16M1QArXo3A96kJAFK5H4XoU7j/hehSuRyFDQK5H4XoULjVAuB6F61G47j9cj8L1KFzzPzMzMzMzM/c/7FG4HoXr4T+4HoXrUbjmP1K4HoXrQVNAexSuR+F6lD8zMzMzM7M/QIXrUbgeheM/AAAAAAAA+H9cj8L1KNwqQEjhehSuRyhAw/UoXI/CF0DD9Shcj8IrQArXo3A9Ctc/PQrXo3A98j9SuB6F61H0PwAAAAAAABZAexSuR+F6tD8zMzMzMzPDP65H4XoUrvc/7FG4HoXrIEAAAAAAAMBTQKRwPQrXo/Q/mpmZmZmZyT/hehSuR+EKQDMzMzMzE0NA16NwPQrX0z9cj8L1KFwcQD0K16NwPQhAexSuR+F6pD/Xo3A9CrdGQM3MzMzM3FVAUrgehetROEAK16NwPcpAQLgehetRuAhAw/UoXI8iSEAAAAAAAAD4f6RwPQrXo+A/j8L1KFyPFkCF61G4HoXzP/YoXI/C9QhAj8L1KFyPBkBmZmZmZmYGQKRwPQrXIyhA16NwPQrXJ0ApXI/C9SgfQGZmZmZmTmFA9ihcj8JVVED2KFyPwvXYPx+F61G4HhBAMzMzMzPTU0BmZmZmZoZgQIXrUbgehfM/CtejcD0K1z9SuB6F61FKQK5H4XoUrvc/7FG4HoXrEkA9CtejcN1XQHE9CtejcO0/16NwPQrXH0DsUbgehaswQJqZmZmZmdk/uB6F61G47j97FK5H4XqEP0jhehSuRwNAZmZmZmZm5j+4HoXrUVhVQArXo3A9Ch5Aj8L1KFyPE0B7FK5H4XrEPz0K16NwfTpAj8L1KFyPF0AfhetRuB7lP+xRuB6F6zJA16NwPQpXKkCkcD0K1yMlQPYoXI/CdVxArkfhehSu1z8AAAAAAAD8Pylcj8L1KNw/zczMzMyMO0BmZmZmZmbuP1yPwvUoTFxAzczMzMzMFEBxPQrXo3DtP65H4XoUrgtAw/UoXI8aZEDsUbgehesBQBSuR+F6FPY/rkfhehSuJ0CkcD0K1yM0QArXo3A9Ctc/9ihcj8J1IkBxPQrXo3A5QDMzMzMzM8M/7FG4HoXr0T8pXI/C9ahKQNejcD0Kd0BAj8L1KFwPQUCPwvUoXI8MQNejcD0K1yRA4XoUrkfh6j9SuB6F61HIP9ejcD0KN0NAcT0K16NwHkCamZmZmdkzQHsUrkfheiBAKVyPwvXoNUCamZmZmflDQKRwPQrXg0dACtejcD0K7z8UrkfhehQTQHE9CtejcANA16NwPQpXI0AfhetRuB7xP9ejcD0KF1lAw/UoXI8COUB7FK5H4bowQD0K16NwfTFAcT0K16Nw5T+kcD0K16PgPwrXo3A9ijRArkfhehSuI0Bcj8L1KFweQAAAAAAAACBA4XoUrkehX0DD9Shcj8LtP+xRuB6F6+k/4XoUrkfh6j9I4XoUrschQM3MzMzMTFBA4XoUrkfhEkAAAAAAAAD4f7gehetRuM4/FK5H4XpkYEDNzMzMzMwRQOxRuB6F68E/ZmZmZmaeaEA9CtejcF1EQDMzMzMzM/s/j8L1KFyP+j8AAAAAAAAWQArXo3A9CgVAUrgehetRFUBSuB6F65FQQLgehetRuBhApHA9CtejF0CkcD0K16MQQFK4HoXrUQRAmpmZmZmZqT+uR+F6FK7nP83MzMzMzPQ/16NwPQrX/z/sUbgehesUQIXrUbgeRTRACtejcD2KJEBxPQrXo6BbQDMzMzMzE0ZAexSuR+F6xD/sUbgehevRP3E9CtejgFNAH4XrUbgeE0DD9ShcjwIwQDMzMzMzMwFApHA9CteDRUAfhetRuB4hQClcj8L1yEBAw/UoXI/CMkAzMzMzM3M+QBSuR+F6FAJAMzMzMzOzMEAzMzMzMzMHQDMzMzMz8zhASOF6FK4nR0AAAAAAAAACQB+F61G4HhtACtejcD2KIEDNzMzMzGxDQFyPwvUoXOc/uB6F61G4+j/D9Shcj+JDQClcj8L1KLw/w/UoXI/CO0B7FK5H4XrwPxSuR+F6lDtAzczMzMzM+D8zMzMzM3M3QClcj8L1KPA/j8L1KFyvQUBxPQrXo/A9QHE9Ctej8CZA16NwPQpXOkAK16NwPSpSQK5H4XoULjlA4XoUrkfhOkAfhetRuB4FQFK4HoXrUeA/hetRuB6F9z+F61G4HoXjP3sUrkfhetQ/ZmZmZmbGQUD2KFyPwvUVQDMzMzMzM/c/AAAAAAAAAEDsUbgehQtHQFK4HoXrUQhA4XoUrkfhEEBSuB6F61HYP3E9CtejcAdASOF6FK4nXEDhehSuR+ETQClcj8L1KCNAhetRuB7FVUBI4XoUrkcFQMP1KFyPwiBAMzMzMzMzFEA9CtejcD0fQPYoXI/CJVdAKVyPwvUo8D/sUbgehesJQAAAAAAAABVA9ihcj8L1+D+PwvUoXI83QLgehetRuP4/w/UoXI/CxT/D9Shcj8IRQMP1KFyPwitAexSuR+F65D8AAAAAAAD4fwrXo3A9iiRASOF6FK6HMEApXI/C9SjkP2ZmZmZm5jFA7FG4HoXrF0AfhetRuB5DQEjhehSuR9E/cT0K16PwN0CPwvUoXI8jQHsUrkfhejdApHA9CteDQkD2KFyPwnUyQKRwPQrX4zxASOF6FK5HKEDD9Shcj4I+QPYoXI/C9Q5AzczMzMzMEEDD9Shcj3JXQPYoXI/CNTpAexSuR+F67D/NzMzMzMz4Pz0K16NwfTVA7FG4HoXr/T8pXI/C9SjMP+F6FK5H4RxArkfhehSuE0AzMzMzMzPrPylcj8L1yE5AFK5H4XoU7j/2KFyPwvUCQOxRuB6F69E/FK5H4XrUQEA9CtejcD3aP5qZmZmZmQlAhetRuB6F9z+F61G4HgUxQArXo3A9Csc/9ihcj8L1U0D2KFyPwnUkQClcj8L1KMw/ZmZmZmZmGEDsUbgeheuxPwAAAAAAAPh/w/UoXI9SWUAzMzMzMzP7PzMzMzMzMxBAAAAAAAAA+H89CtejcD0sQFK4HoXr0S9AMzMzMzPzNUD2KFyPwpVaQM3MzMzMzC9ApHA9CtdjRUAAAAAAAAATQOF6FK5HkVxA4XoUrkcBU0A9CtejcL1BQOF6FK5HgUtAMzMzMzMzLUAAAAAAAKBKQOxRuB6Fy0ZAexSuR+E6Z0BSuB6F6/FJQDMzMzMzMxdAmpmZmZkZIkDD9Shcj8L9P2ZmZmZmZgpAuB6F61G47j/NzMzMzOxOQArXo3A9SkZAZmZmZmZmFkDXo3A9CtcZQHE9CtejcAFAZmZmZmZmOkCF61G4HoUTQLgehetRuJ4/AAAAAAAAFUC4HoXrUYhZQHsUrkfhujhAzczMzMzMFkB7FK5H4Xq0P3sUrkfh+j5ApHA9CtfjPkBcj8L1KFwFQJqZmZmZWThAexSuR+FaTkAfhetRuI5UQClcj8L1KB1AXI/C9ShcJUBcj8L1KFwdQFyPwvUoXAVAuB6F61G4N0C4HoXrUbgcQClcj8L1qD9Aw/UoXI/CN0BmZmZmZjZTQD0K16NwfTtArkfhehSu7z8K16NwPYotQFK4HoXrURtAmpmZmZmZB0CF61G4HoUFQM3MzMzMTE1A4XoUrkfhI0AUrkfhenRHQClcj8L1KOw/uB6F61G4E0DD9Shcj8LtP+xRuB6FayxAzczMzMyMNkBmZmZmZqZAQGZmZmZmxkdAKVyPwvUoCEAUrkfhehTeP/YoXI/C9fw/CtejcD0KEEBI4XoUrkcRQOF6FK5H4co/9ihcj8L18D8pXI/C9Wg+QPYoXI/CNTNAj8L1KFyP0j9mZmZmZiY7QPYoXI/C9Q5APQrXo3C9IkD2KFyPwvXYP0jhehSuxyZAXI/C9ShcFECF61G4HoXrP/YoXI/ClURAw/UoXI/CxT/D9Shcj6JIQI/C9ShcjwZAKVyPwvXIRUBI4XoUrsc9QOxRuB6F6zJA7FG4HoXr8T8UrkfhelQwQFK4HoXrURZApHA9Ctej6D8UrkfhehT6P/YoXI/C9UBAUrgehetR4D9mZmZmZjZYQClcj8L1KABACtejcD0qQ0AfhetRuB4xQAAAAAAAQDVAZmZmZmZmBkAUrkfhehTmP3sUrkfhepQ/16NwPQpXX0BI4XoUrkfRP6RwPQrXE1VAUrgehetRGECPwvUoXI8bQHsUrkfh+jJAFK5H4XoUI0CF61G4HoUPQB+F61G4HiBAAAAAAAAA4D+kcD0K16MlQEjhehSuxy9AH4XrUbieMEDhehSuR6ExQOxRuB6FK1RArkfhehTuRkDD9Shcj8IVQArXo3A9Cv8/ZmZmZmaGQ0Bcj8L1KLxbQM3MzMzMzOw/9ihcj8L1K0CkcD0K16MCQAAAAAAAAEhAZmZmZmYeYUD2KFyPwjU8QFK4HoXrURBAH4XrUbgeIkBmZmZmZqY0QOxRuB6FS1JAhetRuB6FIkCamZmZmRk1QMP1KFyPQi9ApHA9CtfDQUCPwvUoXI81QHE9CtejcBJArkfhehQuPkCuR+F6FO5NQFyPwvUoXAFAXI/C9SgcN0BxPQrXozA5QKRwPQrXo/g/hetRuB7FPEDhehSuR8FDQNejcD0K1/c/KVyPwvWoQEAAAAAAAAAcQFyPwvUoXAVAUrgehetRJEDhehSuR+H+P+xRuB6FqzBAexSuR+F6xD/Xo3A9ClcjQBSuR+F6FN4/hetRuB6FAUBxPQrXo3DdP4XrUbgeBTxAH4XrUbge5T9cj8L1KFzzPxSuR+F67GJAMzMzMzNzN0BxPQrXo3AQQM3MzMzMXFFAmpmZmZmZ+T+F61G4HoXjP1K4HoXrUeg/pHA9Ctej/D+PwvUoXI8UQI/C9ShcjwRAAAAAAACASEApXI/C9ahEQKRwPQrX4zZAZmZmZmZm+j9xPQrXoyBbQOF6FK5H4TtAAAAAAAAAG0BmZmZmZmYAQI/C9Shc70FArkfhehTuSkCF61G4HoUeQM3MzMzMzPg/w/UoXI+iUkAK16NwPQoHQDMzMzMzMzZA7FG4HoVLQUAzMzMzMxNIQJqZmZmZmQdAZmZmZmbmJUCF61G4HgU8QEjhehSuR/E/cT0K16Nw3T+4HoXrUbhJQPYoXI/CdTxA7FG4HoX7UkD2KFyPwvVCQOxRuB6F6xBAcT0K16PQSkAfhetRuJ4mQAAAAAAAoFBAPQrXo3A9HECamZmZmZm5P4/C9ShcjwpAmpmZmZmZ6T+kcD0K16NIQAAAAAAAQFZAPQrXo3C9IUCF61G4HhVVQDMzMzMzU05AH4XrUbgeUEBmZmZmZmY0QFK4HoXr8U5AH4XrUbieL0CkcD0K16PAP9ejcD0K1+s/j8L1KFyPDkBI4XoUrkcBQHsUrkfhcmJA9ihcj8KlYUAUrkfhehT+PwAAAAAAAPh/CtejcD0KLUDsUbgehftTQLgehetRuPY/rkfhehSu7z8fhetRuB4nQKRwPQrXowBApHA9CtdjT0CkcD0K16PoPz0K16NwPQBAKVyPwvWIS0C4HoXrUUhRQIXrUbgehQNAuB6F61FoY0BI4XoUrkfhP+F6FK5H4co/exSuR+H6LUB7FK5H4XrwP2ZmZmZmZhNAcT0K16NwJkA9CtejcD3aP4/C9Shcj/4/UrgehevRLkDXo3A9CtcSQDMzMzMz8zNAKVyPwvUo5D8UrkfhehQeQI/C9Shcj/Y/hetRuB6FC0AfhetRuB4VQI/C9ShcjxJAexSuR+F6xD+4HoXrUehYQI/C9ShcjwJAcT0K16MwNEAUrkfhehQmQOF6FK5H4co/cT0K16PwJ0DXo3A9ChdVQOF6FK5H4fI/j8L1KFyPFEC4HoXrUbjyP4/C9ShcjwpApHA9CtdjOUC4HoXrUchTQBSuR+F6FO4/zczMzMzMCkApXI/C9SgpQPYoXI/C9RZAmpmZmZmZuT/NzMzMzIwzQOxRuB6F6+k/CtejcD1KO0B7FK5H4XqkP3E9Ctej8EVAexSuR+FKUUBI4XoUrkf9P5qZmZmZmTJAKVyPwvXoRkApXI/C9agmQLgehetRuCtAmpmZmZmZH0AAAAAAAAAAQOxRuB6F6xtAPQrXo3A9FEB7FK5H4XqEP1K4HoXr0S1AzczMzMzM5D/NzMzMzMwRQNejcD0K1+M/7FG4HoVrNUBI4XoUrkcBQHE9CtejkEJA9ihcj8L1BkBxPQrXo3DtP1K4HoXrIVdAexSuR+H6IUBI4XoUrkdAQBSuR+F6FOY/rkfhehSu1z+amZmZmXlTQDMzMzMzszNAMzMzMzMzA0B7FK5H4XpcQHE9CtejMERAexSuR+F6tD9xPQrXo/AiQB+F61G4Hv0/CtejcD1KUEBxPQrXo3AoQKRwPQrXo/w/FK5H4XoU5j9SuB6F61H0P1K4HoXrwVBA4XoUrkfh6j/Xo3A9CjdUQMP1KFyPQlhAuB6F61G49j97FK5H4XqUP2ZmZmZm5kFAhetRuB6FB0CkcD0K16M1QNejcD0K19M/mpmZmZmZuT/NzMzMzMwSQJqZmZmZmfU/hetRuB4FOkB7FK5H4XoYQEjhehSuR/U/H4XrUbgeBUDhehSuR+ErQK5H4XoUru8/mpmZmZn5REAAAAAAACBXQOF6FK5H4co/zczMzMxsQECPwvUoXI8fQLgehetRuPI/KVyPwvUo3D9xPQrXo3DxP9ejcD0K1xBAZmZmZmZmDEApXI/C9QhGQKRwPQrX40BAZmZmZmZm7j+kcD0K16MAQDMzMzMzcz9AXI/C9Sj8RUAUrkfhenRIQOF6FK5HQVhArkfhehROSkCuR+F6FC41QM3MzMzMTDlAFK5H4XqkU0CF61G4HrVeQClcj8L1aGJA4XoUrkfhEEBxPQrXo3A6QHsUrkfhultAXI/C9SgcMEBSuB6F61EGQD0K16NwPQpAzczMzMxMM0AzMzMzMzMDQJqZmZmZmRBAUrgehetREUDD9Shcj8IPQHsUrkfhujlAmpmZmZmZqT9SuB6F61EWQOF6FK5H4SpAuB6F61H4QECamZmZmZkBQDMzMzMzM05A7FG4HoVrOkDD9Shcj350QD0K16NwfVZA4XoUrkfh4j/NzMzMzMwmQOF6FK5H4SFAw/UoXI/C7T8zMzMzMxNCQBSuR+F69EZAhetRuB6FA0BxPQrXo/BBQMP1KFyPwhBAmpmZmZmZqT8zMzMzMzMBQKRwPQrXo/w/9ihcj8L1BkDD9Shcj8L1P+F6FK5H4eI/w/UoXI/CCUCamZmZmZkaQBSuR+F6VDZA16NwPQpnUUAUrkfhehQQQLgehetRuCdAj8L1KFzPMEBSuB6F65EzQM3MzMzMzNw/CtejcD0K8z+amZmZmZkJQK5H4XoUrvs/rkfhehSu5z/Xo3A9CtdaQFK4HoXrETJApHA9CtcjIEAfhetRuJ5HQMP1KFyPgjVAXI/C9ShcA0CF61G4HiVeQAAAAAAAgEFA4XoUrkfhyj97FK5H4TpNQB+F61G4HhFAAAAAAACAL0AK16NwPYogQFyPwvUoXPM/XI/C9SjcMEDsUbgehesSQIXrUbgehSFAUrgehetRyD8zMzMzMzMLQArXo3A9Gl1Aw/UoXI/CCUAfhetRuB4sQD0K16NwPfI/FK5H4XoU3j/sUbgehSs/QDMzMzMz00BAUrgehevRJ0CkcD0K16P8P6RwPQrX41JAZmZmZmamS0AzMzMzMzMDQFK4HoXrkTJAw/UoXI+iSUBI4XoUrscgQM3MzMzM3FJAcT0K16OQU0CuR+F6FK4FQD0K16NwPVVAUrgehetR6D8zMzMzMzMxQKRwPQrXoxhAmpmZmZlha0DNzMzMzEwjQOF6FK5H4RlAKVyPwvUoBEApXI/C9Wg1QLgehetRuJ4/j8L1KFwPP0AAAAAAACBIQIXrUbgehRRA7FG4HoVrIEC4HoXrUTgzQAAAAAAAAFBA4XoUrkfh6j9xPQrXo3DdPxSuR+F6FApAuB6F61G4nj+amZmZmRlFQHsUrkfhepQ/KVyPwvUoIUDhehSuR+ETQClcj8L1KPQ/ZmZmZmYGU0BmZmZmZmYzQJqZmZmZmfE/hetRuB6lUUCPwvUoXA8gQClcj8L1KNw/PQrXo3C9NkB7FK5H4dpcQArXo3A9yjZAhetRuB4FOEDNzMzMzMwVQLgehetRuAJA7FG4HoVLVEB7FK5H4TpCQAAAAAAAABZAMzMzMzPTRUAzMzMzMzMeQEjhehSux19AMzMzMzMz8z9cj8L1KOxSQJqZmZmZuUNAMzMzMzMz4z8pXI/C9XhQQClcj8L1qDZAMzMzMzMzG0D2KFyPwlVTQFK4HoXrUQJA16NwPQrX/z97FK5H4XrUP65H4XoU7jdAUrgehetRGUCkcD0K10NOQGZmZmZmZgRArkfhehTuNUBmZmZmZmbmP8P1KFyPwhhACtejcD0K7z+uR+F6FK7nP8P1KFyPwjtAUrgehevxQEB7FK5H4bozQIXrUbgeBSFAFK5H4XoUEEA9CtejcJ1QQEjhehSux0xAmpmZmZmZ4T9cj8L1KNxQQBSuR+F6FFVAzczMzMyMNkDNzMzMzMwOQClcj8L1KOw/KVyPwvUo7D9SuB6F65E2QI/C9Shc711AmpmZmZmZA0DXo3A9CtfjP3sUrkfhepQ/KVyPwvWoOUBcj8L1KFwRQHE9CtejkEdAMzMzMzMz6z+4HoXrUbhIQFyPwvUovFpAFK5H4Xq0SkAK16NwPco2QHE9CtejcB9ACtejcD0K8z9cj8L1KFw0QKRwPQrXox9ApHA9CtejNUAK16NwPYpUQHE9CtejcCJArkfhehSuCUCkcD0K16PAPxSuR+F6FN4/SOF6FK5H9T/sUbgehWslQD0K16Nw/VJArkfhehSuL0AAAAAAAAD4f2ZmZmZmZtY/UrgehetRDkAK16NwPQoDQMP1KFyP0llAw/UoXI/CxT/Xo3A9CndCQIXrUbgeRTxAXI/C9SjcIUCPwvUoXE9JQPYoXI/CdSNAUrgehetR8D9xPQrXo3DxP1K4HoXr0UdAj8L1KFwPSkAAAAAAAAAVQM3MzMzMzOQ/mpmZmZlZSEBSuB6F61EoQOF6FK5HoTNAPQrXo3ANXkAUrkfhehQQQEjhehSu91hAexSuR+EaVkC4HoXrUThiQKRwPQrX4zRAw/UoXI/CEkBcj8L1KNwiQPYoXI/C9eg/cT0K16NwF0ApXI/C9ehXQAAAAAAAAPh/hetRuB4FK0DD9Shcj0I1QFyPwvUoPEdAj8L1KFxPMEDD9Shcj8JGQOxRuB6F6xdAcT0K16MwNEAzMzMzMzPTP1yPwvUo3CVAMzMzMzMTQkApXI/C9SjwP8P1KFyPwhtAuB6F61E4PkAUrkfhehTeP0jhehSuR/U/ZmZmZmaGRkBSuB6F61H8P5qZmZmZmVtApHA9CtejNEBcj8L1KFwTQI/C9ShcjwpASOF6FK5HFkDNzMzMzEwnQMP1KFyPwgdAUrgehetRCEDNzMzMzAxMQB+F61G4HuU/XI/C9ShcA0CkcD0K16MAQNejcD0KlzhA7FG4HoULQ0CuR+F6FK4BQGZmZmZmZh5A4XoUrkfhBkAzMzMzMzMVQJqZmZmZmck/zczMzMzM9D8UrkfhepQlQEjhehSu50lAZmZmZmZm8j9I4XoUrmdJQNejcD0K1yFASOF6FK5HFkBxPQrXo3AlQHsUrkfhehRAexSuR+F61D8pXI/C9Sg7QM3MzMzMjDFA4XoUrkfhHkCuR+F6FK4FQM3MzMzMTFRArkfhehSu7z9SuB6F61EOQD0K16NwPT5ArkfhehQuKUBcj8L1KFwZQLgehetRcG5ApHA9CtejBkDXo3A9CtfjP7gehetRODpAw/UoXI/CJ0ApXI/C9Sj8P3E9CtejMDhAPQrXo3A9KkAK16NwPQooQHsUrkfhetQ/j8L1KFyP/j/2KFyPwvUtQAAAAAAAADVAH4XrUbj+R0AfhetRuB7VP6RwPQrXg0xASOF6FK5H4T+amZmZmUlVQOxRuB6FS0BAexSuR+E6MEBmZmZmZiY1QFK4HoXr0SlA16NwPQrXIkAAAAAAAADwPx+F61G4Hu0/mpmZmZmZDUBxPQrXo3DtPxSuR+F6FAZAj8L1KFwPQkB7FK5H4XqEP0jhehSux1NAexSuR+G6M0BSuB6F61HgP4/C9Shcj9I/exSuR+F6BkAzMzMzMzPTP1yPwvUobFhAMzMzMzMz0z/NzMzMzEw/QOxRuB6F6+k/16NwPQo3REBmZmZmZmYAQArXo3A9yjVAAAAAAAAA+H9SuB6F61EYQFyPwvUo3CFAXI/C9SjcMEDXo3A9CtdHQB+F61G4Hv0/FK5H4XoUKkBmZmZmZoZLQClcj8L1qCFApHA9CtcDQUBcj8L1KPxVQGZmZmZmZgJAMzMzMzMzDUApXI/C9Wg1QAAAAAAAAClAj8L1KFyPAEBxPQrXo3AYQAAAAAAAAPh/hetRuB4lQEBcj8L1KHxbQOF6FK5HYSZASOF6FK7HNUBI4XoUrkfhP3E9CtejcBBA7FG4HoVrVUC4HoXrUfg7QIXrUbgeheM/CtejcD0KA0AzMzMzMzPDP+xRuB6F6xNAXI/C9Sg8V0DD9ShcjwJZQHsUrkfhuj9AcT0K16PwQUCPwvUoXI/iP/YoXI/CdT9AFK5H4XoUHEBxPQrXo3ATQBSuR+F6lDdAPQrXo3ANWUAAAAAAAMAxQOxRuB6F6wdACtejcD0KC0CuR+F6FK40QK5H4XoUrvM/H4XrUbgeFkB7FK5H4bozQI/C9ShczzBAmpmZmZlZV0BI4XoUrkfhP+xRuB6F68E/9ihcj8L18D+4HoXrUTgkQLgehetRuEdA9ihcj8L1EEBmZmZmZgZJQDMzMzMzs0ZAH4XrUbg+TUCkcD0K16PQP1K4HoXrUQZACtejcD0KHkDD9Shcj4I6QOF6FK5H4R9APQrXo3DdTUCPwvUoXI/+P/YoXI/C9fw/16NwPQrXA0AzMzMzM/NWQKRwPQrXIz1AhetRuB4FLkBSuB6F61EKQKRwPQrX4ztAhetRuB5lT0AfhetRuB4VQClcj8L1+FhAPQrXo3A9KkCkcD0K16PoP7gehetRuAZASOF6FK5HK0A9CtejcD0qQLgehetROCVAexSuR+F6pD+uR+F6FK7zPwrXo3A9yjdAZmZmZmZmGkDNzMzMzExBQPYoXI/CJV9AXI/C9Shc+z8pXI/C9Sj0Pylcj8L1qCRAXI/C9ShcDUB7FK5H4XoyQJqZmZmZmbk/hetRuB6FIED2KFyPwvUmQD0K16NwPRdAw/UoXI9iTEDXo3A9Clc4QArXo3A9iihAFK5H4XoULECamZmZmZnJP65H4XoUrhJAzczMzMzMBEBcj8L1KNwmQOF6FK5HwUBAPQrXo3A9JECPwvUoXI/yP65H4XoUruc/9ihcj8L1REAzMzMzMzPDP3sUrkfhGmFAFK5H4Xo0REDhehSuR+EqQFK4HoXrIVRApHA9CtejGUCuR+F6FF5VQBSuR+F6FAxAUrgeheuxSEA9CtejcJ1GQArXo3A9Ctc/KVyPwvUo9D9cj8L1KFwBQLgehetRuM4/UrgehesxREDsUbgehXtTQAAAAAAAIEdAuB6F61G4rj8AAAAAAADgP9ejcD0K1wdAUrgehetR4D97FK5H4fpTQArXo3A9ChJAAAAAAAAA+H9I4XoUrsclQLgehetROCFA4XoUrkfh/j/2KFyPwvUMQFK4HoXrETpArkfhehQuIUAAAAAAAAD0P9ejcD0Kl1tAw/UoXI/C1T/Xo3A9ClctQAAAAAAAAPh/rkfhehSuA0CF61G4HoUXQJqZmZmZmfk/pHA9CtejBkCamZmZmXlFQHE9Ctej8EZAXI/C9SgcNEB7FK5H4fomQK5H4XoUrvM/UrgehetRMEDNzMzMzMzsP7gehetRuK4/CtejcD0KFEDhehSuRyE5QIXrUbgeZVNAKVyPwvUovD8fhetRuB7VP1K4HoXrURNAFK5H4XoU9j9cj8L1KBxCQNejcD0K1xVAzczMzMzM5D89CtejcD32P+F6FK5H4eI/9ihcj8L1BkCPwvUoXA8iQBSuR+F61DFASOF6FK6HPUBI4XoUridBQLgehetRuJ4/9ihcj8L1GEDhehSuR+FIQArXo3A9WlNA9ihcj8L1F0CPwvUoXI8ZQIXrUbge9WRAZmZmZmbmIUCPwvUoXI8MQArXo3A9iihAH4XrUbieRkDXo3A9CtfTP3E9CtejcPk/SOF6FK5H0T8K16NwPQrnP1yPwvUoXENAAAAAAAAAMEApXI/C9Wg/QD0K16NwPVBAPQrXo3A9AkAAAAAAAGBMQIXrUbgehQFAMzMzMzOzLkDsUbgehesSQLgehetRuA5AKVyPwvUo+D9I4XoUrkcmQLgehetRuERAZmZmZmbmKEA9CtejcO1TQDMzMzMzc0BApHA9CteDV0CkcD0K16PoP2ZmZmZmZhlAUrgehetR9D/sUbgehesqQMP1KFyPQiBAexSuR+F6CEDD9Shcj8LFP3E9CtejcB9A16NwPQrXF0Bcj8L1KFwPQOxRuB6FS0FAPQrXo3A9IkB7FK5H4bowQPYoXI/C9RtA16NwPQpXMUAAAAAAAAA6QAAAAAAAABZAFK5H4XoUEkBSuB6F68FSQFyPwvUoXPc/ZmZmZmYmMEDhehSuR2EoQD0K16Nw/TRAH4XrUbh+TUDD9ShcjyJNQPYoXI/C9fA/rkfhehSu8z89CtejcH00QGZmZmZmZjNAcT0K16NwJEAzMzMzMzPjP+xRuB6F6xZAuB6F61G4nj+F61G4HnVhQFyPwvUoXO8/exSuR+H6M0BxPQrXo9BMQMP1KFyPwgFAj8L1KFyP+j+kcD0K16MXQD0K16NwPdo/j8L1KFyP9j/NzMzMzMwdQD0K16NwPRJA9ihcj8L1T0DXo3A9CldSQMP1KFyPQjJAexSuR+GaREDNzMzMzOxGQI/C9Shcj09AmpmZmZmZ4T/sUbgehevhP0jhehSuRxRApHA9Ctej4D8zMzMzMzP7P3E9CtejcO0/hetRuB6F2z+kcD0K16MmQClcj8L1KA5Aj8L1KFyPCkDXo3A9CtfjP83MzMzMzPQ/uB6F61HYQ0B7FK5H4Xr8P+xRuB6F6+k/pHA9CtejFUCPwvUoXI/iPz0K16NwvSVAKVyPwvXIQECuR+F6FK7XP65H4XoUriZAmpmZmZmZG0DhehSuR+ECQJqZmZmZmfE/SOF6FK7HIUB7FK5H4VpEQD0K16NwvSxA7FG4HoVrT0C4HoXrUTgzQHE9CtejcCJAuB6F61G4BkDXo3A9CtfrP7gehetRWFdA4XoUrkfhE0BxPQrXo3D1PxSuR+F6FOY/rkfhehTuN0DD9Shcj8LVP1K4HoXrMUtAj8L1KFwPRkBSuB6F69E0QNejcD0K1zJA16NwPQrXQ0BI4XoUrkdRQEjhehSu50FAUrgehetRKkDD9ShcjwJBQArXo3A9ChlApHA9Ctej0D+kcD0K16MAQIXrUbgepUVAcT0K16PwL0BSuB6F61EfQOF6FK5H4eI/4XoUrkfhDkDD9Shcj8LFP+F6FK5H4QBAFK5H4XoUFkDXo3A9CjdDQKRwPQrXo/g/AAAAAAAA0D9xPQrXo9BQQNejcD0K19M/rkfhehSuB0DXo3A9Cpc0QOxRuB6F68E/XI/C9ShcEEAfhetRuJ41QEjhehSuRxBA16NwPQrXGkDD9Shcj8IiQDMzMzMzMwFAAAAAAAAA+H8UrkfhetQ8QEjhehSuR+k/rkfhehQmakB7FK5H4XorQGZmZmZmvmRAAAAAAAAAJEDD9Shcj8LtPwAAAAAAAEhAcT0K16NwzT/Xo3A9CtcNQK5H4XoUrj5AKVyPwvUoFkDsUbgehSs0QBSuR+F6hFxArkfhehSuN0DNzMzMzMzkP3sUrkfherQ/KVyPwvUoH0B7FK5H4XqEP83MzMzMTChASOF6FK5H+T9I4XoUrudVQArXo3A9Cv8/CtejcD0KBUAAAAAAACBEQAAAAAAAABFAhetRuB7lRkAfhetRuB4VQHE9CtejcN0/KVyPwvUoCkDXo3A9ChdMQOxRuB6F6+k/mpmZmZlZSEBSuB6F61EEQD0K16NwfT5AUrgehetR+D/D9Shcj8JJQNejcD0Kp2ZAmpmZmZnZRUCPwvUoXE85QPYoXI/CdS9ArkfhehSuFUDsUbgehev1P4XrUbgeRTtAAAAAAACAIEDhehSuRwFDQB+F61G4nj1AFK5H4XqUQkBmZmZmZmYhQBSuR+F6FCxAuB6F61G45j/D9ShcjwI0QI/C9Shcj/I/7FG4HoULR0AAAAAAAMBEQHE9CtejEENAFK5H4XoUIUAK16NwPTpVQFyPwvUoXCFAhetRuB6F2z/2KFyPwvX8P/YoXI/CtTZA4XoUrkdhJ0C4HoXrUbjePwAAAAAAABBAuB6F61G47j/hehSuR4FLQKRwPQrXY0NAFK5H4Xo0RkAfhetRuB4DQKRwPQrXowJAuB6F61E4UUDD9Shcj8LVP7gehetRuO4/w/UoXI8CQUCF61G4HoUdQArXo3A9Cv8/hetRuB5FMkBxPQrXo7BRQFyPwvUoXAFAj8L1KFwPN0AzMzMzM3MxQHsUrkfhesQ/H4XrUbge+T/hehSuR+ExQPYoXI/C9eA/7FG4HoVrLUDXo3A9CtfrPwrXo3A9Cg1AFK5H4XqULkCPwvUoXE89QFK4HoXrUcg/hetRuB4FLUAAAAAAAAAKQB+F61G4HtU/SOF6FK5HGkBcj8L1KFxGQOF6FK5H4eo/w/UoXI9CSUDhehSuR+HyPwAAAAAAPHNAhetRuB6F2z+F61G4HoUaQArXo3A9CiJAcT0K16Nw/T8fhetRuB4dQClcj8L1qDJAuB6F61G4+j9mZmZmZuYkQJqZmZmZOVdAzczMzMyMMkCkcD0K16NKQK5H4XoUru8/w/UoXI9CJ0BmZmZmZmb2P3sUrkfhOjVACtejcD0K/z9xPQrXo9BZQDMzMzMzMwtACtejcD0KIEBxPQrXo/AlQOF6FK5H4R9A16NwPQqXOUDhehSuR2EyQBSuR+F6FBJAexSuR+F6GEA9CtejcD0AQHE9Ctej0GRAj8L1KFxPTkCuR+F6FK7vPx+F61G4niVACtejcD0KOkA9CtejcMVhQAAAAAAAACBApHA9CtejEEC4HoXrUXgzQPYoXI/CtTdAcT0K16MwM0CkcD0K12MwQD0K16NwvS5AexSuR+F6hD+PwvUoXI8CQFyPwvUoNGVAKVyPwvUoAkBcj8L1KNw/QPYoXI/C9fQ/uB6F61G4GkCuR+F6FC4jQPYoXI/C9QhASOF6FK7HUkA9CtejcL1GQHsUrkfheg5AMzMzMzNbZUA9CtejcD3iP+xRuB6F6xhApHA9CtejV0AK16NwPYogQHsUrkfherQ/16NwPQpnZEBcj8L1KLxEQDMzMzMzMxNAAAAAAAAA9D+PwvUoXI8XQM3MzMzMzBhAFK5H4XoUFkB7FK5H4XohQOxRuB6Fe1dArkfhehSuMEApXI/C9SgMQAAAAAAAAPg/KVyPwvUoMEDD9Shcj8IaQI/C9Shc31RAcT0K16PwJEAfhetRuN5AQB+F61G4HgNASOF6FK5H+T9SuB6F65FIQHsUrkfhegZAXI/C9SgcSEAAAAAAAAAsQClcj8L1SEVAUrgehetREUCPwvUoXI/yP+xRuB6Fy0xASOF6FK5HY0B7FK5H4XoRQFyPwvUoLFlAw/UoXI/C1T/NzMzMzGxEQHsUrkfheixAexSuR+F61D8pXI/C9SjcPwAAAAAAAPA/PQrXo3A96j8fhetRuH5CQMP1KFyPQjNAPQrXo3DdR0AfhetRuM5qQOxRuB6F601AMzMzMzMzGECuR+F6FK77P+xRuB6F6yxAw/UoXI/C7T/NzMzMzAxSQHE9CtejcN0/pHA9CtdjN0D2KFyPwvVAQMP1KFyPwv0/FK5H4XoUKUAfhetRuH5GQArXo3A9CvM/XI/C9SgsVkAK16NwPQodQB+F61G4HgFA4XoUrkfhyj/D9Shcj4JZQNejcD0Kj2RA9ihcj8L1AECPwvUoXI/SP+F6FK5HgUFAZmZmZmZmDEBmZmZmZmb2PwrXo3A9ChpA16NwPQrXN0CF61G4HoVIQArXo3A9ChBAUrgeheuRMEDsUbgehesfQOF6FK5H4fI/cT0K16NwUkCkcD0K16MYQArXo3A9iixAmpmZmZmZBUDXo3A9CtfjP6RwPQrXo8A/9ihcj8L1IkBxPQrXo/AwQArXo3A9Ch9Aj8L1KFzPU0ApXI/C9SjsP+xRuB6F68E/FK5H4XrUMEAK16NwPXpTQGZmZmZmZvI/FK5H4XoU+j9mZmZmZmbyP6RwPQrXA0lACtejcD0KHEA9CtejcD0SQNejcD0K19M/H4XrUbjeRECPwvUoXA86QOF6FK5H4do/FK5H4XoU3j/Xo3A9CtfjP0jhehSu91BAAAAAAAAA/D9mZmZmZpZUQClcj8L1KAhA9ihcj8L12D/NzMzMzEw3QKRwPQrXoxtA9ihcj8L18D9mZmZmZmYCQHsUrkfhejFA9ihcj8K1N0BxPQrXo3D9P+F6FK5H4fY/rkfhehSuFUDsUbgehSs7QI/C9ShcjwRAZmZmZmZmP0CuR+F6FC5AQHsUrkfheuQ/cT0K16NwGUDsUbgehftbQMP1KFyPwuU/UrgehetBWkBcj8L1KFwQQAAAAAAAABRAAAAAAACAJkCF61G4HkVMQBSuR+F69FJAFK5H4XoUDkCF61G4HoU3QK5H4XoUrhRAZmZmZmZmE0DhehSuR+ErQOF6FK5HYSdAXI/C9SgMX0D2KFyPwtVTQM3MzMzMzAZASOF6FK5HEkBcj8L1KFwtQK5H4XoUriJAMzMzMzNjVUApXI/C9SjMPx+F61G4nlBAAAAAAABAN0DhehSuR2FHQK5H4XoUrv8/hetRuB4FKUDhehSuR8FIQDMzMzMzMz9AKVyPwvUo5D+PwvUoXI/2P8P1KFyPAjtAexSuR+F67D/NzMzMzIw7QAAAAAAAAPA/AAAAAAAAIkDD9ShcjwJiQFyPwvUo3CVAXI/C9SjcM0CF61G4HuVDQPYoXI/CNUJArkfhehSuI0DhehSuR+EIQEjhehSuR0FAw/UoXI/CIECkcD0K1yM1QDMzMzMzMx5AuB6F61G4EUCkcD0K1xNWQHsUrkfhehtAZmZmZmbmIECamZmZmZn1P83MzMzMTCJApHA9CtejDkDXo3A9ClcjQGZmZmZmJjZAmpmZmZk5S0C4HoXrUThJQLgehetRuM4/AAAAAABANkC4HoXrUbgEQB+F61G4HiFAhetRuB5lTkCkcD0K1wNDQGZmZmZmhkdASOF6FK5HKkCPwvUoXI/+P8P1KFyPwu0/9ihcj8L1KUBI4XoUrkfhP5qZmZmZWTNAAAAAAAAAJUAzMzMzMzPTPwrXo3A9Crc/exSuR+G6PEAAAAAAAAAoQKRwPQrXy2BAUrgehetR4D9I4XoUrkf9P0jhehSuRxdA9ihcj8L1GUAAAAAAAAAtQK5H4XoUrv8/MzMzMzMz0z8K16NwPSpRQOF6FK5H4do/j8L1KFwfV0CPwvUoXI8EQMP1KFyPgjRArkfhehSuJ0CPwvUoXM8zQD0K16NwvS9Aj8L1KFzPNEBSuB6F61EOQM3MzMzMzBpAFK5H4XoUIEA9CtejcD0KQMP1KFyPwhFArkfhehSuA0BxPQrXo7BPQDMzMzMz42BAw/UoXI/C8T9SuB6F61ErQI/C9ShczztAFK5H4XpUQUAfhetRuB79PwrXo3A9CkZASOF6FK5nV0ApXI/C9UhQQPYoXI/CdSxAZmZmZmZmEEBmZmZmZnZQQGZmZmZmZgBAcT0K16NwF0AK16NwPQoNQI/C9Shcj+I/4XoUrkdhTkB7FK5H4cpWQFK4HoXrUeg/mpmZmZmZEkDXo3A9CpdNQBSuR+F63GdAcT0K16Nw3T+4HoXrUbjmP9ejcD0K10FAPQrXo3A99j9mZmZmZmYGQI/C9Shcj9I/uB6F61G4DEDNzMzMzMwYQEjhehSuBzFAj8L1KFwfUUBI4XoUrkcLQK5H4XoUrvM/PQrXo3A94j8UrkfheuRkQM3MzMzMzCtAFK5H4Xp0V0B7FK5H4Xr4Pylcj8L1KPQ/CtejcD0K5z8pXI/C9Sj0P3E9CtejcOU/uB6F61EYR0DhehSuRyFNQI/C9ShcjwBAMzMzMzMz9z97FK5H4bo3QClcj8L1KMw/uB6F61H4NUDXo3A9Ctf7P+xRuB6FE2NArkfhehSuDUCPwvUoXDmDQD0K16NwvThA9ihcj8L1DkCPwvUoXA9HQD0K16NwfVhAw/UoXI/CMkA9CtejcD0fQBSuR+F6FBZASOF6FK5HD0C4HoXrUbjeP7gehetRuCJAcT0K16PwQECkcD0K16MIQDMzMzMzMwdACtejcD0qS0Bcj8L1KFwnQAAAAAAAAPh/ZmZmZmbmNkDNzMzMzAxSQDMzMzMzc1VAw/UoXI9CPkApXI/C9SjsP3sUrkfh+lVAuB6F61G4NED2KFyPwvX4P4XrUbgehRhAMzMzMzPzOkD2KFyPwvXYPx+F61G4HgNApHA9CtdjNkBSuB6F61HYPwAAAAAAIElAPQrXo3A9L0CamZmZmZkeQPYoXI/C9eg/uB6F61G4MUAK16NwPQrHP7gehetRuAJAFK5H4Xo0REAfhetRuF46QLgehetRWE1AhetRuB6FDUCPwvUoXA8jQHsUrkfhepQ/uB6F61G4K0DsUbgehSs5QMP1KFyPwidA9ihcj8L14D97FK5H4XoOQArXo3A9Crc/UrgehetRV0BxPQrXo3D5P+xRuB6F6/0/exSuR+E6OEAK16NwPQr7PxSuR+F6FBNA7FG4HoVrLUB7FK5H4XrsP/YoXI/C9SFAFK5H4XoUKEBxPQrXo/BKQArXo3A9ClBAexSuR+G6SUDXo3A9ClcqQMP1KFyPwv0/CtejcD0KAUCF61G4HkU/QClcj8L1KNw/UrgehesROUDNzMzMzCxHQKRwPQrX4zJASOF6FK7HMkA9CtejcB1UQArXo3A9CgdAUrgehevZYkAAAAAAAIBSQD0K16NwPeo/ZmZmZmZmBEBcj8L1KFz/P4/C9ShczzBAPQrXo3A94j9SuB6F61EaQPYoXI/CdSVAmpmZmZkZM0AAAAAAAAD4f6RwPQrXQ1VAzczMzMxMJ0AfhetRuB5QQFyPwvUoDFxAcT0K16NwGEBxPQrXo3ABQJqZmZmZmek/rkfhehSu1z8zMzMzMzP3P+xRuB6Fa19AFK5H4XoUPkA9CtejcP04QI/C9Shc70FAKVyPwvWoJ0CPwvUoXI8EQGZmZmZmZhlAexSuR+F6lD+kcD0K1yMrQIXrUbgehQdAPQrXo3C9TkCkcD0K16MqQM3MzMzMzBFAUrgehetR2D/D9Shcj8IcQClcj8L1KDJA4XoUrkfhBECamZmZmZn9P5qZmZmZGSFAmpmZmZmZF0C4HoXrUbgXQAAAAAAAQDNA9ihcj8L14D8zMzMzM7MhQB+F61G4HiZApHA9CtejEUBxPQrXoyBbQArXo3A9Cg9ASOF6FK5H4T/hehSuR+H6P+xRuB6F69E/UrgehetRyD+kcD0K16PAPx+F61G4blhAFK5H4XoU5j+uR+F6FK7vP/YoXI/C9eA/ZmZmZmZ2UEBSuB6F69FAQIXrUbgehQVAAAAAAABgS0AK16NwPYohQClcj8L1KClAcT0K16MwMUApXI/C9agwQKRwPQrXowhASOF6FK6HP0B7FK5H4XoCQM3MzMzMDDVAzczMzMy8U0CamZmZmRk1QOF6FK5HgVBAKVyPwvWoIkDXo3A9CtcYQFyPwvUojFVAmpmZmZmZCUApXI/C9agkQDMzMzMzMyJAFK5H4XoUIECPwvUoXI8jQFyPwvUoXOc/rkfhehRuMEB7FK5H4XqEP5qZmZmZmak/H4XrUbge1T9xPQrXo3D1P+xRuB6F6xRAKVyPwvWoNUBSuB6F69EiQM3MzMzMzABAAAAAAAAA+H/2KFyPwrU8QJqZmZmZmQdAuB6F61G4H0AUrkfhehQQQPYoXI/CdWRA16NwPQrXLEAK16NwPQrvPylcj8L1aDRAzczMzMzMLUCuR+F6FA5IQM3MzMzMzBtAZmZmZmamOkBSuB6F61ErQHsUrkfhegpAMzMzMzMzOUCPwvUoXI/SPylcj8L1iF5AmpmZmZkZSUAfhetRuB7tP1K4HoXrUeA/rkfhehQuIUApXI/C9ahOQHE9CtejMD1ACtejcD0KGUCF61G4HoUWQM3MzMzMTCNACtejcD1KOkBI4XoUrkf1P0jhehSuR/E/cT0K16NwOUBxPQrXo3DNPwrXo3A9ijRAKVyPwvWoI0AK16NwPQr3P9ejcD0K1/c/j8L1KFxPMEApXI/C9ThaQDMzMzMzMxdA4XoUrkfhBkAAAAAAAEAxQEjhehSuRx5ArkfhehQuLkAK16NwPQonQOF6FK5HoUtA9ihcj8J1JEBcj8L1KJxBQB+F61G4HhBA9ihcj8L1F0CkcD0K16PAP9ejcD0K1w1AexSuR+F6AkAK16NwPUpBQPYoXI/C9eg/UrgehetRyD/2KFyPwvUVQNejcD0K19M/UrgehevRP0CkcD0K16MYQKRwPQrXE1RAPQrXo3A94j/2KFyPwnUgQBSuR+F6FN4/AAAAAACALUDNzMzMzGxAQAAAAAAAwDVAFK5H4XoU3j+4HoXrUTg3QKRwPQrXQ0tAAAAAAAAA+H8zMzMzM9NAQFK4HoXrUQBAUrgehevRIUB7FK5H4XqkP65H4XoUruc/AAAAAADwUUApXI/C9SjwP/YoXI/C9SBAmpmZmZmZJEAK16NwPQofQHsUrkfheuQ/CtejcD0KFEBSuB6F61EEQFyPwvUoXCJAcT0K16PwUEBSuB6F61EZQDMzMzMzM9M/PQrXo3A9+j8AAAAAAAA1QKRwPQrXoxNAcT0K16NQTUBSuB6F61EaQGZmZmZmJktAH4XrUbgOUEBmZmZmZiY7QGZmZmZmZjBAexSuR+F68D/NzMzMzMz8P1K4HoXrUQpAAAAAAAAA6D+amZmZmZn5P2ZmZmZmpj1AmpmZmZm5QECamZmZmZkXQI/C9ShcjypA16NwPQoXWUA9CtejcD0kQIXrUbgehRZAhetRuB6FN0BxPQrXo7A+QArXo3A9Cg1AXI/C9Sh8X0ApXI/C9Si8P9ejcD0K1xNAmpmZmZmZBUB7FK5H4Xo+QOxRuB6FS0NAhetRuB6F4z/NzMzMzMz8P7gehetRuAJAH4XrUbge+T8K16NwPQoJQB+F61G4fk1A16NwPQrXI0AzMzMzMzPrP0jhehSuRxlA9ihcj8L14D8zMzMzMxNAQMP1KFyPQi9APQrXo3B9O0Bcj8L1KFz/P0jhehSuRzBAUrgehesRMUAfhetRuN40QMP1KFyPwuU/ZmZmZmZm8j9mZmZmZmbmPwrXo3A9Ci5AKVyPwvVoQUCuR+F6FK4uQAAAAAAAAPg/7FG4HoXrDUBmZmZmZgZbQClcj8L1KMw/SOF6FK5HHEA9CtejcD3iPwAAAAAAABVA7FG4HoXr8T+kcD0K1+M8QOxRuB6F6/U/4XoUrkdhNUApXI/C9WgwQEjhehSuhzZAj8L1KFyPAEAzMzMzMzMZQHsUrkfhukJArkfhehSeZ0DsUbgehYtGQFK4HoXrETRAmpmZmZmZAUCuR+F6FK4UQDMzMzMz00lACtejcD0K+z+F61G4HoUXQPYoXI/CVUtAZmZmZmZmG0CamZmZmZkpQIXrUbgeBTFAw/UoXI/CEkDsUbgehWsxQK5H4XoUrv8/UrgehetRL0AAAAAAAGBJQI/C9Shcj+o/7FG4HoXr/T9xPQrXo3AgQI/C9ShcjzNAuB6F61G4J0Bcj8L1KNw5QGZmZmZmZvo/uB6F61E4K0CamZmZmdk6QK5H4XoUridAAAAAAAAA8D9SuB6F6zFRQHsUrkfhOlVASOF6FK5HD0BmZmZmZmYEQPYoXI/C9QxAmpmZmZmZJ0DhehSuR2EtQGZmZmZm5kNApHA9CtcDTECF61G4HmVUQNejcD0Kt0ZAcT0K16NwzT/D9Shcj4IzQI/C9Shcn1JA9ihcj8J1MEC4HoXrUbiuPzMzMzMzcztA4XoUrkfhFUAUrkfhepQ2QEjhehSuRxBAZmZmZmZmHEC4HoXrUbgEQHE9CtejkFBAFK5H4XqUK0CamZmZmRkiQK5H4XoUbjhA4XoUrkfhFECamZmZmZknQNejcD0K1/c/PQrXo3A9BkApXI/C9ag6QMP1KFyPAj5A4XoUrkchMECamZmZmZm5P3sUrkfhegBA9ihcj8JVUUAfhetRuB47QKRwPQrXowBA9ihcj8J1PUAUrkfhehQIQGZmZmZmZvI/w/UoXI+CMkCamZmZmZn1PwrXo3A9CglA4XoUrkfh9j/D9Shcj8LtPwrXo3A9CgVAj8L1KFyPF0C4HoXrUXg6QMP1KFyPwj1AzczMzMwsREB7FK5H4XoAQArXo3A9ChtAj8L1KFyPFkBmZmZmZmbyP3sUrkfh+iNA7FG4HoXr8T/2KFyPwvUbQAAAAAAA4ENAj8L1KFyP0j9I4XoUrschQOF6FK5H4RpACtejcD0K5z/2KFyPwvUMQAAAAAAAANA/9ihcj8LVRkD2KFyPwnUpQHE9CtejcAFAzczMzMzM+D/sUbgehevhPxSuR+F6VDZAexSuR+E6VkCF61G4HgVMQClcj8L1KLw/cT0K16Nw3T+amZmZmZnhP3E9CtejcB1AUrgeheuRPUAK16NwPQrHPz0K16NwPTdAMzMzMzMzGECamZmZmSlRQOxRuB6FazZAAAAAAAAwUEAK16NwPQq3P65H4XoUrvM/9ihcj8L14D+amZmZmZkPQOF6FK5H4RdAmpmZmZmZGEBxPQrXo3DxP65H4XoUrgFAXI/C9ShcFkAAAAAAAAAEQFyPwvUoXA1AFK5H4XoEU0Bcj8L1KBxQQAAAAAAAAERAFK5H4XoU3j/2KFyPwjVBQLgehetRuE9AmpmZmZmZ2T9xPQrXo3DNP9ejcD0KVyZA16NwPQpXSUBI4XoUrkcDQHsUrkfhepQ/9ihcj8L18D9mZmZmZqY3QClcj8L1KOw/7FG4HoXr6T9cj8L1KFz7PxSuR+F6FN4/AAAAAAAA+D9mZmZmZmYIQIXrUbgeheM/w/UoXI9CN0A9CtejcD0jQJqZmZmZGSxA7FG4HoXrEkDhehSuR2E8QM3MzMzMzPQ/H4XrUbge9T+amZmZmXlNQI/C9ShcjyZAAAAAAAAAHECF61G4HoUNQOxRuB6FKzpA4XoUrkdhOEDNzMzMzEwkQK5H4XoUru8/KVyPwvUoBECkcD0K1yMoQDMzMzMzMxFA9ihcj8L19D9cj8L1KFznP7gehetROEtApHA9CtcjPkApXI/C9SgdQKRwPQrXowxAexSuR+F6hD9mZmZmZlZSQHE9Ctej8D1ApHA9CtfjPECamZmZmZkvQFK4HoXrUfA/H4XrUbgeLkAzMzMzMzMrQAAAAAAAgDFASOF6FK5HD0B7FK5H4XrUP1K4HoXrEUVAPQrXo3BdTEBI4XoUrkcNQHE9CtejcCFAexSuR+E6MUBxPQrXo3D1Pz0K16Nw/TJAKVyPwvUo5D+4HoXrUbjmP+F6FK5H4SxAmpmZmZkZIkB7FK5H4fo8QNejcD0K1+M/zczMzMzM5D9xPQrXo3AaQJqZmZmZWUpAcT0K16OwMEAfhetRuB4QQM3MzMzMzCZApHA9CtcjIkAfhetRuB4dQEjhehSuR/k/SOF6FK5HH0CF61G4HgUrQAAAAAAAAPh/UrgehetR/D8zMzMzM4NWQM3MzMzMbExAFK5H4XpUO0ApXI/C9SjkPx+F61G4HkVAH4XrUbgeDUBxPQrXo/ApQMP1KFyPglhAzczMzMwsSUDhehSuR+HyP3sUrkfheghAcT0K16NwFEApXI/C9ShTQM3MzMzMzBZAKVyPwvWoJEA9CtejcD0iQLgehetRuAZAMzMzMzMzLUCF61G4HoUBQAAAAAAAAPh/AAAAAACgTED2KFyPwvUSQArXo3A9akhAj8L1KFwPMUA9CtejcD0CQHsUrkfh2k1AmpmZmZmZCUC4HoXrUbgCQHsUrkfherQ/H4XrUbieKEBI4XoUrkcUQBSuR+F6FDVASOF6FK5H8T9I4XoUrqdEQOxRuB6F67E/4XoUrkdBUUCF61G4HoX/P3sUrkfhepQ/exSuR+F6hD9cj8L1KFzvP65H4XoUrvc/16NwPQqXQEAAAAAAAADQPzMzMzMzE0FAj8L1KFyPDkDsUbgehes5QGZmZmZmZu4/MzMzMzMzEEAfhetRuB4XQOxRuB6FK0BAMzMzMzMzEkCkcD0K16M5QFK4HoXrUTdApHA9CtdjNkApXI/C9SggQB+F61G4XklAKVyPwvUoCkB7FK5H4foqQD0K16NwPSdAhetRuB6FAUDD9Shcj4JFQHE9CtejMF9AZmZmZmZmDkBI4XoUrkfxPylcj8L1qCNASOF6FK5HEED2KFyPwvUmQArXo3A9SjpA7FG4HoXr0T8AAAAAAKBBQFK4HoXrIVNAexSuR+F6xD9I4XoUrkcQQClcj8L1KOw/pHA9Ctej8D9cj8L1KFwqQB+F61G4HtU/FK5H4XoUJUAK16NwPQrzP4/C9ShcjyFAMzMzMzMz8z8zMzMzMzPjPwAAAAAAAPA/CtejcD36UECF61G4HoUQQMP1KFyPwjNACtejcD0KIkD2KFyPwrUzQK5H4XoUrv8/16NwPQqHUkBI4XoUrkciQFK4HoXr0TNASOF6FK6HUEAK16NwPQoBQFK4HoXrUfw/FK5H4XoUBEAUrkfhelQ4QAAAAAAAAB9ASOF6FK5HC0AzMzMzM9NRQPYoXI/C9fA/zczMzMzsQkDD9ShcjwJUQOxRuB6FazJAuB6F61G4nj9xPQrXo3AeQHsUrkfhegRAhetRuB6F+z/Xo3A9CtcaQHsUrkfhetQ/SOF6FK6HM0AzMzMzM7MlQM3MzMzMzPA/PQrXo3DdVEAAAAAAAAAXQHsUrkfheghAFK5H4Xr0REAzMzMzMzPzP7gehetRuOY/UrgehetR+D8fhetRuH5EQK5H4XoUrtc/7FG4HoXr0T+uR+F6FK7XP3sUrkfhmkFAAAAAAADYYUCamZmZmQlUQOxRuB6Fy09AAAAAAACAKUAAAAAAAMA1QDMzMzMzM1ZAFK5H4XoUJkCkcD0K16PQP+F6FK5H4f4/4XoUrkdhM0CPwvUoXI8iQM3MzMzMzBhA9ihcj8K1MEApXI/C9SgGQKRwPQrX4zxAAAAAAAAAHkCuR+F6FO4yQPYoXI/C9RtAmpmZmZmZI0A9CtejcD0KQM3MzMzMzB5AmpmZmZkZJUApXI/C9SjkP7gehetRuDdAFK5H4XqUMECPwvUoXI9QQArXo3A9GlJAUrgehetR9D+PwvUoXP9eQMP1KFyPwhxA7FG4HoXr+T8zMzMzMzMFQFyPwvUoXBJAw/UoXI/C8T8K16NwPQobQHE9CtejcP0/j8L1KFyP+j97FK5H4XofQFyPwvUo3CdAUrgehetRJkDsUbgehesgQHsUrkfh+ixAPQrXo3A9DEBcj8L1KIRgQIXrUbgehQlAH4XrUbieMUDsUbgehesHQK5H4XoUrgFAexSuR+F6H0B7FK5H4RJhQOF6FK5H4eo/MzMzMzNzMECPwvUoXI8GQB+F61G4vkVAcT0K16Nw8T/sUbgehatLQDMzMzMzMw9AKVyPwvUoN0DsUbgehWsjQK5H4XoU7jVArkfhehSuIEAAAAAAAEBXQD0K16NwPRtA16NwPQrXDUB7FK5H4XrsP1yPwvUoXBpAPQrXo3A9JEB7FK5H4bpQQFK4HoXrkUxAKVyPwvUo7D+F61G4HoXjP1yPwvUo3FlAcT0K16PwIEBcj8L1KHxCQKRwPQrXo9A/4XoUrkfhDkDXo3A9CtcSQPYoXI/CdUhAw/UoXI/CPUBmZmZmZmYCQJqZmZmZOUhAPQrXo3CNXUDsUbgehesLQOxRuB6F6wFAcT0K16Nw8T9I4XoUrkcLQPYoXI/C9dg/zczMzMzMEUA9CtejcL0jQFK4HoXrUcg/AAAAAADAOUCPwvUoXM9JQArXo3A9Crc/zczMzMzMKEDNzMzMzAxJQAAAAAAAAPw/uB6F61E4IEA9CtejcF1DQB+F61G4HtU/zczMzMzMMEA9CtejcF1JQFK4HoXrUS9A9ihcj8LVT0DNzMzMzIxFQOxRuB6F6yZAZmZmZmYmNEBI4XoUrscgQBSuR+F6RFNAw/UoXI8CNkD2KFyPwnVMQDMzMzMzsyRAAAAAAAAQVUApXI/C9SgcQClcj8L1SENAexSuR+FKUUDhehSuR2EzQK5H4XoUjk1AzczMzMxsVEDNzMzMzAw3QOF6FK5H4eo/16NwPQrXNUAK16NwPQr/PxSuR+F6FDRACtejcD2KMkApXI/C9SgEQFK4HoXrUSRAhetRuB4FO0CkcD0K16MnQNejcD0K1+M/XI/C9SicNUApXI/C9SgMQIXrUbgehQlA7FG4HoXrEECF61G4HoXjPzMzMzMzM+s/j8L1KFyP0j8K16NwPQoiQEjhehSuxzZAmpmZmZmZyT8zMzMzMzM2QBSuR+F6FExA9ihcj8L1BECuR+F6FK7/Px+F61G4HjRAKVyPwvXoTkCkcD0K16PQP1K4HoXrURJAMzMzMzMzwz8pXI/C9SgOQFyPwvUoXBlAw/UoXI/C/T9SuB6F6xFKQFyPwvUo7FJAw/UoXI/C+T8AAAAAAAD4f5qZmZmZmQFA16NwPQpXIEAAAAAAAOBFQClcj8L1KBFAhetRuB5lQUCkcD0K16PgP3E9Ctej8ClAAAAAAABAPED2KFyPwrU4QEjhehSuRyVAAAAAAADANEDhehSuR8FWQOF6FK5H4ShAcT0K16OwMEA9CtejcA1cQMP1KFyPwv0/SOF6FK7nU0DNzMzMzMzcP0jhehSuRxFAPQrXo3C9NECamZmZmZkNQEjhehSuN1RAPQrXo3B9MEBmZmZmZhZSQFK4HoXrcURACtejcD0Kxz+PwvUoXI8AQMP1KFyPAltAZmZmZmZmCEB7FK5H4SpSQMP1KFyPwvE/UrgehetR6D/Xo3A9CtcSQB+F61G4HhtAuB6F61HYYUD2KFyPwvXYPxSuR+F6lC9AhetRuB6FJ0A9CtejcP1JQHsUrkfhevw/zczMzMzMQ0C4HoXrUbj+P7gehetRuB1AFK5H4XqEWkDXo3A9CrdJQB+F61G4vkNA16NwPQrX9z+kcD0K16MpQK5H4XoU5mBApHA9CtcjKkAK16NwPQoNQOxRuB6FKzxAH4XrUbjeNEB7FK5H4XoIQPYoXI/ChV9A9ihcj8K1NUDhehSuR+HaPwrXo3A9ChJAKVyPwvUoGkAUrkfhepQlQNejcD0KZ1RAMzMzMzMzF0AfhetRuB7tP7gehetR6FRA9ihcj8I1N0D2KFyPwvUMQBSuR+F6FApAcT0K16NwEkDNzMzMzMwdQIXrUbgeFVNAAAAAAAAA+H8AAAAAAIAmQLgehetRuCFApHA9CtejH0D2KFyPwvUwQK5H4XoUrhRAUrgehetRAEDXo3A9CtdHQGZmZmZm5i5AcT0K16NwP0DD9Shcj8LFP3E9CtejcA9Aw/UoXI8CTEBcj8L1KFwvQJqZmZmZmdk/zczMzMxsT0CuR+F6FM5aQHsUrkfh+iJAPQrXo3CNVUCkcD0K16MgQClcj8L1KABAMzMzMzMz4z8UrkfhemRVQMP1KFyPwhRAMzMzMzOzIEDXo3A9CtcpQClcj8L1KLw/16NwPQoXOEAUrkfhehQoQPYoXI/C9V1ASOF6FK7HMEAK16NwPYogQLgehetRuBhAKVyPwvUo3D/NzMzMzAw1QHsUrkfhelFAcT0K16Nw+T8AAAAAAAD4f1yPwvUo3D5Aj8L1KFwPXkDNzMzMzMwUQFyPwvUoXN8/FK5H4XoU/j8fhetRuM5iQPYoXI/C9RFAXI/C9ShcJkCamZmZmZmpP7gehetRGEJA16NwPQqXWUApXI/C9SjMP9ejcD0K1z9AcT0K16NQQEBSuB6F69EqQLgehetReEtASOF6FK5nUkAUrkfhepQ+QHsUrkfheuw/4XoUrkfhRUAfhetRuJ4lQB+F61G4HhNAmpmZmZmZG0CamZmZmZnpP6RwPQrXo8A/7FG4HoXrA0AzMzMzMzNAQGZmZmZmZu4/uB6F61G4FECkcD0K18NaQB+F61G4PktAmpmZmZmZLkCPwvUoXI88QJqZmZmZGTlAFK5H4XoUIEAzMzMzM9toQD0K16NwXUFArkfhehSu8z8fhetRuB4mQClcj8L1KCVAmpmZmZmZ/T97FK5H4Xq0PwrXo3A9iixAexSuR+F6F0AAAAAAAADoPx+F61G4HhFAmpmZmZmZ+T9I4XoUrrdQQKRwPQrXM1JAexSuR+F67D8AAAAAAAAoQIXrUbgeRTtAFK5H4XoUP0AzMzMzMzMhQClcj8L1KLw/9ihcj8J1K0AzMzMzMzPzP+xRuB6FW2hAMzMzMzOzQUAUrkfhepQoQKRwPQrX4zJAzczMzMzMQECuR+F6FO5WQAAAAAAAAC1AXI/C9Shc3z+amZmZmZkPQJqZmZmZmSFAXI/C9Sg8ZUCF61G4HsUxQGZmZmZmZtY/7FG4HoXrHUA9CtejcP1AQDMzMzMzM+M/hetRuB6FCUBI4XoUrkcJQPYoXI/CtTdAuB6F61G48j8UrkfhemRQQD0K16NwPRxAhetRuB4FMEB7FK5H4dpUQClcj8L1KChArkfhehTuMUAK16NwPQofQD0K16NwFWZAUrgehetRPkA9CtejcB1AQHE9Ctej8DtAH4XrUbgeEEDD9ShcjwI0QFyPwvUo7FdA4XoUrkfhCEBxPQrXo3AYQAAAAAAAAOA/9ihcj8LVUUCPwvUoXI8hQEjhehSu50pAw/UoXI9CLkCF61G4HoVOQOxRuB6F6+E/ZmZmZmYmQUAAAAAAAAD4f8P1KFyPwhNAFK5H4Xp0RUA9CtejcD3aPx+F61G4HhVASOF6FK5HEUBxPQrXo1BHQOxRuB6F6wNAUrgehetRHEDD9Shcj8IrQD0K16NwPQBAw/UoXI/C1T8AAAAAAAAAADMzMzMzMwtAmpmZmZmZW0AfhetRuJ4yQOF6FK5H4co/zczMzMzMNkAK16NwPQoFQAAAAAAAACpAH4XrUbhePECkcD0K13NUQOF6FK5H4R1A4XoUrke5YECamZmZmZn5PxSuR+F61EdAj8L1KFyP6j9mZmZmZkZQQKRwPQrXE11AZmZmZmZmc0BI4XoUrtdQQPYoXI/C9RxAj8L1KFyPG0DD9Shcj8ISQDMzMzMzM/s/rkfhehSuIUBSuB6F6xE7QJqZmZmZGSBAXI/C9SjcKUB7FK5H4ZpUQFK4HoXrUS1ArkfhehTOT0BmZmZmZmYpQLgehetR+F9ASOF6FK5H0T9cj8L1KNwoQM3MzMzMzCFA9ihcj8L1AEAAAAAAAAAMQNejcD0Klz9AKVyPwvUoEkC4HoXrUbgMQBSuR+F6NFBAKVyPwvWoKUDNzMzMzMwjQBSuR+F6VF1AhetRuB6FLkCuR+F6FK4jQDMzMzMzMw1AMzMzMzMz6z/sUbgehWtBQOF6FK5H4fY/AAAAAACAIEA9CtejcD0GQOxRuB6FG1RAZmZmZmZmAEAfhetRuB7xP4XrUbgehfc/PQrXo3A9NECPwvUoXI/yP/YoXI/CdSNA4XoUrkeBU0BmZmZmZmbWPxSuR+F6FBBASOF6FK7HJkDNzMzMzKxBQK5H4XoUrlJA9ihcj8L18D+uR+F6FK4TQK5H4XoUri5AexSuR+H6O0DsUbgehZtQQNejcD0K1wNAmpmZmZmZGkCamZmZmdk5QMP1KFyPgjFA16NwPQo3RkAAAAAAAAAZQJqZmZmZ+WBAexSuR+F6FEBcj8L1KFwLQDMzMzMzM/M/XI/C9ShcDUCamZmZmZkbQBSuR+F6dENAexSuR+F6F0DhehSuR+HyP65H4XoUrg9AMzMzMzMTUEDsUbgehesXQMP1KFyPgj9ACtejcD0K5z8UrkfhehQaQArXo3A9Ctc/KVyPwvVoO0CamZmZmZkBQK5H4XoUrgFAZmZmZmZmMkAK16NwPQocQArXo3A9CglAH4XrUbgeGECuR+F6FK4RQDMzMzMzsyNAzczMzMzM/D/NzMzMzMzwP8P1KFyPwkZACtejcD0Ktz+PwvUoXI8IQLgehetRuDNAMzMzMzMzEkCamZmZmZnZP5qZmZmZmRRA9ihcj8I1OUBSuB6F69E/QBSuR+F6FBNAKVyPwvXoNECuR+F6FO40QNejcD0K1+M/ZmZmZmYGTECamZmZmZmpPzMzMzMzMxVACtejcD1KN0D2KFyPwhVOQKRwPQrXo8A/4XoUrkfhyj89CtejcD0sQOF6FK5H4S9AH4XrUbgeA0DhehSuR+HKP1yPwvUoHDtAw/UoXI/CEkDXo3A9Cpc0QPYoXI/CdTlA7FG4HoXr6T+kcD0K16MSQKRwPQrXowRApHA9CtdjNEBmZmZmZgZMQIXrUbgeRTVAAAAAAAAA6D8zMzMzM1NAQDMzMzMzszRAcT0K16PAUkC4HoXrUTgtQDMzMzMzMxFASOF6FK7HLUCkcD0K1yMpQEjhehSuRxdA9ihcj8J1IEAUrkfhepQkQFK4HoXrkVlAZmZmZmZmGEDsUbgehWs1QOxRuB6F6yNAhetRuB6F9z+F61G4HoX3P9ejcD0K90BAcT0K16PAUEC4HoXrUbieP7gehetROEZArkfhehSuA0CamZmZmdlDQFyPwvUoXD1APQrXo3C9KUC4HoXrUbi+P6RwPQrXo/Q/pHA9CteDRECF61G4HoXzP7gehetRuAJAw/UoXI/C1T/D9Shcj8IcQOF6FK5HYU1ApHA9Ctej6D8pXI/C9Sj4P5qZmZmZmRRAUrgehevRMkCuR+F6FC5BQOxRuB6FazBA7FG4HoVrTUBcj8L1KFz3P4/C9Shcjx1APQrXo3D9MEBI4XoUrkcgQPYoXI/CdVJA9ihcj8L1/D+uR+F6FK7zP6RwPQrXo/Q/cT0K16NwOkAAAAAAAAASQJqZmZmZmQtApHA9Ctej9D8pXI/C9SjwPxSuR+F6FP4/FK5H4XrUSkBxPQrXo3D1Px+F61G4Hu0/ZmZmZmZm8j89CtejcD0CQKRwPQrXo/g/7FG4HoXrB0CPwvUoXE9HQNejcD0K1+M/exSuR+F6AkB7FK5H4fosQNejcD0Kp11AAAAAAAAANkCkcD0K1wNJQM3MzMzMzOw/7FG4HoXrAUDsUbgehevBP6RwPQrXowhApHA9CteTUEBmZmZmZmYmQOxRuB6FKzhAw/UoXI/CIEBxPQrXo3DlPzMzMzMzsydA7FG4HoWLQkC4HoXrUbj6P5qZmZmZmak/UrgehevRK0CPwvUoXI8dQAAAAAAAIFJAXI/C9ShcFEAzMzMzMzMLQI/C9ShcX1FApHA9CtcjMEDXo3A9CtfzP1yPwvUoXBtAUrgeheuRMUDNzMzMzIxAQLgehetRuK4/rkfhehTuMEAUrkfhehTeP3sUrkfh+iBAKVyPwvUo8D/sUbgehWslQHsUrkfheg5AKVyPwvUoFUCPwvUoXI/2P65H4XoUbjJAKVyPwvWIQ0CuR+F6FK4BQKRwPQrXo9A/MzMzMzMz9z/hehSuR+EhQEjhehSuRxFApHA9Ctej+D+kcD0K16PAP4/C9ShcDy1AMzMzMzMz4z9I4XoUrscwQNejcD0K1xZAUrgehetRIkAK16NwPQr3P0jhehSuR/U/mpmZmZlZNUD2KFyPwvUIQGZmZmZmZixA9ihcj8L1IkCF61G4HgU1QAAAAAAAgElAuB6F61E4NkB7FK5H4XqEP+F6FK5H4SpAMzMzMzMz6z8pXI/C9bhWQKRwPQrXo/Q/uB6F61E4PUA9CtejcL0tQHE9CtejsDxA16NwPQq3TEBmZmZmZmb6P3sUrkfheuQ/MzMzMzMz/z/Xo3A9CtfTPzMzMzMzMxtAhetRuB5FVUCF61G4HuVCQM3MzMzMTCdAPQrXo3A96j9xPQrXo3D9P+xRuB6F+1FA4XoUrkfhAEDsUbgehWskQHsUrkfhehdAw/UoXI/C5T89CtejcP1YQNejcD0K1yJAPQrXo3B9SEBSuB6F61EAQI/C9ShcjxBAj8L1KFzPNkD2KFyPwnUtQOF6FK5HQUJAPQrXo3A9HEApXI/C9SgAQFK4HoXr4VNApHA9CtcDSUAfhetRuN5QQD0K16NwPdo/UrgeheuROUCuR+F6FK7XP1yPwvUoXBNAH4XrUbgeCUC4HoXrUXhFQEjhehSuxyNAexSuR+F6hD8pXI/C9aglQI/C9ShcjwBA4XoUrkdhRkA9CtejcH04QPYoXI/C9fA/FK5H4XoU3j+kcD0K16MjQPYoXI/CFVBASOF6FK5HDUAK16NwPQoBQNejcD0K1+s/H4XrUbgeAUC4HoXrUXg8QEjhehSuR/k/rkfhehSu9z8zMzMzMzMbQEjhehSuRzpAXI/C9Shc5z/D9Shcj8I5QAAAAAAAABJAUrgehetRHkD2KFyPwvXoPwrXo3A9KmZAXI/C9ShcG0D2KFyPwvUUQD0K16NwPfI/PQrXo3A92j+4HoXrUbhAQOF6FK5H4QRAuB6F61H4VEBxPQrXo9BKQMP1KFyPwtU/16NwPQoXMUA9CtejcD0VQEjhehSuBzFACtejcD0K7z9cj8L1KLxFQNejcD0K1xJAexSuR+F69D/sUbgehatAQOxRuB6F6w9A16NwPQrXB0CF61G4HgUoQLgehetR+DRAmpmZmZnZYEBcj8L1KLxEQMP1KFyPwjVA7FG4HoXrA0CamZmZmZn5Pylcj8L1KB5AKVyPwvUo5D8AAAAAAIAuQAAAAAAAAABAKVyPwvUoJkAUrkfhelQ2QK5H4XoUrhBAexSuR+F67D8AAAAAAADoPwAAAAAAABhAPQrXo3D9REBcj8L1KFz7P7gehetRWF5AAAAAAADAQUD2KFyPwnUnQI/C9Shcj9I/9ihcj8I1PEBmZmZmZmYkQClcj8L1KBlAcT0K16NwCUDhehSuR2E2QDMzMzMzMwFAmpmZmZmZ2T8zMzMzM9NSQOF6FK5H4eo/cT0K16MAUEAfhetRuO5RQAAAAAAAQDdA16NwPQrXJkDD9Shcj8L9P+F6FK5H4RJA16NwPQoXM0AfhetRuB4SQPYoXI/CNTRAAAAAAAAA8D+4HoXrUbgAQGZmZmZm5i9AH4XrUbge1T/2KFyPwvUCQB+F61G4vlVAZmZmZmZmAkApXI/C9SgAQBSuR+F6FAJACtejcD0Kxz9cj8L1KFxOQB+F61G4/lZA9ihcj8J1MUCF61G4HgUlQIXrUbgeBSVAXI/C9ShcMUAK16NwPQrzP/YoXI/C9QxA16NwPQqXRUCPwvUoXI8EQHsUrkfhelpAuB6F61E4W0CkcD0K16MKQI/C9ShcjxdACtejcD1KMUAUrkfheoRUQM3MzMzMzOw/4XoUrkfhF0BmZmZmZmbyPwAAAAAAABFAcT0K16NwzT8UrkfhehQ0QFyPwvUo3CNAKVyPwvUo3D8K16NwPQrnP4XrUbgepVRAPQrXo3A96j8fhetRuB7VP1yPwvUoXPM/16NwPQrXFkApXI/C9eg7QAAAAAAAAPg/j8L1KFwPOEB7FK5H4XoCQMP1KFyPwuU/KVyPwvUoKUAzMzMzM7MhQJqZmZmZmVdAKVyPwvUoEUCPwvUoXI/iP/YoXI/C9dg/SOF6FK5HI0BxPQrXo3BDQOF6FK5HIUJAH4XrUbgeIkApXI/C9SgVQJqZmZmZmRNAKVyPwvUoFEBxPQrXozAxQBSuR+F6FP4/rkfhehSuLUCuR+F6FK7/P4/C9ShcDzRAmpmZmZkZLkBxPQrXo3DtPwAAAAAAAOg/H4XrUbheRUAUrkfhehTmP9ejcD0K1+s/ZmZmZmaGYEBxPQrXo/BbQK5H4XoU3lVA7FG4HoXrEEBSuB6F61H4P3E9Ctej0F5AAAAAAADgQEBxPQrXo3AoQIXrUbgehQtAexSuR+F6pD8zMzMzMzPTPylcj8L1KBVAAAAAAADgREAzMzMzMzMPQEjhehSuBzRAmpmZmZkZS0CamZmZmflCQMP1KFyPwv0/H4XrUbg+XEBI4XoUrqdBQFK4HoXrUQhArkfhehQuTEBSuB6F69EkQClcj8L16DNAUrgeheuhUkBxPQrXo3AlQHE9CtejcP0/XI/C9SgcUEAfhetRuB4DQEjhehSuRyBA16NwPQrX0z97FK5H4XocQAAAAAAAQD1AhetRuB6FJUBcj8L1KFwDQBSuR+F6tGBArkfhehSu9z/Xo3A9CtcbQLgehetRuAJA7FG4HoXrHEDD9Shcj8ItQOF6FK5H4RNAMzMzMzPzMEDXo3A9CtfTP1yPwvUoVGFASOF6FK5H+T9xPQrXo3DxP2ZmZmZmZhFAUrgehetREUAK16NwPQogQNejcD0K1xJAAAAAAABgU0CamZmZmZkaQI/C9ShcD0pAXI/C9ShcHEBmZmZmZmYKQJqZmZmZGSJAexSuR+F6EkAAAAAAAGBAQAAAAAAAwFFAXI/C9SjcNEDNzMzMzMwTQOF6FK5HwU9AexSuR+H6IEDNzMzMzMwGQI/C9Shcj/o/CtejcD0Kxz+PwvUoXM8yQKRwPQrXIzBA7FG4HoWTb0DsUbgehev5P+xRuB6FKztA4XoUrkfhEkDNzMzMzKxAQHsUrkfhOjdAmpmZmZmpUEDhehSuR+EvQJqZmZmZmRhAzczMzMzM3D/sUbgehesHQHsUrkfheqQ/SOF6FK7nREBI4XoUrndRQHsUrkfhehBA7FG4HoWLTkB7FK5H4XqUP4/C9ShcTzxAUrgeheuxQEBI4XoUrsc7QNejcD0K1yxAKVyPwvW4VUBI4XoUrkcqQB+F61G4HgNAuB6F61H4O0ApXI/C9SjcP3E9CtejcN0/H4XrUbg+WEDNzMzMzIw0QB+F61G4jlRAPQrXo3A9E0AzMzMzM7MuQNejcD0K1/s/zczMzMzMBkC4HoXrUbg2QEjhehSuRw9AFK5H4XqUP0DNzMzMzIwyQClcj8L1KCNAexSuR+F6SUBSuB6F61EWQDMzMzMzszJAexSuR+F6SkCuR+F6FK4BQBSuR+F6FAZApHA9CtejKUBcj8L1KFw8QFyPwvUoZG9AexSuR+F6hD/2KFyPwvVMQD0K16NwPf4/4XoUrkehTECuR+F6FK7nP1K4HoXrUeA/ZmZmZmbmUEA9CtejcA1XQDMzMzMz80RAcT0K16PQWUBxPQrXoxBOQKRwPQrXIydA9ihcj8IFXUAK16NwPQoLQHsUrkfheiNA9ihcj8L1GECF61G4HvVRQEjhehSuR+E/zczMzMzM5D+F61G4HsU3QD0K16NwPfo/j8L1KFxPO0Bcj8L1KFz3PwrXo3A9iiZAAAAAAADAO0CkcD0K16P0P8P1KFyPwgdAPQrXo3C9PED2KFyPwvXoP8P1KFyPwhBA7FG4HoXr/T+kcD0K16MSQIXrUbgeBSdApHA9CtejH0BI4XoUrkcPQB+F61G4niVACtejcD0K+z9mZmZmZmbmPwrXo3A9CjBAcT0K16Nw5T+4HoXrUbgrQGZmZmZmZhNAexSuR+F6pD9xPQrXo3D9P3E9CtejcN0/cT0K16NwA0AK16NwPQr/PzMzMzMzk0tA16NwPQrXGEDhehSuR4FPQClcj8L1KOw/FK5H4XoUCkDhehSuR+HKP3E9CtejcPk/16NwPQonVUBSuB6F65FRQFK4HoXrkTRAKVyPwvUoIkBmZmZmZmYTQNejcD0KVydArkfhehQuKUBSuB6F61EbQJqZmZmZGTZAH4XrUbgeNEBSuB6F61ETQB+F61G4HgVAexSuR+F68D8UrkfhehQOQDMzMzMzM9M/AAAAAAAAHUCamZmZmZm5P2ZmZmZmpk9Aj8L1KFx3YEDhehSuR2E1QHE9CtejsDBAhetRuB7FOUDNzMzMzMz8PxSuR+F6lE5Aj8L1KFyP4j9SuB6F69EnQI/C9Shcb0FACtejcD0K9z9mZmZmZmZJQIXrUbgehRVAhetRuB5FOEAzMzMzMzM5QMP1KFyPYkFA9ihcj8L1IEDXo3A9CtcNQGZmZmZmZtY/exSuR+EKW0CPwvUoXI/SP4XrUbge5UdAuB6F61EYTUCamZmZmUlYQOxRuB6F67E/UrgehetR6D8AAAAAALBWQAAAAAAAAAZAPQrXo3C9MEA9CtejcD0vQLgehetRuCdAKVyPwvV4YUB7FK5H4TpBQKRwPQrXo8A/FK5H4XoUE0AK16NwPQq3Pylcj8L1KNw/cT0K16PwIkDsUbgehevRP1yPwvUofERAAAAAAADwVEBxPQrXo3D9PxSuR+F6FCxAXI/C9Shc3z+4HoXrUfgxQAAAAAAAAEBAZmZmZmZm1j+amZmZmZnJP5qZmZmZmSRAH4XrUbjeOUCF61G4HoUHQAAAAAAAAAhAPQrXo3A94j+F61G4HsU0QJqZmZmZeVlAH4XrUbgeFUCPwvUoXM83QMP1KFyPwhVApHA9CtejH0CamZmZmZnhPzMzMzMzM9M/hetRuB6FIEBSuB6F61H4P83MzMzMTDZA7FG4HoXr4T/Xo3A9ChdBQIXrUbgehes/uB6F61HYSEApXI/C9SjsP4/C9ShcD0NAw/UoXI/CFUAfhetRuB4SQPYoXI/C9fA/CtejcD0Kxz+PwvUoXI/+P+F6FK5H4fI/CtejcD0KFUBSuB6F61E4QKRwPQrXo/w/KVyPwvUo5D9xPQrXo3DxP+xRuB6F6x9AKVyPwvUoRkDsUbgehev1P3sUrkfhmkdAexSuR+FaTkBI4XoUrkf1P4XrUbgehSpAFK5H4Xo0S0Bcj8L1KFwHQM3MzMzMLEtAXI/C9SgcOkD2KFyPwjU5QI/C9Shcj+I/H4XrUbge1T+4HoXrUXg6QAAAAAAAAPh/ZmZmZmZm8j+kcD0K1yNKQM3MzMzMzOw/exSuR+HKVkCPwvUoXL9ZQEjhehSuR/E/mpmZmZkZQkAAAAAAAEA9QIXrUbgeBSJAH4XrUbhOWkAfhetRuB4NQD0K16NwPRRA4XoUrkdhS0CkcD0K17NQQOxRuB6F6+E/MzMzMzODWUDD9Shcj8LxPylcj8L1KBFAmpmZmZmZL0A9CtejcD0IQLgehetR2ENAAAAAAAAA4D/hehSuR+EwQAAAAAAAAApAKVyPwvUo+D+PwvUoXI8nQGZmZmZmZjFA4XoUrkfhIEAAAAAAAAAOQBSuR+F6FO4/16NwPQoXM0BI4XoUridEQK5H4XoUjlJAPQrXo3A9N0D2KFyPwvXgP83MzMzM9GBAFK5H4XokUECamZmZmZlAQFyPwvUo3EFAPQrXo3A9+j+amZmZmYlYQOxRuB6FKzRAAAAAAAAA+H/NzMzMzMzkPwAAAAAAAAhAZmZmZmZm+j9cj8L1KNwqQKRwPQrXA1ZAFK5H4XoUMEAUrkfhehT2P/YoXI/CVU9AH4XrUbgeAUBSuB6F65FQQOF6FK5HoTJASOF6FK5H/T97FK5H4XqEP1yPwvUoHDZA16NwPQp3QkCamZmZmblSQClcj8L1KLw/pHA9CtfjOEDNzMzMzMwzQNejcD0K1wFAuB6F61G4H0C4HoXrUTgyQM3MzMzMzNw/H4XrUbj+UkC4HoXrUbgUQKRwPQrXowBAMzMzMzMz4z+4HoXrUXgyQFyPwvUo3ENA16NwPQrX0z8fhetRuB48QArXo3A9iiFASOF6FK7nS0BI4XoUrkf9P4XrUbgehQ1AXI/C9Shc+z9xPQrXozBLQAAAAAAAAPh/uB6F61G4nj+4HoXrUbglQPYoXI/CZVNACtejcD3qRkAUrkfhetQ6QGZmZmZmZtY/mpmZmZlZPkBcj8L1KFzzP6RwPQrXIyhA7FG4HoXr9T8AAAAAAAD4f65H4XoUru8/AAAAAAAA+H8K16NwPepIQB+F61G4XjtAFK5H4XqUT0AfhetRuF4zQDMzMzMzM+M/CtejcD3qTUDhehSuR+H6P5qZmZmZmdk/PQrXo3A9+j/sUbgehespQHE9CtejcA1AKVyPwvUoDEA9CtejcD1FQOF6FK5H4f4/mpmZmZmZyT97FK5H4XqEP9ejcD0K1w1AzczMzMzMCkDhehSuR+EGQIXrUbgehSFAZmZmZmZmLkB7FK5H4XrwP+F6FK5HYShAXI/C9ShcSkD2KFyPwnVHQGZmZmZmZuY/exSuR+F69D9I4XoUrkfRP2ZmZmZm5i9AFK5H4XoUFUBcj8L1KFwyQJqZmZmZ+UFAZmZmZmZmEEDNzMzMzMzwPx+F61G4HhxAhetRuB4lXkBmZmZmZuYxQAAAAAAAgChAH4XrUbiuVED2KFyPwvXwPx+F61G4XkVAXI/C9ShcAUBI4XoUrocwQGZmZmZmpjpApHA9Ctej6D89CtejcD0EQMP1KFyPwsU/FK5H4XpUSEBI4XoUrkcQQGZmZmZmpjlA16NwPQp3SkCF61G4HuVEQIXrUbgeBSlAuB6F61HoW0AfhetRuB4RQKRwPQrXo/A/w/UoXI/CMUB7FK5H4XonQHE9CtejcBZAKVyPwvUoE0D2KFyPwnUjQIXrUbgexTVA9ihcj8L1GkBcj8L1KIxZQB+F61G4HtU/SOF6FK5HBUBI4XoUrkc/QI/C9ShczzxACtejcD0KHUAUrkfhehTuP4/C9Shcn1JAzczMzMysSUAfhetRuB5EQKRwPQrXox5AAAAAAAAAVkAAAAAAAMBFQD0K16Nw/T1AmpmZmZkJYEBSuB6F6xE/QOF6FK5HoTVAj8L1KFwPTUDhehSuR2EpQClcj8L1KEBAcT0K16OwM0AzMzMzMwNaQFyPwvUofEFAH4XrUbjeTkApXI/C9SjwPz0K16NwPeo/9ihcj8L1J0AfhetRuB7xP/YoXI/CNVZAzczMzMzM7D+kcD0K1yNAQD0K16NwPeI/9ihcj8I1M0DNzMzMzDRgQFK4HoXrUSlA7FG4HoUrQ0AzMzMzM8NlQKRwPQrXo9A/j8L1KFyPGkAAAAAAAEBUQHsUrkfheh1AH4XrUbj+Q0DNzMzMzMwSQJqZmZmZmf0/w/UoXI/CF0Bcj8L1KHxEQHE9CtejcEJAhetRuB6FEkCPwvUoXA8lQBSuR+F6FDRAexSuR+EaRUAzMzMzM3MyQAAAAAAAAPA/MzMzMzMzJkAUrkfhejRBQI/C9Shcj/o/KVyPwvUoMEDXo3A9CtcaQHsUrkfhegpAUrgehetR6D8UrkfhepQiQOF6FK5HoT5AZmZmZmZmFUD2KFyPwvUAQHE9CtejcPU/XI/C9Shc5z97FK5H4XoUQMP1KFyPwiFASOF6FK6nUkBmZmZmZiZAQIXrUbgehTFAexSuR+F6G0DhehSuR+HqPzMzMzMzMwNAFK5H4XpUPUApXI/C9SgvQIXrUbgehRhAexSuR+F6hD8zMzMzMzPrP8P1KFyPwhZAUrgeheuRR0D2KFyPwgVVQLgehetRuL4/KVyPwvUo5D9I4XoUroc0QArXo3A9Ctc/j8L1KFxfWUB7FK5H4YpXQMP1KFyPwkBAj8L1KFzPNEAUrkfhehQdQArXo3A9Crc/FK5H4XoUDEDsUbgehWtDQMP1KFyPwtU/9ihcj8JFUUCuR+F6FK4vQIXrUbgedVRAFK5H4XoU7j+PwvUoXM8wQMP1KFyPwuU/H4XrUbge1T+amZmZmZkhQDMzMzMzMwVAzczMzMzMSEA9CtejcD3qP3sUrkfhegRAH4XrUbgeGkBxPQrXo3ArQHsUrkfhevQ/SOF6FK5HEkBxPQrXo3A+QArXo3A9CjdAAAAAAAAA+H8AAAAAAAD4fwrXo3A9iiFArkfhehSu7z+uR+F6FC4oQGZmZmZmZghACtejcD3KS0AfhetRuB4YQFK4HoXrURlACtejcD0KC0DhehSuR+EdQClcj8L16DdAKVyPwvUo5D97FK5H4bo9QClcj8L1aD5AzczMzMzM7D/hehSuR+HiPxSuR+F6lCNACtejcD0KGEAfhetRuB7xP2ZmZmZmZvo/MzMzMzOzLECuR+F6FO5KQGZmZmZmxl5APQrXo3A9CkBxPQrXo5BDQM3MzMzMzAxAw/UoXI/CFUBcj8L1KLxCQLgehetRuPo/j8L1KFwPMUBSuB6F69EkQOxRuB6Fa05AmpmZmZmZ/T/sUbgehas2QNejcD0K1yNAFK5H4XoUKUAUrkfhehQUQD0K16NwvVhAuB6F61G4+j+4HoXrUTgtQOxRuB6Fi0lAw/UoXI9yV0B7FK5H4dpFQOxRuB6FO1BAmpmZmZmZqT8AAAAAAEBGQI/C9Shcj/Y/9ihcj8L1OUCamZmZmZkDQBSuR+F6FB1AUrgehetRK0DD9ShcjwIwQM3MzMzMzAZAPQrXo3A9EECF61G4HhVZQAAAAAAAABNAXI/C9Shc3z+F61G4HgUgQFyPwvUoXP8/PQrXo3C9IUBI4XoUrkf5P+xRuB6F6/0/AAAAAAAAHUCPwvUoXA8rQIXrUbgepVtAPQrXo3C9I0BxPQrXo6BRQD0K16NwPQJAMzMzMzMzHEAfhetRuB4aQK5H4XoUri9AH4XrUbgeFUCamZmZmZnpP2ZmZmZm5jRAcT0K16NwDUCPwvUoXI8YQPYoXI/C9dg/uB6F61G4UEDhehSuR+H2P4XrUbgehQtAMzMzMzOzQ0BxPQrXo3AsQAAAAAAAAFlAFK5H4XoUQEDsUbgehesnQD0K16Nw/UBAuB6F61GYTUBxPQrXo3ABQJqZmZmZmf0/pHA9CtejwD97FK5H4XrUPxSuR+F6FOY/PQrXo3D9O0CuR+F6FC42QAAAAAAAAPh/SOF6FK5HHkDD9Shcj9JlQMP1KFyPQidAuB6F61E4KkApXI/C9SjcP4/C9ShcjzdAw/UoXI/CEUAAAAAAAEAwQClcj8L1KCRA9ihcj8L19D+PwvUoXI8wQI/C9Shcj/I/SOF6FK7HIEAzMzMzMzMBQArXo3A9CkBAKVyPwvVgZUCamZmZmZnZP65H4XoUbjZAKVyPwvUo5D9cj8L1KNwuQArXo3A9CgVA4XoUrkehNECkcD0K16MOQB+F61G4HglA4XoUrkfhF0AAAAAAAAAmQOxRuB6FS0FASOF6FK5HNUApXI/C9SghQArXo3A9SjRA4XoUrkfhyj+kcD0K16PwP2ZmZmZm5jlAexSuR+H6P0DD9Shcj8IVQHsUrkfhepQ/16NwPQrnUEBSuB6F6xFKQOF6FK5HYVtAXI/C9SjcN0BmZmZmZmYYQOF6FK5H4f4/9ihcj8L1DEA9CtejcF1CQGZmZmZmZu4/zczMzMzMBEAAAAAAAAD8PwrXo3A9Cg1A9ihcj8L1JEC4HoXrUfhFQAAAAAAAAFxAH4XrUbieJEAfhetRuB7xP3E9CtejYG1APQrXo3A96j9I4XoUrhdUQI/C9Shcjx1ArkfhehSuDUCamZmZmRV2QKRwPQrXYzJA9ihcj8L1AECPwvUoXI8MQMP1KFyPwgdAj8L1KFyPIEDNzMzMzMwvQClcj8L1KDBAKVyPwvWoJUBcj8L1KFw/QDMzMzMzM+M/exSuR+H6IkCkcD0K19NbQFyPwvUo/EhAFK5H4XoU7j89CtejcB1DQHsUrkfh+i5Aj8L1KFyPKUAK16NwPQoVQK5H4XoUrhZAmpmZmZkZNUDXo3A9CtfTPylcj8L1KAZAzczMzMzMAkBxPQrXoxBXQI/C9ShcjxZAPQrXo3BdVkDhehSuR+EQQFK4HoXrURpACtejcD0KA0AAAAAAAAD4fwAAAAAAQE5ApHA9CtejF0BI4XoUrkcoQFK4HoXrUQhApHA9CtejCkC4HoXrUbgQQB+F61G4niVAj8L1KFw/V0Bcj8L1KExgQGZmZmZmZuY/KVyPwvUo7D8pXI/C9SjkPwrXo3A9qkNACtejcD0KPED2KFyPwvXYPylcj8L1KABA4XoUrkfhFEDNzMzMzMzwP/YoXI/C9SdAAAAAAACAMUDNzMzMzMwCQFyPwvUo3DxAexSuR+F6KUBmZmZmZsZFQEjhehSuRzdASOF6FK5HC0CF61G4HsU2QAAAAAAAQEtAcT0K16OwVkDXo3A9Chc2QDMzMzMzM0ZAuB6F61EYUUBSuB6F6xFDQArXo3A9CjJA7FG4HoXrNEBcj8L1KFwSQOF6FK5HwVFAj8L1KFyPBkBmZmZmZmbmPylcj8L1KARApHA9Ctej8D/2KFyPwvU8QClcj8L1KPw/FK5H4XoUCkCuR+F6FC4kQGZmZmZmdlpAKVyPwvWoREBmZmZmZmYmQMP1KFyPwhtA7FG4HoXr8T8UrkfhehQCQK5H4XoUrvc/PQrXo3A9E0AK16NwPXpkQClcj8L1KD9AexSuR+F6BkDsUbgehQtKQLgehetRmEdAmpmZmZlZTUAfhetRuJ4rQAAAAAAAAPh/16NwPQrX4z9I4XoUrkcRQPYoXI/CtUZArkfhehSuE0CamZmZmZkHQOxRuB6F6yhA9ihcj8L1PEDhehSuR+EIQD0K16NwPQRAj8L1KFy/U0AK16NwPUo0QHsUrkfhukBAZmZmZmZmBkDXo3A9CtfjPwAAAAAAYFFACtejcD3KOUCF61G4HoX/PxSuR+F61DNAMzMzMzOzOEC4HoXrUbjmP8P1KFyPwgFAH4XrUbgeFkDsUbgehesrQB+F61G4vk1AZmZmZmZmMUDD9Shcj8IxQFK4HoXrUSpAZmZmZmZmSEBcj8L1KFwiQPYoXI/CxVBAmpmZmZnZPUD2KFyPwvUbQIXrUbgehes/SOF6FK5HGkBcj8L1KFwDQMP1KFyPAkNAAAAAAAAAGEDsUbgehevRP9ejcD0K1/M/exSuR+EaRUC4HoXrUbiuP/YoXI/CdTNAj8L1KFzPN0AK16NwPQoUQB+F61G4HhJASOF6FK5H6T8UrkfhehQAQGZmZmZmJlFAFK5H4XoUF0AK16NwPYpCQM3MzMzMzOQ/MzMzMzNzPUDsUbgehesyQClcj8L1KOw/SOF6FK7HJUDNzMzMzMwGQBSuR+F6FOY/exSuR+H6LUA9CtejcD00QI/C9Shcj/I/exSuR+F6TEBcj8L1KFwaQIXrUbgehQFAFK5H4XpkZEDsUbgehWtKQPYoXI/C9eA/pHA9CtdTWkBmZmZmZtZSQAAAAAAAAPh/AAAAAADAMEAzMzMzM/M0QArXo3A9Crc/4XoUrkdhSkB7FK5H4XoCQKRwPQrXox9A7FG4HoXrHUCF61G4HoX7P+xRuB6FazdAw/UoXI8CTkAAAAAAAIA1QFyPwvUoHGNAhetRuB6FD0CPwvUoXI/SP1K4HoXrURRArkfhehQuLUAfhetRuB7VP+xRuB6F68E/j8L1KFyPCEB7FK5H4ZpBQM3MzMzMDDVACtejcD0KHUAzMzMzMzPDPx+F61G4nj1Aj8L1KFyP/j/sUbgehStKQIXrUbgehfs/AAAAAAAA+H97FK5H4XomQAAAAAAAABJAzczMzMz8U0BmZmZmZtZdQOF6FK5H4eI/MzMzMzOzN0A9CtejcD0AQAAAAAAAAPQ/MzMzMzMzMkBI4XoUrocxQJqZmZmZmQdASOF6FK5H6T9SuB6F65FHQLgehetRuBhAexSuR+F6lD9xPQrXo7AwQDMzMzMzMwNAAAAAAABAMUBmZmZmZmYsQNejcD0K1/c/ZmZmZmZmAEAfhetRuF4+QGZmZmZmZu4/hetRuB6FFUAAAAAAAAAUQBSuR+F6VEFAPQrXo3ANU0BxPQrXoxBQQPYoXI/C9dg/zczMzMzM3D+4HoXrUbgAQAAAAAAAgEpAexSuR+F68D/D9ShcjwIwQAAAAAAAgDVAhetRuB6FKkCPwvUoXI8bQK5H4XoUriVAUrgehesxQUDD9Shcj8LxP9ejcD0KN0lAzczMzMxMPUDXo3A9CtcnQB+F61G4HixAFK5H4XoUFUDXo3A9ClcnQBSuR+F6lDtA7FG4HoVrIkDsUbgehesBQHsUrkfhepQ/SOF6FK7HOUApXI/C9QBhQGZmZmZmZjhAhetRuB6F8z/sUbgehesjQM3MzMzMzBxA16NwPQrX6z8zMzMzMzMfQOF6FK5H4eI/7FG4HoXrEUCkcD0K16MoQKRwPQrXIyJAPQrXo3A9E0CamZmZmVkxQI/C9Shcj9I/CtejcD0KPEAfhetRuB4WQGZmZmZmxkVApHA9Ctej4D8pXI/C9Wg+QBSuR+F6FARAmpmZmZkZSkB7FK5H4XrEP6RwPQrXoxdAexSuR+F6TkD2KFyPwiVWQKRwPQrXw1lA9ihcj8I1MkAzMzMzMzMqQKRwPQrXoxlAAAAAAAAAG0DsUbgehStKQD0K16NwPdo/4XoUrkfhEUCuR+F6FG5AQM3MzMzMzOw/hetRuB6FDUBI4XoUrkfRP65H4XoUblFAUrgehetRDEAzMzMzMzMDQEjhehSup0RAZmZmZmZmMkAfhetRuF4yQFK4HoXrUShA16NwPQrXIkDNzMzMzMwKQOF6FK5HYTFAhetRuB7FNUBcj8L1KFznP7gehetRuL4/exSuR+H6PEBcj8L1KJw5QI/C9ShcjxZAZmZmZmZmAkAAAAAAAMA0QB+F61G4HvU/FK5H4XoUM0CPwvUoXI8lQKRwPQrXoxhAzczMzMzM5D89CtejcC1RQArXo3A9iitAMzMzMzOzQUC4HoXrUbgOQFK4HoXrkVVAXI/C9Shc9z8AAAAAAAAuQDMzMzMzI1FAXI/C9ShcC0DD9ShcjyJRQLgehetRuB1AH4XrUbh+RUAzMzMzMzPDP8P1KFyPwsU/AAAAAABAR0A9CtejcD0rQGZmZmZmllNAzczMzMzM8D8AAAAAAAAAQHsUrkfheoQ/FK5H4XoUAkDXo3A9CtcBQLgehetRuABAj8L1KFzPM0C4HoXrUbjmP1K4HoXrUcg/hetRuB41YUBI4XoUrscmQArXo3A9Cuc/j8L1KFyP6j97FK5H4XoEQLgehetRuK4/zczMzMzMSEBI4XoUrgc+QClcj8L1KCJAKVyPwvUo5D/2KFyPwvXoPxSuR+F6VDRASOF6FK5H0T/sUbgehesLQK5H4XoULk5AmpmZmZmZ9T8zMzMzMzMrQGZmZmZmZiRAKVyPwvUo7D97FK5H4XolQNejcD0K1/M/H4XrUbieIkCuR+F6FK4gQM3MzMzM/FdAFK5H4XoU/j97FK5H4XrEP+F6FK5HYSdAmpmZmZmZuT8AAAAAAIAmQAAAAAAAoEVAcT0K16PQSkCPwvUoXI8TQMP1KFyPok1AFK5H4XrUMUDXo3A9CrdOQK5H4XoUrgFAcT0K16NwMkDhehSuR+HKP6RwPQrXo+A/uB6F61G4nj/D9Shcj8IbQB+F61G4XjlAj8L1KFyP6j8zMzMzMzMVQPYoXI/C3WBACtejcD2qSEBSuB6F61EMQPYoXI/C9dg/H4XrUbgeQ0DsUbgehevhP1yPwvUoXPM/UrgehevRI0CuR+F6FK7zP3sUrkfhyntAFK5H4XrUOkBcj8L1KFzzPylcj8L1KDFAw/UoXI/CIECuR+F6FK73P1K4HoXrUdg/pHA9CtejGkB7FK5H4XrkPx+F61G4Hu0/uB6F61G4CkB7FK5H4bpBQHsUrkfhOkNA16NwPQrXSEAfhetRuB45QMP1KFyPwvk/KVyPwvVoMEBcj8L1KNwwQK5H4XoUrhxAUrgehesRO0BI4XoUrkcNQI/C9ShcDzdAj8L1KFyP0j+amZmZmZkXQD0K16NwPTJAj8L1KFyPVUBI4XoUrgczQIXrUbgePWBAXI/C9SjcKUAzMzMzMyNZQJqZmZmZOUdAH4XrUbiuV0CuR+F6FC5YQM3MzMzMzEhAexSuR+FKUED2KFyPwnUkQPYoXI/C9Q5Aj8L1KFwPN0DhehSuR2EjQGZmZmZmJjBA16NwPQrXVECF61G4HoUfQOF6FK5HQUhACtejcD1KVUAK16NwPQr7PwrXo3A9ChFA9ihcj8KVUEAAAAAAAADgP4XrUbgehTRAcT0K16NwzT+PwvUoXE84QDMzMzMzM8M/UrgehetRyD9mZmZmZuY0QHE9CtejsFhApHA9CteDQEAfhetRuB4RQGZmZmZmTmNAuB6F61HYSEDNzMzMzEwpQHE9CtejcN0/KVyPwvVoU0B7FK5H4XqUPzMzMzMzk0ZACtejcD1KO0BI4XoUrkcDQKRwPQrXo0NACtejcD0KF0B7FK5H4XrEP2ZmZmZmZgpA4XoUrkdhPEAK16NwPQosQB+F61G4HiBAzczMzMxMXUCamZmZmZm5P5qZmZmZ2U5AXI/C9ShcFUD2KFyPwnUrQAAAAAAAgCBAXI/C9SjcK0BxPQrXo2BYQAAAAAAAQDJArkfhehSu9z+4HoXrUbgnQFyPwvUoXPc/w/UoXI/CIUB7FK5H4XowQIXrUbgehRZA7FG4HoXrF0BSuB6F61HYP65H4XoUrtc/hetRuB6FH0BI4XoUrkcFQHE9CtejcBFA16NwPQq3RUAAAAAAAAD4fx+F61G4HiJA16NwPQrXN0BI4XoUrschQBSuR+F6FDpAZmZmZmY2VUBI4XoUrkcjQArXo3A9ChBAuB6F61H4NkAK16NwPQrnP4/C9ShcDzRAzczMzMzMKkB7FK5H4fJhQLgehetROEpA7FG4HoVrMEA9CtejcH00QOF6FK5H4StAcT0K16NwE0AzMzMzM7MjQHE9CtejcPE/16NwPQrXHUB7FK5H4XqkP1yPwvUoXBtASOF6FK5HKUDsUbgehesiQAAAAAAAABFAzczMzMzM8D+kcD0K16PoP+F6FK5H4R5Aj8L1KFyPNkB7FK5H4fojQI/C9ShcjwpASOF6FK5nRUAK16NwPQoTQK5H4XoUbjBApHA9Ctej6D8UrkfhehQpQMP1KFyPwu0/9ihcj8L18D97FK5H4XoAQEjhehSuRxZAPQrXo3BdQkBxPQrXo3APQB+F61G43jVA7FG4HoVrX0B7FK5H4Xr0PwrXo3A9yjhAexSuR+F6xD9mZmZmZgZfQHsUrkfheuw/AAAAAACAKEAUrkfhehT+P2ZmZmZmZuY/SOF6FK7nTEBmZmZmZmb+P+xRuB6F6xZAMzMzMzMzJED2KFyPwvUoQEjhehSuRyRAcT0K16NwK0BmZmZmZmYnQD0K16NwPRFAAAAAAAAA9D+amZmZmTlHQMP1KFyPwv0/w/UoXI8iQkBcj8L1KFwFQHE9CtejcBNApHA9CtcjKECkcD0K12M6QIXrUbgeRTZAKVyPwvUo5D8UrkfhehRSQBSuR+F6FC5AcT0K16NwEEBxPQrXo/BFQMP1KFyPwuU/PQrXo3A96j/NzMzMzMzsP65H4XoUrgNAw/UoXI/CN0BmZmZmZmYUQHE9CtejcPE/AAAAAAAA8D9I4XoUrkfRP9ejcD0Kp1tA9ihcj8L1K0CamZmZmZnpP+F6FK5H4fY/AAAAAACgQkCF61G4HoX/P4XrUbgehRtAKVyPwvUo5D+uR+F6FK4aQMP1KFyPwgtAzczMzMzM3D8zMzMzM3MzQDMzMzMzMwVA16NwPQrX4z+PwvUoXA8jQGZmZmZmfmdA9ihcj8LVTEAzMzMzMzPrP1K4HoXrUQ5Aj8L1KFwPM0AzMzMzMzM0QHE9CtejcBpAexSuR+F6G0DXo3A9CtcnQM3MzMzMzBJAZmZmZmbmIkD2KFyPwvXgPx+F61G4HvU/cT0K16NwLUB7FK5H4fotQBSuR+F6FAZAhetRuB6FF0ApXI/C9aguQBSuR+F6PGFAZmZmZmZmP0BI4XoUrkcaQNejcD0Kd0JAH4XrUbge/T8UrkfhepQqQFK4HoXrcURAKVyPwvUoEUApXI/C9SgUQHE9CtejcBVAKVyPwvWoKEAUrkfhepQsQMP1KFyPAjlAZmZmZmZmBkBSuB6F61HIPylcj8L1KNw/UrgehetR6D8AAAAAAAACQFyPwvUo3CJAexSuR+EaRkAfhetRuB7lP0jhehSud1RASOF6FK6nQUA9CtejcD36P0jhehSuxztAhetRuB7FUkBxPQrXo3D1P6RwPQrXo9A/16NwPQqXMECPwvUoXI/iPwAAAAAAgCNACtejcD0K7z8UrkfhetRZQFyPwvUonEhAw/UoXI/C1T9mZmZmZmZVQB+F61G4nihApHA9CtcjK0Bcj8L1KFwlQI/C9Shcf1ZAAAAAAACAKEApXI/C9ehGQEjhehSuRz1AzczMzMzM8D8zMzMzMzMFQHsUrkfhesQ/cT0K16NwH0C4HoXrUdhNQEjhehSuB09A9ihcj8JFUkDNzMzMzMzcP8P1KFyPMlVA9ihcj8KFUUApXI/C9UhBQBSuR+F6lDZA9ihcj8L14D/hehSuR+EfQAAAAAAAAOA/pHA9Ctej4D9xPQrXo3AnQAAAAAAAAPh/rkfhehSuE0DXo3A9CtfzP3E9CtejcN0/w/UoXI/iXED2KFyPwvXwP9ejcD0K1wVA7FG4HoXr8T/Xo3A9CndNQHE9CtejcM0/cT0K16NwQ0A9CtejcD0jQI/C9ShczzFAmpmZmZmZIUB7FK5H4XqUP+xRuB6Fy0pAZmZmZmYmSkBmZmZmZmYRQPYoXI/CNVFAmpmZmZmZ2T9SuB6F63FDQOxRuB6F6xdAXI/C9Shc3z/2KFyPwnUlQAAAAAAAABVA4XoUrkchO0A9CtejcN1EQHsUrkfhGkBAXI/C9SjcQ0AAAAAAAAAUQHsUrkfhepQ/FK5H4XoU5j/sUbgehesQQBSuR+F6FDRAexSuR+F6PUAK16NwPapAQDMzMzMzMxlAmpmZmZmZIUAAAAAAAFBdQDMzMzMzM+M/uB6F61G47j9xPQrXo3DNP+xRuB6F6xNAuB6F61G43j89CtejcO1SQOF6FK5H4fY/pHA9CtejJ0BSuB6F61E8QD0K16NwPQBAKVyPwvUoGECPwvUoXE8zQBSuR+F6NF1AcT0K16NwEUAzMzMzMzPjPxSuR+F6lDNAuB6F61G4IkAAAAAAAAD8P+xRuB6FW19A16NwPQrXHUAfhetRuB7xP6RwPQrXo0NAZmZmZmbmKUBSuB6F69E1QB+F61G4HhJAzczMzMzMNEAzMzMzM4NSQHsUrkfhehtApHA9CtejDkDD9Shcj8INQMP1KFyPQihA16NwPQrX4z/2KFyPwvURQHE9CtejcA1Aw/UoXI/CEkD2KFyPwhVMQD0K16NwPR1AexSuR+H6LkAfhetRuB7tP/YoXI/CpVNAKVyPwvUoAkBmZmZmZmYjQIXrUbgeBUdACtejcD1KQEAK16NwPQoSQD0K16Nw/TtAUrgeheuxW0CuR+F6FK4NQM3MzMzMLFRAH4XrUbj+TUDsUbgehStMQFyPwvUofElAhetRuB6FHUDXo3A9CtcXQOxRuB6F6/E/zczMzMzMAkCuR+F6FK4dQPYoXI/C9SpAH4XrUbge8T+amZmZmZnhP3E9CtejcAFAMzMzMzMzDUCF61G4HoX7P83MzMzMzPg/hetRuB7FRkDhehSuR+HyP5qZmZmZ2UtAw/UoXI/C+T8AAAAAAKBOQI/C9Shcj+o/cT0K16NwHEDXo3A9Clc/QMP1KFyPwgFAcT0K16Nw/T9SuB6F61EGQEjhehSuRy9AFK5H4XqUIkB7FK5H4Xq0Pz0K16NwXVNAcT0K16Nw9T/2KFyPwvUCQB+F61G4Hvk/SOF6FK5nR0C4HoXrUbi+Pylcj8L1KA5AAAAAAAAAHkAfhetRuF46QIXrUbgehWFA4XoUrkfhDkCkcD0K1yNUQDMzMzMzMxNAmpmZmZn5RUDNzMzMzMwAQOF6FK5HYVFAcT0K16NwGUCF61G4HoXjPz0K16NwPdo/7FG4HoUbUUApXI/C9eg2QAAAAAAAAApAUrgehetR/D/hehSuR+H2P83MzMzMzApAZmZmZmZm7j+PwvUoXI9JQAAAAAAAAAJAhetRuB5FQUCamZmZmRknQAAAAAAAwENAMzMzMzMzM0DsUbgehWsiQMP1KFyPemZAAAAAAAAA6D+4HoXrUXg6QBSuR+F6FC5APQrXo3C9N0AK16NwPRpdQJqZmZmZGTdAMzMzMzMzCUCPwvUoXI9RQIXrUbgehQdAj8L1KFw/V0D2KFyPwlVFQM3MzMzMzPA/XI/C9Sh8REB7FK5H4XoMQGZmZmZm5iZAj8L1KFxPSkDsUbgehesfQDMzMzMzMwtAj8L1KFxPMECF61G4HoUcQOF6FK5H4co/16NwPQrX0z8pXI/C9SjkPwrXo3A9mlpAH4XrUbge9T8K16NwPQrzP/YoXI/CdTlAhetRuB7FNkCuR+F6FK7XP6RwPQrXIyZAAAAAAABAPkAzMzMzMzMPQArXo3A9Crc/MzMzMzMz+z97FK5H4Xq0P+F6FK5HYSxAmpmZmZmZL0DNzMzMzKxDQK5H4XoUrjFAZmZmZmZmLUDD9Shcj8JMQI/C9Shcjx9Aw/UoXI/CIEAfhetRuB4PQArXo3A9Cuc/uB6F61E4KEDsUbgehevRPylcj8L1KARASOF6FK7HNUAfhetRuB4fQClcj8L1qCBAmpmZmZmZJECamZmZmZnhP+xRuB6F6/E/exSuR+H6KUCPwvUoXA9AQGZmZmZmZhtACtejcD0K/z8fhetRuJ5NQKRwPQrXowhAcT0K16OAU0CkcD0K16MTQB+F61G4PkNACtejcD3KMUApXI/C9SjcP4XrUbgelV9APQrXo3D9Q0D2KFyPwvXgPwAAAAAAANA/rkfhehSuBUCkcD0K16MQQMP1KFyPwglAPQrXo3C9PkDsUbgehesgQFK4HoXrUTFA4XoUrkfh6j8fhetRuN5CQM3MzMzMjEhApHA9CtcjLkAUrkfhehQMQIXrUbgeZUNAXI/C9ShcC0BmZmZmZkZHQNejcD0K1+s/exSuR+F6tD97FK5H4RpAQHsUrkfheoQ/j8L1KFwPW0AUrkfhetRIQClcj8L1KMw/7FG4HoWLSkAK16NwPYoiQJqZmZmZWVFAmpmZmZmZEkBI4XoUrkcJQDMzMzMzM+s/CtejcD0KG0Bcj8L1KFwNQArXo3A9Ctc/pHA9CtejwD8zMzMzMzPrP/YoXI/C9fg/XI/C9ShcKUB7FK5H4Xr8P4/C9ShcjzdACtejcD0K9z97FK5H4XofQOxRuB6F69E/zczMzMzMEEBmZmZmZmbWP+xRuB6Fay5Aw/UoXI/CCUDNzMzMzExIQAAAAAAAAPh/cT0K16OQRkAAAAAAAEAwQM3MzMzMzPw/XI/C9ShcIkCamZmZmZkWQClcj8L1KPA/zczMzMzM+D+4HoXrUbgQQPYoXI/C9QpAFK5H4XoU5j8K16NwPQosQFK4HoXrUS5AXI/C9Shc5z+4HoXrUfg8QNejcD0K1+M/uB6F61G4AEBSuB6F61E8QAAAAAAAAABAexSuR+G6QEAUrkfhehQEQEjhehSuxzhAcT0K16Nw9T/D9Shcj8IPQI/C9ShcDytA4XoUrkfhDkCamZmZmZkJQM3MzMzMzPw/FK5H4XoUDkBI4XoUrkfRPylcj8L1KOQ/KVyPwvVoNkDXo3A9ChcwQHsUrkfh+jBAFK5H4Xr0RECPwvUoXI/yP/YoXI/C9dg/uB6F61E4NEApXI/C9Sj0P8P1KFyPwkRAhetRuB4lUUAK16NwPUpPQMP1KFyPwgFAuB6F61E4OkDsUbgehSsxQPYoXI/C9VRAw/UoXI9CJUApXI/C9SgMQFK4HoXrURNAAAAAAAAA/D/Xo3A9CtcRQD0K16NwPTtAw/UoXI/CI0AzMzMzMzMNQGZmZmZmZvI/pHA9CtcjL0A9CtejcLVwQAAAAAAAAC5AexSuR+F67D8UrkfhepQoQClcj8L1KLw/PQrXo3CtXECPwvUoXP9WQClcj8L1aExA4XoUrkfh+j8UrkfhehQjQI/C9ShcT1tA16NwPQrXMEB7FK5H4QJhQOF6FK5HoTRAKVyPwvUoHkBmZmZmZmYbQFyPwvUoXPc/exSuR+F69D+amZmZmZnZP1yPwvUoXPs/hetRuB6F/z+F61G4HuVHQLgehetROCtApHA9CtejEEDsUbgehevBP4XrUbgedVFAFK5H4XoUEEDhehSuR2EqQArXo3A9CgFAZmZmZmZm1j+4HoXrUbi+P1K4HoXrUSFA9ihcj8L16D+F61G4HqVEQLgehetRuOY/cT0K16Nw9T/NzMzMzMwVQHsUrkfh+iJAPQrXo3A94j+uR+F6FE5cQClcj8L1KDpAj8L1KFyP6j8pXI/C9SgpQOF6FK5H4ShAH4XrUbge1T/NzMzMzMz4PzMzMzMzsyNApHA9CtdjQECPwvUoXI8iQMP1KFyPQi5ApHA9Cte7a0DhehSuR+EGQHE9CtejcM0/AAAAAAAAEkBcj8L1KDxEQBSuR+F6FAZApHA9Ctej0D/Xo3A9CtcQQB+F61G4HvE/4XoUrkeBQ0CkcD0K16NHQOF6FK5H4fI/9ihcj8KFVEB7FK5H4RpJQD0K16Nw/TlA16NwPQrXQ0AfhetRuJ4qQHsUrkfhegpAw/UoXI/CAUCF61G4HsUzQGZmZmZmBkpAAAAAAACAOkCkcD0K10tgQDMzMzMzsylAH4XrUbgeKEBcj8L1KBwxQArXo3A9CihAMzMzMzMzRkC4HoXrUbgcQJqZmZmZmek/mpmZmZn5REBI4XoUrkcxQLgehetRuCJAXI/C9Shc7z+amZmZmZkJQHsUrkfheqQ/UrgehetRJ0BI4XoUrkcBQK5H4XoUrlBAexSuR+F6VkDhehSuR+HaP1yPwvUonE5AH4XrUbieMECamZmZmeliQGZmZmZmZtY/SOF6FK5HGUApXI/C9SgMQDMzMzMz8zhAAAAAAAAA9D8pXI/C9ShaQBSuR+F6FDRAKVyPwvVoXEDD9Shcj2JGQOxRuB6F6yxAPQrXo3A9MUCF61G4HgVAQB+F61G4nj1ApHA9CtejEECF61G4HoUFQLgehetRuL4/j8L1KFyP4j9SuB6F61HIP1K4HoXrUdg/uB6F61G4nj9mZmZmZmYfQB+F61G4HvE/XI/C9ShcK0D2KFyPwvXwPzMzMzMzMwNApHA9CtejHUDD9ShcjyJUQPYoXI/C9fg/w/UoXI/C+T+amZmZmdkzQHE9CtejkEhArkfhehTOTkB7FK5H4bo6QK5H4XoUrjFAuB6F61G49j9mZmZmZiZEQBSuR+F6FApA9ihcj8L1BEDXo3A9Ctf3P+xRuB6F6xdAFK5H4XoU9j8fhetRuB4HQD0K16NwPeo/cT0K16NwMkBmZmZmZmYSQKRwPQrXo+A/FK5H4XoUAEBxPQrXo3AkQOF6FK5HYSxAZmZmZmZmF0BSuB6F65E6QK5H4XoU7jZAuB6F61G4EECF61G4HoUhQKRwPQrXo/Q/4XoUrkfhyj+PwvUoXI8EQHsUrkfh+j5AFK5H4XrUNkCkcD0K16MTQDMzMzMzMz9ASOF6FK5H/T9SuB6F6/FaQDMzMzMzsyVAcT0K16PwIEBI4XoUrgc7QIXrUbgeDWBAXI/C9ShcFkA9CtejcD0SQK5H4XoUrvM/AAAAAAAA+H8fhetRuB4PQDMzMzMzM/c/rkfhehSu5z/sUbgehev9P5qZmZmZmQdASOF6FK7HI0BI4XoUrkf5P/YoXI/C9fA/UrgehetRyD8pXI/C9YhSQEjhehSuJ0NArkfhehSuCUBSuB6F61H4P83MzMzMzBZAexSuR+G6QUDhehSuRyEyQFyPwvUonDpAw/UoXI/CE0AUrkfhelQ6QHsUrkfheuw/FK5H4XoUS0AAAAAAAABQQIXrUbgeBUZAUrgeheuRSUAAAAAAAAAmQHE9CtejcAdA16NwPQrX+z/sUbgeheuxP0jhehSuxzNAAAAAAAAA+H+PwvUoXI8aQHE9CtejcA1AKVyPwvWoOECPwvUoXI/qP6RwPQrXYzVAuB6F61H4PkBSuB6F61ljQMP1KFyPwipAw/UoXI/CNEBI4XoUrkcFQK5H4XoUjkZAPQrXo3A9H0C4HoXrUbgGQDMzMzMzMw1ApHA9CtcjLEBcj8L1KDxXQBSuR+F6FBFAexSuR+H6R0AAAAAAAAAGQIXrUbgehds/PQrXo3A98j97FK5H4fonQHsUrkfheilAKVyPwvUozD+amZmZmZkNQHE9CtejcBBA7FG4HoXr4T8pXI/C9SgCQFyPwvUoXPs/XI/C9ShcPUApXI/C9SjMP+F6FK5HwUJApHA9Ctej4D+kcD0K14NRQArXo3A9Cu8/w/UoXI/CJECF61G4HoUZQD0K16NwPQpAXI/C9SjcN0C4HoXrUbgMQAAAAAAAYEtApHA9Ctej/D/Xo3A9CtcDQJqZmZmZWUNAKVyPwvUozD9SuB6F61ECQFK4HoXrUQhAexSuR+GqZkCkcD0K14NMQEjhehSuR/E/hetRuB4FI0Bcj8L1KFwBQOF6FK5H4U5A7FG4HoXr9T+F61G4HoUnQFK4HoXrURNAj8L1KFzPM0BI4XoUrkf9PwrXo3A9ChpArkfhehSOQEAUrkfhehQmQHsUrkfhepQ/CtejcD2KMkC4HoXrUXg3QOxRuB6FayZAMzMzMzMzGkBxPQrXo8BVQK5H4XoUrtc/cT0K16MQR0DhehSuRyE6QFK4HoXrUQJA7FG4HoXrOEA9CtejcD0aQPYoXI/C9dg/rkfhehSu8z+F61G4HoUFQBSuR+F6dEdAcT0K16NQRUBcj8L1KFz/PwAAAAAAAOA/zczMzMzMEUApXI/C9aggQPYoXI/CNTpAw/UoXI/CEkBI4XoUrscmQK5H4XoULjVAj8L1KFyPUEA9CtejcD0UQOF6FK5HEVdAcT0K16MQSEDD9Shcj8IfQAAAAAAAAPh/rkfhehSeUEDNzMzMzFxZQK5H4XoUriVAhetRuB6F2z/D9Shcj8IxQAAAAAAA4FBAZmZmZmYmOEC4HoXrUbjmP7gehetRuN4/w/UoXI9CN0B7FK5H4dpGQPYoXI/CdSRAmpmZmZlZQkD2KFyPwnUiQClcj8L1aDtAZmZmZmbmNEDNzMzMzMzwPzMzMzMzMytA7FG4HoXrMEDhehSuR+HaP83MzMzMTDtApHA9CtejDEDXo3A9CtcJQKRwPQrXE1JAUrgeheuRO0BxPQrXoxBAQOF6FK5H4co/j8L1KFyP8j/2KFyPwrVBQDMzMzMzszZAPQrXo3A9+j8fhetRuB75P65H4XoULlBAZmZmZmZm5j+amZmZmZn1P7gehetROEVAuB6F61G4GUCPwvUoXI/SP65H4XoUrv8/16NwPQpXIUDXo3A9CpdKQK5H4XoUrvM/pHA9Ctej0D8zMzMzMzMlQIXrUbgehfs/9ihcj8L1N0DD9Shcj8IrQD0K16NwPeI/PQrXo3A98j9xPQrXo3A7QB+F61G4HhpAH4XrUbgeDUD2KFyPwvUEQHE9CtejcPE/4XoUrkdBREDhehSuR+EAQLgehetR6GVArkfhehSuOUAAAAAAAAAMQD0K16NwPfI/UrgeheshU0CPwvUoXI/qPzMzMzMz8z9AFK5H4XqUQ0BmZmZmZmb2P5qZmZmZmbk/H4XrUbg+ZECamZmZmZnJP/YoXI/C9QJAexSuR+H6KUBmZmZmZhZXQLgehetRuENA9ihcj8L1O0ApXI/C9SgOQFK4HoXrUcg/16NwPQpXP0DD9Shcj+JOQAAAAAAAAPh/XI/C9SgcNEBxPQrXoxBJQClcj8L1qDhAUrgehetR/D8zMzMzMzMDQPYoXI/C9fw/pHA9CtejK0Bcj8L1KBw1QHsUrkfhegBAUrgehevRIEBSuB6F61EtQHE9CtejcO0/CtejcD0K8z/sUbgehescQKRwPQrXowxAexSuR+H6R0AfhetRuB7tPylcj8L1KNw/MzMzMzMz+z8fhetRuB4aQB+F61G4HvE/mpmZmZmZAUDhehSuR+EQQFK4HoXrUQpAFK5H4XoUQkD2KFyPwvVFQHsUrkfhevg/H4XrUbge8T+kcD0K16M3QLgehetRuP4/w/UoXI9CIUBmZmZmZuYsQK5H4XoUrhRArkfhehTuMkBSuB6F61EOQI/C9Shcjy5AuB6F61G43j97FK5H4XrUP1K4HoXrURlAexSuR+F69D8zMzMzMzPTP+xRuB6F6xJA7FG4HoXrR0C4HoXrUfhFQPYoXI/CtUlAFK5H4XoUMEB7FK5H4XoCQM3MzMzMDDFAH4XrUbge7T+amZmZmWlZQHsUrkfheiZA16NwPQrHXEDXo3A9CodSQNejcD0K1yhAXI/C9ShcFkBSuB6F61H8P2ZmZmZm5jBAPQrXo3A9DECF61G4HoUdQHsUrkfheiBAzczMzMzMEkDD9Shcj8LFPwrXo3A9SjRAFK5H4XoU+j9SuB6F69EvQLgehetROCdAw/UoXI/CR0CPwvUoXI/qPz0K16NwfTRACtejcD0KFkAAAAAAAIAvQHE9Ctej8CpAFK5H4XoUEkCPwvUoXI8VQIXrUbgehes/zczMzMzMEkCPwvUoXI/iP4XrUbgeFV5AMzMzMzMzH0AAAAAAAEA1QNejcD0Kt0BAj8L1KFzPPUA9CtejcD08QK5H4XoUrvM/w/UoXI/C9T8fhetRuB7VP2ZmZmZmhkRA9ihcj8K1REA9CtejcG1XQFyPwvUoXANAcT0K16Nw3T8AAAAAAMBHQKRwPQrXoxlA4XoUrkfhyj+F61G4HgUoQFyPwvUorFRA7FG4HoXrCUCkcD0K16MlQDMzMzMzk0lAXI/C9ShcEkCuR+F6FK48QD0K16NwvSRA9ihcj8L1AEDNzMzMzLxeQD0K16NwfTFACtejcD0KHUA9CtejcD0EQAAAAAAAABNA7FG4HoXr4T+PwvUoXE9fQFK4HoXrkTVASOF6FK53VED2KFyPwrVGQIXrUbgehR1AhetRuB6FFkCPwvUoXI9QQFK4HoXrUfQ/UrgehesRMEDhehSuR+HqP/YoXI/CtTdASOF6FK5H9T8K16NwPQoWQOF6FK5HwUhAUrgehetR+D+PwvUoXI8hQClcj8L1qFZAzczMzMzM8D9mZmZmZmYOQLgehetR2EtApHA9CtdDSUAzMzMzM7MuQM3MzMzM7FZAmpmZmZmZ9T89CtejcO1QQOF6FK5HYTtAw/UoXI/CxT9SuB6F61EAQLgehetRmFVApHA9CtdjU0AUrkfhejRPQLgehetRuARACtejcD2qTUDhehSuR+EOQOF6FK5HYTJAH4XrUbieL0B7FK5H4XrEP7gehetRuBJAw/UoXI/COEA9CtejcD0WQHsUrkfhulRAMzMzMzMzEEApXI/C9SgOQNejcD0KVyBAzczMzMzMJkCamZmZmYFqQHE9CtejcM0/uB6F61G4rj+PwvUoXI/iP7gehetRuN4/KVyPwvWoNECamZmZmZkLQClcj8L1SGFAcT0K16NwGUCPwvUoXI/SP/YoXI/CdSBAKVyPwvUoKECuR+F6FK7nP7gehetRuBFAKVyPwvUo8D9mZmZmZmYVQArXo3A9ii9AzczMzMzMEEApXI/C9ehCQI/C9Shczz1AuB6F61G4FEA9CtejcJ1AQD0K16NwHU5AhetRuB6F2z+kcD0K16MMQD0K16NwPfY/ZmZmZmZmJEBxPQrXo3A4QOxRuB6Fqz9AH4XrUbgeD0BI4XoUrkfRP83MzMzMTCZA7FG4HoXrwT9SuB6F65FAQD0K16NwPRtAmpmZmZmZqT/D9Shcj8L1Px+F61G4Hvk/hetRuB6FGkAzMzMzMzMXQOxRuB6F6+E/MzMzMzMzG0AzMzMzM8NeQD0K16NwHUNAzczMzMwEc0CuR+F6FC4gQClcj8L1KARAKVyPwvWoT0AK16NwPdpSQHE9CtejcBdAH4XrUbjeMECamZmZmZnZP1yPwvUojFdAexSuR+G6PkDNzMzMzMz0PwrXo3A9ChFAMzMzMzOTQUAK16NwPQr/P4XrUbgehQtAAAAAAAAAHEAAAAAAAAAMQHsUrkfhehhAKVyPwvUovD8K16NwPQpJQFyPwvUoXO8/exSuR+F61D/Xo3A9CtcUQFyPwvUo/FBAuB6F61G4JEBmZmZmZoZWQAAAAAAAABdAzczMzMzM5D89CtejcD0bQHsUrkfheh5AKVyPwvUoFEDXo3A9CodUQJqZmZmZmSxAKVyPwvUoIECuR+F6FK4FQArXo3A9CvM/j8L1KFwPM0ApXI/C9aghQBSuR+F6lCtAAAAAAAAACkBxPQrXo/AmQIXrUbgeBSJA7FG4HoXrsT/NzMzMzIwyQHE9CtejcBBA16NwPQpXKECamZmZmZmpP0jhehSuRzJAXI/C9ShcF0C4HoXrUbggQEjhehSuh0FAXI/C9ShcR0ApXI/C9agqQOF6FK5H4eo/FK5H4XrcYEAAAAAAAIA2QAAAAAAAgCxAH4XrUbjeQEBmZmZmZjZnQClcj8L1qD9AUrgeheuxSUB7FK5H4TpLQArXo3A9Cvs/zczMzMzM/D/D9Shcj0IiQOF6FK5H4do/PQrXo3BNU0AfhetRuB7lP7gehetRuB5AexSuR+F6hD8K16NwPapkQJqZmZmZmak/exSuR+F6BEC4HoXrUbgCQClcj8L1KBlAMzMzMzMz/z9I4XoUridUQD0K16Nw3VhAhetRuB4FQEAzMzMzM7MiQI/C9ShcjxJA9ihcj8L16D97FK5H4XojQHsUrkfhepQ/4XoUrkfh4j8AAAAAAKBRQBSuR+F6FBhAexSuR+E6PECF61G4HmVEQI/C9ShcjwhA16NwPQrX4z+4HoXrUfhNQBSuR+F6NFpAAAAAAAAAQkDXo3A9CtccQJqZmZmZ2TxAexSuR+F6I0AUrkfhehQCQEjhehSuxypAAAAAAAAADEDXo3A9CtfzPwAAAAAAIENAH4XrUbgOX0DD9Shcj8LFP1yPwvUo3CxAH4XrUbge9T/2KFyPwpVFQOxRuB6FazVAFK5H4XqUK0AzMzMzMzMVQFyPwvUoXBNAXI/C9ShcCUBSuB6F69FDQPYoXI/C9TxA7FG4HoULQkD2KFyPwrU+QK5H4XoUrgdAXI/C9ShcCUCkcD0K16MiQClcj8L1yExA9ihcj8L19D97FK5H4bo7QOxRuB6FazFApHA9CtcjXECuR+F6FK4SQHsUrkfhevA/7FG4HoXrsT/2KFyPwnUgQIXrUbgeJVNApHA9CteDSEApXI/C9QhBQHsUrkfheuw/rkfhehQuIkDXo3A9Cpc0QIXrUbgexV9AUrgeheuhUEDD9Shcj7JQQClcj8L1KNw/cT0K16PwI0DD9Shcj8IZQDMzMzMzM+M/CtejcD0K9z/NzMzMzIw6QAAAAAAAACRAexSuR+F6lD97FK5H4fogQGZmZmZmZhtAAAAAAAAA8D/Xo3A9CtcmQPYoXI/C9eg/CtejcD0KAUCuR+F6FK77P+xRuB6F6xNAUrgeheuRNEBSuB6F61H4PwrXo3A9Ci1A4XoUrkdhIkBSuB6F61HgP/YoXI/C9fQ/SOF6FK6XVkDD9Shcj8IFQClcj8L1aExA4XoUrkfhPkDhehSuR+H2PxSuR+F6FABApHA9CtejGUDNzMzMzKxAQLgehetRuJ4/SOF6FK7HIkDD9Shcj8IZQHsUrkfhujVA9ihcj8J1K0DNzMzMzMzcP8P1KFyPokJAUrgehevRMkAzMzMzMzMaQKRwPQrXoxJA9ihcj8J1JUB7FK5H4Xr0P83MzMzMzB1AMzMzMzMzKkCuR+F6FC4kQHE9Ctej8FRAhetRuB4FJUApXI/C9bhmQLgehetRuK4/hetRuB7FR0CamZmZmZkiQBSuR+F6FN4/mpmZmZmZyT9SuB6F60FWQFyPwvUo3CBAuB6F61G4nj+kcD0K12dxQArXo3A9ij9AZmZmZmbmRUCPwvUoXA8iQArXo3A9ChZApHA9CtejLkBcj8L1KNwmQM3MzMzMzAZAKVyPwvUoFED2KFyPwvXoPylcj8L1KNw/cT0K16MwPEDhehSuR+HKPxSuR+F6VDZA7FG4HoWrSEC4HoXrUVhjQAAAAAAAoERAXI/C9Shc8z+kcD0K16M8QIXrUbgehR5APQrXo3A9+j89CtejcH1KQLgehetRuARA4XoUrkehO0DhehSuR+EdQD0K16NwnVdAcT0K16MgVEAK16NwPQrHPzMzMzMzMxtA16NwPQrX+z8pXI/C9SgfQHsUrkfhevg/XI/C9ShcA0Bcj8L1KFz7P+xRuB6Fi0hAuB6F61E4MUDXo3A9CtcJQI/C9Shcj+o/16NwPQrX4z/NzMzMzMwTQFK4HoXrEUJArkfhehQuKUBmZmZmZo5nQB+F61G4HtU/CtejcD2qR0BI4XoUrkcTQFyPwvUoXBxAexSuR+F6U0AAAAAAAAAIQKRwPQrXoxxAMzMzMzMzHEDXo3A9ClcsQFyPwvUo3DtA16NwPQrX6z/2KFyPwnUhQKRwPQrXIyJA4XoUrkfhFkAfhetRuF4wQOF6FK5H4f4/FK5H4XoUBkAUrkfhehQSQFK4HoXrUcg/CtejcD1KMUAzMzMzM7NIQOF6FK5H4RFAUrgehetRFECamZmZmQlUQK5H4XoUrhFA9ihcj8LlVEBxPQrXo3D5P83MzMzMDEdAUrgehetR8D97FK5H4XovQHsUrkfheilAcT0K16PwUECkcD0K1yM0QEjhehSuR/0/uB6F61G4DkCF61G4HoVFQEjhehSuR9E/7FG4HoXrE0AAAAAAAEAyQKRwPQrXo8A/zczMzMzsVUBSuB6F61HoP65H4XoUrtc/uB6F61G4IUCamZmZmZnhP83MzMzMzOQ/H4XrUbge9T8fhetRuO5VQPYoXI/CNUhAuB6F61G4nj8zMzMzMzMoQK5H4XoUrj1APQrXo3A9+j8zMzMzM3MwQOF6FK5HITdAAAAAAAAAGkBcj8L1KFwXQK5H4XoUrhpASOF6FK5HIEAK16NwPdpQQLgehetRuP4/j8L1KFyP8j8K16NwPepdQI/C9ShcjwRAj8L1KFxPPUAUrkfhepRKQClcj8L1KPQ/zczMzMzsXkCuR+F6FK4SQBSuR+F61FNA7FG4HoXrM0DsUbgehevhPwrXo3A9iiFAcT0K16NwA0BSuB6F61H4P65H4XoUrkRAj8L1KFwPJUBSuB6F66FTQFK4HoXrUQJAzczMzMzMCkAK16NwPQrvPwrXo3A9CgNAMzMzMzPTSkAUrkfhesRQQB+F61G4nidAKVyPwvUo5D/hehSuR0FEQLgehetRuM4/rkfhehSu5z9xPQrXo3ARQHsUrkfheiFAexSuR+HaTkDD9Shcj8IJQArXo3A9Cu8/j8L1KFyPAEDD9Shcj4JTQMP1KFyPwvE/uB6F61G4O0BSuB6F61HIP0jhehSuR/k/j8L1KFwfVUA9CtejcD00QOF6FK5H4TpA16NwPQrXGkAfhetRuB5iQClcj8L1KAxAj8L1KFzvUED2KFyPwnUuQArXo3A9aklA7FG4HoXrFEAK16NwPQrXP6RwPQrXowxAw/UoXI9yUUAzMzMzMzMTQNejcD0K1wtAFK5H4XoU8j/NzMzMzMwZQBSuR+F69FpAw/UoXI9CNUA9CtejcL1OQIXrUbgehRNAKVyPwvUoHkAzMzMzMzMTQJqZmZmZGTxAMzMzMzMzHkBxPQrXo3AJQPYoXI/C9eg/H4XrUbge9T+amZmZmZkyQArXo3A9Cuc/pHA9CtcjWEC4HoXrUbjOP0jhehSuR+E/9ihcj8L1LEAfhetRuJ41QHE9CtejsDRAhetRuB6lQUAfhetRuB5LQK5H4XoUruc/XI/C9Shc8z8AAAAAAMA0QMP1KFyPQiJA16NwPQrXFkD2KFyPwvX4Px+F61G4Hvk/KVyPwvUo9D/hehSuR2E9QPYoXI/ClUdAj8L1KFxfU0CamZmZmZn1P/YoXI/C9QhAPQrXo3C9IkBI4XoUrkf5P3sUrkfhOjpAzczMzMxMK0BI4XoUrkcUQIXrUbgehR1AUrgehetRMEBcj8L1KLxPQArXo3A9Cuc/7FG4HoXr8T+uR+F6FK4DQDMzMzMzMytACtejcD0KBUAfhetRuB4ZQLgehetRuN4/pHA9CtejBEApXI/C9Sg9QOxRuB6F6xxA7FG4HoULR0AK16NwPQofQGZmZmZm5kdAexSuR+G6O0AUrkfhepQuQKRwPQrXw0BAw/UoXI/CLkCPwvUoXI8KQKRwPQrXo/g/KVyPwvVoMECPwvUoXI8pQHsUrkfh2khAH4XrUbge8T8UrkfhevREQIXrUbgeRTlAw/UoXI/SVEAzMzMzMzMTQNejcD0K1xJArkfhehSu/z97FK5H4XrEPxSuR+F6FBBA7FG4HoXr+T8fhetRuH5AQMP1KFyPwgVAj8L1KFxvRkCkcD0K16MSQNejcD0K1w1Aj8L1KFzPMkAfhetRuN4xQIXrUbgeDW5A9ihcj8KVVkAUrkfhehQGQGZmZmZmZvY/mpmZmZmZCUBcj8L1KOxjQK5H4XoUrvM/ZmZmZmZmI0DD9Shcj9JYQFK4HoXrUeA/uB6F61E4PEB7FK5H4Xr0P4/C9Shcj/Y/4XoUrkdhSUBmZmZmZuYgQIXrUbgehQ9AexSuR+H6TUAzMzMzMzMJQIXrUbgeZVZAAAAAAAAAEEBI4XoUrkcRQD0K16NwPR5AexSuR+F6lD/Xo3A9CtcDQFK4HoXrURRArkfhehTuOECamZmZmZn1P2ZmZmZmZiRAuB6F61G4EUDD9Shcj4JOQJqZmZmZeUBA7FG4HoXr9T+F61G4HgUyQPYoXI/CNUhA9ihcj8L1LEAUrkfhehQAQOxRuB6FS0dAj8L1KFyPIUDXo3A9Cpc/QHsUrkfhqlVAmpmZmZmZ8T9cj8L1KFznP65H4XoUriJAMzMzMzMz0z+4HoXrUbi+P/YoXI/C9QxAH4XrUbge7T8K16NwPQo0QFK4HoXrUR9AmpmZmZnZN0AfhetRuB71P3sUrkfhevQ/H4XrUbgeGUBI4XoUrkfxP4XrUbgexTtArkfhehSuFECuR+F6FK4ZQGZmZmZmZvY/SOF6FK6nR0AfhetRuL5cQBSuR+F6FN4/7FG4HoXrFkB7FK5H4ZpaQMP1KFyPwiVAw/UoXI8yUUDD9Shcj8IHQOF6FK5HYTZAcT0K16PwLECF61G4HoX/PxSuR+F6lCpAexSuR+F6M0AfhetRuJ4wQI/C9Shcb1tAUrgehevRREA9CtejcD3iPwrXo3A9ii9AexSuR+F6MUBxPQrXo3ABQHsUrkfhetQ/exSuR+F6HUAK16NwPQpRQI/C9Shcj+o/9ihcj8L1BkDsUbgehevBP9ejcD0KVylA16NwPQq3YUDNzMzMzMzsP4/C9ShcjxFASOF6FK6nUECkcD0K16PwP5qZmZmZqVhA7FG4HoULQECF61G4HoX7PxSuR+F6NERACtejcD0K5z/sUbgehesPQFyPwvUo3DxAmpmZmZmZ/T+F61G4HgUzQKRwPQrXg0FA9ihcj8L1BEAK16NwPQogQB+F61G4Hu0/PQrXo3A92j/hehSuR+HqPzMzMzMzM/M/mpmZmZmZNECamZmZmflEQJqZmZmZmdk/zczMzMzMHkDD9Shcj8LtPwAAAAAAkFVAcT0K16PwMkCPwvUoXI8EQHsUrkfhGkBApHA9CtdDZUC4HoXrUbj+P+F6FK5HYTNA7FG4HoWLZ0ApXI/C9Sg+QM3MzMzMzB9AZmZmZmamUkAfhetRuB7xPzMzMzMzM+M/AAAAAAAAAEApXI/C9SjsP83MzMzMzB9ApHA9CtejCECamZmZmZmpP/YoXI/C9RFAexSuR+E6R0BxPQrXo3DlP/YoXI/C9R9AKVyPwvUIQkCPwvUoXG9DQM3MzMzMzBlAPQrXo3DNYEDD9Shcj8ItQDMzMzMzMxVAhetRuB41XEBmZmZmZmYCQBSuR+F6FO4/MzMzMzODVEBI4XoUrkcDQD0K16NwvSVAhetRuB4FJ0BmZmZmZmbmPylcj8L1KApA16NwPQpHWUBSuB6F6xFNQK5H4XoUrv8/exSuR+H6JUAzMzMzMzP3P7gehetRuPY/4XoUrkfh6j8UrkfhepRNQMP1KFyPwgVAAAAAAAAA9D/NzMzMzCxRQB+F61G4LlpAH4XrUbj+Q0DXo3A9CndVQOxRuB6F6/0/zczMzMxMOkCF61G4HoVBQI/C9ShcjzRAFK5H4XoU3j8fhetRuB7VP+xRuB6FC01A4XoUrkexVkDhehSuR+EdQFK4HoXr4V1AZmZmZmZGQEAzMzMzMzPrPxSuR+F6FD9A4XoUrkfhIEAK16NwPQo7QB+F61G47lBA16NwPQrXQUDNzMzMzMz4P0jhehSur2xAexSuR+H6OUApXI/C9SgIQI/C9Shcj/4/H4XrUbgeFEC4HoXrUQhXQLgehetRuB9AmpmZmZkZJkAUrkfhepQvQOF6FK5H4R5AexSuR+F6EED2KFyPwvUVQAAAAAAAAAxAAAAAAAAAFUAzMzMzM3M3QClcj8L1aDhAUrgehetR9D+amZmZmZkNQGZmZmZmZu4/hetRuB5lQ0AfhetRuF4wQAAAAAAAABRAuB6F61E4VUCkcD0K1+M4QArXo3A9SlZA16NwPQqXQkAK16NwPQpRQJqZmZmZmdk/mpmZmZmZqT8AAAAAAJBYQGZmZmZmpkRAuB6F61H4TEApXI/C9SgAQDMzMzMzE0NAZmZmZmZGQ0DD9Shcj8IDQEjhehSuxz5AUrgehetR2D97FK5H4fooQClcj8L1SENA9ihcj8LVVEAzMzMzMzMjQAAAAAAAIElAmpmZmZlZMUD2KFyPwjVTQI/C9Shcj/I/PQrXo3A9GkAfhetRuB4/QMP1KFyPwhRAuB6F61G4zj89CtejcD0YQK5H4XoUrtc/FK5H4XoUFkA9CtejcD3aP5qZmZmZmS9AKVyPwvUoBEBI4XoUrkcvQFK4HoXrUQJAH4XrUbge5T9mZmZmZqY1QGZmZmZmZuY/hetRuB6F6z/NzMzMzMzsP4XrUbgehQlACtejcD3qTkC4HoXrUbg8QKRwPQrXw1RAmpmZmZkZVkAUrkfhepQnQM3MzMzMbEBAcT0K16NwGkBcj8L1KFwJQEjhehSuBzlAPQrXo3A98j/Xo3A9ClciQI/C9Shcr0FAuB6F61F4OEBSuB6F61EdQBSuR+F6dEhAH4XrUbieM0ApXI/C9SgfQM3MzMzMzAJAzczMzMzMNUD2KFyPwrU6QKRwPQrXowRACtejcD0K1z97FK5H4XqEPwrXo3A9ChNAzczMzMycVECkcD0K16MzQArXo3A9CglASOF6FK5HN0A9CtejcB1BQOF6FK5H4RFA4XoUrkdBWUCkcD0K16MKQD0K16NwvUJAcT0K16NwE0CPwvUoXI8TQIXrUbgeheM/KVyPwvUo5D9xPQrXo3AQQKRwPQrXIyBACtejcD0qTkC4HoXrUbi+P4/C9ShcjwhAmpmZmZlJXEBI4XoUrkccQAAAAAAAgC9Aj8L1KFwPKECPwvUoXC9EQClcj8L1KPg/w/UoXI8COkAAAAAAAADoPylcj8L1KAZAmpmZmZkZPUAK16NwPQrzP2ZmZmZmZgJAZmZmZmamMUBmZmZmZuY/QJqZmZmZmRRAUrgehetR+D8UrkfhehQQQFK4HoXrUQZAH4XrUbge/T9xPQrXo3DdP3E9CtejsEhAUrgehetRBEA9CtejcJ1GQFK4HoXrUfg/4XoUrkfhI0D2KFyPwvUCQNejcD0K1wtArkfhehSu5z8pXI/C9ahQQDMzMzMzMzhAzczMzMzMFECuR+F6FK4PQK5H4XoUbkZAzczMzMzM7D+kcD0K1yMiQDMzMzMzMxhAmpmZmZmZ/T97FK5H4fpKQHsUrkfh2kdAAAAAAABAMkCamZmZmZn1P+F6FK5H4RJAKVyPwvUoKkDhehSuR2ExQBSuR+F61DVAUrgehethVEC4HoXrUbgTQFyPwvUobFBAFK5H4XoU3j8pXI/C9SgVQI/C9Shcf1FAKVyPwvUo3D97FK5H4TpRQClcj8L1qClA4XoUrkdhJ0CkcD0K1yMtQHE9CtejcM0/CtejcD06UkAfhetRuB4bQM3MzMzMTCdArkfhehSOVkDhehSuR+1yQDMzMzMzMzJAj8L1KFyPXkAAAAAAAAD4f6RwPQrXo0JA4XoUrkfh8j+F61G4HoXbPwrXo3A9Ctc/MzMzMzMzBUC4HoXrUTg6QArXo3A9KkVA16NwPQpXJkAUrkfhepQqQNejcD0K1xVAmpmZmZmZBUCkcD0K1yM0QClcj8L16DVAH4XrUbjOUkD2KFyPwvUxQIXrUbge5V9AZmZmZmZmCkD2KFyPwvXoP1yPwvUoXEtApHA9Ctej/D8zMzMzMzMdQBSuR+F61DNAmpmZmZmZ6T+PwvUoXI8EQB+F61G4HtU/j8L1KFx/VkAzMzMzM/MwQEjhehSuRxFA9ihcj8L1PEA9CtejcD3aP9ejcD0K1/c/4XoUrkdxU0CamZmZmflSQHE9CtejcN0/PQrXo3C9NkBSuB6F69EvQKRwPQrXg0dAUrgeheuxRUAK16NwPQpAQAAAAAAAAPh/XI/C9Shc3z97FK5H4bo6QNejcD0KN1JAKVyPwvUo7D+F61G4HgUwQHsUrkfheuQ/w/UoXI/COUAUrkfhehTmP1yPwvUoXAlArkfhehQuTkBxPQrXo3AWQDMzMzMzMydAhetRuB4FaEB7FK5H4XoMQK5H4XoU7jNAKVyPwvUoFUDXo3A9CtcDQOF6FK5H4co/CtejcD0K+z+4HoXrUTg4QOF6FK5HITxA4XoUrkcBQEDhehSuR2E4QK5H4XoUjkhASOF6FK4HR0ApXI/C9SgkQBSuR+F6FPo/SOF6FK4fYkBmZmZmZmY5QEjhehSuJ1FAzczMzMyMQ0AK16NwPQrXP/YoXI/C9QRAMzMzMzNzPUB7FK5H4XoOQClcj8L1KNw/w/UoXI+CYkAzMzMzMzMJQFK4HoXrETlArkfhehSuC0D2KFyPwvXYP+xRuB6F+2FArkfhehSu1z8K16NwPQpRQB+F61G4HvE/H4XrUbieJEDhehSuRwFWQEjhehSuR9E/MzMzMzNTUUDXo3A9ChcyQDMzMzMzM8M/MzMzMzOzPkB7FK5H4VpAQJqZmZmZWT5AUrgehetR4D97FK5H4Xr4P2ZmZmZmZidAmpmZmZkZJUBI4XoUrsckQBSuR+F6FPo/w/UoXI/CxT+amZmZmVk2QNejcD0K1wlApHA9CtejCEAzMzMzMzPrPxSuR+F6FPY/FK5H4XoULUB7FK5H4To6QIXrUbgepUtAKVyPwvUo+D8UrkfhehQMQD0K16NwPQpASOF6FK5H4T8pXI/C9SgKQHE9CtejMFpAUrgehesRSUCkcD0K16MRQI/C9Shcj1VAj8L1KFyPEkAUrkfhehT2P6RwPQrXowxAPQrXo3C9IkBxPQrXo3DNP0jhehSuRzxAAAAAAAAAAECPwvUoXE88QB+F61G43jBArkfhehSuF0DD9Shcj8I7QHsUrkfheg5AFK5H4XoU3j/2KFyPwvUeQPYoXI/C9fg/4XoUrkdhI0DD9Shcj8LVPwrXo3A9CglArkfhehSOckCkcD0K1yMhQClcj8L1KBpAXI/C9Shc7z89CtejcD0uQFK4HoXrUfQ/AAAAAAAA+H+amZmZmRkzQMP1KFyPwtU/UrgehetRGkAzMzMzMzMQQArXo3A9Csc/XI/C9SjcIEAAAAAAAEA0QM3MzMzMzE9AZmZmZmamNEC4HoXrUbjuP/YoXI/CNTRA9ihcj8LVXEAzMzMzM7MiQM3MzMzMzAZAhetRuB79ZkBI4XoUrkcFQBSuR+F6dEtAw/UoXI/yXkAK16NwPapAQLgehetRuOY/cT0K16NwA0DXo3A9Clc2QPYoXI/CtUNA7FG4HoXr0T+4HoXrUbj+P4XrUbgehfM/hetRuB6F2z9mZmZmZjZQQFK4HoXrEURAAAAAAAAA+H+PwvUoXL9SQEjhehSuRw1A9ihcj8J1KkAfhetRuB7VPylcj8L1KMw/uB6F61G4DkApXI/C9SjwP/YoXI/C9R1AcT0K16NwIUCuR+F6FK77PxSuR+F6FAZAZmZmZmYmRUCF61G4HoUgQD0K16NwvShApHA9CteDWUDhehSuR+EiQBSuR+F6FAxAKVyPwvUo3D/hehSuR+H6P4XrUbgedVFArkfhehSuEkA9CtejcD05QKRwPQrXE1tASOF6FK5HF0BI4XoUrkfpP1K4HoXrURpAj8L1KFyPHkB7FK5H4XrEP1yPwvUoXAtAhetRuB71WEC4HoXrUbgEQK5H4XoULixAUrgeheuRRkBmZmZmZmYKQNejcD0Kd0JAZmZmZmbmVUAfhetRuB4TQK5H4XoUrgdAzczMzMzkd0D2KFyPwvXgP+xRuB6F6+k/9ihcj8L14D8K16NwPWpJQHE9CtejcAlAUrgeheuxRkBSuB6F65E3QOxRuB6FqzhAhetRuB6FLECF61G4HpVQQM3MzMzMzPw/H4XrUbieO0D2KFyPwvUSQHsUrkfhetQ/mpmZmZmZ8T9mZmZmZuZUQK5H4XoUHlxAMzMzMzOzKEA9CtejcL03QOxRuB6F6/k/SOF6FK4nR0BSuB6F61EjQM3MzMzMzNw/rkfhehQuIEBcj8L1KFweQKRwPQrXo9A/KVyPwvUoHUAzMzMzMzMJQAAAAAAAAPQ/9ihcj8K1QEDD9Shcj8IDQFyPwvUoXD5ArkfhehSu5z/NzMzMzExEQMP1KFyPwvE/7FG4HoXrEUDD9Shcj+JPQBSuR+F6lCJAZmZmZmZGQUBSuB6F61H8P6RwPQrXIyVA9ihcj8J1TUBSuB6F61EaQM3MzMzMzAxAAAAAAAAA+H/sUbgeheuxP7gehetRuPo/KVyPwvVoOEC4HoXrUbj6P9ejcD0K1wtAZmZmZmZuYECamZmZmZnZP9ejcD0K1xhAAAAAAAAA0D/2KFyPwvXYP9ejcD0K1wdAAAAAAAAA0D+PwvUoXI/qP2ZmZmZmZh5AH4XrUbgeMEAK16NwPZJmQEjhehSux0VA9ihcj8L1IEAK16NwPQobQKRwPQrXo1BAUrgehetRK0CF61G4Hp1gQA==",
          "dtype": "f8"
         },
         "xaxis": "x5",
         "yaxis": "y5"
        },
        {
         "marker": {
          "color": "rgba(25, 211, 243, 0.8)"
         },
         "name": "count_trip",
         "showlegend": false,
         "type": "histogram",
         "x": {
          "bdata": "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",
          "dtype": "f8"
         },
         "xaxis": "x6",
         "yaxis": "y6"
        },
        {
         "marker": {
          "color": "rgba(255, 102, 146, 0.8)"
         },
         "name": "maximum_speed",
         "showlegend": false,
         "type": "histogram",
         "x": {
          "bdata": "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",
          "dtype": "f8"
         },
         "xaxis": "x7",
         "yaxis": "y7"
        },
        {
         "marker": {
          "color": "rgba(182, 232, 128, 0.8)"
         },
         "name": "night_drive_hrs",
         "showlegend": false,
         "type": "histogram",
         "x": {
          "bdata": "AAAAAAAAAAAAAAAAAAAAAAAAAAAAAAAAAAAAAAAAAAAAAAAAAAAAAAAAAAAAAAAAAAAAAAAAAAAAAAAAAAAAAAAAAAAAAAAAAAAAAAAAAAAAAAAAAAAAAAAAAAAAAAAAAAAAAAAAAAAAAAAAAAAAAAAAAAAAAPh/AAAAAAAAAAAAAAAAAAAAAAAAAAAAAAAAAAAAAAAAAAAAAAAAAAAAAAAAAAAAAAAAw/UoXI/C7T8AAAAAAAAAAArXo3A9ijVAAAAAAAAAAAAAAAAAAAAAAAAAAAAAAAAAAAAAAAAAAAAAAAAAAAAAAAAAAAAAAAAAAAAAAAAAAAAAAAAAAAAAAAAAAAAAAAAAAAAAAAAAAAAAAAAAAAAAAAAAAAAAAAAAAAAAAAAAAAAAAAAAAAAAAAAAAAAAAAAAAAAAAAAAAAD2KFyPwvUfQAAAAAAAAAAAAAAAAAAAAAAAAAAAAAAAAAAAAAAAAAAAAAAAAAAAAAAAAAAAAAAAAAAAAAAAAAAAAAAAAAAAAAAAAAAAAAAAAAAAAAAAAAAAAAAAAAAAAAAAAAAAAAAAAAAAAAAAAAAAAAAAAAAAAAAAAAAAAAAAAAAAAAAAAAAAAAAAAAAAAAAAAAAAAAAAAAAAAAAAAAAAAAAAAAAAAAAAAAAAAAAAAAAAAAAAAAAAAAAAAAAAAAAAAAAAAAAAAAAAAAAAAAAAAAAAAAAAAAAAAAAAAAAAAAAAAAAAAAAAAAAAAAAAAAAAAAAAAAAAAAAAAAAAAAAAAAAAAAAAAAAAAAAAAAAAAAAAAAAAAAAAMzMzMzMzwz8AAAAAAAAAAAAAAAAAAAAAAAAAAAAAAAAAAAAAAAAAAAAAAAAAAAAAAAAAAAAAAAAAAAAAAAAAAAAAAAAAAAAAAAAAAAAAAAAAAAAAAAAAAAAAAAAAAAAAAAAAAAAAAAAAAAAAAAAAAAAAAAAAAAAAAAAAAAAAAAAAAAAAAAAAAAAAAAAAAAAAAAAAAAAAAAAAAAAAAAAAAAAAAAAAAAAAAAAAAAAAAAAAAAAAAAAAAAAAAAAAAAAAAAAAAAAAAAAAAAAAAAAAAAAAAAAAAAAAAAAAAAAAAAAAAAAAAAAAAAAAAAAAAAAAAAAAAAAAAAAAAAAAAAAAAAAAAAAAAAAAAAAAAAAAAAAAAAAAAAAAAAAAAAAAAAAAAAAAAAAAAAAAAAAAAAAAAAAAAAAAAAAAAAAAAAAAAAAAAAAAAAAAAAAAAAAAAAAAAAAAAAAAAAAAAAAAAAAAAAAAAAAAAAAAAAAAAAAAAAAAAAAAAAAAAAAAAAAAAAAAAAAAAAAAAAAAAAAAAAAAAAAAAAAAAAAAAAAAAAAAAAAAAAAAAAAAAJqZmZmZmfk/AAAAAAAAAAB7FK5H4XqUPwAAAAAAAAAAAAAAAAAAAAAAAAAAAAAAAAAAAAAAAAAAAAAAAAAAAABcj8L1KFznPwAAAAAAAAAAAAAAAAAAAAAAAAAAAAAAAAAAAAAAAAAAAAAAAAAAAAAAAAAAAAAAAAAAAAAAAAAAAAAAAAAAAAAAAAAAAAAAAAAAAAAAAAAAAAAAAAAAAAAAAAAAAAAAAAAAAAAAAAAAAAAAAAAAAAAAAAAAAAAAAAAAAAAAAAAAAAAAAAAAAAAAAAAAAAAAAAAAAAAAAAAAAAAAAAAAAAAAAAAAAAAAAAAAAAAAAAAAAAAAAAAAAAAAAAAAAAAAAAAAAAAAAAAAAAAAAAAAAAAAAAAAAAAAAAAAAAAAAAAAAAAAAAAAAAAAAAAAAAAAAAAAAAAAAAAAAAAAAAAAAAAAAAAAAAAAAAAAAAAAAAAAAAAAAAAAAAAAAAAAAAAAAAAAAAAAAAAAAAAAAAAAAAAAAAAAAAAAAAAAAAAAAAAAAAAAAAAAAAAAAAAAAAAAAAAAAAAAAPh/AAAAAAAAAAAAAAAAAAAAAAAAAAAAAAAAAAAAAAAAAAAAAAAAAAAAAAAAAAAAAAAAAAAAAAAAAAAAAAAAAAAAAAAAAAAAAAAAAAAAAAAAAAAAAAAAAAAAAAAAAAAAAAAAAAAAAAAAAAAAAAAAAAAAAAAAAAAAAAAAAAAAAAAAAAAAAAAAAAACQAAAAAAAAAAAAAAAAAAAAAAAAAAAAAAAAAAAAAAAAAAAAAAAAAAAAAAAAAAAAAAAAAAAAAAAAAAAAAAAAAAAAAAAAAAAAAAAAAAAAAAAAAAAAAAAAAAAAAAAAAAAAAAAAAAAAAAAAAAAAAAAAAAAAAAAAAAAAAAAAAAAAAAAAAAAAAAAAAAAAAAAAAAAAAAAAAAAAAAAAAAAAAAAAAAAAAAAAAAAAAAAAAAAAAAAAAAAAAAAAAAAAAAAAAAAAAAAAAAAAAAAAAAAAAAAAAAAAAAAAAAAAAAAAAAAAAAAAAAAAAAAAAAAAAAAAAAAAAAAAAAAAAAAAAAAAAAAAAAAAAAAAAAAAAAAAAAAAAAAAAAAAAAAAAAAAAAAAAAAAAAAAAAAAAAAAAAAAAAAAAAAAAAAAAAAAAAAAAAAAAAAAAAAAAAAAAAAAAAAAAAAAAAAAAAAAAAAAAAAAAAAAAAAAAAAAAAAAAAAAAAAAAAAAAAAAAAAAAAAAAAAAAAAAAAAAAAAAAAAAAAAAAAAAAAAAADsUbgehes0QAAAAAAAAAAAAAAAAAAAAAAAAAAAAAAAAAAAAAAAAAAAAAAAAAAAAAAAAAAAAAAAAAAAAAAAAAAAAAAAAAAAAAAAAAAAAAAAAAAAAAAAAAAAAAAAAAAAAAAAAAAAAAAAAAAAAAAAAAAAAAAAAAAAAAAAAAAAAAAAAAAAAAAAAAAAAAAAAAAAAAAAAAAAAAAAAAAAAAAAAAAAAAAAAAAAAAAAAAAAAAAAAAAAAAAAAAAAAAAAAAAAAACPwvUoXI8sQDMzMzMzM8M/AAAAAAAAAAAAAAAAAAAAAAAAAAAAAAAAAAAAAAAAAAAAAAAAAAAAAAAAAAAAAAAAAAAAAAAAAAAAAAAAAAAAAAAAAAAAAAAAAAAAAAAAAAAAAAAAAAAAAAAAAAAAAAAAAAAAAAAAAAAAAAAAAAAAAAAAAAAAAAAAAAAAAAAAAAAAAAAAAAAAAAAAAAAAAAAAAAAAAAAAAAAAAAAAAAAAAAAAAAAAAAAAAAAAAAAAAAAAAAAAAAAAAAAAAAAAAAAAAAAAAAAAAAAAAAAAAAAAAAAAAAAAAAAAAAAAAAAAAAAAAAAAAAAAAAAAAAAAAAAAAAAAAAAAAAAAAAAAAAAAAAAAAAAAAAAAAAAAAAAAAAAAAAAAAAAAAAAAAAAAAAAAAAAAAAAAAAAAAAAAAAAAAAAAAAAAAAAAAAAAAAAAAAAAAAAAAAAAAAAAAAAAAAAAAAAAAAAAAAAAAAAAAAAAAAAAAAAAAAAAAAAAAAAAAAAAAAAAAAAAAAAAAAAAAAAAAAAAAAAAAAAAAAAAAAAAAAAAAAAAAAAAAAAAAAAAAAAAAAAAAAAAAAAAAAAAAAAAAAAAAAAAAAAAAAAAAAAAAAAAAAAAAAAAAAAAAAAAAAAAAAAAAAAAAAAAAAAAAAAAAAAAAAAAAAAAAAAAAAAAAAAAAAAAAAAAAAAAAAAAAAAAAAAAAAAAAAAAAAAAAAAAAAAAAAAAAAAAAAAAAAAAAAAAAAAAAAAAAAAAAAAAAAAAAAAAAAAAAAAAAAAAAAAAAAAAAAAAAAAAAAAAAAAAAAAAAAAAAAAAAAAAAAAAAAAAAAAAAAAAAAAAAAAAAAAAAAAAAAAAAAAAAAAAAAAAAAAAAAAAAAAAAAAAAAAAAAAAAAAAAAAAAAAAAAAAAAAAAAAAAAAAAAAAAAAAAAAAAAAAAAAAAAAAAAAAAAAAAAAAAAAAAAAAAAAAAAAAAAAAAAAAAAAAAAAAAAAAAAAAAAAAAAAAAAAAAAAAAAAAAADhehSuR+HaPwAAAAAAAAAAAAAAAAAAAAAAAAAAAAAAAAAAAAAAAAAAAAAAAAAAAAAAAAAAAAAAAAAAAAAAAAAAAAAAAAAAAAAAAAAAAAAAAAAAAAAAAAAAAAAAAAAAAAAAAAAAAAAAAAAAAAAAAAAAAAAAAAAAAAAAAAAAAAAAAAAAAAAAAAAAAAAAAAAAAAAAAAAAAAAAAAAAAAAAAAAAAAAAAAAAAAAAAAAAAAAAAAAAAAAAAAAAAAAAAAAAAAAAAAAAAAAAAAAAAAAAAAAAAAAAAAAAAAAAAAAAAAAAAAAAAAAAAAAAAAAAAAAAAAAAAAAAAAAAAAAAAAAAAAAAAAAAAAAAAAAAAAAAAAAAAAAAAAAAAAAAAAAAAAAAAAAAAAAAAAAAAAAAAAAAAAAAAAAAAAAAAAAAAAAAAAAAAAAAAAAAAAAAAAAAAAAAAAAAAAAAAAAAAAAAAAAAAAAAAAAAAAAAAAAAAAAAAAAAAAAAAAAAAAAAmpmZmZmZ9T8AAAAAAAAAAAAAAAAAAAAAAAAAAAAAAAAAAAAAAAAAAAAAAAAAAAAAAAAAAAAAAAAAAAAAAAAAAAAAAAAAAAAAAAAAAAAAAAAAAAAAAAAAAAAAAAAAAAAAAAAAAAAAAAAAAAAAAAAAAAAAAAAAAAAAAAAAAAAAAAAAAAAAAAAAAAAAAAAAAAAAAAAAAAAAAAAAAAAAAAAAAAAAAAAAAAAAAAAAAAAAAAAAAAAAAAAAAAAAAAAAAAAAAAAAAAAAAAAAAAAAAAAAAAAAAAAAAAAAAAAAAAAAAAAAAAAAAAAAAAAAAAAAAAAAAAAAAAAAAAAAAAAAAAAAAAAAAAAAAAAAAAAAAAAAAAAAAAAAAAAAAAAAAAAAAAAAAAAAAAAAAAAAAAAAAAAAAAAAAAAAAAAAAAAAAAAAAAAAAAAAAAAAAAAAAAAAAAAAAAAAAAAAAAAAAAAAAAAAAAAAAAAAAAAAAAAAAAAAAAAAAAAAAAAAAAAAAAAAAAAAAAAAAAAAAAAAAAAAAAAAAAAAAAAAAAAAAAAAAAAAAAAAAAAAAAAAAAAAAAAAAAAA7FG4HoXrwT8AAAAAAAAAAAAAAAAAAAAAAAAAAAAAAAAAAAAAAAAAAAAAAAAAAAAAAAAAAAAAAAAAAAAAAAD4fwAAAAAAAAAAAAAAAAAAAAAAAAAAAAAAAAAAAAAAAAAAAAAAAAAAAAAAAAAAAAAAAAAAAAAAAAAAAAAAAAAAAAAAAAAAAAAAAAAAAAAAAAAAAAAAAAAAAAAAAAAAAAAAAAAAAAAAAAAAAAAAAAAAAAAAAAAAAAAAAAAAAAAAAAAAAAAAAAAAAAAAAAAAAAAAAAAAAAAAAAAAAAAAAAAAAAAAAAAAAAAAAAAAAAAAAAAAAAAAAAAAAAAAAAAAAAAAAAAAAAAAAAAAAAAAAAAAAAAAAAAAAAAAAAAAAAAAAAAAAAAAAAAAAAAAAAAAAAAAAAAAAAAAAAAAAAAAAAAAAAAAAAAAAAAAAAAAAAAAAAAAAAAAAAAAAAAAAAAAAAAAAAAAAAAAAAAAAAAAAAAAAAAAAAAAAAAAAAAAAAAAAAAAAAAAAAAAAAAAAAAAAAAAAAAAAAAAAAAAAAAAAAAAAAAAAAAAAAAAAClcj8L1KBFAAAAAAAAAAAAAAAAAAAAAAAAAAAAAAAAAAAAAAAAAAAAAAAAAAAAAAAAAAAAAAAAAAAAAAAAAAAAAAAAAAAAAAAAAAAAAAAAAAAAAAAAAAABxPQrXo3DNPwAAAAAAAAAAAAAAAAAAAAAAAAAAAAAAAAAAAAAAAAAAAAAAAAAAAAAAAAAAAAAAAAAAAAAAAAAAAAAAAAAAAAAAAAAAAAAAAAAAAAAAAAAAAAAAAAAAAAAAAAAAAAAAAAAAAAAAAAAAAAAAAAAAAAAAAAAAAAAAAAAAAAAAAAAAAAAAAAAAAAAAAAAAAAAAAAAAAAAAAAAAAAAAAAAAAAAAAAAAAAAAAAAAAAAAAAAAAAAAAAAAAAAAAAAAAAAAAAAAAAAAAAAAAAAAAAAAAAAAAAAAAAAAAAAAAAAAAAAAAAAAAAAAAAAAAAAAAAAAAArXo3A9Csc/AAAAAAAAAAAAAAAAAAAAAAAAAAAAAAAAAAAAAAAAAAAAAAAAAAAAAAAAAAAAAAAAAAAAAAAAAAAAAAAAAAAAAAAAAAAAAAAAAAAAAAAAAAAAAAAAAAAAAAAAAAAAAAAAAAAAAAAAAAAAAAAAAAAAAAAAAAAAAAAAAAAAAAAAAAAAAAAAAAAAAAAAAAAAAAAAAAAAAAAAAAAAAAAAAAAAAAAAAAAAAAAAAAAAAAAAAAAAAAAAAAAAAAAAAAAAAAAAAAAAAAAAAAAAAAAAAAAAAAAAAAAAAAAAAAAAAAAAAAAAAAAAAAAAAAAAAAAAAAAAAAAAAAAAAAAAAAAAAAAAAAAAAAAAAAAAAAAAAAAAAAAAAAAAAAAAAAAAAAAAAAAAAAAAAAAAAAAAAAAAAAAAAAAAAAAAAAAAAAAAAAAAAAAAAAAAAAAAAAAAAAAAAAAAAAAAAAAAAAAAAAAAAAAAAAAAAAAAAAAAAAAAAAAAAAAAAAAAAAAAAAAAAAAAAAAAcT0K16NwDUAAAAAAAAAAAAAAAAAAAAAAAAAAAAAAAAAAAAAAAAAAAAAAAAAAAAAAAAAAAAAAAAAAAAAAAAAAAAAAAAAAAAAAAAAAAAAAAAAAAAAAAAAAAAAAAAAAAAAAAAAAAAAAAAAAAAAAAAAAAAAAAAAAAAAAAAAAAAAAAAAAAAAAAAAAAAAAAAAAAAAAAAAAAAAAAAAAAAAAAAAAAAAAAAAAAAAAAAAAAAAAAAAAAAAAAAAAAAAAAAAAAAAAAAAAAAAAAAAAAAAAAAAAAAAAAAAAAAAAAAAAAAAAAAAAAAAAAAAAAAAAAAAAAAAAAAAAAAAAAAAAAAAAAAAAAAAAAAAAAAAAAAAAAAAAAAAAAAAAAAAAAAAAAAAAAAAAAAAAAAAAAAAAAAAAAAAAAAAAAAAAAAAAAAAAAAAAAAAAAAAAAAAAAAAAAAAAAAAAAAAAAAAAAAAAAAAAAAAAAAAAAAAAAAAAAAAAAAAAAAAAAAAAAAAAAAAAAAAAAAAAAAAAAAAAAAAAAAAAAAAAAAAAAAAAANA/AAAAAAAAAAAAAAAAAAAAAAAAAAAAAAAAAAAAAAAAAAAAAAAAAAAAAAAAAAAAAAAAAAAAAAAAAAAAAAAAAAAAAAAAAAAAAAAAAAAAAAAAAAAAAAAAAAAAAAAAAAAAAAAAAAAAAAAAAAAAAAAAAAAAAAAAAAAAAAAAAAAAAAAAAAAAAAAAAAAAAAAAAAAAAAAAAAAAAAAAAAAAAAAAAAAAAAAAAAAAAAAAAAAAAAAAAAAAAAAAAAAAAAAAAAAAAAAAAAAAAAAAAACkcD0K16P0PwAAAAAAAAAAw/UoXI/CxT8AAAAAAAAAAAAAAAAAAAAAAAAAAAAAAAAAAAAAAAAAAAAAAAAAAAAAAAAAAAAAAAAAAAAAAAAAAAAAAAAAAAAAAAAAAAAAAAAAAAAAAAAAAAAAAAAAAAAAAAAAAAAAAAAAAAAAAAAAAAAAAAAAAAAAAAAAAAAAAAAAAAAAAAAAAAAAAAAAAAAAAAAAAAAAAAAAAAAAAAAAAAAAAAAAAAAAAAAAAAAAAAAAAAAAAAAAAAAAAAAAAAAAAAAAAAAAAAAAAAAAAAAAAAAAAAAAAAAAAAAAAAAAAAAAAAAAAAAAAAAAAAAAAPh/AAAAAAAAAAAAAAAAAAAAAAAAAAAAAAAAAAAAAAAAAAAAAAAAAAAAAAAAAAAAAAAAAAAAAAAAAAAAAAAAAAAAAAAAAAAAAAAAAAAAAAAAAAAAAAAAAAAAAAAAAAAAAAAAAAAAAAAAAAAAAAAAAAD4fwAAAAAAAAAAAAAAAAAAAAAAAAAAAAAAAAAAAAAAAAAAAAAAAAAAAAAAAAAAAAAAAAAAAAAAAAAAAAAAAAAAAAAAAAAAAAAAAAAAAAAAAAAAAAAAAAAAAAAAAAAAAAAAAAAAAAAAAAAAAAAAAAAAAAAAAAAAAAAAAAAAAAAAAAAAAAAAAAAAAAAAAAAAAAAAAAAAAAAAAAAAAAAAAAAAAAAAAAAAAAAAAAAAAAAAAAAAAAAAAAAAAAAAAAAAAAAAAM3MzMzMnFpAAAAAAAAAAAAAAAAAAAAAAAAAAAAAAAAAAAAAAAAAAAAAAAAAAAAAAAAAAAAAAAAAAAAAAAAAAAAAAAAAAAAAAAAAAAAAAAAAAAAAAAAAAAAAAAAAAAAAAAAAAAAAAAAAAAAAAAAAAAAAAAAAAAAAAAAAAAAAAAAAAAAAAAAAAAAAAAAAAAAAAAAAAAAAAAAAAAAAAAAAAAAAAAAAAAAAAAAAAAAAAAAAAAAAAAAAAAAAAAAAAAAAAAAAAAAAAAAAAAAAAAAAAAAAAAAAAAAAAAAAAAAAAAAAAAAAAAAAAAAAAAAAAAAAAAAAAAAAAAAAAAAAAAAAAAAAAAAAAAAAAAAAAAAAAAAAAAAAAAAAAAAAAAAAAAAAAAAAAAAAAAAAAAAAAAAAAAAAAAAAAAAAAAAAAAAAAAAAAAAAAAAAAAAAAAAAAAAAAAAAAAAAAAAAAAAAAAAAAAAAAAAAAAAAAAAAAAAAAAAA9ihcj8K1QUAAAAAAAAAAAAAAAAAAAAAAAAAAAAAAAAAAAAAAAAAAAAAAAAAAAAAAAAAAAAAAAAAAAAAAAAAAAAAAAAAAAAAAAAAAAAAAAAAAAAAAAAAAAAAAAAAAAAAAAAAAAAAAAAAAAAAAAAAAAAAAAAAAAAAAAAAAAAAAAAAAAAAAAAAAAAAAAAAAAAAAAAAAAAAAAAAAAAAAAAAAAAAAAAAAAAAAAAAAAAAAAAAAAAAAAAAAAAAAAAAAAAAAAAAAAAAAAAAAAAAAAAAAAAAAAAAAAAAAAAAAAAAAAAAAAAAAAAAAAAAAAAAAAAAAAAAAAAAAAAAAAAAAAAAAAAAAAAAAAAAAAAAAAAAAAAAAAAAAAAAAAAAAAAAAAAAAAAAAAAAAAAAAAAAAAAAAAAAAAAAAAAAAAAAAAAAAAAAAAAAAAAAAAAAAAAAAAAAAAAAAAAAAAAAAAAAAAAD4fwAAAAAAAAAAAAAAAAAAAAAAAAAAAAAAAAAAAAAAAAAAAAAAAAAAAAAAAAAAAAAAAAAAAAAAAAAAAAAAAAAAAAAAAAAAAAAAAAAAAAAAAAAAAAAAAAAAAAAAAAAAAAAAAAAAAAAAAAAAAAAAAAAAAAAAAAAAAAAAAAAAAAAAAAAAAAAAAAAAAAAAAAAAAAAAAAAAAAAAAAAAAAAAAAAAAAAAAAAAAAAAAAAAAAAAAAAAAAAAAAAAAAAAAAAAAAAAAAAAAAAAAAAAAAAAAAAAAAAAAAAAAAAAAAAAAAAAAAAAAAAAAAAAAAAAAAAAAAAAAAAAAAAAAAAAAAAAAAAAAAAAAAAAAAAAAAAAAAAAAAAAAAAAAAAAAAAAAAAAAAAAAAAAAAAAAAAAAAAAAAAAAAAAAAAAAAAAAAAAAAAAAAAAAAAAAAAAAAAAAAAAAAAAAD0K16NwPQBAAAAAAAAAAAAAAAAAAAAAAAAAAAAAAAAAAAAAAAAAAAAAAAAAAAAAAAAAAAAAAAAAAAAAAAAAAAAAAAAAAAAAAAAAAAAAAAAAAAAAAAAAAAAAAAAAAAAAAAAAAAAAAAAAAAAAAAAAAAAAAAAAAAAAAAAAAAAAAAAAAAAAAAAAAAAAAAAAAAAAAAAAAAAAAAAAAAAAAAAAAAAAAAAAAAAAAAAAAAAAAAAAAAAAAAAAAAAAAAAAAAAAAAAAAAAAAAAAAAAAAAAAAAAAAAAAAAAAAAAAAAAAAAAAAAAAAAAAAAAAAAAAAAAAAAAAAAAAAAAAAAAAAAAAAAAAAAAAAAAAAAAAAAAAAAAAAAAAAAAAAAAAAAAAAAAAAAAAAAAAAAAAAAAAAAAAAAAAAAAAAAAAAAAAAAAAAAAAAAAAAAAAAAAAAAAAAAAAAAAAAAAAAAAAAAAAAAAAAAAAAAAAAAAAAOF6FK5H4co/AAAAAAAAAAAAAAAAAAAAAAAAAAAAAAAAAAAAAAAAAAAAAAAAAAAAAAAAAAAAAAAAAAAAAAAAAAAAAAAAAAAAAAAAAAAAAAAAAAAAAAAAAAAAAAAAAAAAAAAAAAAAAAAAAAAAAAAAAAAAAAAAAAAAAAAAAAAAAAAAAAAAAAAAAAAAAAAAAAAAAAAAAAAAAAAAAAAAAAAAAAAAAAAAAAAAAAAAAAAAAAAAAAAAAAAAAAAAAAAAAAAAAAAAAAAAAAAAAAAAAAAAAAAAAAAAAAAAAAAAAAAAAAAAAAAAAAAAAAAAAAAAAAAAAAAAAAAAAAAAuB6F61G4IEAAAAAAAAAAAAAAAAAAAAAAAAAAAAAAAAAAAAAAAAAAAAAAAAAAAAAAAAAAAAAAAAAAAAAAAAAAAAAAAAAAAAAAAAAAAAAAAAAAAAAAAAAAAAAAAAAAAAAAAAAAAAAAAAAAAAAAAAAAAAAAAAAAAAAAAAAAAAAAAAAAAAAAAAAAAAAAAAAAAAAAAAAAAAAAAAAAAAAAAAAAAAAAAAAAAAAAAAAAAAAAAAAAAAAAAAAAAAAAAAAAAAAAAAAAAAAAAAAAAAAAAAAAAAAAAAAAAAAAAAAAAAAAAAAAAAAAAAAAAAAAAAAAAAAAAAAAAAAAAAAAAAAAAAAAAAAAAAAAAAAAAAAAAAAAAAAAAAAAAAAAAAAAAAAAAAAAAAAAAAAAAAAAAAAAAAAAAAAAAAAAAAAAAAAAAAAAAAAAAAAAAAAAAAAAAAAAAAAAAAAAAAAAAAAAAAAAAAAAAAAAAAAAAAAAAAAAAAAAAAAAAAAAAAAAAAAAAAAAAAAAAAAAAAAAAAAAAAAAAAAAAAAAAAAAAAAAAAAAAAAAAAAAAAAAAAAAAAAAAAAAAAAAAAAAAAAAAAAAAAAAAAAAAAAAAAAAAAAAAAAAAAAAAAAAAAAAAAAAAAAAAAAAAAAAAAAAAAAAAAAAAAAAAAAAAAAAAAAAAAAAAAAAAAAAAAAAAAAAAADQPwAAAAAAAAAAAAAAAAAAAAAAAAAAAAAAAAAAAAAAAAAAAAAAAAAAAAAAAAAAAAAAAAAAAAAAAAAAAAAAAAAAAAAAAAAAAAAAAAAAAAAAAAAAAAAAAAAAAAAAAAAAAAAAAAAAAAAAAAAAAAAAAAAAAAAAAAAAAAAAAAAAAAAAAAAAAAAAAAAAAAAAAAAAAAAAAAAAAAAAAAAAAAAAAAAAAAAAAAAAAAAAAAAAAAAAAAAAAAAAAAAAAAAAAAAAAAAAAAAAAAAAAAAAAAAAAAAAAAAAAAAAAAAAAAAAAAAAAAAAAAAAAAAAAAAAAAAAAAAAAAAAAAAAAAAAFK5H4XoU3j8AAAAAAAAAAAAAAAAAAAAAAAAAAAAAAAAAAAAAAAAAAAAAAAAAAAAAAAAAAAAAAAAAAAAAAAAAAAAAAAAAAAAAAAAAAAAAAAAAAAAAAAAAAAAAAAAAAAAAAAAAAAAAAAAAAAAAAAAAAAAAAAAAAAAAAAAAAAAAAAAAAAAAAAAAAAAAAAAAAAAAAAAAAAAAAAAAAAAAAAAAAAAAAAAAAAAAAAAAAAAAAAAAAAAAAAAAAAAAAAAAAAAAAAAAAAAAAAAAAAAAAAAAAAAAAAAAAAAAAAAAAAAAAAAAAAAAAAAAAAAAAAAAAAAAAAAAAAAAAAAAAAAAAAAAAAAAAAAAAAAAAAAAAAAAAAAAAAAAAAAAAAAAAAAAAAAAexSuR+G6QUAAAAAAAAAAAAAAAAAAAAAAAAAAAAAAAAAAAAAAAAAAAAAAAAAAAAAAAAAAAAAAAAAAAAAAAAAAAAAAAAAAAAAAAAAAAAAAAAAAAAAAAAAAAAAAAAAAAAAAAAAAAAAAAAAAAAAAAAAAAAAAAAAAAAAAAAAAAAAAAAAAAAAAAAAAAAAAAAAAAAAAAAAAAAAAAAAAAAAAAAAAAAAAAAAAAAAAexSuR+F6pD8AAAAAAAAAAAAAAAAAAAAAAAAAAAAAAAAAAAAAAAAAAAAAAAAAAAAAAAAAAAAAAAAAAAAAAAAAAAAAAAAAAAAAAAAAAAAAAAAAAAAAAAAAAAAAAAAAAAAAAAAAAAAAAAAAAAAAAAAAAJqZmZmZmfk/AAAAAAAAAAAAAAAAAAAAAAAAAAAAAAAAAAAAAAAAAAAAAAAAAAAAAAAAAAAAAAAAAAAAAAAAAAAAAAAAAAAAAAAAAAAAAAAAAAAAAAAAAAAAAAAAAAAAAAAAAAAAAAAAAAAAAAAAAAAAAAAAAAAAAAAAAAAAAAAAAAAAAAAAAAApXI/C9SgbQAAAAAAAAAAAAAAAAAAA+H8AAAAAAAAAAAAAAAAAAAAAAAAAAAAAAAAAAAAAAAAAAAAAAAAAAAAAAAAAAAAAAAAAAAAAAAAAAAAAAAAAAAAAAAAAAAAAAAAAAAAAAAAAAAAAAAAAAAAAAAAAAAAAAAAAAAAAAAAAAAAAAAAAAAAAAAAAAAAAAAAAAAAAAAAAAAAAAAAAAAAAAAAAAAAA+H8AAAAAAAAAAAAAAAAAAAAAAAAAAAAAAAAAAAAAAAAAAAAAAAAAAAAAAAAAAAAAAAAAAAAAAAAAAAAAAAAAAAAAAAAAAAAAAAAAAAAAAAAAAAAAAAAAAAAAAAAAAAAAAAAAAAAAAAAAAAAAAAAAAAAAAAAAAAAAAAAAAAAAAAAAAAAAAAAAAAAAAAAAAAAAAAAAAAAAAAAAAAAAAAAAAAAAAAAAAAAAAAAAAAAAAAAAAAAAAAAAAAAAAAAAAAAAAAAAAAAAAAAAAAAAAAAAAAAAAAAAAAAAAAAAAAAAAAD4fwAAAAAAAAAAAAAAAAAAAAAAAAAAAAAAAAAAAAAAAAAAAAAAAAAAAAAAAAAAAAAAAAAAAAAAAAAAAAAAAAAAAAAAAAAAAAAAAAAAAAAAAAAAAAAAAAAAAAAAAAAAAAAAAAAAAAAAAAAAAAAAAAAAAAAAAAAAAAAAAAAAAAAAAAAAAAAAAAAAAAAAAAAAAAAAAAAAAAAAAAAAAAAAAAAAAAAAAAAAAAAAAAAAAAAAAAAAAAAAAAAAAAAAAAAAAAAAAAAAAAAAAAAAAAAAAAAAAAAAAAAAAAAAAAAAAAAAAAAAAAAAAAAAAAAAAAAAAAAAAAAAAAAAAAAAAAAAAAAAAAAAAAAAAAAAAAAAAAAAAAAAAAAAAAAAAAAAAAAAAAAAAAAAAAAAAAAAAAAAAAAAAAAAAAAAAAAAAAAAAAAAAAAAAAAAAAAAAAAAAAAAAAAAAAAAAAAAAAAAAAAAAAAAAAAAAAAAAAAAABSuR+F6FPY/AAAAAAAAAAAAAAAAAAAAAAAAAAAAAAAAAAAAAAAAAAAAAAAAAAAAAClcj8L1KMw/AAAAAAAAAAAAAAAAAAAAAAAAAAAAAAAAAAAAAAAAAAAAAAAAAAAAAAAAAAAAAAAAAAAAAAAAAAAAAAAAAAAAAAAAAAAAAAAAAAAAAAAAAAAAAAAAAAAAAAAAAAAAAAAAAAAAAAAAAAAAAAAAAAAAAAAAAAAAAAAAAAAAAAAAAAAAAAAAAAAAAAAAAAAAAAAAAAAAAAAAAAAAAAAAAAAAAAAAAAAAAAAAAAAAAAAAAAAAAAAAAAAAAAAAAAAAAAAAAAAAAAAAAAAAAAAAAAAAAAAAAAAAAAAAAAAAAAAAAAAAAAAAAAAAAAAAAAAAAAAAAAAAAAAAAAAAAAAAAAAAAAAAAAAAAAAAAAAAAAAAAAAAAAAAAAAAAAAAAAAAAAAAAAAAAAAAAAAAAAAAAAAAAAAAAAAAAAAAAAAAAAAAAAAAAAAAAAAAAAAAAAAAAAAAAAAAAAAAAAAAAAAAAAD4fwAAAAAAAAAAAAAAAAAAAAAAAAAAAAAAAAAAAAAAAAAAAAAAAAAAAAAAAAAAAAAAAAAAAAAAAAAAAAAAAAAAAAAAAAAAAAAAAAAAAAAAAAAAAAAAAAAAAAAAAAAAAAAAAAAAAAAAAAAAAAAAAAAAAAAAAAAAAAAAAAAAAAAAAAAAAAAAAAAAAAAAAAAAAAAAAAAAAAAAAAAAAAAAAAAAAAAAAAAAAAAAAAAAAAAAAAAAAAAAAAAAAAAAAAAAAAAAAFK4HoXrUcg/AAAAAAAAAAAAAAAAAAAAAAAAAAAAAAAAAAAAAAAAAAAAAAAAAAAAAAAAAAAAAAAAAAAAAAAAAAAAAAAAAAAAAAAAAAAAAAAAAAAAAAAAAAAAAAAAAAAAAAAAAAAAAAAAAAAAAAAAAAAAAAAAAAAAAJqZmZmZmfE/AAAAAAAAAAAAAAAAAAAAAAAAAAAAAAAAAAAAAAAAAAAAAAAAAAAAAAAAAAAAAAAAAAAAAAAAAAAAAAAAAAAAAAAAAAAAAAAAAAAAAAAAAAAAAAAAAAAAAAAAAAAAAAAAAAAAAAAAAAAAAAAAAAAAAAAAAAAAAAAAAAAAAAAAAAAAAAAAAAAAAAAAAAAAAAAAAAAAAAAAAAAAAAAAAAAAAAAAAAAAAAAAAAAAAAAAAAAAAAAAAAAAAAAAAAAAAAAAAAAAAAAAAAAAAAAAAAAAAAAAAAAAAAAAAAAAAAAAAAAAAAAAAAAAAAAAAAAAAAAAAAAAAAAAAAAAAAAAAAAAAAAAAAAAAAAAAAAAAAAAAAAAAAAAAAAAAAAAAAAAAAAAAAAAAAAAAAAAAAAAAAAAAAAAAAAAAAAAAAAAAAAAAAAAAAAAAAAAAAAAAAAAAAAAAAAAAAAAAAAAAAAAAAAAAAAAAAAAAAAAAAAAAAAAAAAAAAAAAAAAAAAAAAAAAAAAAAAAAAAAAAAAAAAAAAAAAAAAAAAAAAAAAAAAAAAAAAAAAAAAAAAAAAAAAAAAAAAAAAAAAAAAAAAAAAAAAAD4fwAAAAAAAAAAAAAAAAAAAAAAAAAAAAAAAAAAAAAAAAAAAAAAAAAAAAAAAAAAAAAAAAAAAAAAAAAAAAAAAAAAAAAAAAAAAAAAAAAAAAAAAAAAAAAAAAAAAAAAAAAAAAAAAAAAAAAAAAAAAAAAAAAAAAAAAAAAAAAAAAAAAAAAAAAAAAAAAAAAAAAAAAAAAAAAAAAAAAAAAAAAAAAAAAAAAAAAAAAAAAAAAAAAAAAAAAAAAAAAAAAAAAAAAAAAAAAAAAAAAAAAAAAAAAAAAAAAAAAAAAAAAAAAAAAAAAAAAAAAAAAAAAAAAAAAAAAAAAAAAAAAAAAAAAAAAAAAAAAAAAAAAAAAAAAAAAAAAAAAAAAAAAAAAAAAAAAAAAAAAAAAAAAAAAAAAAAAAAAAAAAAAAAAAAAAAAAAAAAAAAAAAAAAAAAAAAAAAAAAAAAAAAAAAAAAAAAAAPh/pHA9Ctej6D8AAAAAAAAAAAAAAAAAAAAAAAAAAAAA+H8AAAAAAAAAAAAAAAAAAAAAAAAAAAAAAAAAAAAAAAAAAAAAAAAAAAAAAAAAAAAAAAAAAAAAAAAAAAAAAAAAAAAAAAAAAAAAAAAAAAAAAAAAAAAAAAAAAAAAAAAAAAAAAAAAAAAAAAAAAAAAAAAAAAAAAAAAAAAAAAAAAAAAAAAAAAAAAAAAAAAAAAAAAAAAAAAAAAAAAAAAAAAAAAAAAAAAAAAAAAAAAAAAAAAAAAAAAAAAAAAAAAAAAAAAAAAAAAAAAAAAAAAAAAAAAAAAAAAAAAAAAAAAAAAAAAAAAAAAAAAAAAAAAAAAAAAAAAAAAAAAAAAAAAAAAAAAAAAAAAAAAAAAAAAAAAAAAAAAAAAAAAAAAAAAAAAAAAAAAAAAAAAAAAAAAAAAAAAAAAAAAAAAAAAAAAAAAAAAAAAAAAAAAAAAAAAAAAAAAAAAAAAAAAAAAAAAAAAAAAAAAAAAAAAAAAAAAAAAAAAAAAAAAAAAAAAAAAAAAAAAAAAAAAAAAAAAAAAAAAAAAAAAAAAAAAAAAAAAAAAAAAAAAAAAAAAAAAAAAAAAAAAAAAAAAAAAAAAAAAAAAAAAAAAAAAAAAAAAAAAAAAAAAAAAAAAAAAAAAAAAAAAAAAAAAAAAAAAAAAAAAAAAAAAAAAAAAAAAAAAAAAAAAAAAAAAAAAAAAAAAAAAAAAAAAAAAAAAAAAAAAAAAAAAAAAAAAAAAAAAAAAAAAAAAAAAAAAAAAAAAAAAAAAAAAAAAAAAAAAAAAAAAAAAAAAAAAAAAAAAAAAAAAAAAAAAAAAAAAAAAAAAAAAAAAAAAAAAAAAAAAAAAAAAAAAAAAAAAAAAAAAAAAAAAAAAAAAAAAAAAAAAAAAAAAAAAAAAAAAAAAAAAAAAAAAAAAAAAAAAAAAAAAAAAAAAAAAAAAAAAAAAAAAAAAAAAAAAAAAAAAAAAAAAAAAAAAAAAAAAAAAAAAAAAAAAAAAAAAAAAAAAAAAAAAAAAAAAAAAAAAAAAAAAAAAAAAAAAAAAAAAAAAAAAAAAAAAAAAAAAAAAAAAAAAAAAAAAAAAAAAAAAAAAAAAAAAAAAAAAAAAAAAAAAAAAAAAAAAAAAAAAAAAAAAAAAAAAAAAAAAAAAAAAAAAAAAAAAAAAAAAAAAAAAAAAAAAAAAAAAAAAAAAAAAAAAAAAAAAAAAAAAAAAAAAAAAAAAAAAAAAAAAAAAAAAAAAAAAAAAAAAAAAAAAAAAAAAAAAAAAAAAAAAAAAAAAAAAAAAAAAAAAAAAAAAAAAAAAAAAAAAAAAAAAAAAAAAAAAAAAAAAAAAAAAAAAAAAAAAAAAAAAAAAAAAAAAAAAAAAAAAAAAAAAAAAAAAAAAAAAAAAAAAAAAAAAAAAAAAAAAAAAAAAAAAAAAAAAAAAAAAAAAAAAAAAAAAAAAAAAAAAAAAAAAAAAAAAAAAAAAAAAAAAAAAAAAAAAAAAAAAAAAAAAAAAAAAAAAAAAAAAAAAAAAAAAAAAAAAAAAAAAAAAAAAAAAAAAAAAAAAAAAAAAAAAAAAAAAAAAAAAAAAAAAAAAAAAAAAAAAAAAAAAAAAAAAAAAAAAAAAAAAAAAAAAAAAAAAAAAAAAAAAAAAAAAAAAAAAAAAAAAAAAAAAAAAAAAAAAAAAAAAAAAAAAAAAAAAAAAAAAAAAAAAAAAAAAAAAAAAAAAAAAAAAAAAAAAAAAAAAAAAAAAAAAAAAAAAAAAAAAAAAAAAAAAAAAAAAAAAAAAAAAAAAAAAAAAAAAAAAAAAAAAArXo3A9CgdAAAAAAAAAAAAAAAAAAAAAAAAAAAAAAAAAAAAAAAAAAAAAAAAAAAAAAAAAAAAAAAAAAAAAAAAAAAAAAAAAAAAAAAAAAAAAAAAAAAAAAAAAAAAAAAAAAAAAAAAAAAAAAAAAAAAAAAAAAAAAAAAAAAAAAAAAAAAAAAAAAAAAAAAAAAAAAAAAAAAAAAAAAAAAAAAAAAAAAAAAAAAAAAAAAAAAAAAAAAAAAAAAAAAAAAAAAAAAAAAAAAAAAAAAAAAAAAAAAAAAAAAAAAAAAAAAAAAAAAAAAAAAAAAAAAAAAAAAAAAAAAAAAAAAAAAAAAAAAAAAAAAAAAAAAAAAAAAAAAAAAAAAAAAAAAAAAAAAAAAAAAAAAAAAAAAAAAAAAAAAAAAAAAAAAAAAAAAAAAAAAAAAAAAAAAAAAAAAAAAAAAAAAAAAAAAAAAAAAAAAAAAAAAAAAAAAAAAAAACamZmZmZmpPwAAAAAAAAAAAAAAAAAAAAAAAAAAAAAAAEjhehSuRxdAAAAAAAAAAACkcD0K16PAPwAAAAAAAAAAAAAAAAAAAAAAAAAAAAAAAAAAAAAAAAAAAAAAAAAAAAAAAAAAAAAAAAAAAAAAAPh/AAAAAAAAAAAAAAAAAAAAAAAAAAAAAAAAAAAAAAAAAAAAAAAAAAAAAAAAAAAAAAAAAAAAAAAAAAAAAAAAAAAAAAAAAAAAAAAAAAAAAAAAAAAAAAAAAAAAAAAAAAAAAAAAAAAAAAAAAAAAAAAAAAAAAAAAAAAAAAAAAAAAAAAAAAAAAAAAAAAAAAAAAAAAAAAAAAAAAAAAAAAAAAAAAAAAAAAAAAAAAAAAAAAAAAAAAAAAAAAAAAAAAAAAAAAAAAAAAAAAAAAAAAAAAAAAAAAAAAAAAAAAAAAAAAAAAAAAAAAAAAAAAAAAAAAAAAAAAAAAAAAAAAAAAAAAAAAAAAAAAAAAAAAAAAAAAAAAAAAAAAAAAAAAAAAAAAAAAAAAAAAAAAAAAAAAAAAAAAAAAAAAAAAAAAAAAAAAAAAAAAAAAAAAAAAAAAAAAAAAAAAAAAAAAAAAAAAAAAAAAAAAAAAAAAAAAAAAAAAAAAAAAAAAAAAAAAAAAAAAAAAAAAAAAAAAAAAAAAAAAAAAAAAAAAAAAAAAAAAAAAAAAAAAAAAAAAAAAAAAAAAAAAAAAAAAAAAAAAAAAAAAAAAAAAAAAAAAAAAAAAAAAAAAAAAAAAAAAAAAAAAAAAAAAAAAAAAAAAAAAAAAAAAAAAAAAAAAAAAAAAAAAAAAAAAAAAAAAAAAAAAAAAAAAAAAAAAAAAAAAAAAAAAAAAAAAAAAAAAAAAAAAAAAAAAAAAAAAAAAAAAAAAAAAAAAAAAAAAAAAAAAAAAAAAAAAAAAAAAAAAAAAAAAAAAAAAAAAAAAAAAAAAAAAAAAAAAAAAAAAAAAAAAAAAAAAAAAAAAAAAAAAAAAAAAAAAAAAAAAAAAAAAAAAAAAAAAAAAAAAAAAAAAAAAAAAAAAAAAAAAAAAAAAAAAAAAAAAAAAAAAAAAAAAAAAAAAAAAAAAAAAAAAAAAAAAAAAAAAAAAAAAAAAAAAAAAAAAAAAAAAAAAAAAAAAAAAAAAAAAAAAAAAAAAAAAAAAAAAAAAAAAAAAAAAAAAAAAAAAAAAAAAAAAAAAAAAAAAAAAAAAAAAAAAAAAAAAAAAAAAAAAAAAAAAAAAAAAAAAAAAAAAAAAAAAAAAAAAAAAAAAAAAAAAAAAAAAAAAAAAAAAAAAAAAAAAAAAAAAAAAAAAAAAAAAAAAAAAAAAAAAAAAAAAAAAAAAAAAAAAAAAAAAAAAAAAAAexSuR+F6lD8AAAAAAAAAAAAAAAAAAAAAAAAAAAAAAAAAAAAAAAAAAClcj8L1KOQ/AAAAAAAAAAAAAAAAAAAAAAAAAAAAAAAAAAAAAAAAAAAAAAAAAAAAAAAAAAAAAAAAAAAAAAAAAAAAAAAAAAAAAAAAAAAAAAAAAAAAAAAAAAAAAAAAAAAAAAAAAAAAAAAAAAAAAAAAAAAAAAAAAAAAAOF6FK5H4TZAAAAAAAAAAAAAAAAAAAAAAAAAAAAAAAAAAAAAAAAAAAAAAAAAAAAAAAAAAAAAAAAAAAAAAAAAAAAAAAAAAAAAAAAAAAAAAAAAAAAAAAAAAAAAAAAAAAAAAAAAAAAAAAAAAAAAAAAAAAAAAAAAAAAAAAAAAAAAAAAAAAAAAAAAAAAAAAAAAAAAAAAAAAAAAAAAAAAAAAAAAAAAAAAAAAAAAAAAAAAAAAAAAAAAAAAAAAAAAAAAAAAAAAAAAAAAAAAAAAAAAAAAAAAAAAAAAAAAAAAAAAAAAAAAexSuR+F6xD8AAAAAAAAAAAAAAAAAAAAAAAAAAAAAAAAAAAAAAAAAAAAAAAAAAAAAAAAAAAAAAAAAAAAAAAAAAAAAAAAAAAAAAAAAAAAAAAAAAAAAAAAAAAAAAAAAAAAAAAAAAAAAAAAAAAAAAAAAAAAAAAAAAAAAAAAAAAAAAAAAAAAAAAAAAAAAAAAAAAAAAAAAAAAAAAAAAAAAAAAAAAAAAAAAAAAAAAAAAAAAAAAAAAAAAAAAAAAAAAAAAAAAAAAAAAAAAAAAAAAAAAAAAAAAAAAAAAAAAAAAAAAAAAAAAAAAAAAAAAAAAAAAAAAAAAAAAAAAAAAAAAAAAAAAAAAAAAAAAAAAAAAAAAAAAAAAAAAAAAAAAAAAAAAAAAAAAAAAAAAAAAAAAAAAAAAAAAAAAAAAAAAAAAAAAAAAAAAAAAAAAAAAAAAAAAAAAAAAAAAAAAAAAAAAAAAAAAAAAAAAAAAAAAAAAAAAAAAAAAAAAAAAAAAAAAAAAAAAAAAAAAAAAAAAAAAAAAAAAAAAAAAAAAAAAAAAAAAAAAAAAAAAAAAAAAAAAAAAAAAAAAAAAAAAAAAAAAAAAAAAAAAAAAAAAAAAAAAAAAAAAAAAAAAAAAAAAAAAAAAAAAAAAAAAAAAAAAAAAAAAAAAAAAAAAAAAAAAAAAAAAAAAAAAAAAAAAAAAAAAAAAAAAAAAAAAAAAAAAAAAAAAAAAAAAAAAAAAAAAAAAAAAAAAAAAAAAAAAAAAAAAAAAAAAAAAAAAAAAAAAAAAAAAAAAAAAAAAAAK5H4XoUriFAAAAAAAAAAAAAAAAAAAAAAAAAAAAAAAAAuB6F61G4nj8AAAAAAAAAAAAAAAAAAAAAAAAAAAAAAAAAAAAAAAAAAAAAAAAAAAAAAAAAAAAAAAAAAAAAAAAAAAAAAAAAAAAAAAAAAAAAAAAAAAAAAAAAAAAAAAAAAAAAAAAAAAAAAAAAAAAAAAAAAAAAAAAAAAAAAAAAAAAAAAAAAAAAAAAAAAAAAAAAAAAAAAAAAAAAAAAAAAAAAAAAAAAAAAAAAAAAAAAAAAAAAAAAAAAAAAAAAAAAAAAAAAAAAAAAAAAAAAAAAAAAAAAAAAAAAAAAAAAAAAAAAAAAAAAAAAAAAAAAAAAAAAAAAAAAAAAAAAAAAAAAAAAAAAAAAAAAAAAAAAAAAAAAAAAAAAAAAAAAAAAAAAAAAAAAAAAAAAAAAAAAAAAAAAAAAAAAAAAAAAAAAAAAAAAAAAAAAAAAAAAAAAAAAAAAAAAAAAAAAAAAAAAAAAAAAAAAAAAAAAAAAAAAAAAAAAAAAAAAAAAAAAAAAAAAAAAAAAAAAAAAAAAAAAAAAAAAAAAAAAAAAAAAAAAAAAAAAAAAAAAAAAAAAAAAAAAAAAAAAAAAAAAAAAAAAAAAAAAAAAAAAAAAAAAAAAAAAAAAAAAAAAAAAAAAAAAAAAAAAAAAAAAAAAAAAAAAAAAAAAAAAAAAAAAAAAAAAAAAAAAAAAAAAAAAAAAAAAAAAAAAAAAAAAAAAAAAAAAAAAAAAAAAAAAAAAAAAAAAAAAAAAAAAAAAAAAAAAAAAAAAAAAAAAAAAAAAAAAAAAAAAAAAAAAAAAAAAAAAAAAAAAAAAAAAAAAAAAAAAAAAAAAAAAAAAAAAAAAAAAAAAAAAAAAAAAAAAAAAAAAAAM3MzMzMzNw/AAAAAAAAAAAAAAAAAAAAAAAAAAAAAAAAAAAAAAAAAAAAAAAAAAD4fwAAAAAAAAAAAAAAAAAAAAAAAAAAAAAAAAAAAAAAAAAAAAAAAAAAAAAAAAAAAAAAAAAAAAAAAAAAAAAAAAAAAAAAAAAAAAAAAAAAAAAAAAAAAAAAAAAAAAAAAAAAAAAAAAAAAAAAAAAAAAAAAAAAAAAAAAAAAAAAAAAAAAAAAAAAAAAAAAAAAAAAAAAAAAAAAAAAAAAAAAAAAAAAAAAAAAAAAAAAAAAAAAAAAAAAAAAAAAAAAAAAAAAAAAAAAAAAAAAAAAAAAAAAAAAAAAAAAAAAAAAAAAAAAAAAAAAAAAAAAAAAAAAAAAAAAAAAAAAAAAAAAAAAAPh/AAAAAAAAAAAAAAAAAAAAAAAAAAAAAAAAAAAAAAAAAAAAAAAAAAAAAAAAAAAAAAAAAAAAAAAAAAAAAAAAAAAAAAAAAAAAAAAAAAAAAAAAAAAAAAAAAAAAAAAAAAAAAAAAAAAAAAAAAAAAAAAAAAAAAAAAAAAAAAAAAAAAAAAAAAAAAAAAAAAAAAAAAAAAAAAAAAAAAAAAAAAAAAAAAAAAAAAAAAAAAAAAAAAAAAAAAAAAAAAAAAAAAAAAAAAAAAAAAAAAAAAAAAAAAAAAAAAAAAAAAAAAAAAAAAAAAAAAAAAAAAAAAAAAAAAAAAAAAAAAAAAAAAAAAAAAAAAAAAAAAAAAAAAAAAAAAAAAAAAAAAAAAAAAAAAAAAAAAAAAAAAAAAAAAAAAAAAAAAAAAAAAAAAAAAAAAAAAAAAAAAAAAAAAAAAAAAAAAAAAAAAAAAAAAAAAAAAAAAAAAAAAAAAAAAAAAAAAAAAAAAAAAAAAAAAAAAAAAAAAAArXo3A9Csc/AAAAAAAAAAAAAAAAAAAAAAAAAAAAAAAAAAAAAAAAAAAAAAAAAAAAAAAAAAAAAAAAAAAAAAAAAAAAAAAAAAAAAFK4HoXr0SJAAAAAAAAAAAAAAAAAAAAAAAAAAAAAAAAAAAAAAAAAAAAAAAAAAAAAAAAAAAAAAAAAAAAAAAAAAAAAAAAAAAAAAAAAAAAAAAAAAAAAAAAAAAAAAAAAAAAAAAAAAAAAAAAAAAAAAAAAAAAAAAAAAAAAAAAAAAAAAAAAAAAAAAAAAAAAAAAAAAAAABSuR+F6FBRAAAAAAAAAAAAAAAAAAAAAAAAAAAAAAAAAAAAAAAAAAAAAAAAAAAAAAAAAAAAAAAAAAAAAAAAAAAAAAAAAAAAAAAAAAAAAAAAAAAAAAAAAAAAAAAAAAAAAAAAAAAAAAAAAAAAAAAAAAAAAAAAAAAAAAAAAAAAAAAAAAAAAAAAAAAAAAAAAAAAAAAAAAAAAAAAAAAAAAAAAAAAAAAAAAAAAAAAAAAAAAAAAAAAAAAAAAAAAAAAAAAAAAAAAAAAAAAAAAAAAAAAA+H8AAAAAAAAAAAAAAAAAAAAAAAAAAAAAAAAAAAAAAAAAAAAAAAAAAAAAAAAAAAAAAAAAAAAAAAAAAAAAAAAAAAAAAAAAAAAAAAAAAAAAAAAAAAAAAAAAAAAAAAAAAAAAAAAAAAAAAAAAAAAAAAAAAAAAAAAAAAAAAAAAAAAAAAAAAAAAAAAAAPh/AAAAAAAAAAAAAAAAAAAAAAAAAAAAAAAAAAAAAAAAAAAAAAAAAAAAAAAAAAAAAAAAAAAAAAAAAAAAAAAAAAAAAOF6FK5H4co/AAAAAAAAAAAAAAAAAAAAAAAAAAAAAAAAAAAAAAAAAAAAAAAAAAAAAAAAAAAAAAAA16NwPQrXKEAAAAAAAAAAAAAAAAAAAAAAAAAAAAAAAAAAAAAAAAAAAAAAAAAAAAAAAAAAAAAAAAAAAAAAAAAAAAAAAAAAAAAAAAAAAAAAAAAAAAAAAAAAAAAAAAAAAAAAAAAAAAAAAAAAAAAAAAAAAAAAAAAAAAAAAAAAAAAAAAAAAAAAAAAAAAAAAAAAAAAAAAAAAAAAAAAAAAAAAAAAAAAAAAAAAAAAAAAAAAAAAAAAAAAAAAAAAAAAAAAAAAAAAAAAAAAAAAAAAAAAAAAAAAAAAAAAAAAAAAAAAAAAAAAAAAAAAAAAAAAAAAAAAAAAAAAAAAAAAAAAAAAAAAAAAAAAAAAAAAAAAAAAAAAAAAAAAAAAAAAAAAAAAAAAAAAACtejcD0K5z97FK5H4XrEPwAAAAAAAAAAAAAAAAAAAAAAAAAAAAAAAAAAAAAAAAAAAAAAAAAAAAAAAAAAAAAAAAAAAAAAAAAAAAAAAAAAAAAAAAAAAAAAAAAAAAAAAAAAAAAAAAAAAAAAAAAAAAAAAAAAAAAAAAAAAAAAAAAAAAAAAAAAAAAAAAAAAAAAAAAAAAAAAAAAAAAAAAAAAAAAAAAAAAAAAAAAAAAAAAAAAAAAAAAAAAAAAAAAAAAAAAAAAAAAAAAAAAAAAAAAAAAAAAAAAAAAAAAAAAAAAAAAAAAAAAAAAAAAAAAAAAAAAAAAAAAAAAAAAAAAAAAAAAAAAAAAAAAAAAAAAAAAAAAAAAAAAAAAAAAAAAAAAAAAAAAAAAAAAAAAAAAAAAAAAAAAAAAAAAAAAAAAAAAAAAAAAAAAAAAAAAAAAAAAAAAAAAAAAAAAAAAAAAAAAAAAAAAAAAAAAAAAAAAAAAAAAAAAAAAAAAAAAAAAAAAAAAAAAAAAAAAAAAAAAAAAAAAAAAAAAAAAAAAAAAAAAAAAAAAAAAAAAAAAAAAAAAAAAAAAAAAAAAAAAAAAAAAAAAAAAAAAAAAAAAAAAAAAAAAAAAAAAAAAAAAAAAAAAAAAAAAAAAAAAAAAAAAAAAAAAAAAAAAAAAAAAAAAAAAAAAAAAAAA+H8AAAAAAAAAAAAAAAAAAAAAAAAAAAAAAAAAAAAAAAAAAAAAAAAAAAAAAAAAAAAAAAAAAAAAAAAAAAAAAAAAAAAAAAAAAAAAAAAAAAAAAAAAAAAAAAAAAPh/AAAAAAAAAAAAAAAAAAAAAAAAAAAAAAAAAAAAAAAAAAAAAAAAAAAAAAAAAAAAAAAAAAAAAAAAAAAAAAAAAAAAAAAAAAAAAAAAAAAAAAAAAAAAAAAAAAAAAAAAAAAAAAAAAAAAAAAAAAAAAAAAAAAAAAAAAAAAAAAAAAAAAAAAAAAAAAAAAAAAAAAAAAAAAAAAAAAAAAAAAACF61G4HoXbPwAAAAAAAAAAAAAAAAAAAAAAAAAAAAAAAAAAAAAAAAAAAAAAAAAAAAAAAAAAAAAAAAAAAAAAAAAAAAAAAAAAAAAAAAAAAAAAAAAAAAAAAAAAAAAAAAAAAAAAAAAAAAAAAAAAAAAAAAAAAAAAAAAAAAAAAAAAAAAAAAAAAAAAAAAAAAAAAAAAAAAAAAAAAAAAAAAAAAAAAAAAAAAAAAAAAAAAAAAAAAAAAAAAAAAAAAAAAAAAAAAAAAAAAAAAAAAAAAAAAAAAAAAAAAAAAAAAAAAAAAAAAAAAADMzMzMzMwFAAAAAAAAAAAAAAAAAAAAAAAAAAAAAAAAAAAAAAAAAAAAAAAAAAAAAAAAAAAAAAAAAAAAAAAAAAAAAAAAAAAAAAAAAAAAAAAAAAAAAAAAAAAAAAAAAAAAAAAAAAAAAAAAAAAAAAAAAAAAAAAAAAAAAAAAAAAAAAAAAAAAAAAAAAAAAAAAAAAAAAAAAAAAAAAAAAAAAAAAAAAAAAAAAAAAAAAAAAAAAAAAAAAAAAAAAAAAAAAAAAAAAAAAAAAAAAAAAAAAAAAAAAAAAAAAAAAAAAAAAAAAAAAAAAAAAAAAAAAAAAAAAAAAAAAAAAAAAAAAAAAAAAAAAAAAAAAAAAAAAAAAAAAAAAAAAAAAAAAAAAAAAAAAAAAAAAAAAAAAAAAAAAAAAAAAAAAAAAAAAAAAAAAAAAAAAAAAAAAAAAAAAAAAAAAAAAAAAAAAAAAAAAAAAAAAAAAAAAAAAAAAAAAAAAAAAAAAAAAAAAAAAAAAAAAAAAAAAAAAAAAAAAAAAAAAAAAAAAAAAAAAAAAAAAAAAAAAAAAAAAAAAAAAAAAAAAAAAAAAAAAAAAAAAAAAAAAAAAAAAAAAAAAAAAAAAAAAAAAAAAAAAAAAAAAAAAAAAAAAAAAAAAAAAAAAAAAAAAAAAAAAAAAAAAAAAAAAAAAAAAAAAAAAAAAAAAAAAAAAAAAAAAAAAAAAAAAAAAAAAAAAAAAAAAAAAAAAAAAAAAAAAAAAAAAAAAAAAAAAAAAAAAAAAAAAAAAAAAAAAAAAAAAAAAAAAAAAAAAAAAAAAAAAAAAAAAAAAAAAAAAAAAAAAAAAAAAAAAAAAAAAAAAAAAAAAAAAAAAAAAAAAAAAAAAAAAAAAAAAAAAAAAAAAAAAAAAAAAAAAAAAAAAAAAAAAAAAAAAAAAAAAAAAAAAAAAAAAAAAAAAAAAAAAAAAAAAAAAAAAAAAAAAAAAAAAAAAAAAAAAAAAAAAAAAAAAAAAAAAAAAAAAAAAAAAAAAAAAAAAAAAAAAAAAAAAAAAAAAAAAAAAAAAAAAAAAAAAAAAAAAAAAAAAAAAAAAAAAAAAAAAAAAAAAAAAAAAAAAAAAAAAAAAAAAAAAAAAAAAAAAAAAAAAAAAAAAAAAAAAAAAAAAAAAAAAAAAAAAAAAAAAAAAAAAAAAAAAAAAAAAAAAAAAAAAAAAAAAAAAAAAAAAAAAAAAAAAAAAAAAAAAAAAAAAAAAAAAAAAAAAAAAAAAAAAAAAAAAAAAAAAAAAAAAAAAAAAAAAAAAAAAAAAAAAAAAAAAAAAAAAAAAAAAAAAAAAAAAAAAAAAAAAAAAAAAAAAAAAAAAAAAAAAAAAAAANejcD0K19M/AAAAAAAAAAAAAAAAAAAAAAAAAAAAAAAAAAAAAAAAAAAAAAAAAAAAAAAAAAAAAAAAAAAAAAAAAAAAAAAAAAAAAFyPwvUoXPc/AAAAAAAA+H8AAAAAAAAAAAAAAAAAAAAAAAAAAAAAAAAAAAAAAAAAAAAAAAAAAAAAAAAAAAAAAAAAAAAAAAAAAAAAAAAAAAAAAAAAAAAAAAAAAAAAAAAAAAAAAAAAAAAAAAAAAAAAAAAAAAAAAAAAAM3MzMzMzB1AAAAAAAAAAAAAAAAAAAAAAAAAAAAAAAAAAAAAAAAAAAAAAAAAAAAAAAAAAAAAAAAAAAAAAAAAAAAAAAAAAAAAAAAAAAAAAAAAAAAAAAAAAAAAAAAAAAAAAAAAAAAAAAAAAAAAAAAAAAAAAAAAAAAAAAAAAAAAAAAAAAAAAAAAAAAAAAAAAAAAAAAAAAAAAAAAAAAAAAAAAAAAAAAAAAAAAAAAAAAAAAAAAAAAAAAAAAAAAAAAAAAAAAAAAAAAAAAAAAAAAAAAAAAAAAAAAAAAAAAAAAAAAAAAAAAAAAAAAAAAAAAAAAAAAAAAAAAAAAAAAAAAAAAAAAAAAAAAAAAAAAAAAAAAAAAAAAAAAAAAAAAAAAAAAAAAAAAAAAAAAAAAAAAAAAAAAAAAAAAAAAAAAAAAAAAAAAAAAAAAAAAAAAAAAAAAAAAAAAAAAAAAAAAAAAAAAAAAAAAAAAAAAAAAAAAAAAAAAAAAAAAAAAAAAAAAAAAAAAAAAAAAAAAAAAAAAAAAAAAAAAAAAAAAAAAAAAAAAAAAAAAAAAAAAAAAAAAAAAAAAAAAAAAAAAAAAAAAAAAAAAAAAAAAAAAAAAAAAAAAAAAAAAAAAAAAAAAAAAAAAAAAAAAAAAAAAAAAAAAAAAAAAAAAAAAAAAAAAAAAAAAAAAAAAAAAAAAAAAAAAAAAAAAAAAAAAAAAAAAAAAAAAAAAAAAAAAAAAAAAAAAAAAAAAAAAAAAAAAAAAAAAAAAAAAAAAAAAAAAAAAAAAAAAAAAAAAAAAAAAAAAAAAAAAAAAAAAAAAAAAAAAAAAAAABI4XoUrkfhPwAAAAAAAAAAAAAAAAAAAAAAAAAAAAAAAB+F61G4HtU/AAAAAAAAAAAAAAAAAAAAAAAAAAAAAAAAAAAAAAAAAAAAAAAAAAAAAAAAAAAAAAAAAAAAAAAAAAAAAAAAAAAAAAAAAAAAAAAAAAAAAAAAAAAAAAAAAAAAAAAAAAAAAAAAAAAAAAAAAAAAAAAAAAAAAAAAAAAAAAAAAAAAAAAAAAAAAAAAAAAAAAAAAAAAAOA/AAAAAAAAAAAAAAAAAAAAAAAAAAAAAAAAFK5H4XoU3j8AAAAAAAAAAAAAAAAAAAAAAAAAAAAAAAAAAAAAAAAAAAAAAAAAAAAAAAAAAAAAAAAAAAAAAAAAAAAAAAAAAAAAAAAAAAAAAAAAAAAAAAAAAAAAAAAAAAAAAAAAAAAAAAAAAAAAAAAAAAAAAAAAAAAAAAAAAAAAAAAAAAAAAAAAAAAAAAAAAAAAAAAAAAAAAAAAAAAAAAAAAAAAAAAAAAAAAAAAAAAAAAAAAAAAAAAAAAAAAAAAAAAAAAAAAAAAAAAAAAAAAAAAAAAAAAAAAAAAAAAAAAAAAAAAAAAAAAAAAAAAAAAAAAAAAAAAAAAAAAAAAAAAAAAAAAAAAAAAAAAAAAAAAAAAAAApXI/C9Si8PwAAAAAAAAAAAAAAAAAAAAAAAAAAAAAAAAAAAAAAAAAAAAAAAAAAAAAAAAAAAAAAAAAAAAAAAAAAAAAAAAAAAAAAAAAAAAAAAAAAAAAAAAAAAAAAAAAAAAAAAAAAAAAAAAAAAAAAAAAAAAAAAAAAAAAAAAAAAAAAAAAAAAAAAAAAAAAAAAAAAAAAAAAAAAAAAAAAAAAAAAAAAAAAAAAAAAAAAAAAAAAAAAAAAAAAAAAAAAAAAAAAAAAAAAAAAAAAAAAAAAAAAAAAAAAAAAAAAAAAAAAAAAAAAAAAAAAAAAAAAAAAAAAAAAAAAAAAAAAAAAAAAAAAAAAAAAAAAAAAAACPwvUoXI/iPwAAAAAAAAAAAAAAAAAAAAAAAAAAAAAAAAAAAAAAAAAAAAAAAAAAAAAAAAAAAAAAAAAAAAAAAAAAAAAAAAAAAAAAAAAAAAAAAAAAAAAAAAAAAAAAAAAAAABxPQrXo3AJQAAAAAAAAAAAAAAAAAAAAAAAAAAAAAAAAAAAAAAAAAAAAAAAAAAAAAAAAAAAAAAAAAAAAAAAAAAAAAAAAAAAAAAAAAAAAAAAAAAAAAAAAAAAAAAAAAAAAAAAAAAAAAAAAAAAAAAAAAAAAAAAAAAAAAAAAAAAAAAAAAAAAAAAAAAAAAAAAAAAAAAAAAAAAAAAAAAAAAAAAAAAAAAAAAAAAAAAAAAAAAAAAAAAAAAAAAAAAAAAAAAAAAAAAAAAAAAAAAAAAAAAAAAAAAAAAAAAAAAAAAAAAAAAAAAAAAAAAAAAAAAAAAAAAAAAAAAAAAAAAAAAAAAAAAAAAAAAAAAAAAAAAAAAAAAAAAAAAAAAAAAAAAAAAAAAAAAAAAAAAAAAAAAAAAAAAAAAAAAAAAAAAADXo3A9CtfjPwAAAAAAAAAAAAAAAAAAAAAAAAAAAAAAAAAAAAAAAAAAAAAAAAAAAAAAAAAAAAAAAAAAAAAAAAAAAAAAAAAAAAAAAAAAAAAAAAAAAAAAAAAAAAAAAAAAAAAAAAAAAAAAAAAAAAAAAAAAAAAAAAAAAAAAAAAAAAAAAAAAAAAAAAAAAAAAAAAAAAAAAAAAAAAAAAAAAAAAAAAAAAAAAAAAAAAAAAAAAAAAAAAAAAAAAAAAAAAAAAAAAAAAAAAAAAAAAAAAAAAAAAAAexSuR+F6pD8AAAAAAAAAAAAAAAAAAAAAAAAAAAAAAAAAAAAAAAAAAAAAAAAAAAAAAAAAAAAAAAAAAAAAAAAAAOxRuB6F68E/AAAAAAAAAAAAAAAAAAAAAAAAAAAAAAAACtejcD0KFUAAAAAAAAAAAAAAAAAAAAAAAAAAAAAAAAAAAAAAAAAAAAAAAAAAAAAAAAAAAAAAAAAAAAAAAAAAAAAAAAAAAAAAAAAAAAAAAAAAAAAAAAAAAAAAAAAAAAAAAAAAAAAAAAAAAAAAAAAAAAAAAAAAAAAAAAAAAAAAAAAAAAAAAAAAAAAAAAAAAAAAAAAAAAAAAAAAAAAAAAAAAAAAAAAAAAAAAAAAAAAAAAAAAAAAAAAAAAAAAAAAAAAAAAAAAAAAAAAAAAAAAAAAAAAAAAAAAAAAAAAAAAAAAAAAAAAAAAAAAAAAAAAAAAAAAAAAAAAAAAAAAAAAAAAAAAAAAAAAAAAAAAAAAAAAAAAAAAAAAAAAAAAAAAAAAAAAAAAAAAAAAAAAAAAAAAAAAAAAAAAAAAAAAAAAAAAAAAAAAAAAAAAAAAAAAAAAAAAAAAAAAAAAAAAAAAAAAAAAAAAAAAAAAAAAAAAAAAAAAAAAAAAAAAAAAAAAAAAAAAAAAAAAAAAAAAAAAAAAAAAAAAAAAAAAAAAAAAAAAAAAAAAAAAAAAAAAAAAAAAAAAAAAAAAAAAAAAAAAAAAAAAAAAAAAAAAAAAAAAAAAAAAAAAAAAAAAAAAAAAAAAAAAAAAAAAAAAAAAAAAAAAAAAAAAAAAAAAAAAAAAAAAAAAAAAAAAAAAAAAAAAAAAAAAAAAAAAAAAAAAAAAAAAAAAAAAAAAAAAAAAAAAAAAAAAAAAAAAAAAAAAAAAAAAAAAAAAAAAAAAAAAAAAAAAAAAAAAAAAAAAAAAAAAAAAAAAAAAAAAAAAAAAAAAAAAAAAAAAAAAAAAAAAAAAAAAAAAAAAAAAAAAAAAAAAAAAAAAAAAAAAAAAAAAAAAAAAAAAAAAAAAAAAAAAAAAAAAAAAAAAAAAAAAAAAAAAAAAAAAAAAAAAAAAAAAAAAAAAAAAAAAAAAAAAAAAAAAAAAAAAAAAAAAAAAAAAAAAAAAAAAAAAAAAAAAAAAAAAAAAAAAAAAAAAAAAAAAAAAAAAAAAAAAAAAAAAAAAAAAAAAAAAAAAAAAAAAAAAAAAAAAAAAAAAAAAAAAAAAAAAAAAAAAAAAAAAAAAAAJqZmZmZmak/AAAAAAAAAAAAAAAAAAAAAAAAAAAAAAAAAAAAAAAAAAAAAAAAAAAAAAAAAAAAAAAAAAAAAAAAAAAAAAAAAAAAAAAAAAAAAAAAAAAAAAAAAAAAAAAAAAAAAAAAAAAAAAAAAAAAAAAAAAAAAAAAAAAAAAAAAAAAAAAAAAAAAAAAAAAAAAAAAAAAAAAAAAAAAAAAAAAAAAAAAAAAAAAAAAAAABSuR+F6FPY/AAAAAAAAAAAAAAAAAAAAAAAAAAAAAAAAAAAAAAAAAAAAAAAAAAAAAAAAAAAAAAAAAAAAAAAAAAAAAAAAAAAAAAAAAAAAAAAAAAAAAAAAAAAAAAAAAAAAAAAAAAAAAAAAAAAAAAAAAAAAAAAAAAAAAAAAAAAAAAAAAAAAAAAAAAAAAAAAAAAAAAAAAAAAAAAAXI/C9Shc3z8AAAAAAAAAAAAAAAAAAAAAAAAAAAAAAAAAAAAAAAAAAAAAAAAAAAAAAAAAAAAAAAAAAAAAAAAAAAAAAAAAAAAAAAAAAAAAAAAAAAAAAAAAAAAAAAAAAAAAAAAAAAAAAAAAAAAAAAAAAAAAAAAAAAAAAAAAAAAAAAAAAAAAAAAAAAAAAAAAAAAAAAAAAAAAAAAAAAAAAAAAAAAAAAAAAAAAAAAAAAAAAAAAAAAAAAAAAAAAAAAAAAAAAAAAAAAAAAAAAAAAAAAAAAAAAAAAAAAAAAAAAAAAAAAAAAAAAAAAAAAAAAAAAPh/AAAAAAAAAAAAAAAAAAAAAAAAAAAAAAAAAAAAAAAAAAAAAAAAAAAAAAAAAAAAAAAAAAAAAAAAAAAAAAAAAAAAAAAAAAAAAAAAAAAAAAAAAAAAAAAAAAAAAAAAAAAAAAAAAAAAAAAAAAAAAAAAAAAAAAAAAAAAAAAAAAAAAAAAAAAAAAAAAAAAAAAAAAAAAAAAAAAAAAAAAAAAAAAAAAAAAAAAAAAAAAAAAAAAAAAAAAAAAAAAAAAAAAAAAAAAAAAAAAAAAAAAAAAAAAAAAAAAAAAAAAAAAAAAAAAAAAAAAAAAAAAAAAAAAAAAAAAAAAAAAAAAAAAAAAAAAAAAAAAAAAAAAAAAAAAAAAAAAAAAAAAAAAAAAAAAAAAAAAAAAAAAAAAAAAAAAAAAAAAAAAAAAAAAAAAAAAAAAAAAAAAAAAAAAAAAAAAAAAAAAAAAAAAAAAAAAAAAAAAAAAAAAAAAAAAAAAAAAAAAAAAAAAAAAAAAAAAAAAAAAAAAAAAAAAAACtejcD0Ktz8AAAAAAAAAAAAAAAAAAAAAAAAAAAAAAAAAAAAAAAAAAAAAAAAAAAAAAAAAAAAAAAAAAAAAAAAAAAAAAAAAAAAAAAAAAAAAAAAAAAAAAAAAAAAAAAAAAAAAAAAAAAAAAAAAAAAAAAAAAAAAAAAAAAAAAAAAAAAAAAAAAAAAAAAAAAAAAAAAAAAAAAAAAAAAAAAAAAAAAAD4fwAAAAAAAAAAAAAAAAAAAAAAAAAAAAAAAAAAAAAAAAAAAAAAAAAAAAAAAAAAAAAAAAAAAAAAAAAAAAAAAAAAAAAAAAAAAAAAAAAAAAAAAAAAzczMzMzM8D8AAAAAAAAAAAAAAAAAAAAAAAAAAAAAAAAAAAAAAAAAAAAAAAAAAAAAAAAAAAAAAAAAAAAAAAAAAAAAAAAAAAAAAAAAAAAAAAAAAAAAAAAAAAAAAAAAAAAAAAAAAAAAAAAAAAAAAAAAAAAAAAAAAAAAAAAAAAAAAAAAAAAAAAAAAAAAAAAAAAAAAAAAAAAAAAAAAAAAAAAAAAAAAAAAAAAAAAAAAAAAAAAAAAAAAAAAAAAAAAAAAAAAAAAAAAAAAAAAAAAAAAAAAAAAAAAAAAAAAAAAAAAAAAC4HoXrUbiuPwAAAAAAAAAAAAAAAAAAAAAAAAAAAAAAAAAAAAAAAAAAAAAAAAAAAAAAAAAAAAAAAAAAAAAAAAAAAAAAAAAAAAAAAAAAAAAAAAAAAAAAAAAAAAAAAAAAAAAAAAAAAAAAAAAAAAAAAAAAAAAAAAAAAAAAAAAAAAAAAAAAAAAAAAAAAAAAAAAAAAAAAAAAAAAAAAAAAAAAAAAAAAAAAAAAAAAAAAAAAAAAAAAAAAAAAAAAAAAAAAAAAAAAAAAAAAAAAAAAAAAAAAAAAAAAAAAAAAAAAAAAAAAAAAAAAAAAAAAAAAAAAAAAAAAAAAAAAAAAAAAAAAAAAAAAAAAAAAAAAAAAAAAAAAAAAAAAAAAAAAAAAAAAAAAAAAAAAAAAAAAAAAAAAAAAAAAAAAAAAAAAAAAAAAAAAAAAAAAAAAAAAAAAAAAAAAAA+H8AAAAAAAAAAAAAAAAAAAAAAAAAAAAAAAAAAAAAAAAAAMP1KFyPwh1AAAAAAAAAAAAAAAAAAAAAAAAAAAAAAAAAAAAAAAAAAAAAAAAAAAAAAAAAAAAAAAAAAAAAAAAAAAAAAAAAAAAAAAAAAAAAAAAAAAAAAAAAAAAAAAAAAAAAAAAAAAAAAAAAAAAAAAAAAAAAAAAAAAAAAAAAAAAAAAAAAAAAAAAAAAAAAAAAAAAAAAAAAAAAAAAAAAAAAAAAAAAAAAAAAAAAAAAAAAAAAAAAAAAAAAAAAAAAAAAAAAAAAAAAAAAAAAAAAAAAAAAAAAAAAAAAAAAAAAAAAAAAAAAAAAAAAAAAAAAAAAAAAAAAAAAAAAAAAAAAAAAAAAAAAAAAAAAAAAAAAAAAAAAAAAAAAAAAAAAAAAAAAAAAAAAAAAAAAAAAAAAAAAAAAAAAAAAAAAAAAAAAAAAAAAAAAAAAAAAAAAAAAAAAAAAAAAAAAAAAAAAAAAAAAAAAAAAAAACkcD0K16PAPwAAAAAAAAAAAAAAAAAAAAAAAAAAAAAAAAAAAAAAAAAAAAAAAAAAAAAAAAAAAAAAAAAAAAAAAAAAAAAAAAAAAAAAAAAAAAAAAAAAAAAAAAAAAAAAAAAAAAAAAAAAAAAAAAAAAAAAAAAAAAAAAAAAAAAAAAAAAAAAAAAAAAAAAAAAAAAAAAAAAAAAAAAAAAAAAAAAAAAAAAAAAAAAAAAA+H8AAAAAAAAAAAAAAAAAAAAAAAAAAAAAAAAAAAAAAAAAAAAAAAAAAAAAAAAAAAAAAAAAAAAAAAAAAAAAAAAAAAAAAAAAAAAAAAAAAAAAAAAAAAAAAAAAAAAAAAAAAAAAAAAAAAAAAAAAAAAAAAAAAAAAAAAAAAAAAAAAAAAAAAAAAAAAAAAAAAAAAAAAAAAAAAAAAAAAAAAAAAAAAAAAAAAAAAAAAAAAAAAAAAAAAAAAAAAAAAAAAAAAAAAAAAAAAAAAAAAAAAAAAAAAAAAAAAAAAAAAAAAAAAAAAAAAAAAAAAAAAAAAAAAAAAAAAAAAAAAAAAAAAAAAAAAAAAAAAAAAAAAAAAAAAAAAAAAAAAAAAAAAAAAAAAAAAAAAAAAAAAAAAAAAAAAAAAAAAAAAAAAAAAAAAAAAAAAAAAAAAAAAAAAAAAAAAAAAAAAAAAAAAAAAAAAAAAAAAAAAAAAAAAAAAAAAAAAAAAAAAAAAAAAAAAAAAAAAAAAAAAAAAAAAAAAAAAAAAAAAAAAAAAAAAAAAAAAAAAAAAAAAAAAAAAAAAAAAAAAAAAAAAAAAAAAAAAAAAAAAAAAAAAAAAAAAAAAAAAAAAAAAAAAAAAAAAAAAAAAAAAAAAAAAAAAAAAAAAAAAAAAAAAAAAAAAAAAAAAAAAAAAAAAAAAAAAAAAAAAAAAAAAAAAAAAAAAAAAAAAAABmZmZmZmbmPwAAAAAAAAAAAAAAAAAAAAAAAAAAAAAAAAAAAAAAAAAAAAAAAAAAAAAAAAAAAAAAAAAAAAAAAAAAAAAAAAAAAAAAAAAAAAAAAAAAAAAAAAAAAAAAAAAAAAAAAAAAAAAAAAAAAAAAAAAAAAAAAAAAAAAAAAAAAAAAAAAAAAAAAAAAAAAAAAAAAAAAAAAAAAAAAAAAAAAAAAAAAAAAAAAAMEAAAAAAAAAAAAAAAAAAAAAAAAAAAAAAAAAAAAAAAAAAAAAAAAAAAAAAAAAAAAAAAAAAAAAAAAAAAAAAAAAAAAAAAAAAAAAAAAAAAAAAAAAAAAAAAAAAAAAAAAAAAAAAAAAAAAAAAAAAAAAAAAAAAAAAAAAAAAAAAAAAAAAAAAAAAAAAAAAAAAAAAAAAAAAAAAAAAAAAAAAAAAAAAAAAAAAAAAAAAAAAAAAAAAAAAAAAAAAAAAAAAAAAAAAAAAAAAAAAAAAAAAAAAAAAAAAAAAAAAAAAAAAAAAAAAAAAAAAAAAAAAAAAAAAAAAAAAAAAAAAAAAAAAAAAAAAAAAAAAAAAAAAAAAAAAAAAAAAAAAAAAAAAAAAAAAAAAAAAAAAAAAAAAAAAAAAAAAAAAAAAAAAAAAAAAAAAAAAAAAAAAAAAAAAAAAAAAAAAAAAAAAAAAAAAAAAAAAAAAAAAAAAAAAAAAAAAAAAAAAAAAAAAAAAAAAAAAAAAAAAAAAAAAAAAAAAAAAAAAAAAAAAAAAAAAAAAAAAAAAAAAAAAAAAAAAAAAAAAAAAAAAAAAAAAAAAAAAAAAAAAAAAAAAAAAAAAAAAAAAAAAAAAAAAAAAAAAAAAAAAAAAAAAAAAAAAAAAAAAAAAAAAAAAAAAAAAAAAAAAAAAAAAAAAAAAAAAAAAAAAAAAAAAAAAAAAAAAAAAAAAAAAAAAAAAAAAAAAAAAAAAAAAAAAAAAAAAAAAAAAAAAAAAAAAAAAAAAAAexSuR+F61D8AAAAAAAAAAAAAAAAAAAAAAAAAAAAAAAAzMzMzMzMHQAAAAAAAAAAAAAAAAAAAAAAAAAAAAAAAAAAAAAAAAAAAAAAAAAAAAAAAAAAAAAAAAAAAAAAAAAAAAAAAAAAAAAAAAAAAAAAAAAAAAAAAAAAAAAAAAAAAAAAAAAAAAAAAAAAAAAAAAAAAAAAAAAAAAAAAAAAAAAAAAAAAAAAAAAAAAAAAAAAAAAAAAAAAAAAAAAAAAAAAAAAAAAAAAAAAAAAAAAAAAAAAAAAAAAAAAAAAAAAAAAAAAAAAAAAAAAAAAClcj8L1KLw/AAAAAAAAAAAAAAAAAAAAAAAAAAAAAAAAAAAAAAAAAAAAAAAAAAAAAAAAAAAAAAAAAAAAAAAAAAAAAAAAAAAAAAAAAAAAAAAAexSuR+F6lD8AAAAAAAAAAAAAAAAAAAAAAAAAAAAAAAAAAAAAAAAAAAAAAAAAAAAAAAAAAAAAAAAAAAAAAAAAAAAAAAAAAAAAH4XrUbgeB0AAAAAAAAAAAAAAAAAAAAAAAAAAAAAAAAAAAAAAAAAAAAAAAAAAAAAAAAAAAAAAAAAAAAAAAAAAAAAAAAAAAAAAAAAAAAAAAAAAAAAAAAAAAAAAAAAAAAAAAAAAAAAAAAAAAAAAAAAAAAAAAAAAAAAAAAAAAAAAAAAAAAAAAAAAAAAAAAAAAAAAAAAAAAAAAAAAAAAAAAAAAAAAAAAAAAAAAAAAAAAAAAAAAAAAAAAAAAAAAAAAAAAAAAAAAAAAAAAAAAAAAAAAAAAAAAAAAAAAAAAAAAAAAAAAAAAAAAAAAAAAAAAAAAAAAAAAAAAAAAAAAAAAAAAAAAAAAAAAAAAAAAAAAAAAAAAAAAAAAAAAAAAAAAAAAAAAAAAAAAAAAAAAAAAAAAAAAAAAAAAAAAAAAAAAAAAAAAAAAAAAAAAAAAAAAAAAAAAAAAAAAAAAAAAAAAAAAAAAAAAAAAAAAAAAAAAAAAAAAAAAAAAAAAAAAAAAAAAAAAAAAAAAAAAAAAAAAAAAAAAAAAAAAAAAAAAAAAAAAAAAAAAAAAAAAAAAAAAAAAAAAAAAAAAAAAAAAAAAAAAAAAAAAAAAAAAAAAAAAAAAAAAAAAAAAAAAAAAAAAAAAAAAAAAAAAAAAAAAAAAAAAAAAAAAAAAAAAAAAAAAAAAAAAAAAAAAAAAAAAAAAAAAAAAAAAAAAAAAAAAAAAAAAAAAAAAAAAAAAAAAAAAAAAAAAAAAAAAAAAAAAAAAAAAAAAAAAAAAAAAAAAAAAAAAAAAAAAAAAAAAAAAAAAAAAAAAAAAAAAAAAAAAAAAAAAAAAAAAAAAAAAAAAAAAAAAAAAAAAAAAAAAAAAAAAAAAAAAAAAAAAAAAAAAAAAAAAAAAAAAAAPh/AAAAAAAAAAAAAAAAAAAAAAAAAAAAAAAAAAAAAAAAAAAAAAAAAAAAAAAAAAAAAAAAAAAAAAAAAAAAAAAAAAAAAAAAAAAAAAAAAAAAAAAAAAAAAAAAAAAAAAAAAAAAAAAAAAAAAAAAAAAAAAAAAAAAAAAAAAAAAAAAAAAAAAAAAAAAAAAAAAAAAAAAAAAAAAAAAAAAAAAAAAAAAAAAAAAAAAAAAAAAAPh/AAAAAAAAAAAAAAAAAAAAAAAAAAAAAAAAAAAAAAAAAAAAAAAAAAAAAAAAAAAAAAAAAAAAAAAAAAAAAAAAAAAAAAAAAAAAAAAAAAAAAAAAAAAAAAAAAAAAAAAAAAAAAAAAAAAAAAAAAAAAAAAAAAAAAAAAAAAAAAAAAAAAAAAAAAAAAAAAAAAAAAAAAAAAAAAAAAAAAAAAAAAAAAAAAAAAAAAAAAAAAAAAAAAAAAAAAAAAAAAAAAAAAAAAAAAAAAAAAAAAAAAAAAAAAAAAAAAAAAAAAAAAAAAAAAAAAAAAAAAAAAAAAAAAAAAAAAAAAAAAAAAAAAAAAAAAAAAAAAAAAAAAAAAAAAAAAAAAAAAAAAAAAAAAAAAAAAAAAAAAAAAAAAAAAAAAAAAAAAAAAAAAAAAAAAAAAAAAAAAAAAAAAAAAAAAAAAAAAAAAAAAAAAAAAAAAAAAAAAAK16NwPQrXPwAAAAAAAAAAAAAAAAAAAAAAAAAAAAAAAAAAAAAAAAAAAAAAAAAAAAAAAAAAAAAAAAAAAAAAAAAAAAAAAAAAAAAAAAAAAAAAAAAAAAAAAAAAAAAAAAAAAAAAAAAAAAAAAAAAAAAAAAAAAAAAAAAAAAAAAAAAAAAAAAAAAAAAAAAAAAAAAAAAAAAAAAAAAAAAAAAAAAAAAAAAAAAAAAAAAAAAAAAAAAAAAOxRuB6F6w9AAAAAAAAAAAAAAAAAAAAAAAAAAAAAAAAAAAAAAAAAAAAAAAAAAAAAAHsUrkfhesQ/AAAAAAAAAAAAAAAAAAAAAAAAAAAAAAAAAAAAAAAAAAAAAAAAAAAAAAAAAAAAAAAAAAAAAAAAAAAAAAAAAAAAAMP1KFyPwtU/AAAAAAAAAAAAAAAAAAAAAAAAAAAAAAAAAAAAAAAAAAAAAAAAAAAAAAAAAAAAAAAA7FG4HoXr0T8AAAAAAAAAAAAAAAAAAAAAAAAAAAAAAAAAAAAAAAAAAAAAAAAAAAAAAAAAAAAAAAAAAAAAAAAAAAAAAAAAAAAAAAAAAAAAAAAAAAAAAAAAAAAAAAAAAAAAAAAAAAAAAAAAAAAAAAAAAAAAAAAAAAAAAAAAAAAAAAAAAAAAAAAAAAAAAAAAAAAAAAAAAAAAAAApXI/C9SjMPwAAAAAAAAAAAAAAAAAAAAA9CtejcD3aPwAAAAAAAAAAAAAAAAAAAAAAAAAAAAAAAAAAAAAAAAAAAAAAAAAAAAAAAAAAAAAAAAAAAAAAAAAAAAAAAAAAAAAAAAAAAAAAAAAAAAAAAAAAAAAAAAAAAAAAAAAAAAAAAAAAAAAAAAAAAAAAAAAAAAAAAAAAAAAAAAAAAAAAAAAAAAAAAAAAAAAAAAAAAAAAAAAAAAAAAAAAAAAAAAAAAAAAAAAAAAAAAAAAAAAAAAAAAAAAAAAAAAAAAAAAAAAAAAAAAAAAAAAAAAAAAAAAAAAAAAAAAAAAAAAAAAAAAAAAAAAAAAAAAAAAAAAAAAAAAAAAAAAAAAAAAAAAAAAAAAAAAAAAAAAAAAAAAAAAAAAAAAAAAAAAAAAAAAAAAAAAAAAAAAAAAAAAAAAAAAAAAAAAAAAAAAAAAAAAAAAAAAAAAAAAAAAAAAAAAAAAAAAAAAAAAAAAAAAAAAAAAAAAAAAAAAAAAAAAAAAAAAAAAAAAAAAAAAAAAAAAAAAAAAAAAAAAAAAAAAAAAAAAAAAAAAAAAAAAAAAAAAAAAAAAAAAAAAAAAAAAAAAAAAAAAAAAAAAAAAAAAAAAAAAAAAAAAAAAAAAAAAAAAAAAAAAAAAAAAAAAAAAAAAAAAAAAAAAAAAAAAAAAAAAAAAAAAAAAAAAAAAAAAAAAAAAAAAAAAAAAAAAAAAAAAAAAAAAAAAAAABSuR+F6FBJAAAAAAAAAAAAAAAAAAAAAAAAAAAAAAAAAAAAAAAAAAAAAAAAAAAAAAAAAAAAAAAAAAAAAAAAAAAAAAAAAAAAAAAAAAAAAAAAAAAAAAAAAAAAAAAAAAAAAAAAAAAAAAAAAAAAAAAAAAAAAAAAAAAAAAAAAAAAAAAAAAAAAAAAAAAAAAAAAAAAAAAAAAAAAAAAAAAAAAAAAAAAAAAAAAAAAAAAAAAAAAAAAAAAAAAAAAAAAAAAAAAAAAAAAAAAAAAAAAAAAAAAAAAAAAAAAAAAAAAAAAAAAAAAAAAAAAAAAAAAAAAAAAAAAAAAAAAAAAAAAAAAAAAAAAAAAAAAAAAAAAAAAAAAAAAAAAAAAAAAAAAAAAAAAAAAAAAAAAAAAAAAAAAAAAAAAAAAAAAAAAAAAAAAAAAAAAAAAAAAAAAAAAAAAAAAAAAAAAAAAAAAAAAAAAAAAAAAAAAAAAAAAAAAAAFyPwvUoXOc/AAAAAAAAAAAAAAAAAAAAAAAAAAAAAAAAAAAAAAAAAAAAAAAAAAAAAAAAAAAAAAAAAAAAAAAAAAAAAAAAAAAAAAAAAAAAAAAAAAAAAAAAAAAAAAAAAAAAAAAAAAAAAAAAAAAAAAAAAAAAAAAAAAAAAAAAAAAAAAAAAAAAAAAAAAAAAAAAAAAAAAAAAAAAAAAAAAAAAAAAAAAAAAAAAAAAAAAAAAAAAAAAAAAAAAAAAAAAAAAAAAAAAAAAAAAAAAAAAAAAAAAAAAAAAAAAAAAAAAAAAAAAAAAAAAAAAAAAAAAAAAAAAAAAAAAAAAAAAAAAAAAAAAAAAAAAAAAAAAAAAAAAAAAAAAAAAAAAAAAAAAAAAAAAAAAAAAAAAAAAAAAAAAAAAAAAAAAAAAAAAAD4fwAAAAAAAAAAAAAAAAAAAAAAAAAAAAAAAAAAAAAAAAAAAAAAAAAAAAAAAAAAAAAAAAAAAAAAAAAASOF6FK5H4T8AAAAAAAAAAAAAAAAAAAAAAAAAAAAAAAAAAAAAAAAAAAAAAAAAAAAAAAAAAAAAAAAAAAAAAAAAAAAAAAAAAAAA7FG4HoXr6T8AAAAAAAAAAAAAAAAAAAAAAAAAAAAAAAAAAAAAAAAAAAAAAAAAAAAAAAAAAAAAAAAAAAAAAAAAAAAAAAAAAAAAAAAAAAAAAAAAAAAAAAAAAAAAAAAAAAAAAAAAAAAAAAAAAAAAAAAAAAAAAAAAAAAAAAAAAAAAAAAAAAAAAAAAAAAAAAAAAAAAAAAAAAAAAAAAAAAAAAAAAAAAAAAAAAAAAAAAAAAAAAAAAAAAAAAAAAAAAAAAAAAAAAAAAAAAAAAAAAAAAAAAAAAAAAAAAAAAAAAAAAAAAAAAAAAAAAAAAPYoXI/C9fg/AAAAAAAAAAAAAAAAAAAAAAAAAAAAAAAAAAAAAAAAAAAAAAAAAAAAAAAAAAAAAAAAAAAAAAAAAAAAAAAAAAAAAAAAAAAAAAAAAAAAAAAAAAAAAAAAAAAAAAAAAAAAAAAAAAAAAAAAAAAAAAAAAAAAAAAAAAAAAAAAAAAAAAAAAAAAAAAAAAAAAAAAAAAAAAAAAAAAAAAAAAAAAAAAAAAAAAAAAAAAAAAAAAAAAAAAAAAAAAAAAAAAAAAAAAAAAAAAAAAAAAAA+H8AAAAAAAAAAAAAAAAAAAAAAAAAAAAAAAAAAAAAAAAAAAAAAAAAAAAAAAAAAAAAAAAAAAAAAAAAAAAAAAAAAAAAAAAAAAAAAAAAAAAAAAAAAAAAAAAAAAAAAAAAAAAAAAAAAAAAAAAAAAAAAAAAAAAAAAAAAAAAAAAAAAAAAAAAAAAAAAAAAAAAAAAAAAAAAAAAAAAAAAAAAAAAAAAAAAAAAAAAAAAAAACuR+F6FK7XPwAAAAAAAAAAAAAAAAAAAAAAAAAAAAAAAAAAAAAAAAAAAAAAAAAAAAAAAAAAAAAAAAAAAAAAAAAAAAAAAAAAAAAAAAAAAAAAAAAAAAAAAAAAAAAAAAAAAAAAAAAAAAAAAAAAAAAAAAAApHA9Ctej4D8AAAAAAAD4fwAAAAAAAAAAAAAAAAAAAAAAAAAAAAAAAAAAAAAAAAAAAAAAAAAAAAAAAAAAAAAAAAAAAAAAAAAAAAAAAAAAAACamZmZmZmpPwAAAAAAAAAAAAAAAAAAAAAAAAAAAAAAAAAAAAAAAAAAAAAAAAAAAAAAAAAAAAAAAAAAAAAAAAAAAAAAAAAAAAAAAAAAAAAAAAAAAAAAAAAAAAAAAAAAAAAAAAAAAAAAAAAAAAAAAAAAAAAAAAAAAACamZmZmZmpP3sUrkfheoQ/AAAAAAAAAAAAAAAAAAAAAAAAAAAAAAAAAAAAAAAAAAAAAAAAAAAAAAAAAAAAAAAAAAAAAAAAAAAAAAAAAAAAAAAAAAAAAAAAAAAAAAAAAAAAAAAAAAAAAAAAAAAAAAAAAAAAAAAAAAAAAAAAAAAAAArXo3A9Crc/AAAAAAAAAAAAAAAAAAAAAAAAAAAAAAAAAAAAAAAAAAAAAAAAAAAAAAAAAAAAAAAAAAAAAAAAAAAAAAAAAAAAAAAAAAAAAAAAAAAAAAAAAAAAAAAAAAAAAAAAAAAAAAAAAAAAAAAAAAAAAAAAAAAAAAAAAAAAAAAAAAAAAAAAAAAAAAAAAAAAAIXrUbgehS1AAAAAAAAAAAAAAAAAAAAAAAAAAAAAAAAAAAAAAAAAAAAAAAAAAAAAAAAAAAAAAAAAAAAAAAAAAAAAAAAAAAAAAAAAAAAAAAAAAAAAAAAAAAAAAAAAAAAAAAAAAAAAAAAAAAAAAAAAAAAAAAAAAAAAAAAAAAAAAAAAAAAAAAAAAAAAAAAAAAAAAAAAAAAAAAAAAAAAAAAAAAAAAAAAAAAAAAAAAAAAAAAAAAAAAAAAAAAAAAAAAAAAAAAAAAAAAAAAAAAAAAAAAAAAAAAAAAAAAAAAAAAAAAAAAAAAAAAAAAAAAAAAAAAAAAAAAAAAAAAAAAAAAAAAAAAAAAAAAAAAAAAAAAAAAAAAAAAAAAAAAAAAAAAAAAAAAAAAAAAAAAAAAAAAAAAAAAAAAAAAAAAAAAAAAAAAAAAAAAAAAAAAAAAAAAAAAAAAAAAAAAAAAAAAAAAAAAAAAAAAAAAAAAD4fwAAAAAAAAAAAAAAAAAAAAAAAAAAAAAAAAAAAAAAAAAAAAAAAAAAAAAAAAAAAAAAAAAAAAAAAAAAAAAAAAAAAAAAAAAAAAAAAAAAAAAAAAAAAAAAAAAAAAAAAAAAAAAAAAAAAAAAAAAAAAAAAAAAAAAAAAAAAAAAAAAAAAAAAAAAAAAAAAAAAAAAAAAAAAAAAAAAAAAAAAAAAAAAAAAAAAAAAAAAAAAAAAAAAAAAAAAAAAAAAAAAAAAAAAAAAAAAAHE9Ctej8EBAAAAAAAAAAAAAAAAAAAAAAAAAAAAAAAAAAAAAAAAAAAAAAAAAAAAAAAAAAAAAAAAAAAAAAAAAAAAAAAAAAAAAAAAAAAAAAAAAAAAAAAAAAAAAAAAAAAAAAAAAAAAAAAAAAAAAAAAAAAAAAAAAAAAAAAAAAAAAAAAAAAAAAAAAAAAAAAAAAAAAAAAAAAAAAAAAAAAAAAAAAAAAAAAAAAAAAAAAAAAAAAAAAAAAAAAAAAAAAAAAAAAAAAAAAAAAAAAAAAAAAAAAAAAAAAAAAAAAAAAAAAAAAAAAAAAAAAAAAAAAAAAAAAAAABSuR+F61DBAAAAAAAAAAAAAAAAAAAAAAAAAAAAAAAAAAAAAAAAAAAAAAAAAAAAAAAAAAAAAAAAAAAAAAAAAAAAAAAAAAAAAAAAAAAAAAAAAAAAAAAAAAAAAAAAAAAAAAAAAAAAAAAAAAAAAAAAAAAAAAAAAAAAAAAAAAAAAAAAAAAAAAAAAAAAAAAAAAAAAAAAAAAAAAAAAAAAAAAAAAAAAAAAAAAAAAAAAAAAAAAAAAAAAAAAAAAAAAAAAAAAAAAAAAAAAAAAAAAAAAAAAAADhehSuR+EGQAAAAAAAAAAAAAAAAAAAAAAAAAAAAAAAAAAAAAAAAAAACtejcD0KF0AAAAAAAAAAAAAAAAAAAAAAAAAAAAAAAAAAAAAAAAAAAAAAAAAAAAAAAAAAAAAAAAAAAAAAAAAAAAAAAAAAAAAAAAAAAAAAAAAAAAAAAAAAAAAAAAAAAAAAAAAAAAAAAAAAAAAAAAAAAAAAAAAAAAAAAAAAAAAAAAAAAAAAAAAAAAAAAAAAAAAAAAAAAAAAAAAAAAAAAAAAAAAAAAAAAAAAAAAAAAAAAAAAAAAAAAAAAAAAAAAAAAAAAAAAAAAAAAAAAAAAAAAAAAAAAAAAAAAAAAAAAAAAAAAAAAAAAAAAAAAAAAAAAAAAAAAAAAAAAAAAAAAAAAAAAAAAAAAAAAAAAAAAAAAAAAAAAAAAAAAAAAAAAAAAAAAAAAAAAAAAAAAAAAAAAAAAAAAAAAAAAAAAAAAAAAAAAAAAAAAAAAAAAAAAAAAAAAAAAAAAAAAAAAAAAAAAAAAAAAAAAAAAAAAAAAAAAAAAAAAAAAAAAAAAAAAAAAAAAAAAAAAAAAAAAAAAAAAAAAAAAAAAAAAAAAAAAAAAAAAAAAAAAAAAAAAAAAAAAAAAAAAAAAAAAAAAAAAAAAAAAAAAAAAAAAAAAAAAAAAAAAAAAAAAAAAAAAAAAAAAAAAAAAAAAAAAAAAAAAAAAAAAAAAAAAAAAAAAAAAAAAAAAAAAAAAAAAAAAAAAAAAAAAAAAAAAAAAAAAAAAAAAAAAAAAAAAAAAAAAAAAAAAAAAAAAAAAAAAAAAAAAAAAAAAAAAAAAAAAAAAAAAAAAAAAAAAAAAAAAAAAAAAAAAAAAAAAAAAAAAAAAAAAAAAAAAAAAAAAAAAAAAAAAAAAAAAAAAAAAAAAAAAAAAAAAAAAAAAAAAAAAAAAAAAAAAAAAAAAAAAAAAAAAAAAAAAAAAAAAAAAAAAAAAAAAAAAAAAAAAAAAAAAAAAAAAAAAAAAAAAAAAAAAAAAAAAAAAAAAAAAAAAAAAAAAAAAAAAAAAAAAAAAAAAAAAAAAAAAAAAAAAAAAAAAAAAAAAAAAAAAAAAAAAAAAAAAAAAAAAAAAAAAAAAAAAAAAAAAAAAAAAAAAAAAAAAAAAAAAAAAAAAAAAAAAAAAAAAAAAAAAAAAAAAAAAAAAAAAAAAAAAAAAAAAAAAAAAAAAAAAAAAAAAAAAAAAAAAAAAAAAAAAAAAAAAAAAAAAAAAAAAAAAAAAAAAAAAAAAAAAAAAAAAAAAAAAAAAAAAAAAAAAAAAAAAAAAAAAAAAAAAAAAAAAAAAAAAAAAAAAAAAAAAAAAAAAAAAAAAAAAAAAAAAAAAAAAAAAAAAAAAAAAAAAAAAAAAAAAAAJqZmZmZmck/AAAAAAAAAAAAAAAAAAAAAAAAAAAAAAAAAAAAAAAAAABI4XoUrkfpPwAAAAAAAAAAAAAAAAAAAAAAAAAAAAAAAAAAAAAAAAAAAAAAAAAAAAAAAAAAAAAAAAAAAAAAAAAAAAAAAAAAAAAAAAAAAAAAAAAAAAAAAAAAAAAAAAAAAAAAAAAAAAAAAAAAAAAAAAAAAAAAAAAAAAAAAAAAAAAAAAAAAAAAAAAAAAAAAAAAAAAAAAAAAAAAAAAAAAAAAAAAAAAAAAAAAAAAAAAAAAAAAAAAAAAAAAAAAAAAAAAAAAAAAAAAAAAAAAAAAAAAAAAAAAAAAAAAAAAAAAAAAAAAAAAAAAAAAAAAAAAAAAAAAAAAAAAAAAAAAAAAAAAAAAAAAAAAAAAAAAAAAAAAAAAAAAAAAAAAAAAAAAAAAAAAAAAAAAAAAAAAAAAAAAAAAAAAAAAAAAAAAAAAAAAAAAAAADMzMzMzM8M/AAAAAAAAAAAAAAAAAAAAAAAAAAAAAAAAAAAAAAAAAAAAAAAAAAAAAAAAAAAAAAAAAAAAAAAAAAAAAAAAAAAAAAAAAAAAAAAAAAAAAAAAAAAAAAAAAAAAAAAAAAAAAAAAAAAAAAAAAAAAAAAAAAAAAAAAAAAAAAAAAAAAAAAAAAAAAAAAAAAAAAAAAAAAAAAAAAAAAAAAAAAAAAAAAAAAAAAAAAAAAAAAAAAAAAAAAAAAAAAAAAAAAAAAAAAAAAAAAAAAAAAAAAAAAAAAAAAAAAAAAAAAAAAAAAAAAAAAAAAAAAAAAAAAAAAAAAAAAAAAAAAAAAAAAAAAAAAAAAAAAAAAAAAAAAAAAAAAAAAAAAAAAAAAAAAAAAAAAAAAAAAAAAAAAAAAAAAAAAAAAAAAAAAAAAAAAAAAAAAAAAAAAAAAAAAAAAAAAAAAAAAAAAAAAAAAAAAAAAAAAAAAAAAAAAAAAAAAAAAAAAAAAAAAAAAAAAAAAAAAAAAAAAAAAAAAAAAAAAAAAAAAAAAAAAAAAAAAAAAAAAAAAAAAAAAAAAAAAAAAAAAAAAAAAAAAAAAAAAAAAAAAAAAAAAAAAAAAAAAAAAAAAAAAAAAAAAAAAAAAAAAAAAAAAAAAAAAAAAAAAAAAAAAAAAAAAAAAAAAAAAAAAAAAAAAAAAAAAAAAAAAAAAAAAAAAAAAAAAAAAAAAAAAAAAAAAAAAAAAAAAAAAAAAAAAAAAAAAAAAAAAAAAAAAAAAAAAAAAAAAAAAAAAAAAAAAAAAAAAAAAAAAAAAAAAAAAAAAAAAAAAAAAAAAAAAAAAAAAAAAAAAAAAAAAAAAAAAAAAAAAAAAAAAAAAAAAAAAAAAAAAAAAAAAAAAAAAAAAAAAAAAAAAAAAAAAAAAAAAAAAAAAAAAAAAAAAAAAAAAAAAAAAAAAAAAAAAAAAAAAAAAAAAAAAAAAAAAAAAAAAAAAAAAAAAAAAAAAAAAAAAAAAAAAAAAAAAAAAAAAAAAAAAAAAAAAAAAAAAAAAAAAAAAAAAAAAAAAAAAAAAAAAAAAAAAAAAAAAAAAAAAAAAUrkfhehQbQAAAAAAAAAAAAAAAAAAAAAAAAAAAAAAAAAAAAAAAAAAAAAAAAAAAAAAAAAAAAAAAAAAAAAAAAAAAAAAAAAAAAAAAAAAAAAAAAAAAAAAAAAAAAAAAAAAAAAAAAAAAAAAAAAAAAAAAAAAAAAAAAAAAAAAAAAAAAAAAAAAAAAAAAAAAAAAAAAAAAAAAAAAAAAAAAAAAAAAAAAAAAAAAAAAAAAAAAAAAAAAAAAAAAAAAAAAAAAAAAAAAAAAAAAAAAAAAAAAAAAAAAAAAAAAAAAAAAAAAAAAAAAAAAAAAAAAAAAAAAAAAAAAAAAAAAAAAAAAAAAAAAAAAAAAAAAAAAAAAAAC4HoXrUbi+PwAAAAAAAAAAAAAAAAAAAAAAAAAAAAAAAAAAAAAAAAAAAAAAAAAAAAAAAAAAAAAAAAAAAAAAAAAAAAAAAAAAAAAAAAAAAAAAAAAAAAAAAAAAAAAAAAAAAAAAAAAAAAAAAAAAAAAAAAAAAAAAAAAAAAAAAAAAAAAAAAAAAAAAAAAAAAAAAAAAAAAAAAAAAAAAAAAAAAAAAAAAAAAAAAAAAAAAAAAAAAAAAAAAAAAAAAAAAAAAAAAAAAAAAAAAAAAAAAAAAAAAAAAAAAAAAAAAAAAAAAAAAAAAAAAAAAAAAAAAAAAAAAAAAAAAAAAAAAAAAAAAAAAAAAAAAAAAAAAAAAAAAAAAAAAAAAAAAAAAAAAAAAAAAAAAAAAAAAAAAAAAAAAAAAAAAAAAAAAAAAAAAAAAAAAAAAAAAAAAAAAAAAAAAAAAAAAAAAAAAAAAAAAAAAAAAAAAAAAAAAAAAAAAAAAAAAAAAAAAAArXo3A9CidAAAAAAAAAAAAAAAAAAAAAAAAAAAAAAAAAAAAAAAAAAAAAAAAAAAAAAAAAAAAAAAAAAAAAAAAAAAAAAAAAAAAAAAAAAAAAAAAAAAAAAAAAAAAAAAAAAAAAAAAAAAAAAAAAAAAAAAAAAAAAAAAAAAAAAAAAAAAAAAAAAAAAAAAAAAAAAAAAAAAAAAAAAAAAAAAAAAAAAAAAAAAAAAAAAAAAAAAAAAAAAAAAAAAAAAAAAAAAAAAAAAAAAAAAAAAAAAAAAAAAAAAAAAAAAAAAAAAAAAAAAAAAAAAAAAAAAAAAAAAAAAAAAAAAAAAAAAAAAAAAAAAAAAAAAAAAAAAAAAAAAAAAAAAAAAAAAAAAAAAAAAAAAAAAAAAAAFK4HoXrUQ5AAAAAAAAAAAAAAAAAAAAAAAAAAAAAAAAAAAAAAAAAAAAAAAAAAAAAAAAAAAAAAAAAAAAAAAAAAAB7FK5H4XqEPwAAAAAAAAAAAAAAAAAAAAAAAAAAAAAAAAAAAAAAAAAAAAAAAAAAAAAAAAAAAAAAAAAAAAAAAAAAAAAAAAAAAAAAAAAAAAAAAAAAAAAAAAAAAAAAAAAAAAAAAAAAAAAAAAAAAAAAAAAAAAAAAAAAAAAAAAAAAAAAAAAAAAAAAAAAAAAAAAAAAAAAAAAAAAAAAAAAAAAAAAAAAAAAAAAAAAAAAAAAAAAAAAAAAAAAAAAAAAAAAAAAAAAAAAAAAAAAAJqZmZmZ2TBAmpmZmZmZ4T8AAAAAAAAAAAAAAAAAAAAAAAAAAAAAAAAAAAAAAAAAAAAAAAAAAAAAAAAAAAAAAAAAAAAAAAAAAAAAAAAAAAAAAAAAAAAAAAAAAAAAAAAAAAAAAAAAAAAAAAAAAAAAAAAAAAAAAAAAAAAAAAAAAAAAAAAAAAAAAAAAAAAAAAAAAAAAAAAAAAAAAAAAAAAAAAAAAAAAAAAAAAAAAAAAAAAAAAAAAAAAAAAAAAAAAAAAAAAAAAAAAAAAAAAAAAAAAAAAAAAAAAAAAAAAAAAAAAAAAAAAAAAAAAAAAAAAAAAAAAAAAAAAAAAAAAAAAAAAAAAAAAAAAAAAAAAAAAAAAAAAAAAAAAAAAAAAAAAAAAAAAAAAAAAAAAAAAAAAAAAAAAAAAAAAAAAAAAAAAAAAAAAAAAAAAAAAAAAAAAAAAAAAAAAAAAAAAAAAAAAAAAAAAAAAAAAAAAAAAAAAAAAAAAAAAAAAAAAAAAAAAAAAAAAAAAAAAAAAAAAAAAAAAAAAAAAAAAAAAAAAAAAAAAAAAAAAAAAAAAAAAAAAAAAAAAAAAAAAAAAAAAAAAAAAAAAAAAAAAAAAAAAAAAAAAAAAAAAAAAAAAAAAAAAAAAAAAAAAAAAAAAAAAAAAAAAAAAAAAAAAAAAAAAAAAAAAAAAAAAAAAAAAAAAAAAAAAAAAAAAAAAAAAAAAAAAAAAAAAAAAAAAAAAAAAAAAAAAAAAAAAAAAAAAAAAAAAAAAAAAAAAAAAAAAAAAAAAAAAAAAAAAAAAAAAAAAAAAAAAAAAAAAAAAAAAAAAAAAAAAAAAAAAAAAAAAAAAAAAAAAAAAAAAAAAAAAAAAAAAAAAD0K16Nw/TZAAAAAAAAAAAAAAAAAAAAAAAAAAAAAAAAAAAAAAAAAAAAAAAAAAAAAAAAAAAAAAAAAAAAAAAAAAAAAAAAAAAAAAAAAAAAAAAAAAAAAAAAAAAAAAAAAAAAAAHsUrkfheoQ/AAAAAAAAAAD2KFyPwvXYPwAAAAAAAAAAAAAAAAAAAAAAAAAAAAAAAAAAAAAAAAAAAAAAAAAAAAAAAAAAAAAAAAAAAAAAAAAAAAAAAAAAAAAAAAAAAAAAAAAAAAAAAAAAAAAAAAAAAAAAAAAAAAAAAAAAAAAAAAAAAAAAAAAAAAAAAAAAAAAAAAAAAAAAAAAAAAAAAAAAAAAAAAAAAAAAAAAAAAAAAAAAAAAAAAAAAAAAAAAAAAAAAAAAAAAAAAAAAAAAAAAAAAAAAAAAAAAAAAAAAAAAAAAAAAAAAAAAAAAAAAAAAAAAAAAAAAAAAAAAAAAAAAAAAAAAAAAAAAAAAAAAAAAAAAAAAAAAAAAAAAAAAAAAAAAAAAAAAAAAAAAAAAAAAAAAAAAAAAAAAAAAAAAAAAAAAAAAAAAAAAAAAAAAAAAAAAAAAAAAAAAAAAAAAAAAAAAAAAAAAAAAAAAAAAAAAAAAAAAAAAAAAAAAAAAAAAAAAAAAAAAAAAAAAAAAAAAAAAAAAAAAAAAAAAAAAAAAAAAAAAAAAAAAAAAAAAAAAAAAAAAAAAAAAAAAAAAAAAAAAAAAAAAAAAAAAAAAAAAAAAAAAAAAAAAAAAAAAAAAAAAAAAAAAAAAAAAAAAAAAAAAAAAAAAAAAAAAAAAAAAAAAAAAAAAAAAAAAAAAAAAAAAAAAAAAAAAAAAAAAAAAAAAAAAAAAAAAAAAAAAAAAAAAAAAAAAAAAAAAAAAAAAAAAAAAAAAAAAAAAAAAAAAAAAAAAAAAAAAAAAAAAAAAAAAAAAAAAAAAAAAAAAAAAAAAAAAAAAAAAAAAAAAAAAAAAAAAAAAAAAAAAAAAAAAAAAAAAAAAAAAAAAAAAAAAAAAAAAAAAAAAAAAAAAAAAAAAAAAAAAAAAAAAAAAAAAAAAK5H4XoUrvM/AAAAAAAAAAC4HoXrUbgbQAAAAAAAAAAAAAAAAAAAAAAAAAAAAAAAAAAAAAAAAAAAAAAAAAAAAAAAAAAAAAAAAAAAAAAAAAAAAAAAAAAAAAAAAAAAAAAAAAAAAAAAAAAAAAAAAAAAAAAAAAAAAAAAAAAAAAAAAAAAAAAAAAAAAAAAAAAAAAAAAAAAAAAAAAAAAAAAAAAAAAAAAAAAAAAAAAAAAAAAAAAAAAAAAAAAAAAAAAAAAAAAAAAAAAAAAAAAAAAAAAAAAAAAAAAAAAAAAAAAAAAAAAAAAAAAAAAAAAAAAAAAAAAAAAAAAAAAAAAAAAAAAAAAAAAAAAAAAAAAAAAAAAAAAAAAAAAAAAAAAAAAAAAAAAAAAOF6FK5H4do/AAAAAAAAAAAAAAAAAAAAAAAAAAAAAAAAAAAAAAAAAAAAAAAAAAAAAAAAAAAAAAAAAAAAAAAAAAAAAAAAAAAAAAAAAAAAAAAAAAAAAAAAAAAAAAAAAAAAAAAAAAAAAAAAAAAAAAAAAAAAAAAAAAAAAAAAAAAAAAAAAAAAAAAAAAAAAAAAAAAAAAAAAAAAAAAAAAAAAAAAAAAAAAAAAAAAAAAAAAAAAAAAAAAAAAAAAAAAAAAAAAAAAAAAAAAAAAAAAAAAAAAAAAAAAAAAAAAAAAAAAAAAAAAAAAAAAAAAAAAAAAAAAAAAAAAAAAAAAAAAAAAAAAAAAAAAAAAAAAAAAAAAAAAAAPh/AAAAAAAAAAAAAAAAAAAAAAAAAAAAAAAAAAAAAAAAAAAAAAAAAAAAAAAAAAAAAAAAAAAAAAAAAAAAAAAAAAAAAAAAAAAAAAAAAAAAAAAAAAAAAAAAAAAAAAAAAAAAAAAAAAAAAAAAAAAAAAAAAAAAAAAAAAAAAAAAAAAAAAAAAAAAAAAAAAAAAAAAAAAAAAAAAAAAAAAAAAAAAAAAAAAAAAAAAAAAAAAAAAAAAAAAAAAAAAAAAAAAAAAAAAAAAAAAAAAAAAAAAAAAAAAAAAAAAAAAAAAAAAAAAAAAAAAAAAAAAAAAAAAAAAAAAAAAAAAAAAAAAAAAAAAAAAAAAAAAAAAAAAAAAAAAAAAAAAAAAAAAAAAAAAAAAAAAAAAAAAAAAAAAAAAAAAAAAAAAAAAAAAAAAAAAAAAAAAAAAAAAAAAAAAAAAAAAAAAAAAAAAAAAAAAAAAAA+H8AAAAAAAAAAAAAAAAAAAAAAAAAAAAAAAAAAAAAAAAAAMP1KFyPwhJAAAAAAAAAAAAAAAAAAAAAAAAAAAAAAAAAAAAAAAAAAAAAAAAAAAAAAAAAAAAAAAAAAAAAAAAAAAAAAAAAAAAAAAAAAAAAAAAAAAAAAAAAAAAAAAAAAAAAAAAAAAAAAAAAAAAAAAAAAAAAAAAAAAAAAAAAAAAAAAAAAAAAAAAAAAAAAAAAAAAAAAAAAAAAAAAAAAAAAAAAAAAAAAAAAAAAAAAAAAAAAAAAAAAAAAAAAAAAAAAAAAAAAAAAAAAAAAAAAAAAAAAAAAAAAAAAAAAAAAAAAAAAAAAAAAAAAAAAAAAAAAAAAAAAAAAAAAAAAAAAAAAAAAAAAAAAAAAAAAAAAAAAAAAAAPh/AAAAAAAAAAAAAAAAAAAAAAAAAAAAAAAAAAAAAAAAAAAAAAAAAAAAAAAAAAAAAAAAAAAAAAAAAAAAAAAAAAAAAAAAAAAAAAAAAAAAAAAAAAAAAAAAAAD4fwAAAAAAAAAAAAAAAAAA+H8AAAAAAAAAAAAAAAAAAAAAAAAAAAAAAAAAAAAAAAAAAAAAAAAAAAAAAAAAAAAAAAAAAAAAAAAAAAAAAAAAAAAAAAAAAAAAAAAAAAAAAAAAAAAAAAAAAAAAAAAAAAAAAAAAAAAAAAAAAAAAAAAAAAAAAAAAAAAAAAAAAAAAAAAAAAAAAAAAAAAAAAAAAAAAAAAAAAAAAAAAAAAAAAAAAAAAAAAAAAAAAAAAAAAAAADQPwAAAAAAAAAAAAAAAAAAAAAAAAAAAAAAAAAAAAAAAAAAAAAAAAAAAAAAAAAAAAAAAAAAAAAAAAAAAAAAAAAAAAAAAAAAAAAAAAAAAAAAAAAAAAAAAAAAAAAAAAAAAAAAAAAAAAAAAAAAAAAAAAAAAAAAAAAAAAAAAAAAAAAAAAAAAAAAAAAAAAAAAAAAAAAAAAAAAAAAAAAAAAAAAAAAAAAAAAAAAAAAAAAAAAAAAAAAAAAAAAAAAAAAAAAAAAAAAAAAAAAAAAAAAAAAAAAAAAAAAAAAAAAAAPYoXI/C9RFAAAAAAAAAAAAAAAAAAAAAAAAAAAAAAAAAAAAAAAAAAAAAAAAAAAAAAAAAAAAAAAAAAAAAAAAAAAAAAAAAAAAAAAAAAAAAAAAAAAAAAAAAAAAAAAAAAAAAAAAAAAAAAAAAAAAAAAAAAAAAAAAAAAAAAAAAAAAAAAAAAAAAAAAAAAAAAAAAAAAAAAAAAAAAAAAAAAAAAAAAAAAAAAAAAAAAAAAAAAAAAAAAAAAAAAAAAAAAAAAAAAAAAAAAAAAAAAAAAAAAAAAAAAAAAAAAAAAAAAAAAAAAAAAAAAAAAAAAAAAAAAAAAAAAAAAAAAAAAAAAAAAAAAAAAAAAAAAAAAAAAAAAAAAAAAAAAAAAAAAAAAAAAAAAAAAAAAAAAAAAAAAAAAAAAAAAAAAAAAAAAAAAAAAAAAAAAAAAAAAAAAAAAAAAAAAAAAAAAAAAAAAAAAAAAAAAAAAAAAAAAAAAAAAAAAAAAAAAAAAAAAAAAAAAAAAAAAAAAAAAAAAAAAAAAAAAAAAAAAAAAAAAAAAAAAAAAAAAAAAAAAAAAAAAAAAAAAAAAAAAAAAAAAAAAAAAAAAAAAAAAAAAAAAAAAAAAAAAAAAAAAAAAAAAAAAAAAAAAAAAAAAAAAAAAAAAAAAAAAAAAAAAAAAAAAAAAAAAAAAAAAAAAAAAAAAAAAAAAAAAAAAAAAAAAAAAAAAAAAAAAAAAAAAAAAAAAAAAAAAAAAAAAAAAAAAAAAAAAAAAAAAAAAAAAAAAAAAAAD0K16NwPfY/AAAAAAAAAAAAAAAAAAAAAAAAAAAAAAAAAAAAAAAAAAAAAAAAAAAAAAAAAAAAAAAAAAAAAAAAAAAAAAAAAAAAAAAAAAAAAAAAAAAAAAAAAAAAAAAAAAAAAAAAAAAAAAAAAAAAAAAAAAAAAAAAAAAAAAAAAAAAAAAAAAAAAAAAAAAAAAAAAAAAAAAAAAAAAAAAAAAAAAAAAAAAAAAAAAAAAAAAAAAAAAAAAAAAAAAAAAAAAAAAAAAAAAAAAAAAAAAAAAAAAAAAAAAAAAAAAAAAAAAAAAAAAAAAAAAAAAAAAAAAAAAAAAAAAAAAAAAAAAAAAAAAAAAAAAAAAAAAAAAAAAAAAAAAAAAAAAAAAAAAAAAAAAAAAAAAAAAAAAAAAAAAAAAAAAAAAAAAAAAAAAAAAAAAAAAAAAAAAAAAAAAAAAAAAAAAAAAAAAAAAAAAAAAAAAAAAAAAAAAAAAAAAAAAAAAAAAAAAAAAAAAAAAAAAAAAAAAAAAAAAAAAAAAAAAAAAAAAAAAAAAAAAAAAAAAAAAAAAAAAAAAAAAAAAAAAAAAAAAAAAAAAAAAAAAAAAAAAAAAAAAAA+H8AAAAAAAD4fwAAAAAAAAAAAAAAAAAAAAAAAAAAAAAAAAAAAAAAAAAAAAAAAAAAAAAAAAAAAAAAAAAAAAAAAAAAAAAAAAAAAAAAAAAAAAAAAAAAAAAAAAAAAAAAAAAAAAAAAAAAAAAAAAAAAAAAAAAAAAAAAAAAAAAAAAAAAAAAAAAAAAAAAAAAAAAAAAAAAAAAAAAAAAAAAGZmZmZmZvo/AAAAAAAAAAAAAAAAAAAAAAAAAAAAAAAAAAAAAAAAAAAAAAAAAAAAAAAAAAAAAAAAAAAAAAAAAAAAAAAAAAAAAAAAAAAAAAAAAAAAAAAAAAAAAAAAAAAAAAAAAAAAAAAAAAAAAAAAAAAAAAAAAAAAAAAAAAAAAAAAAAAAAAAAAAAAAAAAAAAAAAAAAAAAAAAAAAAAAAAAAAAAAAAAAAAAAAAAAAAAAAAAAAAAAAAAAAAAAAAAAAAAAAAAAAAAAAAAAAAAAAAAAAAAAAAAAAAAAAAAAAAAAAAAAAAAAAAAAAAAAAAAAAAAAAAAAAAAAAAAAAAAAAAAAAAAAAAAAAAAAAAAAAAAAAAAAAAAAAAAAAAAAAAAAAAAAAAAAAAAAAAAAAAAAAAAAAAAAAAAAAAAAAAAAAAAAAAAAAAAAAAAAAAAAAAAAAAAAAAAAAAAAAAAAAAAAAAAAAAAAAAAAAAAAAAAAAAAAAAAAAAAAAAAAAAAAAAAAAAAAAAAAAAAAAAAAAAAAAAAAAAAAAAAAAAAAAAAAAAAAAAAAAAAAAAAAAAAAAAAAAAAAAAAAAAAAAAAAAAAAAAAAAAAAAAAAAAAAAAAAAAAAAAAAAAAAAAAAAAAAAAAAAAAAAAAAAAAAAAAAAAAAAAAAAAAAAAAAAAAAAAAAAAAAAAAAAAAAAAAAAAAAAAAAAAAAAAAAAAAAAAAAAAAAAAAAAAAAAAAAAAAAAAAAAAAAAAAAAAAAAAAAAAAAAAAAAAAAAAAAAAAAAAAAAAAAAAAAAAAAAAAAAAAAAAAAAAAAPh/AAAAAAAAAAAAAAAAAAAAAAAAAAAAAAAAAAAAAAAAAAAAAAAAAAAAAAAAAAAAAAAAAAAAAAAAAAAAAAAAAAAAAAAAAAAAAAAAAAAAAAAAAAAAAAAAAAAAAAAAAAAAAAAAAAAAAAAAAAAAAAAAAAAAAAAAAAAAAAAAAAAAAAAAAAAAAAAAAAAAAAAAAAAAAAAAAAAAAAAAAAAAAAAAAAAAAAAAAAAAAAAAAAAAAAAAAAAAAAAAAAAAAAAAAAAAAAAAAAAAAAAAAAAAAAAAAAAAAAAAAAAAAAAAAAAAAAAAAAAAAAAAAAAAAAAAAAAAAAAAAAAAAAAAAAAAAAAAAAAAAAAAAAAAAAAAAAAAAAAAAAAAAAAAAAAAAAAAAAAAAAAAAAAAAAAAAAAAAAAAAAAAAAAAAAAAAAAAAAAAAAAAAAAAAAAAAAAAAAAAAAAAAAAAAAAAAAAAAAAAAAAAAAAAAAAAAAAAAAAAAAAAAAAAAAAAAAAAAAAAAAAAAAAAAAAAAAAAAAAAAAAAAAAAAAAAAIXrUbgehSBAAAAAAAAAAACamZmZmZm5PwAAAAAAAAAAAAAAAAAAAAAAAAAAAAAAAAAAAAAAAAAAAAAAAAAAAACuR+F6FC5UQAAAAAAAAAAAAAAAAAAAAAAAAAAAAAAAAAAAAAAAAAAAAAAAAAAAAAAAAAAAAAAAAAAAAAAAAAAAAAAAAAAAAAAAAAAAAAAAAAAAAAAAAAAAAAAAAAAAAABmZmZmZmbmPwAAAAAAAAAAAAAAAAAAAAAAAAAAAAAAAAAAAAAAAAAAAAAAAAAAAAAAAAAAAAAAAAAAAAAAAAAAAAAAAAAAAAAAAAAAAAAAAAAAAAAAAAAAAAAAAAAAAAAAAAAAAAAAAAAAAAAAAAAAAAAAAAAAAAAAAAAAAAAAAAAAAAAAAAAAAAAAAAAAAAAAAAAAAAD4fwAAAAAAAAAAAAAAAAAAAAAAAAAAAAAAAAAAAAAAAAAAAAAAAAAAAAAAAAAAAAAAAAAAAAAAAAAAAAAAAAAAAAAAAAAAAAAAAAAAAAAAAAAAAAAAAAAAAAAAAAAAAAAAAAAAAAAAAAAAAAAAAAAAAAAAAAAAAAAAAAAAAAAAAAAAAAAAAAAAAAAAAAAAAAAAAAAAAAAAAAAAAAAAAAAAAAAAAAAAAAAAAAAAAAAAAAAAAAAAAAAAAAAAAAAAAAAAAAAAAAAAAAAAAAAAAAAAAAAAAAAAAAAAAAAAAAAAAAAAAAAAAAAAAAAAAAAAAAAAAAAAAAAAAAAAAAAAAAAAAAAAAAAAAAAAAAAAAAAAAAAAAAAAAAAAAAAAAAAAAAAAAAAAAAAAAAAAAAAAAAAAAAAAAAAAAAAAAAAAAAAAAAAAAAAAAAAAAAAAAAAAAAAAAAAAAAAAAAAAAAAAAAAAAAAAAAAAAAAAAAAAAAAAAAAAAAAAAAAAAAAAAAAAAAAAAAAAAAAAAAAAAAAAAAAAAAAAAAAAAAAAAAAAAAAAAAAAAAAAAAAAAAAAAAAAAAAAAAAAAAAAAAAAmpmZmZmZuT8AAAAAAAAAAAAAAAAAAAAAAAAAAAAAAAAAAAAAAAAAAAAAAAAAAPh/AAAAAAAAAAAAAAAAAAAAAAAAAAAAAAAAAAAAAAAAAAAAAAAAAAAAAAAAAAAAAAAAAAAAAAAAAAAAAAAAAAAAAAAAAAAAAAAAAAAAAAAAAAAAAAAAAAAAALgehetRuA5AAAAAAAAAAAAAAAAAAAAAAAAAAAAAAAAAAAAAAAAAAAAAAAAAAAAAAAAAAAAAAAAAAAAAAAAAAAAAAAAAAAAAAAAAAAAAAAAAAAAAAAAAAAAAAAAAAAAAAAAAAAAAAAAAAAAAAAAAAAAAAAAAAAAAAAAAAAAAAAAAAAAAAAAAAAAAAAAAAAAAAAAAAAAAAAAAAAAAAAAAAAAAAAAAAAAAAAAAAAAAAAAAAAAAAAAAAAAAAAAAAAAAAAAAAAAAAAAAAAAAAAAAAAAAAAAAAAAAAAAAAAAAAAAAAAAAAAAAAAAAAAAAAAAAAAAAAAAAAAAAAAAAAAAAAAAAAAAAAAAAAAAAAAAAAAAAAAAAAAAAAAAAAAAAAAAAAAAAAAAAAAAAAAAAAAAAAAAAAAAAAAAAAAAAAAAAAAAAAAAAAAAAAAAAAAAAAAAAAAAAAAAAAAAAAAAAAAAAAAAAAAAAAAAAAAAAAAAAAAAAAAAAAAAAAAAAAAAAAAAAAAAAAAAAAAAAAAAAAAAAAAAAAAAAAAAAAAAAAAAAAAAAAAAAAAAAAAAAAAAAAAAAAAAAAAAAAAAAAAAAAAAAAAAAAAAAAAAAAAAAAAAAAPh/AAAAAAAAAAAAAAAAAAAAAAAAAAAAAAAAAAAAAAAAAAAAAAAAAAAAAAAAAAAAAAAAAAAAAAAAAAAAAAAAAAAAAAAAAAAAAAAAAAAAAAAAAAAAAAAAAAAAAAAAAAAAAAAAAAAAAAAAAAAAAAAAAAAAAAAAAAAAAAAAAAAAAAAAAAAAAAAAAAAAAAAAAAAAAAAAAAAAAAAAAAAAAAAAAAAAAAAAAAAAAAAAAAAAAAAAAAAAAAAAAAAAAAAAAAAAAAAAAAAAAAAAAAAAAAAAAAAAAAAAAAAAAAAAAAAAAAAA+H8AAAAAAAAAAAAAAAAAAAAAAAAAAAAAAAAAAAAAAAAAAAAAAAAAAAAAAAAAAAAAAAAAAAAAAAAAAAAAAAAAAAAAAAAAAAAAAAAAAAAAAAAAAAAAAAAAAAAAAAAAAAAAAAAAAAAAAAAAAAAAAAAAAAAAAAAAAAAAAAAAAAAAAAAAAAAAAAAAAAAAAAAAAAAAAAAAAAAAAAAAAAAAAAAAAAAAAAAAAAAAAAAAAAAAAAAAAAAAAAAAAAAAAAAAAAAAAAAAAAAAAAAAAAAAAAAAAAAAAAAAAAAAAADhehSuR+EOQAAAAAAAAAAAAAAAAAAAAAAAAAAAAAAAAAAAAAAAAAAAAAAAAAAAAAAAAAAAAAAAAAAAAAAAAAAAAAAAAAAAAAAAAAAAAAAAAAAAAAAAAAAAAAAAAAAAAAAAAAAAAAAAAAAAAAAAAAAAAAAAAAAAAAAAAAAAAAAAAAAAAAAAAAAAAAAAAAAAAAAAAAAAAAAAAAAAAAAAAAAAAAAAAAAAAAAAAAAAAAAAAAAAAAAAAAAAAAAAAAAAAAAAAAAAAAAAAAAAAAAAAAAAAAAAAAAAAAAAAAAAAAAAAAAAAAAAAAAAAAAAAAAAAAAAAAAAAAAAAAAAAAAAAAAAAAAAAAAAAAAAAAAAAAAAAAAAAAAAAAAAAAAAAAAAAAAAAAAAAAAAAAAAAAAAAAAAAAAAAAAAAAAAAAAAAAAAAAAAAAAAAAAAAAAAAAAAAAAAAAAAAAAAAAAAAAAAAAAAAAAAAAAAAAAAAAAAAAAAAAAAAAAAAAAAAAAAAAAAAAAAAAAAAAAAAAAAAAAAAAAAAAAAAAAAAAAAAAAAAAAAAAAAAAAAAAAAAAAAAAAAAAAAAAAAAAAAAAAAAAAAAAAAAAAAAAAAAAAAAAAAAAAAAAAAAAAAAAAAAAAAAAAAAAAAAAAAAAAAAAAAAAAAAAAAAAAAAAAAAAAAAAAAAAAAAAAAAAAAAAAAAAAAAAAAAAAAAAAAAAAAAAAAAAAAAAAAAAAAAAAAAAAAAAAAAAAAAAAAAAAAAAAAAAAAAAAAAAAAAAAAAAAAAAAAAAAAAAAAAAAAAAAAAAAAAAAAAAAAAAAAAAAAAAAAAAAAAAAAAAAAAAAAAAAAAAAAAAAAAAAAAAAAAAAAAAAAAAAAAAAAAAAAAAAAAAAAAAAAAAAAAAAAAAAAAAAAAAAAAAAAAAAAAAAAAAAAAAAAAAAAAAAAAAAAAAAAAAAAAAAAAAAAAAAAAAAAAAAAAAAAAAAAAAAAAAAAAAAAAAAAAAAAAAAAAAAAAAAAAAAAAAAAAAAAAAAAAAAAAAAAAAAAAAAAAAAAAAAAAAAAAAAAAAAAAAAAAAAAAAAAAAAAAAAAAAAAAAAAAAAAAAAAAAAAAAAAAAAAAAAAAAAAAAAAAAAAAAAAAAAAAAAAAAAAAAAAAAAAAAAAAAAAAAAAAAAAAAAAAAAAcT0K16NwzT8AAAAAAAAAAAAAAAAAAAAAAAAAAAAAAAAAAAAAAAAAAAAAAAAAAAAAAAAAAAAAAAAAAAAAAAAAAAAAAAAAAAAAAAAAAAAAAAAAAAAAAAAAAAAAAAAAAAAAAAAAAAAAAAAAAAAAAAAAAAAAAAAAAAAAAAAAAAAAAAAAAAAAAAAAAAAAAAAAAAAAAAAAAAAAAAAAAAAAAAAAAAAAAAAAAAAAAAAAAAAAAAAAAAAAAAAAAAAAAAAAAAAAAAAAAAAAAAAAAAAAAAAAAAAAAAAAAAAAAAAAAAAAAAAAAAAAAAAAAAAAAAAAAAAAAAAAAAAAAAAAAAAAAAAAAAAAAAAAAAAAAAAAAAAAAAAzMzMzMzMSQAAAAAAAAAAAAAAAAAAAAAAAAAAAAAAAAAAAAAAAAAAAAAAAAAAAAAAAAAAAAAAAAAAAAAAAAAAAAAAAAAAAAAAAAAAAAAAAAAAAAAAAAAAAAAAAAAAAAAAAAAAAAAAAAAAAAAAAAAAAAAAAAAAAAAAzMzMzMzPDPwAAAAAAAAAAAAAAAAAAAAAAAAAAAAAAAAAAAAAAAAAAAAAAAAAAAAAAAAAAAAAAAAAAAAAAAAAAAAAAAAAAAAAAAAAAAAAAAAAAAAAAAAAAAAAAAAAAAAAAAAAAAAAAAAAAAAAAAAAAAAAAAAAAAAAAAAAAAAAAAAAAAAAAAAAAAAAAAAAAAAAAAAAAAAAAAAAAAAAAAAAAAAAAAAAAAAAAAAAAAAAAAAAAAAAAAAAAAAAAAAAAAAAAAAAAAAAAAAAAAAAAAAAAAAAAAAAAAAAAAAAAAAAAAAAAAAAAAAAAAAAAAAAAAAAAAAAAAAAAAAAAAAAAAAAAAAAAAAAAAAAAAAAAAAAAAAAAAAAAAAAAAAAAAAAAAAAAAAAAAAAAAAAAAAAAAAAAAAAAAAAAAAAAAAAAAAAAAAAAAAAAAAAAAAAAAAAAAAAAAAAAAAAAAAAAAAAAAAAAAAAAAAAAAAAAAAAAAAAAAAAAAAAAAAAAAAAAAAAAAAAAAAAAAAAAAAAAAAAAAAAAAAAAAAAAAAAAAAAAAAAAAAAAAAAAAAAAAAAAAAAAAAAAAAAAAAAAAAAAAAAAAAAAAAAAAAAAAAAAAAAAAAAAAAAAAAAAAAAAAAAAAAAAAAAAAAAAAAAAAAAAAAAAAAAAAAAAAAAAAAAAAAAAAAAAAAAAAAAAAAAAAAAAAAAAAAAAAAAAAAAAAAAAAAAAAAAAAAAAAAAAAAAAAAAAAAAAAAAAAAAAAAAAAAAAAAAAAAAAAAAAAAAAAAAAAAAAAAAAAAAAAAAAAAAAAAAAAAAAAAAAAAAAAAAAAAAAAAAAAAAAAAAAAAAAAAAAAAAAAAAAAAAAAAAAAAAAAAAAAAAAAAAAAAAAAAAAAAAAAAAAAAAAAAAAAAAAAAAAAAAAAAAAAAAAAAAAAAAAAAAAAAAAAAAAAAAAAAAAAAAAAAAAAAAAAAAAAAAAAAAAAAAAAAAAAAAAAAAAAAAAAAAAAAAAAAAAAAAAAAAAAAAAAAAAAAAAAAAAAAAAAAAAAAAAAAAAAAAAAAAAAAAAAAAAAAD4fwAAAAAAAAAAAAAAAAAAAAAAAAAAAAAAAAAAAAAAAAAAAAAAAAAAAAAAAAAAAAAAAAAAAAAAAAAAAAAAAAAAAAAAAAAAAAAAAAAAAAAAAAAAAAAAAAAAAAAAAAAAAAAAAAAAAAAAAAAAAAAAAAAAAAAAAAAAAAAAAAAAAAAAAAAAAAAAAAAAAAAAAAAAAAAAAAAAAAAAAAAAAAAAAAAAAAAAAAAAAAAAAAAAAAAAAAAAAAAAAAAAAAAAAAAAAAAAAAAAAAAAAAAAAAAAAAAAAAAAAAAAAAAAAAAAAAAAAAAAAAAAAAAAAAAAAAAAAAAAAAAAAAAAAAAAAAAAAAAAAAAAAAAAAAAAAAAAAAAAAAAAAAAAAAAAAACamZmZmZnxPwAAAAAAAAAAzczMzMzM7D8AAAAAAAAAAAAAAAAAAAAAAAAAAAAAAAAAAAAAAAAAAAAAAAAAAAAAAAAAAAAAAAAAAAAAAAAAAAAAAAAAAAAAAAAAAAAAAAAAAAAAAAAAAAAAAAAAAAAAAAAAAAAAAAC4HoXrUbjOPwAAAAAAAAAAAAAAAAAAAAAAAAAAAAAAAAAAAAAAAAAAAAAAAAAAAAAAAAAAAAAAAAAAAAAAAAAAAAAAAAAAAAAAAAAAAAAAAAAAAAAAAAAAAAAAAAAAAAAAAAAAAAAAAAAAAAAAAAAAAAAAAAAAAAAAAAAAAAAAAAAAAAAAAAAAAAAAAAAAAAAAAAAAAAAAAAAAAAAAAAAAAAAAAAAAAAAAAAAAAAAAAAAAAAAAAAAAAAAAAAAAAAAAAAAAAAAAAAAAAAAAAAAAAAAAAAAAAAAAAAAAAAAAAAAAAAAAAAAAAAAAAAAAAAAAAAAAAAAAAAAAAAAAAAAAAAAAAAAAAAAAAAAAAAAAAAAAAAAAAAAAAAAAAAAAAAAAAAAAAAAAAAAAAAAAAAAAAAAAAAAAAAAAAAAAAAAAAAAAAAAAAAAAAAAAAAAAAAAAAAAAAAAAAAAAAAAAAAAAAAAAAAAAAAAAAAAAAAAAAAAAAAAAAAAAAAAAAAAAAAAAAAAAAAAAAPYoXI/C9TZAAAAAAAAAAAAAAAAAAAAAAAAAAAAAAAAAAAAAAAAAAAAAAAAAAAAAAAAAAAAAAAAAAAAAAAAAAAAAAAAAAAAAAAAAAAAAAAAAAAAAAAAAAAAAAAAAAAAAAAAAAAAAAAAAAAAAAAAAAAAAAAAAAAAAAAAAAAAAAAAAAAAAAAAAAAAAAAAAAAAAAAAAAAAAAAAAAAAAAAAAAAAAAAAAAAAAAAAAAAAAAAAAAAAAAAAAAAAAAAAAAAAAAAAAAAAAAAAAH4XrUbge7T8AAAAAAAAAAAAAAAAAAAAAAAAAAAAAAAAAAAAAAAAAAAAAAAAAAAAAAAAAAAAAAAAAAAAAAAAAAAAAAAAAAAAAAAAAAAAAAAAAAAAAAAAAAAAAAAAAAAAAAAAAAAAAAAAAAAAAAAAAAAAAAAAAAAAAAAAAAAAAAAAAAAAAAAAAAAAAAAAAAAAAhetRuB6FJEAAAAAAAAAAAAAAAAAAAAAAAAAAAAAAAAAAAAAAAAAAAAAAAAAAAAAAAAAAAAAAAACamZmZmZnhPwAAAAAAAAAAAAAAAAAAAAAAAAAAAAAAAAAAAAAAAAAAAAAAAAAAAAAAAAAAAAAAAAAAAAAAAAAAAAAAAAAAAAAAAAAAAAAAAAAAAAAAAAAAAAAAAAAAAAAAAAAAAAAAAAAAAAAAAAAAAAAAAAAAAAAAAAAAAAAAAAAAAAAAAAAAAAAAAAAAAAAAAAAAAAAAAAAAAAAAAAAAAAAAAAAAAAAAAAAAAAAAAAAAAAAAAAAASOF6FK5H0T8AAAAAAAAAAAAAAAAAAAAAAAAAAAAAAAAAAAAAAAAAAAAAAAAAAPh/AAAAAAAAAAAAAAAAAAAAAAAAAAAAAAAAAAAAAAAAAAAAAAAAAAAAAAAAAAAAAAAAAAAAAAAAAAAAAAAAAAAAAAAAAAAAAAAAAAAAAAAAAAAAAAAAAAAAAAAAAAAAAAAAAAAAAAAAAAAAAAAAAAAAAAAAAAAAAAAAAAAAAAAAAAAAAAAAAAAAAAAAAAAAAAAAAAAAAAAAAAAAAAAAAAAAAAAAAAAAAAAAAAAAAAAAAAAAAAAAAAAAAAAAAAAAAAAAAAAAAAAAAAAAAAAAAAAAAAAAAAAAAAAAAAAAAAAAAAAAAAAAAAAAAAAAAAAAAAAAAAAAAAAAAAAAAAAAAAAAAAAAAAAAAAAAAAAAAAAAAAAAAAAAAAAAAAAAAAAAAAAAAAAAAAAAAAA9CtejcD0iQAAAAAAAAAAAAAAAAAAAAAAAAAAAAAAAAAAAAAAAAAAAAAAAAAAAAAAAAAAAAAAAAAAAAAAAAAAAAAAAAAAAAAAAAAAAAAAAAIXrUbgeheM/AAAAAAAAAAAAAAAAAAAAAAAAAAAAAAAAAAAAAAAAAAAAAAAAAAAAAAAAAAAAAAAAAAAAAAAAAAAAAAAAAAAAAAAAAAAAAAAAAAAAAAAAAAAAAAAAAAAAAAAAAAAAAAAAAAAAAAAAAAAAAAAAAAAAAAAAAAAAAAAAAAAAAAAAAAAAAAAAAAAAAAAAAAAAAAAAAAAAAAAAAAAAAAAAAAAAAAAAAAAAAAAAAAAAAAAAAAAAAAAAAAAAAAAAAAAAAAAAAAAAAAAAAAAAAAAAAAAAAAAAAAAAAAAAAAAAAAAAAAAAAAAAAAAAAAAAAAAAAAAAAAAAAAAAAAAAAAAAAAAAAEjhehSuR+k/AAAAAAAAAAAAAAAAAAAAAAAAAAAAAAAAAAAAAAAAAAAAAAAAAAAAAAAAAAAAAAAAuB6F61G4EkAAAAAAAAAAAAAAAAAAAAAAAAAAAAAAAAAAAAAAAAAAAAAAAAAAAAAAAAAAAAAAAAAAAAAAAAAAAAAAAAAAAAAAAAAAAAAAAAAAAAAAAAAAAAAAAAAAAAAAAAAAAAAAAAAAAAAAAAAAAAAAAAAAAAAAAAAAAAAAAAAAAAAAAAAAAAAAAAAAAAAAAAAAAAAAAAAAAAAAAAAAAAAAAAAAAAAAPQrXo3A98j8AAAAAAAAAAAAAAAAAAAAAAAAAAAAAAAAAAAAAAAAAAAAAAAAAAAAAAAAAAAAAAAAAAAAAAAAAAAAAAAAAAAAAAAAAAAAAAAAAAAAAAAAAAAAAAAAAAAAAAAAAAAAAAAAAAAAAAAAAAAAAAAAAAAAAAAAAAAAAAAAAAAAAAAAAAAAAAAAAAAAAAAAAAAAAAAAAAAAAAAAAAAAAAAAAAAAAAAAAAAAAAAC4HoXrUbjOPwAAAAAAAAAAAAAAAAAAAAAAAAAAAAAAAAAAAAAAAAAAAAAAAAAAAAAAAAAAAAAAAAAAAAAAAAAAAAAAAAAAAAAAAAAAAAAAAAAAAAAAAAAAAAAAAAAAAAAAAAAAAAAAAAAAAAAAAAAAAAAAAAAAAAAAAAAAAAAAAAAAAAAAAAAAAAAAAAAAAAAAAAAAAAAAAAAAAAAAAAAAAAAAAAAAAAAAAAAAAAAAAAAAAAAAAAAAAAAAAAAAAAAAAAAAAAAAAAAAAAAAAAAAAAAAAAAAAAAAAAAAAAAAAAAAAAAAAAAAAAAAAAAAAAAAAAAAAAAAAAAAAAAAAAAAAAAAAAAAAAAAAAAAAAAAAAAAAAAAAAAAAAAAAAAAAAAAAAAAAAAAAAAAAAAAAAAAAAAAAAAAAAAAAAAAAAAAAAAAAAAAAAAAAAAAAAAAAAAAAAAAAAAAAAAAAAAAAAAAAAAAAAAAAAAAAAAAAAAAAAAAAAAAAAAAAAAAAAAAAAAAAAAAAAAAAAAAAAAAAAAAAAAAAAAAAAAAAAAAAAAAAAAAAAAAAAAAAAAAAAAAAAAAAAAAAAAAAAAAAAAAAAAAAAAAAAAAAAAAAAAAAAAAAAAAAAAAAAAAAAAAAAAAAAAAAAAAAAAAAAAAAAAAAAAAAAAAAAAAAAAAAAAAAAAAAAAAAAAAAAAAAAAAAAAAAAAAAAAAAAAAAAAAAAAAAAAAAAAAAAAAAAAAAAAAAAAAAAAAAAAAAAAAAAAAAAAAAACamZmZmZnhPwAAAAAAAAAAAAAAAAAAAAAAAAAAAAAAALgehetRuPI/AAAAAAAAAAAAAAAAAAAAAAAAAAAAAAAAAAAAAAAAAAAAAAAAAAAAAAAAAAAAAAAAAAAAAAAAAAAAAAAAAAAAAAAAAAAAAAAAAAAAAAAAAAAAAAAAAAAAAAAAAAAAAAAAAAAAAAAAAAAAAAAAAAAAAAAAAAAAAAAAAAAAAAAAAAAAAAAAAAAAAAAAAAAAAAAAAAAAAAAAAAAAAAAAAAAAAAAAAAAAAAAAAAAAAAAAAAAAAAAAAAAAAAAAAAAAAAAAAAAAAAAAAAAAAAAAAAAAAAAAAAAAAAAAAAAAAAAAAAAAAAAAAAAAAAAAAAAAAAAAAAAAAAAAAAAAAAAAAAAAAAAAAAAAAAAAAAAAAAAAAAAAAAAAAAAAAAAAAAAAAAAAAAAAAAAAAAAAAAAAAAAAAAAAAAAAAAAAAAAAAAAAAAAAAAAAAAAAAAAAAAAAAAAAAAAAAAAAAAAAAAAAAAAAAAAAAAAAAAAAAAAAAAAAAAAAAAAAAAAAAAAAAAAAAAAAAAAAAAAAAAAAAAAAAAAAAAAAAAAAAAAAAAAAAAAAAAAAAAAAAAAAAAAAAAAAAAAAAAAAAAAAAAAAAAAAAAAAAAAAAAAAAPh/AAAAAAAAAAAAAAAAAAAAAAAAAAAAAAAAAAAAAAAAAAAAAAAAAAAAAAAAAAAAAAAAzczMzMzM8D8AAAAAAAAAAAAAAAAAAAAAAAAAAAAAAAAAAAAAAAAAAAAAAAAAAAAAAAAAAAAAAAAAAAAAAAAAAAAAAAAAAAAAAAAAAAAAAAAAAAAAAAAAAAAAAAAAAAAAAAAAAAAAAAAAAAAAAAAAAAAAAAAAAAAAAAAAAAAAAAAAAAAAAAAAAAAAAAAAAAAAAAAAAAAAAAAAAAAAAAAAAAAAAAAAAAAAAAAAAAAAAAAAAAAAAAAAAAAAAAAAAAAAAAAAAAAAAAAAAAAAAAAAAAAAAAAAAAAAAAAAAAAAAAAAAAAAAAAAAAAAAAAAAAAAAAAAAAAAAAAAAAAAAAAAAAAAAAAAAAAAAAAAAAAAAAAAAAAAAAAAAAAAAAAAAAAAAAAAAAAAAAAAAAAAAAAAAAAAAAAAAAAAAAAAAAAAAAAAAAAAAAAAAAAAAAAAAAAAAAAAAAAAAAAAAAAAAAAAAAAAAAAAAAAAAAAAAAAAAAAAAAAAAAAAAAAAAAAAAAAAAAAAAAAAAADXo3A9CtcpQAAAAAAAAAAAAAAAAAAAAAAAAAAAAAAAAAAAAAAAAAAAAAAAAAAAAAAAAAAAAAAAAAAAAAAAAAAAAAAAAAAAAAAAAAAAAAAAAAAAAAAAAAAAAAAAAAAAAABmZmZmZuYrQAAAAAAAAAAAAAAAAAAAAAAAAAAAAAAAAAAAAAAAAAAAAAAAAAAAAAAAAAAAAAAAAAAAAAAAAAAAAAAAAAAAAAAAAAAAAAAAAAAAAAAAAAAAAAAAAAAAAAAAAAAAAAAAAAAAAAAAAAAAAAAAAAAAAAAAAAAAAAAAAAAAAAAAAAAAAAAAAAAAAAAAAAAAAAAAAAAAAAAAAAAAAAAAAAAAAAAAAAAAAAAAAAAAAAAAAAAAAAAAAAAAAAAAAAAAAAAAAAAAAAAAAAAAAAAAAAAAAACuR+F6FK7XPwAAAAAAAAAAAAAAAAAAAAAAAAAAAAAAAAAAAAAAAAAAAAAAAAAAAAAAAAAAAAAAAAAAAAAAAAAAAAAAAAAAAAAAAAAAAAAAAAAAAAAAAAAAAAAAAAAAAAAAAAAAAAAAAAAAAAAAAAAAAAAAAAAAAAAAAAAAAAAAAAAAAAAAAAAAAAAAAAAAAAAAAAAAAAAAAAAAAAAAAAAAAAAAAAAAAABxPQrXo3DxPwAAAAAAAAAAAAAAAAAAAAAAAAAAAAAAAAAAAAAAAAAAAAAAAAAAAAAAAAAAAAAAAAAAAAAAAAAAAAAAAAAAAAAAAAAAAAAAAAAAAAAAAAAAAAAAAAAAAAAAAAAAAAAAAAAAAAAAAAAAAAAAAAAAAAAAAAAAAAAAAAAAAAAAAAAAAAAAAAAAAAAAAAAAAAAAAAAAAAAAAAAAAAAAAAAAAAAAAAAAAAAAAAAAAAAAAAAAAAAAAAAAAAAAAAAAAAAAAAAAAAAAAAAAAAAAAAAAAAAAAAAAAAAAAAAAAAAAAAAAAAAAAAAAAAAAAAAAAAAAAAAAAAAAAAAAAAAAAAAAAACF61G4HoUdQAAAAAAAAAAAAAAAAAAAAAAAAAAAAAAAAAAAAAAAAAAAAAAAAAAAAAAAAAAAAAAAAAAAAAAAAAAAAAAAAAAAAAAAAAAAAAAAAAAAAAAAAAAAAAAAAAAAAAAAAAAAAAAAAAAAAAAAAAAAAAAAAAAAAAAAAAAAAAAAAAAAAAAAAAAAAAAAAAAAAAAAAAAAAAAAAAAAAAAAAAAAAAAAAAAAAAAAAAAAAAAAAAAAAAAAAAAAAAAAAAAAAAAAAAAAAAAAAAAAAAAAAAAAAAAAAAAAAAAAAAAAAAAAAAAAAAAAAAAAAAAAAAAAAAAAAAAAAAAAAAAAAAAAAAAAAAAAAAAAAAAAAAAAAAAAAAAAAAAAAAAAAAAAAAAAAAAAAAAAAAAAAAAAAAAAAAAAAAAAAAAAAAAAAAAAAAAAAAAAAAAAAAAAAAAAAAAAAAAAAAAAAAAAAAAAAAAAAAAAAAAAAAAAAAAAAAAAAAAAAAAAAAAAAAAAAAAAAAAAAAAAAAAAAAAAAAAAAAAAAAAAAAAAAAAAAAAAAAAAAAAAAAAAAAAAAAAAAAAAAAAAAAAAAAAAAAAAAAAAAAAAAAAAAAAAAAAAAAAAAAAAAAAAAAAAAAAAAAAAAAAAAAAAAAAAAAAAAAAAAAAAAAAAAAAAAAAAAAAAAAAAAAAAAAAAAAAAAAAAAAAAAAAAAAAAAAAAAAAAAAAAAAAAAAAAAAAAAAAAAAAAAAAAAAAAAAAAAAAAAAAAAAAAAAAAAAAA+H8AAAAAAAAAAAAAAAAAAAAAAAAAAAAAAAAAAAAAAAAAAAAAAAAAAAAAAAAAAAAAAAAAAAAAAAAAAAAAAAAAAAAAAAAAAAAAAAAAAAAAAAAAAAAAAAAAAAAAAAAAAAAAAACamZmZmZnhPwAAAAAAAAAAAAAAAAAAAAAAAAAAAAAAAAAAAAAAAAAAAAAAAAAAAAAAAAAAAAAAAAAAAAAAAAAAAAAAAAAAAAAAAAAAAAAAAAAAAAAAAAAAAAAAAAAAAAAAAAAAAAAAAAAAAAAAAAAAAAAAAAAAAAAAAAAAAAAAAAAAAAAAAAAAAAAAAAAA+H8AAAAAAAAAAAAAAAAAAAAAAAAAAAAAAAAAAAAAAAAAAAAAAAAAAAAAAAAAAAAAAAAAAAAAAAAAAAAAAAAAAAAAAAAAAAAAAAAAAAAAAAAAAAAAAAAAAAAAAAAAAAAAAAAAAAAAAAAAAAAAAAAAAAAAAAAAAAAAAAAAAAAAAAAAAAAAAAAAAAAAAAAAAAAAAAAAAAAAAAAAAAAAAAAAAAAAAAAAAAAAAAAAAAAAAAAAAAAAAAAAAAAAAAAAAAAAAAAAAAAAAAAAAAAAAAAAAAAAAAAAAAAAAAAAAAAAAAAAAAAAAAAAAAAAAAAAAAAAAAAAAAAAAAAAAAAAAAAAAAAAAAAAAAAAAAAAAAAAAAAAAAAAAAAAAAAAAAAAAAAAAAAAAAAAAAAAAAAAAAAAAAAAAAAAAAAAAAAAAAAAAAAAAAAAAAAAAAAAAAAAAAAAAAAAAAAAAAAAAAAAAAAAAAAAAAAAAAAAAAAAAAAAAAAAAAAAAAAAAAAAAAAAAAAAAAAAAAAAAAAAAAAAAAAAAAAAAAAAAAAAAAAAAAAAAAAAAAAAAAAAAAAAAAAAAAAAAAAAAAAAAAAAAAAAAAAAAAAAAAAAAAAAAAAAAAAAAAAAAAAAAAAAAAAAAAAAAAAAAAAAAAAAAAAAAAAAAAAAAAAAAAAAAAAAAAAAAAAAAAAAAAAAAAAAAAAAAAAAAAAAAAAAAAAAAAAAAAAAAAAAAAAAAAAAAAAAAAAAAAAAAAAAAAAAAAAAAAAAAAAAAAAAAAAAAAAAAAAAAAAAAAAAAAAAAAAAAAAAAAAAAAAAAAAAAAAAAAAAAAAAAAAAAAAAAAAAAAAAAAAAAAAAAAAAAAAAAAAAAAAAAAAAAAAAAAAAAAAAAAAAAAAAAAAAAAAAAAAAAAAAAAAAAAAAAAAAAAAAAAAAAAAAAAAAAAAAAAAAAAAAAAAAAAAAAAAAAAAAAAAAAAAAAAAAAAAAAAAAAPh/AAAAAAAAAAAAAAAAAAAAAAAAAAAAAAAAAAAAAAAAAAAAAAAAAAAAAAAAAAAAAAAAAAAAAAAAAAAAAAAAAAAAAAAAAAAAAAAAAAAAAAAAAAAAAAAAAAAAAAAAAAAAAAAAAAAAAAAAAAAAAAAAAAAAAAAAAAAAAAAAAAAAAAAAAAAAAAAAAAAAAAAAAAAAAAAAAAAAAAAAAAAAAAAAAAAAAAAAAAAAAAAAAAAAAAAAAAAAAAAAAAAAAIXrUbgehds/AAAAAAAAAAAAAAAAAAAAAAAAAAAAAAAAAAAAAAAAAAAAAAAAAAAAAAAAAAAAAAAAAAAAAAAAAAAAAAAAAAAAAAAAAAAAAAAAAAAAAAAAAAAAAAAAAAAAAAAAAAAAAAAAAAAAAAAAAAAAAAAAAAAAAAAAAAAAAAAAAAAAAAAAAAAAAAAAAAAAAAAAAAAAAAAApHA9Ctej0D8AAAAAAAAAAAAAAAAAAAAAAAAAAAAAAAAAAAAAAAAAAAAAAAAAAAAAAAAAAAAAAAAAAAAAAAAAAAAAAAAAAAAAAAAAAAAAAAAAAAAAAAAAAAAAAAAAAAAAAAAAAAAAAAAAAAAAAAAAAAAAAAAAAAAAAAAAAAAAAAAAAAAAAAAAAAAAAAAAAAAAAAAAAAAAAAAAAAAAAAAAAAAAAAAAAAAAAAAAAAAAAAAAAAAAAAAAAAAAAAAAAAAAAAAAAAAAAAAAAAAAAAAAAAAAAAAAAAAAAAAAAAAAAAA9CtejcD0dQAAAAAAAAAAAAAAAAAAAAAAAAAAAAAAAAAAAAAAAAAAAAAAAAAAAAAAAAAAAAAAAAAAAAAAAAPh/AAAAAAAAAAAAAAAAAAAAAAAAAAAAAAAAAAAAAAAAAAAAAAAAAAAAAAAAAAAAAAAAAAAAAAAAAAAAAAAAAAAAAAAAAAAAAAAAAAAAAAAAAAAAAAAAAAAAAAAAAAAAAAAAAAAAAAAAAAAAAAAAAAAAAAAAAAAAAAAAAAAAAAAAAAAAAAAAAAAAAAAAAAAAAAAAAAAAAAAAAAAAAAAAAAAAAAAAAAAAAAAAAAAAAAAAAAAAAAAAAAAAAAAAAAAAAAAAFK5H4XoUBkAAAAAAAAAAAAAAAAAAAAAAAAAAAAAAAAAAAAAAAAAAAAAAAAAAAAAAAAAAAAAAAAAAAAAAAAAAAAAAAAAAAAAAAAAAAAAAAAAAAAAAAAAAAAAAAAAAAAAAAAAAAAAAAAAAAAAAAAAAAAAAAAAAAAAAAAAAAAAAAAAAAAAAAAAAAAAAAAAAAAAAAAAAAAAAAAAAAAAAAAAAAAAAAAAAAAAAAAAAAAAAAAAAAAAAAAAAAAAAAAAAAAAAAAAAAAAAAACamZmZmdk1QAAAAAAAAAAAAAAAAAAAAAAAAAAAAAAAAAAAAAAAAAAAAAAAAAAAAADsUbgeheuxPwAAAAAAAAAAAAAAAAAAAAAAAAAAAAAAAAAAAAAAAAAAAAAAAAAAAAAAAAAAAAAAAAAAAAAAAAAAAAAAAAAAAAAAAAAAAAAAAAAAAAAAAAAAAAAAAAAAAAAAAAAAAAAAAAAAAAAAAAAAAAAAAAAAAAAAAAAAAAAAAAAAAAAAAAAAAAAAAAAAAAAAAAAAAAAAAAAAAAAAAAAAAAAAAAAAAAAAAAAAAAAAAAAAAAAAAAAAAAAAAAAAAAAAAAAAAAAAAAAAAAAAAAAAAAAAAAAAAAAAAAAAAAAAAClcj8L1KPA/AAAAAAAAAAAAAAAAAAAAAAAAAAAAAAAAAAAAAAAAAAAAAAAAAAAAAAAAAAAAAAAAAAAAAAAAAAAAAAAAAAAAAAAAAAAAAAAAAAAAAAAAAAAAAAAAAAAAAAAAAAAAAAAAAAAAAAAAAAAAAAAAAAAAAAAAAAAAAAAAAAAAAAAAAAAAAAAAAAAAAAAAAAAAAAAAAAAAAAAAAAAAAAAAAAAAAAAAAAAAAAAAAAAAAAAAAAAAAAAAAAAAAAAAAAAAAAAAAAAAAAAAAAAAAAAAAAAAAAAAAAAAAAAAAAAAAAAAAAAAAAAAAAAAAAAAAAAAAAAAAAAAAAAAAAAAAAAAAAAAAAAAAAAAAAAAAAAAAAAAAAAAAAAAAAAAAAAAAAAAAAAAAAAAAAAAAAAAAAAAAAAAAAAAAAAAAAAAAAAAAAAAAAAAAAAAAAAAAAAAAAAAAAAAAAAAAAAAAAAAAAAAAAAAAAAAAAAAAAAAAAAAAAAAAAAAAAAAAAAAAAAAAAAAAAAAAAAAAAAAAAAAAAAAAAAAAAAAAAAAAAAAAAAAAAAAAAAAAAAAAAAAAAAAAAAAAAAAAAAAAAAAAAAAAAAAAAAAAAAAAAAAAAAAAAAAAAAAAAAAAAAAAAAAAAAAAAAAAAAAAAAAAAAAAAAAAAAAAAAAAAAAAAAAAAAAAAAAAAAAAAAAAAAAAAAAAAAAAAAAAAAAAAAAAAAAAAAAAAAAAAAAAAAAAAAAAAAAAAAAAAAAAAAAAAAAAAAAAAAAAAAAAAAAAAAAAAAAAAAAAAAAAAAAAAAAAAAAAAAAAAAAAAAAAAAAAAAAAAAAAAAAAAAAAAAAAAAAAAAAAAAAAAAAAAAAAAAAAAAAAAAAAAAAAAAAAAAAAAAAAAAAAAAAAAAAAAAAAAAAAAAAAAAAAAAAAAAAAAAAAAAAAAAAAAAAAAAAAAAAAAAAAAAAAAAAAAAAAAAAAAAAAAAAAAAAAAAAAAAAAAAAAAAAAAAAAAAAAAAAAAAAAAAAAAAAAAAAAAAAAAAAAAAAAAAAAAAAAAAAAAAAAAAAAAAAAAAAAAAAAAAAAAAAAAAAAAAAAAAAAAAAAAAAAAAAAAAAAAAAAAAAAAAAAAAAAAAAAAAAAAAAAAAAAAAAAAAAAAAAAAAAAAAAAAAAAAAAAAAAAAAAAAAAAAAAAAAAAAAAAAAAAAAAAAAAAAAAAAAAAAAAAAAAAAAAAAAAAAAAAAAAAAAAAAAAAAAAAAAAAAAAAAAAAAAAAAAAAAAAAAAAAAAAAAAAAAAAAAAAAAAAAAAAAAAAAAAAAAAAAAAAAAAAAAAAAAAAAAAAAAAAAAAAAAAAAAAAAAAAAAAAAAAAAAAAAAAAAAAAAAAAAAAAAAAAAAAAAAAAAAAAAAAAAAAAAAAAAAAAAAAAAAAAAAAAAAAAAAAAAAAAAAAAAAAAAAAAAAAAAAAAAAAAAAAAAAAAAAAAAAAAAAAAAAAAAAAAAAAAAAAAAAAAAAAAAAAAAAAAAAAAAAAAAAAAAAAAAAAAAAAAAAAAAAAAAAAAAAAAAAAAAAAAAAAAAAAAAAAAAAAAAAAAAAAAAAAAAAAAAAAAAAAAAAAAAAAAAAAAAAAAAAAAAAAAAAAAAAAAAAAAAAAAAAAAAAAAAAAAAAAAAAAAAAAAAAAAAAAAAAAAAAAAAAAAAAAAAAAAAAAAAAAAAAAAAAAAAAAAAAAAAAAAAAAAAAAAAAAAAAAAAAAAAAAAAAAAAAAAAAAAAAAAAAAAAAAAAAAAAAAAAAAAAAAAAAAAAAAAAAAAAAAAAAAAAAAAAAAAAAAAAAAAAAAAAAAAAAAAAAAAAAAAAAAAAAAAAAAAAAAAAAAAAAAAAAAAAAAAAAAAAAAAAAAAAAAAAAAAAAAAAAAAAAAAAAAAAAAAAAAAAAAAAAAAAAAAAAAAAAAAAAAAAAAAAAAAAAAAAAAAAAAAAAAAAAAAAAAAAAAAAAAAAAAAAAAAAAAAAAAAAAAAAAAAAAAAAAAAAAAAAAAAAAAAAAAAAAAAAAAAAAAAAAAAAAAAAAAAAAAAAAAAAAAAAAAAAAAAAAAAAAAAAAAAAAAAAAAAAAAAAAAAAAAAAAAAAAAAAAAAAAAAAAAAAAAAAAAAAAAAAAAAAAAAAAAAAAAAAAAAAAAAAAAAAAAAAAAAAAAAAAAAAAAAAAAAAAAAAAAAAAAAAAAAAAAAAAAAAAAAAAAAAAAAAAAAAAAAAAAAAAAAAAAAAAAAAAAAAAAAAAAAAAAAAAAAAAAAAAAAAAAAAAAAAAAAAAAAAAAAAAAAAAAAAAAAAAAAAAAAAAAAAAAAAAAAAAAAAAAAAAAAAAAAAAAAAAAAAAAAAAAAAAAAAAAAAAAAAAAAAAAAAAAAAAAAAAAAAAAAAAAAAI/C9Shcj9I/AAAAAAAAAAAAAAAAAAAAAAAAAAAAAAAAAAAAAAAAAAAAAAAAAAAAAAAAAAAAAAAAAAAAAAAAAAAAAAAAAAAAAAAAAAAAAAAAAAAAAAAAAAAAAAAAAAAAAAAAAAAAAAAAAAAAAAAAAAAAAAAAAAAAAAAAAAAAAAAAAAAAAAAAAAAAAAAAAAAAAAAAAAAAAAAAAAAAAAAAAAAAAAAAAAAAAArXo3A9Cuc/AAAAAAAAAAAAAAAAAAAAAAAAAAAAAAAAAAAAAAAAAAAAAAAAAAAAAAAAAAAAAAAAAAAAAAAAAAAAAAAAAAAAAAAAAAAAAAAAAAAAAAAAAAAAAAAAAAAAAClcj8L1KARAAAAAAAAAAAAAAAAAAAAAAAAAAAAAAAAAAAAAAAAAAAAAAAAAAAAAAAAAAAAAAAAAAAAAAAAAAAAAAAAAAAAAAAAAAAAAAAAAAAAAAAAAAAAAAAAAAAAAAAAAAAAAAAAAAAAAAAAAAAAAAAAAAAAAAAAAAAAAAAAAAAAAAAAAAAAAAAAAAAAAAAAAAAAAAAAAAAAAAAAAAAAAAAAAAAAAAAAAAAAAAAAAAAAAAAAAAAAAAAAAAAAAAAAAAAAAAAAAAAAAAAAAAAAAAAAAAAAAAAAAAAAAAAAAAAAAAAAAAAAAAAAAAAAAAAAAAAAAAAAAAAAAAAAAAAAAAAAAAAAAAAAAAAAAAAAAAAAAAAAAAAAAAAAAAAAAAAAAAAAAAAAAAAAAAAAAAAAAAAAAAAAAAAAAAAAAAAAAAAAAAAAAAAAAAAAAAAAAAAAAAAAAAAAAAAAAAAAAAAAAAAAAAAAAAAAAAAAAAAAAAAAAAAAAAAAAAAAAAAAAAAAAAAAAAAAAAAAAAAAAAAAAAAAAAAAAAAAAAAAAAAAAAAAAAAAAAAAAAAAAAAAAAAAAAAAAAAAAAAAAAAAAAAAAAAAAAAAAAAAAAAAAAAAAAAAAAAAAAAAAAAAAAAAAAAAAAAAAAAAAAAAAAAAAAAAAAAAAAAAAAAAAAAAAAAAAAAAAAAAAAAAAAAAAAAAAAAAAAAAAAAAArkfhehSu7z8AAAAAAAAAAAAAAAAAAAAAAAAAAAAAAAAAAAAAAAAAAAAAAAAAAAAAAAAAAAAAAAAAAAAAAAAAAAAAAAAAAAAAAAAAAAAAAAAAAAAAAAAAAAAAAAAAAAAAAAAAAAAAAAAAAAAAAAAAAAAAAAAAAAAAAAAAAAAAAAAAAAAAAAAAAAAAAAAAAAAAAAAAAAAAAAAAAAAAAAAAAAAAAAAAAAAAAAAAAAAAAAAAAAAAAAAAAAAAAAAAAAAAAAAAAAAAAAAAAAAAAAAAAAAAAAAAAAAAw/UoXI/CD0AAAAAAAAAAAAAAAAAAAAAAAAAAAAAAAAAAAAAAAAAAAAAAAAAAAAAAAAAAAAAAAAAAAAAAAAAAAAAAAAAAAAAAAAAAAAAAAAAAAAAAAAAAAAAAAAAAAAAAAAAAAAAAAAAAAAAAAAAAAAAAAAAAAAAAAAAAAAAAAAAAAAAAAAAAAAAAAAAAAAAAAAAAAAAAAAAAAAAAAAAAAAAAAAAAAAAAAAAAAAAAAAAAAAAAAAAAAAAAAAAAAAAAAAAAAAAAAAAAAAAAAAAAAAAAAAAAAAAAAAAAAAAAAAAAAAAAAAAAAAAAAAAAAAAAAAAAAAAAAAAAAAAAAAAAAAAAAAAAAAAAAAAAAAAAAAAAAAAAAAAAAAAAAAAAAAAAAAAAAAAAAAAAAAAAAAAAAAAAAAAAAAAAAAAAAAAAAAAAAAAAAAAAAAAAAAAAAAAAAAAAAAAAAAAAAAAAAAAAAAAAAAAAAAAAAAAAAAAAAAAAAAAAAAAAAAAAAAAAAAAAAAAAAAAAAAAAAAAAAAAAAAAAAAAAAAAAAAAAAAAAAAAAAAAAAAAAAAAAAAAAAAAAAAAAAAAAAAAAAAAAAAAAAAAAAAAAAAAAAAAAAAAAAAAAAAAAAAAAAAAAAAAAAAAAAAAAAAAAAAB7FK5H4XqUPwAAAAAAAAAAAAAAAAAAAAAAAAAAAAAAAAAAAAAAAAAAAAAAAAAAAAAAAAAAAAAAAAAAAAAAAAAAAAAAAAAAAAAAAAAAAAAAAAAAAAAAAAAAAAAAAAAAAAAAAAAAAAAAAAAAAAAAAAAA7FG4HoXr0T8AAAAAAAAAAAAAAAAAAAAAAAAAAAAAAAAAAAAAAAAAAAAAAAAAAAAAAAAAAAAAAAAAAAAAAAAAAAAAAAAAAAAAAAAAAAAAAAAAAAAAAAAAAAAAAAAAAAAAAAAAAAAAAAAAAAAAAAAAAAAAAAAAAAAAAAAAAAAAAAAAAAAAAAAAAAAAAAAAAAAAAAAAAAAAAAAAAAAAAAAAAAAAAAAAAAAAAAAAAAAAAAAAAAAAAAAAAAAAAAAAAAAAAAAAAAAAAAAAAAAAAAAAAAAAAAAAAAAAAAAAAAAAAAAAAAAAAAAAAAAAAAAAAAAAAAAAAAAAAAAAAAAAAAAAAAAAAAAAAAAAAAAAAAAAAAAAAAAAAAAAAAAAAAAAAAAAAAAAAAAAAAAAAAAAAAAAAM3MzMzMzOQ/AAAAAAAAAAAAAAAAAAAAAAAAAAAAAAAAAAAAAAAAAABSuB6F61HYPwAAAAAAAAAAAAAAAAAAAAAAAAAAAAAAAAAAAAAAAAAAAAAAAAAAAAAAAAAAAAAAAAAAAAAAAAAAAAAAAAAAAAAAAAAAAAAAAAAAAAAAAAAAAAAAAAAAAAAAAAAAAAAAAAAAAAAAAAAAAAAAAAAAAAAAAAAAAAAAAAAAAAAAAAAAAAAAAAAAAAAAAAAAAAAAAAAAAAAAAAAAAAAAAAAAAAAAAAAAAAAAAAAAAAAAAAAAAAAAAAAAAAAAAAAAAAAAAAAAAAAAAAAAAAAAAAAAAAAAAAAAAAAAAHsUrkfhevA/AAAAAAAAAAAAAAAAAAAAAAAAAAAAAAAAAAAAAAAAAAAAAAAAAAAAAAAAAAAAAAAAAAAAAAAAAAAAAAAAAAAAAAAAAAAAAAAAAAAAAAAAAAAAAAAAAAAAAAAAAAAAAAAAAAAAAAAAAAAAAAAAAAAAAAAAAAAAAAAAAAAAAAAAAAAAAAAAAAAAAAAAAAAAAAAAAAAAAAAAAAAAAAAAAAAAAAAAAAAAAAAAAAAAAAAAAAAAAAAAAAAAAAAAAAAAAAAAAAAAAAAAAAAAAAAAAAAAAAAAAAAAAAAAAAAAAAAAAAAAAAAAAAAAAAAAAAAAAAAAAAAAAAAAAAAAAAAAAAAAAAAAAAAAAAAAAAAAAAAAAAAAAAAAAAAAAAAAAAAAAAAAAAAAAAAAAAAAAAAAAAAAAAAAAAAAAAAAAAAAAAAAAAAAAAAAAAAAAAAAAAAAAAAAAAAAAAAAAAAAAAAAAAAAAAAAAAAAAAAAAAAAAAAAAAAAAAAAAAAAAAAAAAAAAAAAAAAAAAAAAAAAAAAAAAAAAAAAAAAAAAAAAAAAAAAAAAAAAAAAAAAAAAAAAAAAAAAAAAAAAAAAAAAAAAAAAAAAAAAAAAAAAAAAAAAAAAAAAAAAAAAAAAAAAAAAAAAAAAAAAAAAAAAAAAAAAAAAAAAAAAAAAAAAAAAAAAAAAAAAAAAAAAAAAAAAAAAAAAAAAAAAAAAAAAAAAAAAAAAAAAAAAAAAAAAAAAAAAAAAAAAAAAAAAAAAAAAAAAAAAAAAAAAAAAAAAAAAAAAAAAAAAAAAAAAAAAAAAAAAAAAAAAAAAAAAAAAAAAAAAAAAAAAAAAAAAAAAAAAAAAAAAAAAAAAAAAAAAAAAAAAAAAAAAAAAAAAAAAAAAAAAAAAAAAAAAAAAAAAAAAAAAAAAAAAAAAAAAAAAAAAAAAAAAAAAAAAAAAAAAAAAAAAAAAAAAAAAAAAAAAAAAAAAAAAAAAAAAAAAAAAAAAAAAAAAAAAAAAAAAAAAAAAAAAAAAAAAAAAAAAAAAAAAAAAAAAAAAAAAAAAAAAAAAAAAAAAAAAAAAAAAAAAAAAAAAAAAAAAAAAAAAAAAAAAAAAAAAAAAAAAAAAAAAAAAAAAAAAAAAAAAAAAAAAAAAAAAAAAAAAAAAAAAAAAAAAAAAAAAAAAAAAAAAAAAAAAAAAAAAAAAAAAAAAAAAAAUrkfhehQXQAAAAAAAAAAAAAAAAAAAAAAAAAAAAAAAAAAAAAAAAAAAAAAAAAAAAAAAAAAAAAAAAAAAAAAAAAAAAAAAAAAAAAAAAAAAAAAAAAAAAAAAAAAAAAAAAAAAAAAAAAAAAAAAAAAAAAAAAAAAAAAAAAAAAAAAAAAAAAAAAAAAAAAAAAAAAAAAAAAAAAAAAAAAAAAAAAAAAAAAAAAAAAAAAAAAAAAAAAAAAAAAAAAAAAAAAAAAAAAAAAAAAAAAAAAAAAAAAAAAAAAAAAAAAAAAAAAAAAAAAAAAAAAAAAAAAAAAAAAAAAAAAAAAAAAAAAAAAAAAAAAAAAAAAAAAAAAAAAAAAAAAAAAAAAAAAAAAAAAAAAAAAAAAAAAAAAAAAAAAAAAAAAAAAAAAAAAAAAAAAAAAAAAAAAAAAAAAAAAAAAAAAAAAAAAAAAAAAAAAAAAAAAAAAAAAAAAAAAAAAAAAAAAAAAAAAAAAAAAAAAAAAAAAAAAAAAAAAAAAAAAAAAAAAAAAAAAAAAAAAAAAAAAAAAAAAAAAAAAAAAAAAAAAAAAAAAAAAAAAAAAAAAAAAAAAAAAAAAAAAAAAAAAAAAAAAAAAAAAAAAAAAAAAAAAAAAAAAAAAAAAAAAAAAAAAAAAAAAAAAAAAAAAAAAAAAAAAAAAAAAAAAAAAAAAAAAAAAAAAAAAAAAAAAAAAAAAAAAAAAAAAAAAAAAAAAAAAAAAAAAAAAAAAAAAAAAAAAAAAAAAAAAAAAAAAAAAAAAAAAAAAAAAAAAAAAAAAAAAAAAAAAAAAAAAAAAAAAAAAAAAAAAAAAAAAAAAAAAAAAAAAAAAAAAAAAAAAAAAAAAAAAAAAAAAAAAAAAAAAAAAAAAAAAAAAAAAAAAAAAAAAAAAAAAAAAAAAAJqZmZmZmQVAAAAAAAAAAAAAAAAAAAAAAAAAAAAAAAAAAAAAAAAAAAAAAAAAAAAAAAAAAAAAAAAAAAAAAAAAAAAAAAAAAAAAAAAAAAAAAAAAAAAAAAAAAAAAAAAAAAAAAAAAAAAAAAAAKVyPwvUo7D8AAAAAAAAAAAAAAAAAAAAAAAAAAAAAAAAAAAAAAAAAAAAAAAAAAAAAAAAAAAAAAAAAAAAAAAAAAAAAAAAAAAAAAAAAAAAAAAAAAAAAAAAAAAAAAAAAAAAAAAAAAAAAAAAAAAAAAAAAAAAAAAAAAAAAAAAAAAAAAAAAAAAAAAAAAAAAAAAAAAAAAAAAAAAAAAAAAAAAAAAAAAAAAAAAAAAAAAAAAAAAAAAAAAAAAAAAAAAAAAAAAAAAAAAAAAAAAAAAAAAAAAAAAAAAAAAAAAAAAAAAAAAAAAAAAAAAAAAAAAAAAAAAAAAAAAAAAAAAAAAAAAAAAAAAAAAAAAAAAAAAAAAAAAAAAAAAAAAAAAAAAAAAAAAAAAAAAAAAAAAAAAAAAAAAAAAAAAAAAAAAAAAAAAAAAAAAAAAAAAAAAAAAAAAAAAAAAAAAAAAAAAAAAAAAAAAAAAAAAAAAAAAAAAAAAAAAAAAAAAAAAAAAAAAAAAAAAAAAAAAAAAAAAAAAAAAAAAAAAAAAAAAAAAAAAAAAAAAAAAAAAAAAAAAAAAAAAAAAAAAAAAAAAAAAAAAAAAAAAAAAAAAAAAAAAAAAAAAAAAAAAAAAAAAAAAAAAAAAAAAAAAAAAAAAAAAAAAAAAAAAAAAAAAAAAAAAAAAAAAAAAAAAAAAAAAAAAAAAAAAAAAAAAAAAAAAAAAAAAAAAAAAAAAAAAAAAAAAAAAAAAAAAAAAAAAAAAAAAAAAAAAAAAAAAAAAAAAAAAAAAAAAAAAAAAAAAAAAAAAAAAAAAAAAAAAAAAAAAAAAAAAAAAAAAAAAAAAAAAAAAAAAAAAAAAAAAAAAAAAAAAAAAAAAAAAAAAAAAAAAAAAAAAAAAAAAAAAAAAAAAAAAAAAAAAAAAAAAAAAAAAAAAAAAAAAAAAAAAAAAAAAAAAAAAAAAAAAAAAAAAAAAAAAAAAAAAAAAAAAAAAAAAAAAAAAAAAAAAAAAAAAAAAAAAAAAAAAAAAAAAAAAAAAAAAAAAAAAAAAAAAAAAAAAAAAAAAAAAAAAAAAAAAAAAAAAAAAAAAAAAAAAAAAAAAAAAAAAAAAAAAAAAAAAAAAAAAAAAAAAAAAAAAAAAAAAAAAAAAAAAAAAAAAAAAAAAAAAAAAAAAAAAAAAAAAAAAAAAAAAAAAAAAAAAAAAAAAAAAAAAAAAAAAAAAAAAAAAAAAAAAAAAAAAAAAAAAAAAAAAAAAAAAAAAAAAAAAAAAAAAAAAAAAAAAAAAAAAAAAAAAAAAAAAAAAAAAAAAAAAAAAAAAAAAAAAAAAAAAAAAAAAAAAAAAAAAAAAAAAAAAAAAAAAAAAAAAAAAAAAAAAAAAAAAAAAAAAAAAAAAAAAAAAAAAAAAAAAAAAAAAAAAAAAAAAAAAAAAAAAAAAAAAAAAAAAAAAAAAAAAAAAAAAAAexSuR+F6hD8AAAAAAAAAAAAAAAAAAAAAAAAAAAAAAAAAAAAAAAAAAAAAAAAAAAAAAAAAAAAAAAAAAAAAAAAAAAAAAAAAAAAAAAAAAAAAAAAAAAAAAAAAAAAAAAAAAAAAAAAAAAAAAAAAAAAAAAAAAAAAAAAAAAAAAAAAAAAAAAAAAAAAAAAAAAAAAAAAAAAAAAAAAAAAAAAAAAAAAAAAAAAAAAAAAAAAAAAAAAAAAAAAAAAAAAAAAAAAAAAAAAAAAAAAAAAAAAAAAAAAAAAAAAAAAAAAAAAACtejcD0K9z8AAAAAAAAAAAAAAAAAAAAAAAAAAAAAAAAAAAAAAAAAAAAAAAAAAAAAAAAAAAAAAAAAAAAAAAAAAAAAAAAAAAAAAAAAAAAAAAAAAAAAAAAAAAAAAAAAAAAAAAAAAAAAAAAAAAAAAAAAAAAAAAAAAAAAAAAAAAAAAAAAAAAAAAAAAAAAAAAAAAAAAAAAAAAAAAAAAAAAAAAAAAAAAAAAAAAAAAAAAAAAAAAAAAAAAAAAAAAAAAAAAAAApHA9Ctej0D8AAAAAAAAAAAAAAAAAAAAAAAAAAAAAAAAAAAAAAAD4fwAAAAAAAAAAAAAAAAAAAAAAAAAAAAAAAAAAAAAAAAAAAAAAAAAAAAAAAAAAAAAAAAAAAAAAAAAAAAAAAAAAAAAAAAAAAAAAAAAAAAAAAAAAAAAAAAAAAAAAAAAAAAAAAAAAAAAAAAAAAAAAAAAAAACF61G4HoXbPwAAAAAAAAAAAAAAAAAAAAAAAAAAAAAAAAAAAAAAAAAAAAAAAAAAAAAAAAAAAAAAAAAAAAAAAAAAAAAAAAAAAAAAAAAAAAAAAAAAAAAAAAAAAAAAAAAAAAAAAAAAAAAAAAAAAAAAAAAAAAAAAAAAAAAAAAAAAAAAAAAAAAAAAAAAAAAAAAAAAAAAAAAAAAAAAAAAAAAAAAAAAAAAAAAAAAAAAAAAAAAAAAAAAAAAAAAAAAAAAAAAAABcj8L1KFwHQAAAAAAAAPh/AAAAAAAAAAAAAAAAAAAAAAAAAAAAAAAAAAAAAAAAAAAAAAAAAAAAAAAAAAAAAAAAAAAAAAAAAAAAAAAAAAAAAAAAAAAAAAAAAAAAAAAAAAAAAAAAAAAAAAAAAAAAAAAAAAAAAAAAAAAAAAAAAAAAAAAAAAAAAAAAAAAAAAAAAAAAAAAAAAAAAAAAAAAAAAAAAAAAAAAAAAAAAAAAAAAAAAAAAAAAAAAAAAAAAAAAAAAAAAAAAAAAAAAAAAAAAAAAAAAAAAAAAAAAAAAAAAAAAAAAAAAAAAAAAAAAAAAAAAAAAAAAAAAAAAAAAAAAAAAAAAAAAAAAAAAAAAAAAAAAAAAAAAAAAAAAAAAAAAAAAAAAAAAAAAAAAAAAAAAAAAAAAAAAAAAAAAAAAAAAAAAAAAAAAAAAAAAAAAAAAAAAAAAAAAAAAAAAAAAAAAAAAAAAAAAAAAAAAAAAAAAAAAAAAAAAAAAAAAAAAAAAAAAAAAAAAAAAAAAAAAAAAAAAAAAAAAAAAAAAAADhehSuR+HqPwAAAAAAAAAAAAAAAAAAAAAAAAAAAAAAAAAAAAAAAAAAAAAAAAAAAADD9Shcj8LlPwAAAAAAAAAAAAAAAAAAAAAAAAAAAAAAAAAAAAAAAAAAAAAAAAAAAAAAAAAAAAAAAAAAAAAAAAAAAAAAAAAAAAAAAAAAAAAAAAAAAAAAAAAAAAAAAAAAAAAAAAAAAAAAAAAAAAAAAAAAAAAAAAAAAAAAAAAAAAAAAAAAAAAAAAAAAAAAAAAAAADhehSuR+HKPwAAAAAAAAAAAAAAAAAAAAAAAAAAAAAAAAAAAAAAAAAAAAAAAAAAAAAAAAAAAAAAAAAAAAAAAAAAAAAAAAAAAAAAAAAAAAAAAAAAAAAAAAAAAAAAAAAAAAAAAAAAAAAAAAAAAAAAAAAAAAAAAAAAAAAAAAAAAAAAAAAAAAAAAAAAAAAAAAAAAAAAAAAAAAAAAAAAAAAAAAAAAAAAAAAAAAAAAAAAAAAAAAAAAAAAAAAAAAAAAAAAAAAAAAAAAAAAAAAAAAAAAAAAAAAAAAAAAAAAAAAAAAAAAAAAAAAAAAAAAAAAAAAA+H8AAAAAAAAAAAAAAAAAAAAAAAAAAAAAAAAAAAAAAAAAAAAAAAAAAAAAAAAAAAAAAAAAAAAAAAAAAAAAAAAAAAAAAAAAAAAAAAAAAAAAAAAAAAAAAAAAAAAAAAAAAAAAAAAAAAAAAAAAAAAAAAAAAAAAAAAAAAAAAAAAAAAAAAAAAAAAAAAAAAAAAAAAAAAAAAAAAAAAAAAAAAAAAAAAAAAAAAAAAAAAAAAAAAAAAAAAAAAAAAAAAAAAAAAAAAAAAAAAAAAAAAAAAAAAAAAAAAAAAAAAAAAAAAAAAAAAAAAAAAAAAAAAAAAAAAAAAAAA+H8AAAAAAAAAAAAAAAAAAAAAAAAAAAAAAAAAAAAAAAAAAAAAAAAAAAAAAAAAAAAAAAAAAAAAAAAAAAAAAAAAAAAAAAAAAAAAAAAAAAAAAAAAAAAAAAAAAAAAAAAAAAAAAAAAAAAAAAAAAAAAAAAAAAAAAAAAAAAAAAAAAAAAAAAAAAAAAAAAAAAAAAAAAAAAAAAAAAAAAAAAAAAAAAAAAAAAAAAAAAAAAAAAAAAAAAAAAAAAAAAAAAAAAAAAAAAAAAAAAAAAAAAAAAAAAAAAAAAAAAAAAAAAAAAAAAAAAAAAAAAAAAAAAAAAAAAAAAAAAAAAAAAAAAAAAAAAAAAAAAAAAAAAAAAAAAAAAAAAAAAAAAAAAAAAAAAAAAAAAAAAAACF61G4HoXbPwAAAAAAAAAAMzMzMzMTTkAAAAAAAAAAAAAAAAAAAAAAAAAAAAAAAAAAAAAAAAAAAAAAAAAAAAAAAAAAAAAAAAAAAAAAAAAAAAAAAAAAAAAAAAAAAAAAAAAAAAAAAAAAAAAAAAAAAAAAAAAAAAAAAAAAAAAAAAAAAAAAAAAAAAAAAAAAAAAAAAAAAAAAAAAAAAAAAAAAAAAAAAAAAAAAAAAAAAAAAAAAAAAAAAAAAAAAAAAAAAAAAAAAAAAAAAAAAAAAAAAAAAAAAAAAAAAAAAAAAAAAAAAAAAAAAAAAAAAAAAAAAAAAAAAAAAAAAAAAAAAAAAAAAAAAAAAAAAAAAAAAAAAAAAAAAAAAAAAAAAAAAAAAAAAAAAAAAAAAAAAAAAAAAAAAAAAAAAAAAAAAAAAAAAAAAAAAAAAAAAAAAAAAAAAAAAAAAAAAAAAAAAAAAAAAAAAAAAAAAAAAAAAAAAAAAAAAAAAAAAAAAAAAAAAAAAAAAAAA+H8AAAAAAAAAAAAAAAAAAAAAAAAAAAAAAAAAAAAAAAAAAAAAAAAAAAAAAAAAAAAAAAAAAAAAAAAAAAAAAAAAAAAAAAAAAAAAAAAAAAAAAAAAAAAAAAAAAAAAAAAAAAAAAAAAAAAAAAAAAAAAAAAAAAAAAAAAAAAAAAAAAAAAAAAAAAAAAAAAAAAAAAAAAAAAAAAAAAAAAAAAAAAAAAAAAAAAAAAAAAAAAAAAAAAAAAAAAA==",
          "dtype": "f8"
         },
         "xaxis": "x8",
         "yaxis": "y8"
        }
       ],
       "layout": {
        "annotations": [
         {
          "font": {
           "size": 16
          },
          "showarrow": false,
          "text": "miles",
          "x": 0.10250000000000001,
          "xanchor": "center",
          "xref": "paper",
          "y": 1.0,
          "yanchor": "bottom",
          "yref": "paper"
         },
         {
          "font": {
           "size": 16
          },
          "showarrow": false,
          "text": "highway_miles",
          "x": 0.36750000000000005,
          "xanchor": "center",
          "xref": "paper",
          "y": 1.0,
          "yanchor": "bottom",
          "yref": "paper"
         },
         {
          "font": {
           "size": 16
          },
          "showarrow": false,
          "text": "count_accelarations",
          "x": 0.6325000000000001,
          "xanchor": "center",
          "xref": "paper",
          "y": 1.0,
          "yanchor": "bottom",
          "yref": "paper"
         },
         {
          "font": {
           "size": 16
          },
          "showarrow": false,
          "text": "count_brakes",
          "x": 0.8975,
          "xanchor": "center",
          "xref": "paper",
          "y": 1.0,
          "yanchor": "bottom",
          "yref": "paper"
         },
         {
          "font": {
           "size": 16
          },
          "showarrow": false,
          "text": "drive_hours",
          "x": 0.10250000000000001,
          "xanchor": "center",
          "xref": "paper",
          "y": 0.46,
          "yanchor": "bottom",
          "yref": "paper"
         },
         {
          "font": {
           "size": 16
          },
          "showarrow": false,
          "text": "count_trip",
          "x": 0.36750000000000005,
          "xanchor": "center",
          "xref": "paper",
          "y": 0.46,
          "yanchor": "bottom",
          "yref": "paper"
         },
         {
          "font": {
           "size": 16
          },
          "showarrow": false,
          "text": "maximum_speed",
          "x": 0.6325000000000001,
          "xanchor": "center",
          "xref": "paper",
          "y": 0.46,
          "yanchor": "bottom",
          "yref": "paper"
         },
         {
          "font": {
           "size": 16
          },
          "showarrow": false,
          "text": "night_drive_hrs",
          "x": 0.8975,
          "xanchor": "center",
          "xref": "paper",
          "y": 0.46,
          "yanchor": "bottom",
          "yref": "paper"
         }
        ],
        "font": {
         "color": "#8B5CF6",
         "size": 10
        },
        "height": 550,
        "paper_bgcolor": "rgba(0,0,0,0)",
        "plot_bgcolor": "rgba(0,0,0,0)",
        "template": {
         "data": {
          "bar": [
           {
            "error_x": {
             "color": "#2a3f5f"
            },
            "error_y": {
             "color": "#2a3f5f"
            },
            "marker": {
             "line": {
              "color": "#E5ECF6",
              "width": 0.5
             },
             "pattern": {
              "fillmode": "overlay",
              "size": 10,
              "solidity": 0.2
             }
            },
            "type": "bar"
           }
          ],
          "barpolar": [
           {
            "marker": {
             "line": {
              "color": "#E5ECF6",
              "width": 0.5
             },
             "pattern": {
              "fillmode": "overlay",
              "size": 10,
              "solidity": 0.2
             }
            },
            "type": "barpolar"
           }
          ],
          "carpet": [
           {
            "aaxis": {
             "endlinecolor": "#2a3f5f",
             "gridcolor": "white",
             "linecolor": "white",
             "minorgridcolor": "white",
             "startlinecolor": "#2a3f5f"
            },
            "baxis": {
             "endlinecolor": "#2a3f5f",
             "gridcolor": "white",
             "linecolor": "white",
             "minorgridcolor": "white",
             "startlinecolor": "#2a3f5f"
            },
            "type": "carpet"
           }
          ],
          "choropleth": [
           {
            "colorbar": {
             "outlinewidth": 0,
             "ticks": ""
            },
            "type": "choropleth"
           }
          ],
          "contour": [
           {
            "colorbar": {
             "outlinewidth": 0,
             "ticks": ""
            },
            "colorscale": [
             [
              0.0,
              "#0d0887"
             ],
             [
              0.1111111111111111,
              "#46039f"
             ],
             [
              0.2222222222222222,
              "#7201a8"
             ],
             [
              0.3333333333333333,
              "#9c179e"
             ],
             [
              0.4444444444444444,
              "#bd3786"
             ],
             [
              0.5555555555555556,
              "#d8576b"
             ],
             [
              0.6666666666666666,
              "#ed7953"
             ],
             [
              0.7777777777777778,
              "#fb9f3a"
             ],
             [
              0.8888888888888888,
              "#fdca26"
             ],
             [
              1.0,
              "#f0f921"
             ]
            ],
            "type": "contour"
           }
          ],
          "contourcarpet": [
           {
            "colorbar": {
             "outlinewidth": 0,
             "ticks": ""
            },
            "type": "contourcarpet"
           }
          ],
          "heatmap": [
           {
            "colorbar": {
             "outlinewidth": 0,
             "ticks": ""
            },
            "colorscale": [
             [
              0.0,
              "#0d0887"
             ],
             [
              0.1111111111111111,
              "#46039f"
             ],
             [
              0.2222222222222222,
              "#7201a8"
             ],
             [
              0.3333333333333333,
              "#9c179e"
             ],
             [
              0.4444444444444444,
              "#bd3786"
             ],
             [
              0.5555555555555556,
              "#d8576b"
             ],
             [
              0.6666666666666666,
              "#ed7953"
             ],
             [
              0.7777777777777778,
              "#fb9f3a"
             ],
             [
              0.8888888888888888,
              "#fdca26"
             ],
             [
              1.0,
              "#f0f921"
             ]
            ],
            "type": "heatmap"
           }
          ],
          "histogram": [
           {
            "marker": {
             "pattern": {
              "fillmode": "overlay",
              "size": 10,
              "solidity": 0.2
             }
            },
            "type": "histogram"
           }
          ],
          "histogram2d": [
           {
            "colorbar": {
             "outlinewidth": 0,
             "ticks": ""
            },
            "colorscale": [
             [
              0.0,
              "#0d0887"
             ],
             [
              0.1111111111111111,
              "#46039f"
             ],
             [
              0.2222222222222222,
              "#7201a8"
             ],
             [
              0.3333333333333333,
              "#9c179e"
             ],
             [
              0.4444444444444444,
              "#bd3786"
             ],
             [
              0.5555555555555556,
              "#d8576b"
             ],
             [
              0.6666666666666666,
              "#ed7953"
             ],
             [
              0.7777777777777778,
              "#fb9f3a"
             ],
             [
              0.8888888888888888,
              "#fdca26"
             ],
             [
              1.0,
              "#f0f921"
             ]
            ],
            "type": "histogram2d"
           }
          ],
          "histogram2dcontour": [
           {
            "colorbar": {
             "outlinewidth": 0,
             "ticks": ""
            },
            "colorscale": [
             [
              0.0,
              "#0d0887"
             ],
             [
              0.1111111111111111,
              "#46039f"
             ],
             [
              0.2222222222222222,
              "#7201a8"
             ],
             [
              0.3333333333333333,
              "#9c179e"
             ],
             [
              0.4444444444444444,
              "#bd3786"
             ],
             [
              0.5555555555555556,
              "#d8576b"
             ],
             [
              0.6666666666666666,
              "#ed7953"
             ],
             [
              0.7777777777777778,
              "#fb9f3a"
             ],
             [
              0.8888888888888888,
              "#fdca26"
             ],
             [
              1.0,
              "#f0f921"
             ]
            ],
            "type": "histogram2dcontour"
           }
          ],
          "mesh3d": [
           {
            "colorbar": {
             "outlinewidth": 0,
             "ticks": ""
            },
            "type": "mesh3d"
           }
          ],
          "parcoords": [
           {
            "line": {
             "colorbar": {
              "outlinewidth": 0,
              "ticks": ""
             }
            },
            "type": "parcoords"
           }
          ],
          "pie": [
           {
            "automargin": true,
            "type": "pie"
           }
          ],
          "scatter": [
           {
            "fillpattern": {
             "fillmode": "overlay",
             "size": 10,
             "solidity": 0.2
            },
            "type": "scatter"
           }
          ],
          "scatter3d": [
           {
            "line": {
             "colorbar": {
              "outlinewidth": 0,
              "ticks": ""
             }
            },
            "marker": {
             "colorbar": {
              "outlinewidth": 0,
              "ticks": ""
             }
            },
            "type": "scatter3d"
           }
          ],
          "scattercarpet": [
           {
            "marker": {
             "colorbar": {
              "outlinewidth": 0,
              "ticks": ""
             }
            },
            "type": "scattercarpet"
           }
          ],
          "scattergeo": [
           {
            "marker": {
             "colorbar": {
              "outlinewidth": 0,
              "ticks": ""
             }
            },
            "type": "scattergeo"
           }
          ],
          "scattergl": [
           {
            "marker": {
             "colorbar": {
              "outlinewidth": 0,
              "ticks": ""
             }
            },
            "type": "scattergl"
           }
          ],
          "scattermap": [
           {
            "marker": {
             "colorbar": {
              "outlinewidth": 0,
              "ticks": ""
             }
            },
            "type": "scattermap"
           }
          ],
          "scattermapbox": [
           {
            "marker": {
             "colorbar": {
              "outlinewidth": 0,
              "ticks": ""
             }
            },
            "type": "scattermapbox"
           }
          ],
          "scatterpolar": [
           {
            "marker": {
             "colorbar": {
              "outlinewidth": 0,
              "ticks": ""
             }
            },
            "type": "scatterpolar"
           }
          ],
          "scatterpolargl": [
           {
            "marker": {
             "colorbar": {
              "outlinewidth": 0,
              "ticks": ""
             }
            },
            "type": "scatterpolargl"
           }
          ],
          "scatterternary": [
           {
            "marker": {
             "colorbar": {
              "outlinewidth": 0,
              "ticks": ""
             }
            },
            "type": "scatterternary"
           }
          ],
          "surface": [
           {
            "colorbar": {
             "outlinewidth": 0,
             "ticks": ""
            },
            "colorscale": [
             [
              0.0,
              "#0d0887"
             ],
             [
              0.1111111111111111,
              "#46039f"
             ],
             [
              0.2222222222222222,
              "#7201a8"
             ],
             [
              0.3333333333333333,
              "#9c179e"
             ],
             [
              0.4444444444444444,
              "#bd3786"
             ],
             [
              0.5555555555555556,
              "#d8576b"
             ],
             [
              0.6666666666666666,
              "#ed7953"
             ],
             [
              0.7777777777777778,
              "#fb9f3a"
             ],
             [
              0.8888888888888888,
              "#fdca26"
             ],
             [
              1.0,
              "#f0f921"
             ]
            ],
            "type": "surface"
           }
          ],
          "table": [
           {
            "cells": {
             "fill": {
              "color": "#EBF0F8"
             },
             "line": {
              "color": "white"
             }
            },
            "header": {
             "fill": {
              "color": "#C8D4E3"
             },
             "line": {
              "color": "white"
             }
            },
            "type": "table"
           }
          ]
         },
         "layout": {
          "annotationdefaults": {
           "arrowcolor": "#2a3f5f",
           "arrowhead": 0,
           "arrowwidth": 1
          },
          "autotypenumbers": "strict",
          "coloraxis": {
           "colorbar": {
            "outlinewidth": 0,
            "ticks": ""
           }
          },
          "colorscale": {
           "diverging": [
            [
             0,
             "#8e0152"
            ],
            [
             0.1,
             "#c51b7d"
            ],
            [
             0.2,
             "#de77ae"
            ],
            [
             0.3,
             "#f1b6da"
            ],
            [
             0.4,
             "#fde0ef"
            ],
            [
             0.5,
             "#f7f7f7"
            ],
            [
             0.6,
             "#e6f5d0"
            ],
            [
             0.7,
             "#b8e186"
            ],
            [
             0.8,
             "#7fbc41"
            ],
            [
             0.9,
             "#4d9221"
            ],
            [
             1,
             "#276419"
            ]
           ],
           "sequential": [
            [
             0.0,
             "#0d0887"
            ],
            [
             0.1111111111111111,
             "#46039f"
            ],
            [
             0.2222222222222222,
             "#7201a8"
            ],
            [
             0.3333333333333333,
             "#9c179e"
            ],
            [
             0.4444444444444444,
             "#bd3786"
            ],
            [
             0.5555555555555556,
             "#d8576b"
            ],
            [
             0.6666666666666666,
             "#ed7953"
            ],
            [
             0.7777777777777778,
             "#fb9f3a"
            ],
            [
             0.8888888888888888,
             "#fdca26"
            ],
            [
             1.0,
             "#f0f921"
            ]
           ],
           "sequentialminus": [
            [
             0.0,
             "#0d0887"
            ],
            [
             0.1111111111111111,
             "#46039f"
            ],
            [
             0.2222222222222222,
             "#7201a8"
            ],
            [
             0.3333333333333333,
             "#9c179e"
            ],
            [
             0.4444444444444444,
             "#bd3786"
            ],
            [
             0.5555555555555556,
             "#d8576b"
            ],
            [
             0.6666666666666666,
             "#ed7953"
            ],
            [
             0.7777777777777778,
             "#fb9f3a"
            ],
            [
             0.8888888888888888,
             "#fdca26"
            ],
            [
             1.0,
             "#f0f921"
            ]
           ]
          },
          "colorway": [
           "#636efa",
           "#EF553B",
           "#00cc96",
           "#ab63fa",
           "#FFA15A",
           "#19d3f3",
           "#FF6692",
           "#B6E880",
           "#FF97FF",
           "#FECB52"
          ],
          "font": {
           "color": "#2a3f5f"
          },
          "geo": {
           "bgcolor": "white",
           "lakecolor": "white",
           "landcolor": "#E5ECF6",
           "showlakes": true,
           "showland": true,
           "subunitcolor": "white"
          },
          "hoverlabel": {
           "align": "left"
          },
          "hovermode": "closest",
          "mapbox": {
           "style": "light"
          },
          "paper_bgcolor": "white",
          "plot_bgcolor": "#E5ECF6",
          "polar": {
           "angularaxis": {
            "gridcolor": "white",
            "linecolor": "white",
            "ticks": ""
           },
           "bgcolor": "#E5ECF6",
           "radialaxis": {
            "gridcolor": "white",
            "linecolor": "white",
            "ticks": ""
           }
          },
          "scene": {
           "xaxis": {
            "backgroundcolor": "#E5ECF6",
            "gridcolor": "white",
            "gridwidth": 2,
            "linecolor": "white",
            "showbackground": true,
            "ticks": "",
            "zerolinecolor": "white"
           },
           "yaxis": {
            "backgroundcolor": "#E5ECF6",
            "gridcolor": "white",
            "gridwidth": 2,
            "linecolor": "white",
            "showbackground": true,
            "ticks": "",
            "zerolinecolor": "white"
           },
           "zaxis": {
            "backgroundcolor": "#E5ECF6",
            "gridcolor": "white",
            "gridwidth": 2,
            "linecolor": "white",
            "showbackground": true,
            "ticks": "",
            "zerolinecolor": "white"
           }
          },
          "shapedefaults": {
           "line": {
            "color": "#2a3f5f"
           }
          },
          "ternary": {
           "aaxis": {
            "gridcolor": "white",
            "linecolor": "white",
            "ticks": ""
           },
           "baxis": {
            "gridcolor": "white",
            "linecolor": "white",
            "ticks": ""
           },
           "bgcolor": "#E5ECF6",
           "caxis": {
            "gridcolor": "white",
            "linecolor": "white",
            "ticks": ""
           }
          },
          "title": {
           "x": 0.05
          },
          "xaxis": {
           "automargin": true,
           "gridcolor": "white",
           "linecolor": "white",
           "ticks": "",
           "title": {
            "standoff": 15
           },
           "zerolinecolor": "white",
           "zerolinewidth": 2
          },
          "yaxis": {
           "automargin": true,
           "gridcolor": "white",
           "linecolor": "white",
           "ticks": "",
           "title": {
            "standoff": 15
           },
           "zerolinecolor": "white",
           "zerolinewidth": 2
          }
         }
        },
        "title": {
         "font": {
          "color": "#7C3AED",
          "size": 14
         }
        },
        "xaxis": {
         "anchor": "y",
         "domain": [
          0.0,
          0.20500000000000002
         ],
         "gridcolor": "rgba(139,92,246,0.2)",
         "tickfont": {
          "color": "#8B5CF6",
          "size": 9
         },
         "zerolinecolor": "rgba(139,92,246,0.3)"
        },
        "xaxis2": {
         "anchor": "y2",
         "domain": [
          0.265,
          0.47000000000000003
         ],
         "gridcolor": "rgba(139,92,246,0.2)",
         "tickfont": {
          "color": "#8B5CF6",
          "size": 9
         },
         "zerolinecolor": "rgba(139,92,246,0.3)"
        },
        "xaxis3": {
         "anchor": "y3",
         "domain": [
          0.53,
          0.7350000000000001
         ],
         "gridcolor": "rgba(139,92,246,0.2)",
         "tickfont": {
          "color": "#8B5CF6",
          "size": 9
         },
         "zerolinecolor": "rgba(139,92,246,0.3)"
        },
        "xaxis4": {
         "anchor": "y4",
         "domain": [
          0.7949999999999999,
          1.0
         ],
         "gridcolor": "rgba(139,92,246,0.2)",
         "tickfont": {
          "color": "#8B5CF6",
          "size": 9
         },
         "zerolinecolor": "rgba(139,92,246,0.3)"
        },
        "xaxis5": {
         "anchor": "y5",
         "domain": [
          0.0,
          0.20500000000000002
         ],
         "gridcolor": "rgba(139,92,246,0.2)",
         "tickfont": {
          "color": "#8B5CF6",
          "size": 9
         },
         "zerolinecolor": "rgba(139,92,246,0.3)"
        },
        "xaxis6": {
         "anchor": "y6",
         "domain": [
          0.265,
          0.47000000000000003
         ],
         "gridcolor": "rgba(139,92,246,0.2)",
         "tickfont": {
          "color": "#8B5CF6",
          "size": 9
         },
         "zerolinecolor": "rgba(139,92,246,0.3)"
        },
        "xaxis7": {
         "anchor": "y7",
         "domain": [
          0.53,
          0.7350000000000001
         ],
         "gridcolor": "rgba(139,92,246,0.2)",
         "tickfont": {
          "color": "#8B5CF6",
          "size": 9
         },
         "zerolinecolor": "rgba(139,92,246,0.3)"
        },
        "xaxis8": {
         "anchor": "y8",
         "domain": [
          0.7949999999999999,
          1.0
         ],
         "gridcolor": "rgba(139,92,246,0.2)",
         "tickfont": {
          "color": "#8B5CF6",
          "size": 9
         },
         "zerolinecolor": "rgba(139,92,246,0.3)"
        },
        "yaxis": {
         "anchor": "x",
         "domain": [
          0.54,
          1.0
         ],
         "gridcolor": "rgba(139,92,246,0.2)",
         "tickfont": {
          "color": "#8B5CF6",
          "size": 9
         },
         "zerolinecolor": "rgba(139,92,246,0.3)"
        },
        "yaxis2": {
         "anchor": "x2",
         "domain": [
          0.54,
          1.0
         ],
         "gridcolor": "rgba(139,92,246,0.2)",
         "tickfont": {
          "color": "#8B5CF6",
          "size": 9
         },
         "zerolinecolor": "rgba(139,92,246,0.3)"
        },
        "yaxis3": {
         "anchor": "x3",
         "domain": [
          0.54,
          1.0
         ],
         "gridcolor": "rgba(139,92,246,0.2)",
         "tickfont": {
          "color": "#8B5CF6",
          "size": 9
         },
         "zerolinecolor": "rgba(139,92,246,0.3)"
        },
        "yaxis4": {
         "anchor": "x4",
         "domain": [
          0.54,
          1.0
         ],
         "gridcolor": "rgba(139,92,246,0.2)",
         "tickfont": {
          "color": "#8B5CF6",
          "size": 9
         },
         "zerolinecolor": "rgba(139,92,246,0.3)"
        },
        "yaxis5": {
         "anchor": "x5",
         "domain": [
          0.0,
          0.46
         ],
         "gridcolor": "rgba(139,92,246,0.2)",
         "tickfont": {
          "color": "#8B5CF6",
          "size": 9
         },
         "zerolinecolor": "rgba(139,92,246,0.3)"
        },
        "yaxis6": {
         "anchor": "x6",
         "domain": [
          0.0,
          0.46
         ],
         "gridcolor": "rgba(139,92,246,0.2)",
         "tickfont": {
          "color": "#8B5CF6",
          "size": 9
         },
         "zerolinecolor": "rgba(139,92,246,0.3)"
        },
        "yaxis7": {
         "anchor": "x7",
         "domain": [
          0.0,
          0.46
         ],
         "gridcolor": "rgba(139,92,246,0.2)",
         "tickfont": {
          "color": "#8B5CF6",
          "size": 9
         },
         "zerolinecolor": "rgba(139,92,246,0.3)"
        },
        "yaxis8": {
         "anchor": "x8",
         "domain": [
          0.0,
          0.46
         ],
         "gridcolor": "rgba(139,92,246,0.2)",
         "tickfont": {
          "color": "#8B5CF6",
          "size": 9
         },
         "zerolinecolor": "rgba(139,92,246,0.3)"
        }
       }
      }
     },
     "metadata": {},
     "output_type": "display_data"
    },
    {
     "name": "stdout",
     "output_type": "stream",
     "text": [
      "\n",
      "Summary statistics for key numerical features:\n",
      "              miles  highway_miles  count_accelarations  count_brakes  \\\n",
      "count   7612.000000    7612.000000          7612.000000   7612.000000   \n",
      "mean     470.263430      93.098965           107.530831    106.514541   \n",
      "std      735.890858     228.136664           217.185701    217.162076   \n",
      "min        0.000000       0.000000             0.000000      0.000000   \n",
      "25%       38.429310       2.116950             9.000000      8.000000   \n",
      "50%      166.630980      17.151600            27.000000     26.000000   \n",
      "75%      585.986790      78.876875           106.000000    106.000000   \n",
      "max    14902.604760    3974.295300          5083.969246   5079.969246   \n",
      "\n",
      "       drive_hours   count_trip  maximum_speed  night_drive_hrs  \n",
      "count  7612.000000  7612.000000    7612.000000      7612.000000  \n",
      "mean     23.053007     8.499606      78.357593         0.118414  \n",
      "std      36.025213     7.710051       7.523699         2.027754  \n",
      "min       0.000000     1.000000      60.000000         0.000000  \n",
      "25%       1.910000     2.000000      74.000000         0.000000  \n",
      "50%       8.285000     6.000000      78.500000         0.000000  \n",
      "75%      29.250000    13.000000      84.000000         0.000000  \n",
      "max     615.170000    31.000000      90.000000       106.450000  \n"
     ]
    }
   ],
   "source": [
    "# Analyze numerical features (excluding target if it's numerical)\n",
    "num_features = [col for col in numerical_cols if col != target_col]\n",
    "\n",
    "if len(num_features) > 0:\n",
    "    print(f\"Analyzing {len(num_features)} numerical features\")\n",
    "    \n",
    "    # Select key numerical features for visualization (top 8 by variance)\n",
    "    feature_variance = df[num_features].var().sort_values(ascending=False)\n",
    "    top_features = feature_variance.head(8).index.tolist()\n",
    "    \n",
    "    print(f\"Top features by variance: {top_features}\")\n",
    "    \n",
    "    # Create distribution plot for key numerical features\n",
    "    fig_dist = make_subplots(\n",
    "        rows=2, cols=4,\n",
    "        subplot_titles=top_features[:8],\n",
    "        vertical_spacing=0.08,\n",
    "        horizontal_spacing=0.06\n",
    "    )\n",
    "    \n",
    "    for i, feature in enumerate(top_features[:8]):\n",
    "        row = i // 4 + 1\n",
    "        col = i % 4 + 1\n",
    "        \n",
    "        fig_dist.add_trace(\n",
    "            go.Histogram(\n",
    "                x=df[feature],\n",
    "                name=feature,\n",
    "                marker_color=app_color_palette[i % len(app_color_palette)],\n",
    "                showlegend=False\n",
    "            ),\n",
    "            row=row, col=col\n",
    "        )\n",
    "    \n",
    "    fig_dist.update_layout(\n",
    "        height=550,\n",
    "        paper_bgcolor='rgba(0,0,0,0)',\n",
    "        plot_bgcolor='rgba(0,0,0,0)',\n",
    "        font=dict(color='#8B5CF6', size=10),\n",
    "        title_font=dict(color='#7C3AED', size=14)\n",
    "    )\n",
    "    \n",
    "    fig_dist.update_xaxes(\n",
    "        gridcolor='rgba(139,92,246,0.2)',\n",
    "        zerolinecolor='rgba(139,92,246,0.3)',\n",
    "        tickfont=dict(color='#8B5CF6', size=9)\n",
    "    )\n",
    "    \n",
    "    fig_dist.update_yaxes(\n",
    "        gridcolor='rgba(139,92,246,0.2)',\n",
    "        zerolinecolor='rgba(139,92,246,0.3)',\n",
    "        tickfont=dict(color='#8B5CF6', size=9)\n",
    "    )\n",
    "    \n",
    "    fig_dist.write_html(\n",
    "        \"/Users/yuvalheffetz/ds-agent-projects/session_5feb6ac6-f292-4d0c-9e41-ab6b3ffc14d6/research/plots/numerical_distributions.html\",\n",
    "        include_plotlyjs=True,\n",
    "        config={'responsive': True, 'displayModeBar': False}\n",
    "    )\n",
    "    \n",
    "    fig_dist.show()\n",
    "    \n",
    "    # Print summary statistics for key features\n",
    "    print(\"\\nSummary statistics for key numerical features:\")\n",
    "    print(df[top_features].describe())\n",
    "    \n",
    "else:\n",
    "    print(\"No numerical features found for analysis.\")"
   ]
  },
  {
   "cell_type": "markdown",
   "id": "13",
   "metadata": {},
   "source": [
    "## Categorical Features Analysis"
   ]
  },
  {
   "cell_type": "code",
   "execution_count": 7,
   "id": "14",
   "metadata": {
    "execution": {
     "iopub.execute_input": "2025-09-06T20:35:00.194108Z",
     "iopub.status.busy": "2025-09-06T20:35:00.194022Z",
     "iopub.status.idle": "2025-09-06T20:35:00.235550Z",
     "shell.execute_reply": "2025-09-06T20:35:00.235341Z"
    }
   },
   "outputs": [
    {
     "name": "stdout",
     "output_type": "stream",
     "text": [
      "Analyzing 2 categorical features\n"
     ]
    },
    {
     "data": {
      "application/vnd.plotly.v1+json": {
       "config": {
        "plotlyServerURL": "https://plot.ly"
       },
       "data": [
        {
         "hovertemplate": "month=%{x}<br>Count=%{y}<br>text=%{text}<extra></extra>",
         "legendgroup": "",
         "marker": {
          "color": "rgba(171, 99, 250, 0.8)",
          "pattern": {
           "shape": ""
          }
         },
         "name": "",
         "orientation": "v",
         "showlegend": false,
         "text": {
          "bdata": "AAAAAABQhUAAAAAAADCFQAAAAAAACIVAAAAAAACAhEAAAAAAAHCEQAAAAAAA8INAAAAAAACwg0AAAAAAAJiDQAAAAAAAcINAAAAAAAA4g0A=",
          "dtype": "f8"
         },
         "textposition": "outside",
         "texttemplate": "%{text}",
         "type": "bar",
         "x": [
          "Nov-22",
          "Aug-22",
          "Jan-22",
          "May-22",
          "Jun-22",
          "Feb-22",
          "Apr-22",
          "Mar-22",
          "Sep-22",
          "Jul-22"
         ],
         "xaxis": "x",
         "y": {
          "bdata": "qgKmAqECkAKOAn4CdgJzAm4CZwI=",
          "dtype": "i2"
         },
         "yaxis": "y"
        }
       ],
       "layout": {
        "barmode": "relative",
        "font": {
         "color": "#8B5CF6",
         "size": 12
        },
        "height": 550,
        "legend": {
         "tracegroupgap": 0
        },
        "margin": {
         "t": 60
        },
        "paper_bgcolor": "rgba(0,0,0,0)",
        "plot_bgcolor": "rgba(0,0,0,0)",
        "template": {
         "data": {
          "bar": [
           {
            "error_x": {
             "color": "#2a3f5f"
            },
            "error_y": {
             "color": "#2a3f5f"
            },
            "marker": {
             "line": {
              "color": "#E5ECF6",
              "width": 0.5
             },
             "pattern": {
              "fillmode": "overlay",
              "size": 10,
              "solidity": 0.2
             }
            },
            "type": "bar"
           }
          ],
          "barpolar": [
           {
            "marker": {
             "line": {
              "color": "#E5ECF6",
              "width": 0.5
             },
             "pattern": {
              "fillmode": "overlay",
              "size": 10,
              "solidity": 0.2
             }
            },
            "type": "barpolar"
           }
          ],
          "carpet": [
           {
            "aaxis": {
             "endlinecolor": "#2a3f5f",
             "gridcolor": "white",
             "linecolor": "white",
             "minorgridcolor": "white",
             "startlinecolor": "#2a3f5f"
            },
            "baxis": {
             "endlinecolor": "#2a3f5f",
             "gridcolor": "white",
             "linecolor": "white",
             "minorgridcolor": "white",
             "startlinecolor": "#2a3f5f"
            },
            "type": "carpet"
           }
          ],
          "choropleth": [
           {
            "colorbar": {
             "outlinewidth": 0,
             "ticks": ""
            },
            "type": "choropleth"
           }
          ],
          "contour": [
           {
            "colorbar": {
             "outlinewidth": 0,
             "ticks": ""
            },
            "colorscale": [
             [
              0.0,
              "#0d0887"
             ],
             [
              0.1111111111111111,
              "#46039f"
             ],
             [
              0.2222222222222222,
              "#7201a8"
             ],
             [
              0.3333333333333333,
              "#9c179e"
             ],
             [
              0.4444444444444444,
              "#bd3786"
             ],
             [
              0.5555555555555556,
              "#d8576b"
             ],
             [
              0.6666666666666666,
              "#ed7953"
             ],
             [
              0.7777777777777778,
              "#fb9f3a"
             ],
             [
              0.8888888888888888,
              "#fdca26"
             ],
             [
              1.0,
              "#f0f921"
             ]
            ],
            "type": "contour"
           }
          ],
          "contourcarpet": [
           {
            "colorbar": {
             "outlinewidth": 0,
             "ticks": ""
            },
            "type": "contourcarpet"
           }
          ],
          "heatmap": [
           {
            "colorbar": {
             "outlinewidth": 0,
             "ticks": ""
            },
            "colorscale": [
             [
              0.0,
              "#0d0887"
             ],
             [
              0.1111111111111111,
              "#46039f"
             ],
             [
              0.2222222222222222,
              "#7201a8"
             ],
             [
              0.3333333333333333,
              "#9c179e"
             ],
             [
              0.4444444444444444,
              "#bd3786"
             ],
             [
              0.5555555555555556,
              "#d8576b"
             ],
             [
              0.6666666666666666,
              "#ed7953"
             ],
             [
              0.7777777777777778,
              "#fb9f3a"
             ],
             [
              0.8888888888888888,
              "#fdca26"
             ],
             [
              1.0,
              "#f0f921"
             ]
            ],
            "type": "heatmap"
           }
          ],
          "histogram": [
           {
            "marker": {
             "pattern": {
              "fillmode": "overlay",
              "size": 10,
              "solidity": 0.2
             }
            },
            "type": "histogram"
           }
          ],
          "histogram2d": [
           {
            "colorbar": {
             "outlinewidth": 0,
             "ticks": ""
            },
            "colorscale": [
             [
              0.0,
              "#0d0887"
             ],
             [
              0.1111111111111111,
              "#46039f"
             ],
             [
              0.2222222222222222,
              "#7201a8"
             ],
             [
              0.3333333333333333,
              "#9c179e"
             ],
             [
              0.4444444444444444,
              "#bd3786"
             ],
             [
              0.5555555555555556,
              "#d8576b"
             ],
             [
              0.6666666666666666,
              "#ed7953"
             ],
             [
              0.7777777777777778,
              "#fb9f3a"
             ],
             [
              0.8888888888888888,
              "#fdca26"
             ],
             [
              1.0,
              "#f0f921"
             ]
            ],
            "type": "histogram2d"
           }
          ],
          "histogram2dcontour": [
           {
            "colorbar": {
             "outlinewidth": 0,
             "ticks": ""
            },
            "colorscale": [
             [
              0.0,
              "#0d0887"
             ],
             [
              0.1111111111111111,
              "#46039f"
             ],
             [
              0.2222222222222222,
              "#7201a8"
             ],
             [
              0.3333333333333333,
              "#9c179e"
             ],
             [
              0.4444444444444444,
              "#bd3786"
             ],
             [
              0.5555555555555556,
              "#d8576b"
             ],
             [
              0.6666666666666666,
              "#ed7953"
             ],
             [
              0.7777777777777778,
              "#fb9f3a"
             ],
             [
              0.8888888888888888,
              "#fdca26"
             ],
             [
              1.0,
              "#f0f921"
             ]
            ],
            "type": "histogram2dcontour"
           }
          ],
          "mesh3d": [
           {
            "colorbar": {
             "outlinewidth": 0,
             "ticks": ""
            },
            "type": "mesh3d"
           }
          ],
          "parcoords": [
           {
            "line": {
             "colorbar": {
              "outlinewidth": 0,
              "ticks": ""
             }
            },
            "type": "parcoords"
           }
          ],
          "pie": [
           {
            "automargin": true,
            "type": "pie"
           }
          ],
          "scatter": [
           {
            "fillpattern": {
             "fillmode": "overlay",
             "size": 10,
             "solidity": 0.2
            },
            "type": "scatter"
           }
          ],
          "scatter3d": [
           {
            "line": {
             "colorbar": {
              "outlinewidth": 0,
              "ticks": ""
             }
            },
            "marker": {
             "colorbar": {
              "outlinewidth": 0,
              "ticks": ""
             }
            },
            "type": "scatter3d"
           }
          ],
          "scattercarpet": [
           {
            "marker": {
             "colorbar": {
              "outlinewidth": 0,
              "ticks": ""
             }
            },
            "type": "scattercarpet"
           }
          ],
          "scattergeo": [
           {
            "marker": {
             "colorbar": {
              "outlinewidth": 0,
              "ticks": ""
             }
            },
            "type": "scattergeo"
           }
          ],
          "scattergl": [
           {
            "marker": {
             "colorbar": {
              "outlinewidth": 0,
              "ticks": ""
             }
            },
            "type": "scattergl"
           }
          ],
          "scattermap": [
           {
            "marker": {
             "colorbar": {
              "outlinewidth": 0,
              "ticks": ""
             }
            },
            "type": "scattermap"
           }
          ],
          "scattermapbox": [
           {
            "marker": {
             "colorbar": {
              "outlinewidth": 0,
              "ticks": ""
             }
            },
            "type": "scattermapbox"
           }
          ],
          "scatterpolar": [
           {
            "marker": {
             "colorbar": {
              "outlinewidth": 0,
              "ticks": ""
             }
            },
            "type": "scatterpolar"
           }
          ],
          "scatterpolargl": [
           {
            "marker": {
             "colorbar": {
              "outlinewidth": 0,
              "ticks": ""
             }
            },
            "type": "scatterpolargl"
           }
          ],
          "scatterternary": [
           {
            "marker": {
             "colorbar": {
              "outlinewidth": 0,
              "ticks": ""
             }
            },
            "type": "scatterternary"
           }
          ],
          "surface": [
           {
            "colorbar": {
             "outlinewidth": 0,
             "ticks": ""
            },
            "colorscale": [
             [
              0.0,
              "#0d0887"
             ],
             [
              0.1111111111111111,
              "#46039f"
             ],
             [
              0.2222222222222222,
              "#7201a8"
             ],
             [
              0.3333333333333333,
              "#9c179e"
             ],
             [
              0.4444444444444444,
              "#bd3786"
             ],
             [
              0.5555555555555556,
              "#d8576b"
             ],
             [
              0.6666666666666666,
              "#ed7953"
             ],
             [
              0.7777777777777778,
              "#fb9f3a"
             ],
             [
              0.8888888888888888,
              "#fdca26"
             ],
             [
              1.0,
              "#f0f921"
             ]
            ],
            "type": "surface"
           }
          ],
          "table": [
           {
            "cells": {
             "fill": {
              "color": "#EBF0F8"
             },
             "line": {
              "color": "white"
             }
            },
            "header": {
             "fill": {
              "color": "#C8D4E3"
             },
             "line": {
              "color": "white"
             }
            },
            "type": "table"
           }
          ]
         },
         "layout": {
          "annotationdefaults": {
           "arrowcolor": "#2a3f5f",
           "arrowhead": 0,
           "arrowwidth": 1
          },
          "autotypenumbers": "strict",
          "coloraxis": {
           "colorbar": {
            "outlinewidth": 0,
            "ticks": ""
           }
          },
          "colorscale": {
           "diverging": [
            [
             0,
             "#8e0152"
            ],
            [
             0.1,
             "#c51b7d"
            ],
            [
             0.2,
             "#de77ae"
            ],
            [
             0.3,
             "#f1b6da"
            ],
            [
             0.4,
             "#fde0ef"
            ],
            [
             0.5,
             "#f7f7f7"
            ],
            [
             0.6,
             "#e6f5d0"
            ],
            [
             0.7,
             "#b8e186"
            ],
            [
             0.8,
             "#7fbc41"
            ],
            [
             0.9,
             "#4d9221"
            ],
            [
             1,
             "#276419"
            ]
           ],
           "sequential": [
            [
             0.0,
             "#0d0887"
            ],
            [
             0.1111111111111111,
             "#46039f"
            ],
            [
             0.2222222222222222,
             "#7201a8"
            ],
            [
             0.3333333333333333,
             "#9c179e"
            ],
            [
             0.4444444444444444,
             "#bd3786"
            ],
            [
             0.5555555555555556,
             "#d8576b"
            ],
            [
             0.6666666666666666,
             "#ed7953"
            ],
            [
             0.7777777777777778,
             "#fb9f3a"
            ],
            [
             0.8888888888888888,
             "#fdca26"
            ],
            [
             1.0,
             "#f0f921"
            ]
           ],
           "sequentialminus": [
            [
             0.0,
             "#0d0887"
            ],
            [
             0.1111111111111111,
             "#46039f"
            ],
            [
             0.2222222222222222,
             "#7201a8"
            ],
            [
             0.3333333333333333,
             "#9c179e"
            ],
            [
             0.4444444444444444,
             "#bd3786"
            ],
            [
             0.5555555555555556,
             "#d8576b"
            ],
            [
             0.6666666666666666,
             "#ed7953"
            ],
            [
             0.7777777777777778,
             "#fb9f3a"
            ],
            [
             0.8888888888888888,
             "#fdca26"
            ],
            [
             1.0,
             "#f0f921"
            ]
           ]
          },
          "colorway": [
           "#636efa",
           "#EF553B",
           "#00cc96",
           "#ab63fa",
           "#FFA15A",
           "#19d3f3",
           "#FF6692",
           "#B6E880",
           "#FF97FF",
           "#FECB52"
          ],
          "font": {
           "color": "#2a3f5f"
          },
          "geo": {
           "bgcolor": "white",
           "lakecolor": "white",
           "landcolor": "#E5ECF6",
           "showlakes": true,
           "showland": true,
           "subunitcolor": "white"
          },
          "hoverlabel": {
           "align": "left"
          },
          "hovermode": "closest",
          "mapbox": {
           "style": "light"
          },
          "paper_bgcolor": "white",
          "plot_bgcolor": "#E5ECF6",
          "polar": {
           "angularaxis": {
            "gridcolor": "white",
            "linecolor": "white",
            "ticks": ""
           },
           "bgcolor": "#E5ECF6",
           "radialaxis": {
            "gridcolor": "white",
            "linecolor": "white",
            "ticks": ""
           }
          },
          "scene": {
           "xaxis": {
            "backgroundcolor": "#E5ECF6",
            "gridcolor": "white",
            "gridwidth": 2,
            "linecolor": "white",
            "showbackground": true,
            "ticks": "",
            "zerolinecolor": "white"
           },
           "yaxis": {
            "backgroundcolor": "#E5ECF6",
            "gridcolor": "white",
            "gridwidth": 2,
            "linecolor": "white",
            "showbackground": true,
            "ticks": "",
            "zerolinecolor": "white"
           },
           "zaxis": {
            "backgroundcolor": "#E5ECF6",
            "gridcolor": "white",
            "gridwidth": 2,
            "linecolor": "white",
            "showbackground": true,
            "ticks": "",
            "zerolinecolor": "white"
           }
          },
          "shapedefaults": {
           "line": {
            "color": "#2a3f5f"
           }
          },
          "ternary": {
           "aaxis": {
            "gridcolor": "white",
            "linecolor": "white",
            "ticks": ""
           },
           "baxis": {
            "gridcolor": "white",
            "linecolor": "white",
            "ticks": ""
           },
           "bgcolor": "#E5ECF6",
           "caxis": {
            "gridcolor": "white",
            "linecolor": "white",
            "ticks": ""
           }
          },
          "title": {
           "x": 0.05
          },
          "xaxis": {
           "automargin": true,
           "gridcolor": "white",
           "linecolor": "white",
           "ticks": "",
           "title": {
            "standoff": 15
           },
           "zerolinecolor": "white",
           "zerolinewidth": 2
          },
          "yaxis": {
           "automargin": true,
           "gridcolor": "white",
           "linecolor": "white",
           "ticks": "",
           "title": {
            "standoff": 15
           },
           "zerolinecolor": "white",
           "zerolinewidth": 2
          }
         }
        },
        "title": {
         "font": {
          "color": "#7C3AED",
          "size": 16
         }
        },
        "xaxis": {
         "anchor": "y",
         "domain": [
          0.0,
          1.0
         ],
         "gridcolor": "rgba(139,92,246,0.2)",
         "tickangle": 45,
         "tickfont": {
          "color": "#8B5CF6",
          "size": 11
         },
         "title": {
          "font": {
           "color": "#7C3AED",
           "size": 12
          },
          "text": "month"
         },
         "zerolinecolor": "rgba(139,92,246,0.3)"
        },
        "yaxis": {
         "anchor": "x",
         "domain": [
          0.0,
          1.0
         ],
         "gridcolor": "rgba(139,92,246,0.2)",
         "tickfont": {
          "color": "#8B5CF6",
          "size": 11
         },
         "title": {
          "font": {
           "color": "#7C3AED",
           "size": 12
          },
          "text": "Count"
         },
         "zerolinecolor": "rgba(139,92,246,0.3)"
        }
       }
      }
     },
     "metadata": {},
     "output_type": "display_data"
    },
    {
     "name": "stdout",
     "output_type": "stream",
     "text": [
      "\n",
      "month: 12 unique values\n",
      "Top 5 values:\n",
      "month\n",
      "Nov-22    682\n",
      "Aug-22    678\n",
      "Jan-22    673\n",
      "May-22    656\n",
      "Jun-22    654\n",
      "Name: count, dtype: int64\n"
     ]
    }
   ],
   "source": [
    "# Analyze categorical features\n",
    "if len(categorical_cols) > 0:\n",
    "    print(f\"Analyzing {len(categorical_cols)} categorical features\")\n",
    "    \n",
    "    # Select features with reasonable number of unique values for visualization\n",
    "    cat_features_analysis = []\n",
    "    for col in categorical_cols:\n",
    "        unique_count = df[col].nunique()\n",
    "        if unique_count <= 20:  # Only show features with <= 20 unique values\n",
    "            cat_features_analysis.append(col)\n",
    "    \n",
    "    if len(cat_features_analysis) > 0:\n",
    "        # Take first categorical feature for detailed analysis\n",
    "        feature_to_analyze = cat_features_analysis[0]\n",
    "        \n",
    "        value_counts = df[feature_to_analyze].value_counts().head(10)  # Top 10 values\n",
    "        \n",
    "        fig_cat = px.bar(\n",
    "            x=value_counts.index,\n",
    "            y=value_counts.values,\n",
    "            labels={'x': f'{feature_to_analyze}', 'y': 'Count'},\n",
    "            text=value_counts.values\n",
    "        )\n",
    "        \n",
    "        fig_cat.update_traces(\n",
    "            marker=dict(color=app_color_palette[3]),\n",
    "            texttemplate='%{text}',\n",
    "            textposition='outside'\n",
    "        )\n",
    "        \n",
    "        fig_cat.update_layout(\n",
    "            height=550,\n",
    "            paper_bgcolor='rgba(0,0,0,0)',\n",
    "            plot_bgcolor='rgba(0,0,0,0)',\n",
    "            font=dict(color='#8B5CF6', size=12),\n",
    "            title_font=dict(color='#7C3AED', size=16),\n",
    "            xaxis=dict(\n",
    "                gridcolor='rgba(139,92,246,0.2)',\n",
    "                zerolinecolor='rgba(139,92,246,0.3)',\n",
    "                tickfont=dict(color='#8B5CF6', size=11),\n",
    "                title_font=dict(color='#7C3AED', size=12),\n",
    "                tickangle=45\n",
    "            ),\n",
    "            yaxis=dict(\n",
    "                gridcolor='rgba(139,92,246,0.2)',\n",
    "                zerolinecolor='rgba(139,92,246,0.3)',\n",
    "                tickfont=dict(color='#8B5CF6', size=11),\n",
    "                title_font=dict(color='#7C3AED', size=12)\n",
    "            )\n",
    "        )\n",
    "        \n",
    "        fig_cat.write_html(\n",
    "            \"/Users/yuvalheffetz/ds-agent-projects/session_5feb6ac6-f292-4d0c-9e41-ab6b3ffc14d6/research/plots/categorical_distribution.html\",\n",
    "            include_plotlyjs=True,\n",
    "            config={'responsive': True, 'displayModeBar': False}\n",
    "        )\n",
    "        \n",
    "        fig_cat.show()\n",
    "        \n",
    "        # Print analysis for all categorical features\n",
    "        for col in cat_features_analysis:\n",
    "            unique_vals = df[col].nunique()\n",
    "            print(f\"\\n{col}: {unique_vals} unique values\")\n",
    "            if unique_vals <= 10:\n",
    "                print(df[col].value_counts().head(10))\n",
    "            else:\n",
    "                print(f\"Top 5 values:\\n{df[col].value_counts().head(5)}\")\n",
    "    else:\n",
    "        print(\"No suitable categorical features found for visualization (all have >20 unique values)\")\n",
    "        # Create a placeholder showing unique value counts\n",
    "        unique_counts = pd.Series([df[col].nunique() for col in categorical_cols], \n",
    "                                index=categorical_cols)\n",
    "        \n",
    "        fig_cat = px.bar(\n",
    "            x=unique_counts.index,\n",
    "            y=unique_counts.values,\n",
    "            labels={'x': 'Categorical Features', 'y': 'Unique Value Count'}\n",
    "        )\n",
    "        \n",
    "        fig_cat.update_traces(marker=dict(color=app_color_palette[3]))\n",
    "        \n",
    "        fig_cat.update_layout(\n",
    "            height=550,\n",
    "            paper_bgcolor='rgba(0,0,0,0)',\n",
    "            plot_bgcolor='rgba(0,0,0,0)',\n",
    "            font=dict(color='#8B5CF6', size=12),\n",
    "            title_font=dict(color='#7C3AED', size=16),\n",
    "            xaxis=dict(\n",
    "                gridcolor='rgba(139,92,246,0.2)',\n",
    "                zerolinecolor='rgba(139,92,246,0.3)',\n",
    "                tickfont=dict(color='#8B5CF6', size=11),\n",
    "                title_font=dict(color='#7C3AED', size=12),\n",
    "                tickangle=45\n",
    "            ),\n",
    "            yaxis=dict(\n",
    "                gridcolor='rgba(139,92,246,0.2)',\n",
    "                zerolinecolor='rgba(139,92,246,0.3)',\n",
    "                tickfont=dict(color='#8B5CF6', size=11),\n",
    "                title_font=dict(color='#7C3AED', size=12)\n",
    "            )\n",
    "        )\n",
    "        \n",
    "        fig_cat.write_html(\n",
    "            \"/Users/yuvalheffetz/ds-agent-projects/session_5feb6ac6-f292-4d0c-9e41-ab6b3ffc14d6/research/plots/categorical_distribution.html\",\n",
    "            include_plotlyjs=True,\n",
    "            config={'responsive': True, 'displayModeBar': False}\n",
    "        )\n",
    "        \n",
    "        fig_cat.show()\n",
    "else:\n",
    "    print(\"No categorical features found.\")\n",
    "    # Create placeholder\n",
    "    fig_cat = px.bar(x=['No categorical features'], y=[0])\n",
    "    fig_cat.write_html(\n",
    "        \"/Users/yuvalheffetz/ds-agent-projects/session_5feb6ac6-f292-4d0c-9e41-ab6b3ffc14d6/research/plots/categorical_distribution.html\",\n",
    "        include_plotlyjs=True,\n",
    "        config={'responsive': True, 'displayModeBar': False}\n",
    "    )"
   ]
  },
  {
   "cell_type": "markdown",
   "id": "15",
   "metadata": {},
   "source": [
    "## Feature Correlation Analysis"
   ]
  },
  {
   "cell_type": "code",
   "execution_count": 8,
   "id": "16",
   "metadata": {
    "execution": {
     "iopub.execute_input": "2025-09-06T20:35:00.236735Z",
     "iopub.status.busy": "2025-09-06T20:35:00.236662Z",
     "iopub.status.idle": "2025-09-06T20:35:00.285186Z",
     "shell.execute_reply": "2025-09-06T20:35:00.284856Z"
    }
   },
   "outputs": [
    {
     "name": "stdout",
     "output_type": "stream",
     "text": [
      "Features most correlated with collisions:\n",
      "collisions             1.000000\n",
      "miles                  0.296820\n",
      "drive_hours            0.295239\n",
      "count_trip             0.253660\n",
      "count_brakes           0.250947\n",
      "count_accelarations    0.250938\n",
      "highway_miles          0.212436\n",
      "maximum_speed          0.062718\n",
      "time_speeding_hours    0.044121\n",
      "night_drive_hrs        0.012389\n",
      "Name: collisions, dtype: float64\n"
     ]
    },
    {
     "data": {
      "application/vnd.plotly.v1+json": {
       "config": {
        "plotlyServerURL": "https://plot.ly"
       },
       "data": [
        {
         "coloraxis": "coloraxis",
         "hovertemplate": "Features: %{x}<br>Features: %{y}<br>Correlation: %{z}<extra></extra>",
         "name": "0",
         "texttemplate": "%{z:.2f}",
         "type": "heatmap",
         "x": [
          "collisions",
          "miles",
          "drive_hours",
          "count_trip",
          "count_brakes",
          "count_accelarations",
          "highway_miles",
          "maximum_speed",
          "time_speeding_hours",
          "night_drive_hrs"
         ],
         "xaxis": "x",
         "y": [
          "collisions",
          "miles",
          "drive_hours",
          "count_trip",
          "count_brakes",
          "count_accelarations",
          "highway_miles",
          "maximum_speed",
          "time_speeding_hours",
          "night_drive_hrs"
         ],
         "yaxis": "y",
         "z": {
          "bdata": "AAAAAAAA8D9srO3GGv/SP65ZB0Yx5dI/k6ZAmfg70D8ljpN1hA/QP76JEL1eD9A/1cSHcBsxyz+kxD1MSQ6wv+cPWikIl6Y/69xebXhfiT9srO3GGv/SPwAAAAAAAPA/bgH4mw/y7D8a4nZmlxToPzCU9zqZ3OY/vtoFNZnb5j+hWu3bSf/pPziFYzA9QZa/iMa0VCDo2T8pCshzp5PBP65ZB0Yx5dI/bgH4mw/y7D8AAAAAAADwP2ONmWNG6+c/iOZXKKka5T9Rw56ydBnlP6PT/rm7q+Q/85Cls+yPl79wrCSG0UnSPw+3SHydfNI/k6ZAmfg70D8a4nZmlxToP2ONmWNG6+c/AAAAAAAA8D/HFJR0XGLiPzZMsOgMYuI/DOy5Dlng3j9oKsGZ5rScv5KOzq2jnMo/2w7SPvXcsj8ljpN1hA/QPzCU9zqZ3OY/iOZXKKka5T/HFJR0XGLiPwAAAAAAAPA/mSstXcr/7z8E7g8FnRrcP4xlHREXeZm//8fBEzeNzT95JBkDjlm6P76JEL1eD9A/vtoFNZnb5j9Rw56ydBnlPzZMsOgMYuI/mSstXcr/7z8AAAAAAADwP5M9mzZVGdw/VjZDzBhqmb87QVAAT5DNP94hnNwaVro/1cSHcBsxyz+hWu3bSf/pP6PT/rm7q+Q/DOy5Dlng3j8E7g8FnRrcP5M9mzZVGdw/AAAAAAAA8D/FvpcuCPx0vytxjmGuT+E/jFpMpCj8vj+kxD1MSQ6wvziFYzA9QZa/85Cls+yPl79oKsGZ5rScv4xlHREXeZm/VjZDzBhqmb/FvpcuCPx0vwAAAAAAAPA/EABk8l5Cdj/sELQN/VB0P+cPWikIl6Y/iMa0VCDo2T9wrCSG0UnSP5KOzq2jnMo//8fBEzeNzT87QVAAT5DNPytxjmGuT+E/EABk8l5Cdj8AAAAAAADwP2PPtIVCgcI/69xebXhfiT8pCshzp5PBPw+3SHydfNI/2w7SPvXcsj95JBkDjlm6P94hnNwaVro/jFpMpCj8vj/sELQN/VB0P2PPtIVCgcI/AAAAAAAA8D8=",
          "dtype": "f8",
          "shape": "10, 10"
         }
        }
       ],
       "layout": {
        "coloraxis": {
         "colorbar": {
          "title": {
           "text": "Correlation"
          }
         },
         "colorscale": [
          [
           0.0,
           "rgb(5,48,97)"
          ],
          [
           0.1,
           "rgb(33,102,172)"
          ],
          [
           0.2,
           "rgb(67,147,195)"
          ],
          [
           0.3,
           "rgb(146,197,222)"
          ],
          [
           0.4,
           "rgb(209,229,240)"
          ],
          [
           0.5,
           "rgb(247,247,247)"
          ],
          [
           0.6,
           "rgb(253,219,199)"
          ],
          [
           0.7,
           "rgb(244,165,130)"
          ],
          [
           0.8,
           "rgb(214,96,77)"
          ],
          [
           0.9,
           "rgb(178,24,43)"
          ],
          [
           1.0,
           "rgb(103,0,31)"
          ]
         ]
        },
        "font": {
         "color": "#8B5CF6",
         "size": 10
        },
        "height": 550,
        "margin": {
         "t": 60
        },
        "paper_bgcolor": "rgba(0,0,0,0)",
        "plot_bgcolor": "rgba(0,0,0,0)",
        "template": {
         "data": {
          "bar": [
           {
            "error_x": {
             "color": "#2a3f5f"
            },
            "error_y": {
             "color": "#2a3f5f"
            },
            "marker": {
             "line": {
              "color": "#E5ECF6",
              "width": 0.5
             },
             "pattern": {
              "fillmode": "overlay",
              "size": 10,
              "solidity": 0.2
             }
            },
            "type": "bar"
           }
          ],
          "barpolar": [
           {
            "marker": {
             "line": {
              "color": "#E5ECF6",
              "width": 0.5
             },
             "pattern": {
              "fillmode": "overlay",
              "size": 10,
              "solidity": 0.2
             }
            },
            "type": "barpolar"
           }
          ],
          "carpet": [
           {
            "aaxis": {
             "endlinecolor": "#2a3f5f",
             "gridcolor": "white",
             "linecolor": "white",
             "minorgridcolor": "white",
             "startlinecolor": "#2a3f5f"
            },
            "baxis": {
             "endlinecolor": "#2a3f5f",
             "gridcolor": "white",
             "linecolor": "white",
             "minorgridcolor": "white",
             "startlinecolor": "#2a3f5f"
            },
            "type": "carpet"
           }
          ],
          "choropleth": [
           {
            "colorbar": {
             "outlinewidth": 0,
             "ticks": ""
            },
            "type": "choropleth"
           }
          ],
          "contour": [
           {
            "colorbar": {
             "outlinewidth": 0,
             "ticks": ""
            },
            "colorscale": [
             [
              0.0,
              "#0d0887"
             ],
             [
              0.1111111111111111,
              "#46039f"
             ],
             [
              0.2222222222222222,
              "#7201a8"
             ],
             [
              0.3333333333333333,
              "#9c179e"
             ],
             [
              0.4444444444444444,
              "#bd3786"
             ],
             [
              0.5555555555555556,
              "#d8576b"
             ],
             [
              0.6666666666666666,
              "#ed7953"
             ],
             [
              0.7777777777777778,
              "#fb9f3a"
             ],
             [
              0.8888888888888888,
              "#fdca26"
             ],
             [
              1.0,
              "#f0f921"
             ]
            ],
            "type": "contour"
           }
          ],
          "contourcarpet": [
           {
            "colorbar": {
             "outlinewidth": 0,
             "ticks": ""
            },
            "type": "contourcarpet"
           }
          ],
          "heatmap": [
           {
            "colorbar": {
             "outlinewidth": 0,
             "ticks": ""
            },
            "colorscale": [
             [
              0.0,
              "#0d0887"
             ],
             [
              0.1111111111111111,
              "#46039f"
             ],
             [
              0.2222222222222222,
              "#7201a8"
             ],
             [
              0.3333333333333333,
              "#9c179e"
             ],
             [
              0.4444444444444444,
              "#bd3786"
             ],
             [
              0.5555555555555556,
              "#d8576b"
             ],
             [
              0.6666666666666666,
              "#ed7953"
             ],
             [
              0.7777777777777778,
              "#fb9f3a"
             ],
             [
              0.8888888888888888,
              "#fdca26"
             ],
             [
              1.0,
              "#f0f921"
             ]
            ],
            "type": "heatmap"
           }
          ],
          "histogram": [
           {
            "marker": {
             "pattern": {
              "fillmode": "overlay",
              "size": 10,
              "solidity": 0.2
             }
            },
            "type": "histogram"
           }
          ],
          "histogram2d": [
           {
            "colorbar": {
             "outlinewidth": 0,
             "ticks": ""
            },
            "colorscale": [
             [
              0.0,
              "#0d0887"
             ],
             [
              0.1111111111111111,
              "#46039f"
             ],
             [
              0.2222222222222222,
              "#7201a8"
             ],
             [
              0.3333333333333333,
              "#9c179e"
             ],
             [
              0.4444444444444444,
              "#bd3786"
             ],
             [
              0.5555555555555556,
              "#d8576b"
             ],
             [
              0.6666666666666666,
              "#ed7953"
             ],
             [
              0.7777777777777778,
              "#fb9f3a"
             ],
             [
              0.8888888888888888,
              "#fdca26"
             ],
             [
              1.0,
              "#f0f921"
             ]
            ],
            "type": "histogram2d"
           }
          ],
          "histogram2dcontour": [
           {
            "colorbar": {
             "outlinewidth": 0,
             "ticks": ""
            },
            "colorscale": [
             [
              0.0,
              "#0d0887"
             ],
             [
              0.1111111111111111,
              "#46039f"
             ],
             [
              0.2222222222222222,
              "#7201a8"
             ],
             [
              0.3333333333333333,
              "#9c179e"
             ],
             [
              0.4444444444444444,
              "#bd3786"
             ],
             [
              0.5555555555555556,
              "#d8576b"
             ],
             [
              0.6666666666666666,
              "#ed7953"
             ],
             [
              0.7777777777777778,
              "#fb9f3a"
             ],
             [
              0.8888888888888888,
              "#fdca26"
             ],
             [
              1.0,
              "#f0f921"
             ]
            ],
            "type": "histogram2dcontour"
           }
          ],
          "mesh3d": [
           {
            "colorbar": {
             "outlinewidth": 0,
             "ticks": ""
            },
            "type": "mesh3d"
           }
          ],
          "parcoords": [
           {
            "line": {
             "colorbar": {
              "outlinewidth": 0,
              "ticks": ""
             }
            },
            "type": "parcoords"
           }
          ],
          "pie": [
           {
            "automargin": true,
            "type": "pie"
           }
          ],
          "scatter": [
           {
            "fillpattern": {
             "fillmode": "overlay",
             "size": 10,
             "solidity": 0.2
            },
            "type": "scatter"
           }
          ],
          "scatter3d": [
           {
            "line": {
             "colorbar": {
              "outlinewidth": 0,
              "ticks": ""
             }
            },
            "marker": {
             "colorbar": {
              "outlinewidth": 0,
              "ticks": ""
             }
            },
            "type": "scatter3d"
           }
          ],
          "scattercarpet": [
           {
            "marker": {
             "colorbar": {
              "outlinewidth": 0,
              "ticks": ""
             }
            },
            "type": "scattercarpet"
           }
          ],
          "scattergeo": [
           {
            "marker": {
             "colorbar": {
              "outlinewidth": 0,
              "ticks": ""
             }
            },
            "type": "scattergeo"
           }
          ],
          "scattergl": [
           {
            "marker": {
             "colorbar": {
              "outlinewidth": 0,
              "ticks": ""
             }
            },
            "type": "scattergl"
           }
          ],
          "scattermap": [
           {
            "marker": {
             "colorbar": {
              "outlinewidth": 0,
              "ticks": ""
             }
            },
            "type": "scattermap"
           }
          ],
          "scattermapbox": [
           {
            "marker": {
             "colorbar": {
              "outlinewidth": 0,
              "ticks": ""
             }
            },
            "type": "scattermapbox"
           }
          ],
          "scatterpolar": [
           {
            "marker": {
             "colorbar": {
              "outlinewidth": 0,
              "ticks": ""
             }
            },
            "type": "scatterpolar"
           }
          ],
          "scatterpolargl": [
           {
            "marker": {
             "colorbar": {
              "outlinewidth": 0,
              "ticks": ""
             }
            },
            "type": "scatterpolargl"
           }
          ],
          "scatterternary": [
           {
            "marker": {
             "colorbar": {
              "outlinewidth": 0,
              "ticks": ""
             }
            },
            "type": "scatterternary"
           }
          ],
          "surface": [
           {
            "colorbar": {
             "outlinewidth": 0,
             "ticks": ""
            },
            "colorscale": [
             [
              0.0,
              "#0d0887"
             ],
             [
              0.1111111111111111,
              "#46039f"
             ],
             [
              0.2222222222222222,
              "#7201a8"
             ],
             [
              0.3333333333333333,
              "#9c179e"
             ],
             [
              0.4444444444444444,
              "#bd3786"
             ],
             [
              0.5555555555555556,
              "#d8576b"
             ],
             [
              0.6666666666666666,
              "#ed7953"
             ],
             [
              0.7777777777777778,
              "#fb9f3a"
             ],
             [
              0.8888888888888888,
              "#fdca26"
             ],
             [
              1.0,
              "#f0f921"
             ]
            ],
            "type": "surface"
           }
          ],
          "table": [
           {
            "cells": {
             "fill": {
              "color": "#EBF0F8"
             },
             "line": {
              "color": "white"
             }
            },
            "header": {
             "fill": {
              "color": "#C8D4E3"
             },
             "line": {
              "color": "white"
             }
            },
            "type": "table"
           }
          ]
         },
         "layout": {
          "annotationdefaults": {
           "arrowcolor": "#2a3f5f",
           "arrowhead": 0,
           "arrowwidth": 1
          },
          "autotypenumbers": "strict",
          "coloraxis": {
           "colorbar": {
            "outlinewidth": 0,
            "ticks": ""
           }
          },
          "colorscale": {
           "diverging": [
            [
             0,
             "#8e0152"
            ],
            [
             0.1,
             "#c51b7d"
            ],
            [
             0.2,
             "#de77ae"
            ],
            [
             0.3,
             "#f1b6da"
            ],
            [
             0.4,
             "#fde0ef"
            ],
            [
             0.5,
             "#f7f7f7"
            ],
            [
             0.6,
             "#e6f5d0"
            ],
            [
             0.7,
             "#b8e186"
            ],
            [
             0.8,
             "#7fbc41"
            ],
            [
             0.9,
             "#4d9221"
            ],
            [
             1,
             "#276419"
            ]
           ],
           "sequential": [
            [
             0.0,
             "#0d0887"
            ],
            [
             0.1111111111111111,
             "#46039f"
            ],
            [
             0.2222222222222222,
             "#7201a8"
            ],
            [
             0.3333333333333333,
             "#9c179e"
            ],
            [
             0.4444444444444444,
             "#bd3786"
            ],
            [
             0.5555555555555556,
             "#d8576b"
            ],
            [
             0.6666666666666666,
             "#ed7953"
            ],
            [
             0.7777777777777778,
             "#fb9f3a"
            ],
            [
             0.8888888888888888,
             "#fdca26"
            ],
            [
             1.0,
             "#f0f921"
            ]
           ],
           "sequentialminus": [
            [
             0.0,
             "#0d0887"
            ],
            [
             0.1111111111111111,
             "#46039f"
            ],
            [
             0.2222222222222222,
             "#7201a8"
            ],
            [
             0.3333333333333333,
             "#9c179e"
            ],
            [
             0.4444444444444444,
             "#bd3786"
            ],
            [
             0.5555555555555556,
             "#d8576b"
            ],
            [
             0.6666666666666666,
             "#ed7953"
            ],
            [
             0.7777777777777778,
             "#fb9f3a"
            ],
            [
             0.8888888888888888,
             "#fdca26"
            ],
            [
             1.0,
             "#f0f921"
            ]
           ]
          },
          "colorway": [
           "#636efa",
           "#EF553B",
           "#00cc96",
           "#ab63fa",
           "#FFA15A",
           "#19d3f3",
           "#FF6692",
           "#B6E880",
           "#FF97FF",
           "#FECB52"
          ],
          "font": {
           "color": "#2a3f5f"
          },
          "geo": {
           "bgcolor": "white",
           "lakecolor": "white",
           "landcolor": "#E5ECF6",
           "showlakes": true,
           "showland": true,
           "subunitcolor": "white"
          },
          "hoverlabel": {
           "align": "left"
          },
          "hovermode": "closest",
          "mapbox": {
           "style": "light"
          },
          "paper_bgcolor": "white",
          "plot_bgcolor": "#E5ECF6",
          "polar": {
           "angularaxis": {
            "gridcolor": "white",
            "linecolor": "white",
            "ticks": ""
           },
           "bgcolor": "#E5ECF6",
           "radialaxis": {
            "gridcolor": "white",
            "linecolor": "white",
            "ticks": ""
           }
          },
          "scene": {
           "xaxis": {
            "backgroundcolor": "#E5ECF6",
            "gridcolor": "white",
            "gridwidth": 2,
            "linecolor": "white",
            "showbackground": true,
            "ticks": "",
            "zerolinecolor": "white"
           },
           "yaxis": {
            "backgroundcolor": "#E5ECF6",
            "gridcolor": "white",
            "gridwidth": 2,
            "linecolor": "white",
            "showbackground": true,
            "ticks": "",
            "zerolinecolor": "white"
           },
           "zaxis": {
            "backgroundcolor": "#E5ECF6",
            "gridcolor": "white",
            "gridwidth": 2,
            "linecolor": "white",
            "showbackground": true,
            "ticks": "",
            "zerolinecolor": "white"
           }
          },
          "shapedefaults": {
           "line": {
            "color": "#2a3f5f"
           }
          },
          "ternary": {
           "aaxis": {
            "gridcolor": "white",
            "linecolor": "white",
            "ticks": ""
           },
           "baxis": {
            "gridcolor": "white",
            "linecolor": "white",
            "ticks": ""
           },
           "bgcolor": "#E5ECF6",
           "caxis": {
            "gridcolor": "white",
            "linecolor": "white",
            "ticks": ""
           }
          },
          "title": {
           "x": 0.05
          },
          "xaxis": {
           "automargin": true,
           "gridcolor": "white",
           "linecolor": "white",
           "ticks": "",
           "title": {
            "standoff": 15
           },
           "zerolinecolor": "white",
           "zerolinewidth": 2
          },
          "yaxis": {
           "automargin": true,
           "gridcolor": "white",
           "linecolor": "white",
           "ticks": "",
           "title": {
            "standoff": 15
           },
           "zerolinecolor": "white",
           "zerolinewidth": 2
          }
         }
        },
        "title": {
         "font": {
          "color": "#7C3AED",
          "size": 16
         }
        },
        "xaxis": {
         "anchor": "y",
         "domain": [
          0.0,
          1.0
         ],
         "tickfont": {
          "color": "#8B5CF6",
          "size": 9
         },
         "title": {
          "font": {
           "color": "#7C3AED",
           "size": 12
          },
          "text": "Features"
         }
        },
        "yaxis": {
         "anchor": "x",
         "autorange": "reversed",
         "domain": [
          0.0,
          1.0
         ],
         "tickfont": {
          "color": "#8B5CF6",
          "size": 9
         },
         "title": {
          "font": {
           "color": "#7C3AED",
           "size": 12
          },
          "text": "Features"
         }
        }
       }
      }
     },
     "metadata": {},
     "output_type": "display_data"
    }
   ],
   "source": [
    "# Correlation analysis for numerical features\n",
    "if len(num_features) > 1:\n",
    "    # Calculate correlation matrix\n",
    "    correlation_matrix = df[num_features + [target_col] if target_col in numerical_cols else num_features].corr()\n",
    "    \n",
    "    # Select top correlated features with target (if target is numerical)\n",
    "    if target_col in correlation_matrix.columns:\n",
    "        target_corr = correlation_matrix[target_col].abs().sort_values(ascending=False)\n",
    "        print(f\"Features most correlated with {target_col}:\")\n",
    "        print(target_corr.head(10))\n",
    "        \n",
    "        # Create correlation heatmap for top features\n",
    "        top_corr_features = target_corr.head(10).index.tolist()\n",
    "    else:\n",
    "        # If target is not numerical, show correlation among features\n",
    "        top_corr_features = num_features[:10] if len(num_features) > 10 else num_features\n",
    "    \n",
    "    corr_subset = df[top_corr_features].corr()\n",
    "    \n",
    "    fig_corr = px.imshow(\n",
    "        corr_subset,\n",
    "        text_auto='.2f',\n",
    "        aspect='auto',\n",
    "        color_continuous_scale='RdBu_r',\n",
    "        labels={'x': 'Features', 'y': 'Features', 'color': 'Correlation'}\n",
    "    )\n",
    "    \n",
    "    fig_corr.update_layout(\n",
    "        height=550,\n",
    "        paper_bgcolor='rgba(0,0,0,0)',\n",
    "        plot_bgcolor='rgba(0,0,0,0)',\n",
    "        font=dict(color='#8B5CF6', size=10),\n",
    "        title_font=dict(color='#7C3AED', size=16),\n",
    "        xaxis=dict(\n",
    "            tickfont=dict(color='#8B5CF6', size=9),\n",
    "            title_font=dict(color='#7C3AED', size=12)\n",
    "        ),\n",
    "        yaxis=dict(\n",
    "            tickfont=dict(color='#8B5CF6', size=9),\n",
    "            title_font=dict(color='#7C3AED', size=12)\n",
    "        )\n",
    "    )\n",
    "    \n",
    "    fig_corr.write_html(\n",
    "        \"/Users/yuvalheffetz/ds-agent-projects/session_5feb6ac6-f292-4d0c-9e41-ab6b3ffc14d6/research/plots/feature_correlations.html\",\n",
    "        include_plotlyjs=True,\n",
    "        config={'responsive': True, 'displayModeBar': False}\n",
    "    )\n",
    "    \n",
    "    fig_corr.show()\n",
    "    \n",
    "else:\n",
    "    print(\"Insufficient numerical features for correlation analysis.\")\n",
    "    # Create placeholder\n",
    "    fig_corr = px.bar(x=['Insufficient features'], y=[0])\n",
    "    fig_corr.write_html(\n",
    "        \"/Users/yuvalheffetz/ds-agent-projects/session_5feb6ac6-f292-4d0c-9e41-ab6b3ffc14d6/research/plots/feature_correlations.html\",\n",
    "        include_plotlyjs=True,\n",
    "        config={'responsive': True, 'displayModeBar': False}\n",
    "    )"
   ]
  },
  {
   "cell_type": "markdown",
   "id": "17",
   "metadata": {},
   "source": [
    "## Outlier Detection"
   ]
  },
  {
   "cell_type": "code",
   "execution_count": 9,
   "id": "18",
   "metadata": {
    "execution": {
     "iopub.execute_input": "2025-09-06T20:35:00.287667Z",
     "iopub.status.busy": "2025-09-06T20:35:00.287560Z",
     "iopub.status.idle": "2025-09-06T20:35:00.349043Z",
     "shell.execute_reply": "2025-09-06T20:35:00.348669Z"
    }
   },
   "outputs": [
    {
     "name": "stdout",
     "output_type": "stream",
     "text": [
      "Outlier Analysis (Top 10 features by outlier count):\n",
      "               Feature  Outlier_Count  Outlier_Percentage\n",
      "5  time_speeding_hours           1304           17.007956\n",
      "4  count_accelarations            953           12.429894\n",
      "3         count_brakes            935           12.195122\n",
      "7        highway_miles            933           12.169036\n",
      "1                miles            722            9.416982\n",
      "2          drive_hours            685            8.934394\n",
      "8      night_drive_hrs            193            2.517282\n",
      "0           count_trip             59            0.769532\n",
      "6  time_phoneuse_hours              0            0.000000\n",
      "9        maximum_speed              0            0.000000\n"
     ]
    },
    {
     "data": {
      "application/vnd.plotly.v1+json": {
       "config": {
        "plotlyServerURL": "https://plot.ly"
       },
       "data": [
        {
         "hovertemplate": "Features=%{x}<br>Number of Outliers=%{text}<extra></extra>",
         "legendgroup": "",
         "marker": {
          "color": "rgba(255, 161, 90, 0.8)",
          "pattern": {
           "shape": ""
          }
         },
         "name": "",
         "orientation": "v",
         "showlegend": false,
         "text": {
          "bdata": "AAAAAABglEAAAAAAAMiNQAAAAAAAOI1AAAAAAAAojUAAAAAAAJCGQAAAAAAAaIVAAAAAAAAgaEAAAAAAAIBNQA==",
          "dtype": "f8"
         },
         "textposition": "outside",
         "texttemplate": "%{text}",
         "type": "bar",
         "x": [
          "time_speeding_hours",
          "count_accelarations",
          "count_brakes",
          "highway_miles",
          "miles",
          "drive_hours",
          "night_drive_hrs",
          "count_trip"
         ],
         "xaxis": "x",
         "y": {
          "bdata": "GAW5A6cDpQPSAq0CwQA7AA==",
          "dtype": "i2"
         },
         "yaxis": "y"
        }
       ],
       "layout": {
        "barmode": "relative",
        "font": {
         "color": "#8B5CF6",
         "size": 12
        },
        "height": 550,
        "legend": {
         "tracegroupgap": 0
        },
        "margin": {
         "t": 60
        },
        "paper_bgcolor": "rgba(0,0,0,0)",
        "plot_bgcolor": "rgba(0,0,0,0)",
        "template": {
         "data": {
          "bar": [
           {
            "error_x": {
             "color": "#2a3f5f"
            },
            "error_y": {
             "color": "#2a3f5f"
            },
            "marker": {
             "line": {
              "color": "#E5ECF6",
              "width": 0.5
             },
             "pattern": {
              "fillmode": "overlay",
              "size": 10,
              "solidity": 0.2
             }
            },
            "type": "bar"
           }
          ],
          "barpolar": [
           {
            "marker": {
             "line": {
              "color": "#E5ECF6",
              "width": 0.5
             },
             "pattern": {
              "fillmode": "overlay",
              "size": 10,
              "solidity": 0.2
             }
            },
            "type": "barpolar"
           }
          ],
          "carpet": [
           {
            "aaxis": {
             "endlinecolor": "#2a3f5f",
             "gridcolor": "white",
             "linecolor": "white",
             "minorgridcolor": "white",
             "startlinecolor": "#2a3f5f"
            },
            "baxis": {
             "endlinecolor": "#2a3f5f",
             "gridcolor": "white",
             "linecolor": "white",
             "minorgridcolor": "white",
             "startlinecolor": "#2a3f5f"
            },
            "type": "carpet"
           }
          ],
          "choropleth": [
           {
            "colorbar": {
             "outlinewidth": 0,
             "ticks": ""
            },
            "type": "choropleth"
           }
          ],
          "contour": [
           {
            "colorbar": {
             "outlinewidth": 0,
             "ticks": ""
            },
            "colorscale": [
             [
              0.0,
              "#0d0887"
             ],
             [
              0.1111111111111111,
              "#46039f"
             ],
             [
              0.2222222222222222,
              "#7201a8"
             ],
             [
              0.3333333333333333,
              "#9c179e"
             ],
             [
              0.4444444444444444,
              "#bd3786"
             ],
             [
              0.5555555555555556,
              "#d8576b"
             ],
             [
              0.6666666666666666,
              "#ed7953"
             ],
             [
              0.7777777777777778,
              "#fb9f3a"
             ],
             [
              0.8888888888888888,
              "#fdca26"
             ],
             [
              1.0,
              "#f0f921"
             ]
            ],
            "type": "contour"
           }
          ],
          "contourcarpet": [
           {
            "colorbar": {
             "outlinewidth": 0,
             "ticks": ""
            },
            "type": "contourcarpet"
           }
          ],
          "heatmap": [
           {
            "colorbar": {
             "outlinewidth": 0,
             "ticks": ""
            },
            "colorscale": [
             [
              0.0,
              "#0d0887"
             ],
             [
              0.1111111111111111,
              "#46039f"
             ],
             [
              0.2222222222222222,
              "#7201a8"
             ],
             [
              0.3333333333333333,
              "#9c179e"
             ],
             [
              0.4444444444444444,
              "#bd3786"
             ],
             [
              0.5555555555555556,
              "#d8576b"
             ],
             [
              0.6666666666666666,
              "#ed7953"
             ],
             [
              0.7777777777777778,
              "#fb9f3a"
             ],
             [
              0.8888888888888888,
              "#fdca26"
             ],
             [
              1.0,
              "#f0f921"
             ]
            ],
            "type": "heatmap"
           }
          ],
          "histogram": [
           {
            "marker": {
             "pattern": {
              "fillmode": "overlay",
              "size": 10,
              "solidity": 0.2
             }
            },
            "type": "histogram"
           }
          ],
          "histogram2d": [
           {
            "colorbar": {
             "outlinewidth": 0,
             "ticks": ""
            },
            "colorscale": [
             [
              0.0,
              "#0d0887"
             ],
             [
              0.1111111111111111,
              "#46039f"
             ],
             [
              0.2222222222222222,
              "#7201a8"
             ],
             [
              0.3333333333333333,
              "#9c179e"
             ],
             [
              0.4444444444444444,
              "#bd3786"
             ],
             [
              0.5555555555555556,
              "#d8576b"
             ],
             [
              0.6666666666666666,
              "#ed7953"
             ],
             [
              0.7777777777777778,
              "#fb9f3a"
             ],
             [
              0.8888888888888888,
              "#fdca26"
             ],
             [
              1.0,
              "#f0f921"
             ]
            ],
            "type": "histogram2d"
           }
          ],
          "histogram2dcontour": [
           {
            "colorbar": {
             "outlinewidth": 0,
             "ticks": ""
            },
            "colorscale": [
             [
              0.0,
              "#0d0887"
             ],
             [
              0.1111111111111111,
              "#46039f"
             ],
             [
              0.2222222222222222,
              "#7201a8"
             ],
             [
              0.3333333333333333,
              "#9c179e"
             ],
             [
              0.4444444444444444,
              "#bd3786"
             ],
             [
              0.5555555555555556,
              "#d8576b"
             ],
             [
              0.6666666666666666,
              "#ed7953"
             ],
             [
              0.7777777777777778,
              "#fb9f3a"
             ],
             [
              0.8888888888888888,
              "#fdca26"
             ],
             [
              1.0,
              "#f0f921"
             ]
            ],
            "type": "histogram2dcontour"
           }
          ],
          "mesh3d": [
           {
            "colorbar": {
             "outlinewidth": 0,
             "ticks": ""
            },
            "type": "mesh3d"
           }
          ],
          "parcoords": [
           {
            "line": {
             "colorbar": {
              "outlinewidth": 0,
              "ticks": ""
             }
            },
            "type": "parcoords"
           }
          ],
          "pie": [
           {
            "automargin": true,
            "type": "pie"
           }
          ],
          "scatter": [
           {
            "fillpattern": {
             "fillmode": "overlay",
             "size": 10,
             "solidity": 0.2
            },
            "type": "scatter"
           }
          ],
          "scatter3d": [
           {
            "line": {
             "colorbar": {
              "outlinewidth": 0,
              "ticks": ""
             }
            },
            "marker": {
             "colorbar": {
              "outlinewidth": 0,
              "ticks": ""
             }
            },
            "type": "scatter3d"
           }
          ],
          "scattercarpet": [
           {
            "marker": {
             "colorbar": {
              "outlinewidth": 0,
              "ticks": ""
             }
            },
            "type": "scattercarpet"
           }
          ],
          "scattergeo": [
           {
            "marker": {
             "colorbar": {
              "outlinewidth": 0,
              "ticks": ""
             }
            },
            "type": "scattergeo"
           }
          ],
          "scattergl": [
           {
            "marker": {
             "colorbar": {
              "outlinewidth": 0,
              "ticks": ""
             }
            },
            "type": "scattergl"
           }
          ],
          "scattermap": [
           {
            "marker": {
             "colorbar": {
              "outlinewidth": 0,
              "ticks": ""
             }
            },
            "type": "scattermap"
           }
          ],
          "scattermapbox": [
           {
            "marker": {
             "colorbar": {
              "outlinewidth": 0,
              "ticks": ""
             }
            },
            "type": "scattermapbox"
           }
          ],
          "scatterpolar": [
           {
            "marker": {
             "colorbar": {
              "outlinewidth": 0,
              "ticks": ""
             }
            },
            "type": "scatterpolar"
           }
          ],
          "scatterpolargl": [
           {
            "marker": {
             "colorbar": {
              "outlinewidth": 0,
              "ticks": ""
             }
            },
            "type": "scatterpolargl"
           }
          ],
          "scatterternary": [
           {
            "marker": {
             "colorbar": {
              "outlinewidth": 0,
              "ticks": ""
             }
            },
            "type": "scatterternary"
           }
          ],
          "surface": [
           {
            "colorbar": {
             "outlinewidth": 0,
             "ticks": ""
            },
            "colorscale": [
             [
              0.0,
              "#0d0887"
             ],
             [
              0.1111111111111111,
              "#46039f"
             ],
             [
              0.2222222222222222,
              "#7201a8"
             ],
             [
              0.3333333333333333,
              "#9c179e"
             ],
             [
              0.4444444444444444,
              "#bd3786"
             ],
             [
              0.5555555555555556,
              "#d8576b"
             ],
             [
              0.6666666666666666,
              "#ed7953"
             ],
             [
              0.7777777777777778,
              "#fb9f3a"
             ],
             [
              0.8888888888888888,
              "#fdca26"
             ],
             [
              1.0,
              "#f0f921"
             ]
            ],
            "type": "surface"
           }
          ],
          "table": [
           {
            "cells": {
             "fill": {
              "color": "#EBF0F8"
             },
             "line": {
              "color": "white"
             }
            },
            "header": {
             "fill": {
              "color": "#C8D4E3"
             },
             "line": {
              "color": "white"
             }
            },
            "type": "table"
           }
          ]
         },
         "layout": {
          "annotationdefaults": {
           "arrowcolor": "#2a3f5f",
           "arrowhead": 0,
           "arrowwidth": 1
          },
          "autotypenumbers": "strict",
          "coloraxis": {
           "colorbar": {
            "outlinewidth": 0,
            "ticks": ""
           }
          },
          "colorscale": {
           "diverging": [
            [
             0,
             "#8e0152"
            ],
            [
             0.1,
             "#c51b7d"
            ],
            [
             0.2,
             "#de77ae"
            ],
            [
             0.3,
             "#f1b6da"
            ],
            [
             0.4,
             "#fde0ef"
            ],
            [
             0.5,
             "#f7f7f7"
            ],
            [
             0.6,
             "#e6f5d0"
            ],
            [
             0.7,
             "#b8e186"
            ],
            [
             0.8,
             "#7fbc41"
            ],
            [
             0.9,
             "#4d9221"
            ],
            [
             1,
             "#276419"
            ]
           ],
           "sequential": [
            [
             0.0,
             "#0d0887"
            ],
            [
             0.1111111111111111,
             "#46039f"
            ],
            [
             0.2222222222222222,
             "#7201a8"
            ],
            [
             0.3333333333333333,
             "#9c179e"
            ],
            [
             0.4444444444444444,
             "#bd3786"
            ],
            [
             0.5555555555555556,
             "#d8576b"
            ],
            [
             0.6666666666666666,
             "#ed7953"
            ],
            [
             0.7777777777777778,
             "#fb9f3a"
            ],
            [
             0.8888888888888888,
             "#fdca26"
            ],
            [
             1.0,
             "#f0f921"
            ]
           ],
           "sequentialminus": [
            [
             0.0,
             "#0d0887"
            ],
            [
             0.1111111111111111,
             "#46039f"
            ],
            [
             0.2222222222222222,
             "#7201a8"
            ],
            [
             0.3333333333333333,
             "#9c179e"
            ],
            [
             0.4444444444444444,
             "#bd3786"
            ],
            [
             0.5555555555555556,
             "#d8576b"
            ],
            [
             0.6666666666666666,
             "#ed7953"
            ],
            [
             0.7777777777777778,
             "#fb9f3a"
            ],
            [
             0.8888888888888888,
             "#fdca26"
            ],
            [
             1.0,
             "#f0f921"
            ]
           ]
          },
          "colorway": [
           "#636efa",
           "#EF553B",
           "#00cc96",
           "#ab63fa",
           "#FFA15A",
           "#19d3f3",
           "#FF6692",
           "#B6E880",
           "#FF97FF",
           "#FECB52"
          ],
          "font": {
           "color": "#2a3f5f"
          },
          "geo": {
           "bgcolor": "white",
           "lakecolor": "white",
           "landcolor": "#E5ECF6",
           "showlakes": true,
           "showland": true,
           "subunitcolor": "white"
          },
          "hoverlabel": {
           "align": "left"
          },
          "hovermode": "closest",
          "mapbox": {
           "style": "light"
          },
          "paper_bgcolor": "white",
          "plot_bgcolor": "#E5ECF6",
          "polar": {
           "angularaxis": {
            "gridcolor": "white",
            "linecolor": "white",
            "ticks": ""
           },
           "bgcolor": "#E5ECF6",
           "radialaxis": {
            "gridcolor": "white",
            "linecolor": "white",
            "ticks": ""
           }
          },
          "scene": {
           "xaxis": {
            "backgroundcolor": "#E5ECF6",
            "gridcolor": "white",
            "gridwidth": 2,
            "linecolor": "white",
            "showbackground": true,
            "ticks": "",
            "zerolinecolor": "white"
           },
           "yaxis": {
            "backgroundcolor": "#E5ECF6",
            "gridcolor": "white",
            "gridwidth": 2,
            "linecolor": "white",
            "showbackground": true,
            "ticks": "",
            "zerolinecolor": "white"
           },
           "zaxis": {
            "backgroundcolor": "#E5ECF6",
            "gridcolor": "white",
            "gridwidth": 2,
            "linecolor": "white",
            "showbackground": true,
            "ticks": "",
            "zerolinecolor": "white"
           }
          },
          "shapedefaults": {
           "line": {
            "color": "#2a3f5f"
           }
          },
          "ternary": {
           "aaxis": {
            "gridcolor": "white",
            "linecolor": "white",
            "ticks": ""
           },
           "baxis": {
            "gridcolor": "white",
            "linecolor": "white",
            "ticks": ""
           },
           "bgcolor": "#E5ECF6",
           "caxis": {
            "gridcolor": "white",
            "linecolor": "white",
            "ticks": ""
           }
          },
          "title": {
           "x": 0.05
          },
          "xaxis": {
           "automargin": true,
           "gridcolor": "white",
           "linecolor": "white",
           "ticks": "",
           "title": {
            "standoff": 15
           },
           "zerolinecolor": "white",
           "zerolinewidth": 2
          },
          "yaxis": {
           "automargin": true,
           "gridcolor": "white",
           "linecolor": "white",
           "ticks": "",
           "title": {
            "standoff": 15
           },
           "zerolinecolor": "white",
           "zerolinewidth": 2
          }
         }
        },
        "title": {
         "font": {
          "color": "#7C3AED",
          "size": 16
         }
        },
        "xaxis": {
         "anchor": "y",
         "domain": [
          0.0,
          1.0
         ],
         "gridcolor": "rgba(139,92,246,0.2)",
         "tickangle": 45,
         "tickfont": {
          "color": "#8B5CF6",
          "size": 11
         },
         "title": {
          "font": {
           "color": "#7C3AED",
           "size": 12
          },
          "text": "Features"
         },
         "zerolinecolor": "rgba(139,92,246,0.3)"
        },
        "yaxis": {
         "anchor": "x",
         "domain": [
          0.0,
          1.0
         ],
         "gridcolor": "rgba(139,92,246,0.2)",
         "tickfont": {
          "color": "#8B5CF6",
          "size": 11
         },
         "title": {
          "font": {
           "color": "#7C3AED",
           "size": 12
          },
          "text": "Number of Outliers"
         },
         "zerolinecolor": "rgba(139,92,246,0.3)"
        }
       }
      }
     },
     "metadata": {},
     "output_type": "display_data"
    }
   ],
   "source": [
    "# Outlier analysis using IQR method\n",
    "if len(num_features) > 0:\n",
    "    outlier_summary = []\n",
    "    \n",
    "    for feature in num_features:\n",
    "        Q1 = df[feature].quantile(0.25)\n",
    "        Q3 = df[feature].quantile(0.75)\n",
    "        IQR = Q3 - Q1\n",
    "        lower_bound = Q1 - 1.5 * IQR\n",
    "        upper_bound = Q3 + 1.5 * IQR\n",
    "        \n",
    "        outliers = df[(df[feature] < lower_bound) | (df[feature] > upper_bound)]\n",
    "        outlier_count = len(outliers)\n",
    "        outlier_pct = (outlier_count / len(df)) * 100\n",
    "        \n",
    "        outlier_summary.append({\n",
    "            'Feature': feature,\n",
    "            'Outlier_Count': outlier_count,\n",
    "            'Outlier_Percentage': outlier_pct\n",
    "        })\n",
    "    \n",
    "    outlier_df = pd.DataFrame(outlier_summary)\n",
    "    outlier_df = outlier_df.sort_values('Outlier_Count', ascending=False)\n",
    "    \n",
    "    print(\"Outlier Analysis (Top 10 features by outlier count):\")\n",
    "    print(outlier_df.head(10))\n",
    "    \n",
    "    # Create outlier visualization\n",
    "    top_outlier_features = outlier_df.head(8)\n",
    "    \n",
    "    fig_outliers = px.bar(\n",
    "        top_outlier_features,\n",
    "        x='Feature',\n",
    "        y='Outlier_Count',\n",
    "        labels={'Feature': 'Features', 'Outlier_Count': 'Number of Outliers'},\n",
    "        text='Outlier_Count'\n",
    "    )\n",
    "    \n",
    "    fig_outliers.update_traces(\n",
    "        marker=dict(color=app_color_palette[4]),\n",
    "        texttemplate='%{text}',\n",
    "        textposition='outside'\n",
    "    )\n",
    "    \n",
    "    fig_outliers.update_layout(\n",
    "        height=550,\n",
    "        paper_bgcolor='rgba(0,0,0,0)',\n",
    "        plot_bgcolor='rgba(0,0,0,0)',\n",
    "        font=dict(color='#8B5CF6', size=12),\n",
    "        title_font=dict(color='#7C3AED', size=16),\n",
    "        xaxis=dict(\n",
    "            gridcolor='rgba(139,92,246,0.2)',\n",
    "            zerolinecolor='rgba(139,92,246,0.3)',\n",
    "            tickfont=dict(color='#8B5CF6', size=11),\n",
    "            title_font=dict(color='#7C3AED', size=12),\n",
    "            tickangle=45\n",
    "        ),\n",
    "        yaxis=dict(\n",
    "            gridcolor='rgba(139,92,246,0.2)',\n",
    "            zerolinecolor='rgba(139,92,246,0.3)',\n",
    "            tickfont=dict(color='#8B5CF6', size=11),\n",
    "            title_font=dict(color='#7C3AED', size=12)\n",
    "        )\n",
    "    )\n",
    "    \n",
    "    fig_outliers.write_html(\n",
    "        \"/Users/yuvalheffetz/ds-agent-projects/session_5feb6ac6-f292-4d0c-9e41-ab6b3ffc14d6/research/plots/outlier_analysis.html\",\n",
    "        include_plotlyjs=True,\n",
    "        config={'responsive': True, 'displayModeBar': False}\n",
    "    )\n",
    "    \n",
    "    fig_outliers.show()\n",
    "    \n",
    "else:\n",
    "    print(\"No numerical features available for outlier analysis.\")\n",
    "    # Create placeholder\n",
    "    fig_outliers = px.bar(x=['No numerical features'], y=[0])\n",
    "    fig_outliers.write_html(\n",
    "        \"/Users/yuvalheffetz/ds-agent-projects/session_5feb6ac6-f292-4d0c-9e41-ab6b3ffc14d6/research/plots/outlier_analysis.html\",\n",
    "        include_plotlyjs=True,\n",
    "        config={'responsive': True, 'displayModeBar': False}\n",
    "    )"
   ]
  },
  {
   "cell_type": "markdown",
   "id": "19",
   "metadata": {},
   "source": [
    "## Target vs Features Analysis"
   ]
  },
  {
   "cell_type": "code",
   "execution_count": 10,
   "id": "20",
   "metadata": {
    "execution": {
     "iopub.execute_input": "2025-09-06T20:35:00.350732Z",
     "iopub.status.busy": "2025-09-06T20:35:00.350601Z",
     "iopub.status.idle": "2025-09-06T20:35:00.405140Z",
     "shell.execute_reply": "2025-09-06T20:35:00.404898Z"
    }
   },
   "outputs": [
    {
     "name": "stdout",
     "output_type": "stream",
     "text": [
      "Analyzing relationship between target 'collisions' and features: ['miles', 'drive_hours', 'count_trip']\n"
     ]
    },
    {
     "data": {
      "application/vnd.plotly.v1+json": {
       "config": {
        "plotlyServerURL": "https://plot.ly"
       },
       "data": [
        {
         "alignmentgroup": "True",
         "hovertemplate": "Collision Count=%{x}<br>miles=%{y}<extra></extra>",
         "legendgroup": "",
         "marker": {
          "color": "rgba(25, 211, 243, 0.8)"
         },
         "name": "",
         "notched": false,
         "offsetgroup": "",
         "orientation": "v",
         "showlegend": false,
         "type": "box",
         "x": {
          "bdata": "AAAAAAAAAAAAAAAAAAAAAAAAAAAAAAAAAAAAAAAAAAEAAAAAAAAAAAEAAAAAAAAAAAAAAAAAAAAAAAABAAABAAAAAAAAAAAAAAAAAAAAAAAAAAAAAAAAAAAAAAAAAAAAAAAAAAAAAAAAAAAAAQAAAAAAAAAAAAAAAAAAAAAAAAAAAAAAAAAAAAAAAAABAAAAAAAAAAAAAQAAAAAAAAAAAAAAAAAAAAAAAAAAAAAAAAAAAAAAAAAAAAAAAAAAAAAAAAAAAAAAAAAAAAAAAAAAAAAAAAAAAAAAAAAAAAAAAAEBAAAAAAAAAAAAAAAAAAAAAAAAAAAAAAAAAAABAQAAAAAAAAAAAAAAAAAAAAAAAAAAAAEAAAAAAAAAAAAAAAAAAAAAAAAAAAAAAQAAAAAAAAAAAAAAAAAAAAAAAAAAAAAAAAAAAAAAAAABAAEAAAAAAAAAAAAAAAAAAAAAAAAAAAABAAAAAAAAAAAAAAAAAAAAAAAAAAAAAAAAAAAAAAAAAAAAAAAAAQAAAAAAAAAAAAEAAAAAAAAAAAAAAAAAAAAAAAAAAAAAAAAAAAAAAAAAAAAAAAAAAAAAAAAAAAEAAAAAAAAAAAAAAAAAAAAAAAAAAAAAAAAAAAAAAAABAAAAAAAAAAABAAAAAAAAAQAAAAAAAAAAAAAAAAAAAAAAAAAAAAAAAAAAAAAAAQAAAAEAAAAAAAAAAAAAAAAAAAAAAAAAAAAAAAAAAQAAAAAAAAAAAAAAAAAAAAAAAAAAAAAAAAAAAQAAAAAAAAAAAAAAAAAAAAAAAAAAAAEAAAAAAAAAAAAAAAAAAQAAAAAAAAAAAAAAAAAAAAAAAAAAAAAAAAAAAAAAAAAAAAAAAAAAAAAAAAAAAAAAAAAAAAAAAAAAAAAAAAAAAQAAAAAAAAAAAAAAAAAAAAAAAAAAAAEAAAAAAAABAAAAAAAAAAEAAAAAAAAAAAAAAQABAAAAAAAAAAEAAAABAAAAAAAAAQAAAAAAAAAAAAAAAAEAAAAAAAAAAAAAAAAAAAEAAAAAAAABAAAAAQAAAAAAAAAAAAAAAAAAAAAAAAAAAAAAAAAAAAAAAAAAAAAAAAAAAAAAAAAAAAAAAAAAAQAAAAAAAAAAAAAAAAAAAAAAAAAAAAAAAAAAAAAAAAAAAAAAAAAAAAAAAAAAAAAAAAAAAAAAAAAAAAAAAAABAAAAAQAAAAAAAAAAAAAAAAAAAAAAAAAAAAAAAAAAAAAAAAABAAAAAAAAAAEAAAAAAAABAAAAAAAAAAAAAQAAAAAAAAAAAAAAAAAAAAAAAAABAAAAAAAAAAAAAAAAAAAAAAAAAAAAAAAAAAAAAAAAAAAAAAAAAAAAAAAAAAAAAAAAAAAAAQAAAgAAAAAAAAAAAAAAAAAAAAAAAAAAAAAAAQAAAAAAAAAAAAAAAAAAAAAAAAAAAAAAAAAAAAAAAAAAAAAAAAAAAAAAAAAAAAAAAAAAAAAAAAAAAAAAAAAAAAAAAAAAAAAAAAAAAAAAAAAAAAAAAAAAAAAAAAAAAAAAAAABAAAAAAAAAAAAAAAAAAAAAAAAAAAAAAAAAAAAAAAAAAAAAAEAAAAAAAAAAAAAAAAAAAAAAAAAAAAAAAAAAAAAAAAAAAAAAAAAAAAAAAAAAAAAAAAAAAAAAAAAAAAAAAAAAAAAAAAAAQAAAAAAAAAAAAAAAAAAAAAAAAAAAAAAAAAAAAAAAAAAAAAAAAAAAQAAAAAAAAAAAAABAAAAAAAAAAAAAAABAAAAAAAAAAAAAAAAAAAAAAAAAAAAAAAAAAAAAAAAAAABAAAAAAAAAAAAAAAAAAAAAAAAAQAAAAAAAAAAAAAAAAAAAAAAAAAAAAAAAAAAAAAAAAAAAAEBAAAAAAAAAAAAAAAAAAAAAAAAAAAAAAAAAAAAAAAAAAAAAAABAAAAAAAAAAAAAAAAAAAAAAAAAAAAAAAAAAABAAAAAAEAAAAAAAAAAAAAAAAAAAABAAAAAAAAAAAAAAAAAAAAAAAAAAAAAAAAAAAAAAAAAQAAAAAAAAABAAAAAQAAAAAAAAAAAAAAAAAAAAAAAAAAAAAAAAEAAAAAAAAAAAAAAAAAAAAAAAAAAAAAAAAAAAAAAAAAAAEAAAAAAAAAAAAAAAAAAAAAAAAAAAAAAAAAAAAAAAABAAAAAAAAAAAAAAAAAAAAAAAAAAAAAAAAAAAAAAAAAAAAAAABAAAAAAAAAAAAAQAAAAAAAAAAAAAAAAAAAAAAAAAAAAAAAAAAAAEAAAAAAAAAAAAAAAAAAAAAAAAAAAEAAAAAAAAAAAAAAAAAAAABAAAAAAAAAAAAAAAAAAAAAAAAAAEAAAAAAAAAAAAAAAAAAAAAAQEAAAAAAAAAAAAAAAAAAAEAAAAAAAEAAAACAAAAAAAAAAAAAAAAAAAAAAAAAAAAAAAAAAAAAAAAAAAAAAAAAAAAAAAAAAAAAAAAAAEAAAEAAAAAAAAAAAAAAAEBAAAAAAAAAAAAAAAAAAAAAAAAAAEAAAAAAAAAAAAAAAAAAAAAAAAAAAAAAAAAAAAAAAEAAQAAAAAAAQAAAAAAAAAAAAAAAAAAAAAAAAAAAAAAAAAAAAEAAAAAAAAAAAAAAAAAAAAAAAABAAAAAAAAAAAAAAAAAAEAAAAAAAEBAAABAAEAAAAAAQAAAAAAAQAAAAAAAAAAAAAAAAAAAAAAAAAAAQAAAAAAAAAAAAAAAAAAAAAAAAAAAAAAAAAAAAAAAAAAAAAAAAEAAAAAAAAAAAAAAAAAAAAAAAAAAAAAAAAAAAEAAAEAAAAAAAAAAAABAAAAAAAAAAAAAQAAAAAAAAAAAAAAAAAAAAAAAAAAAAAAAAAAAAAAAAAAAQEAAAAAAAEAAAAAAAAAAAAAAAAAAAAAAAAAAQAAAAAAAQAAAAAAAAAAAAAAAAAAAAAAAAAAAAEAAAAAAAAAAAAAAAAAAAAAAAAAAAAAAAAAAAAAAAAAAAAAAAAAAAABAAAAAAABAAAAAAAAAAAAAAAAAAAAAAAAAAAAAAAAAAABAAAAAAAAAAAAAAAAAAAAAAAAAAABAAAAAAAAAAAAAAABAAAAAAAAAAAAAAAAAAAAAAAAAAAAAAAAAAAAAAAAAAAAAAAAAAAAAAAAAQAAAAAAAAEAAAAAAAAAAAAAAAAAAAAAAAAAAAAAAAAAAAAAAAAAAAAAAAAAAAAAAAAAAAAAAAAAAAAAAAAAAAAAAAAAAAAAAAAAAAAAAQAAAAEAAAAAAAAAAAAAAAAAAgABAAAAAAAAAAAAAAAAAAAAAAAAAAAAAAAAAAAAAAAAAAAAAAAAAAAAAAAAAAAAAAAAAQAAAAEAAAAAAAAAAAAAAAAAAgAAAAAAAAAAAAAAAAAAAAAAAAAAAAAAAAAAAAAAAAAAAAAAAAAAAAAAAAAAAAAAAAAAAAAAAAABAAAAAAAAAQAAAQAAAAABAAAAAAAAAAAAAQAAAAAAAAAAAAAAAQAAAAAAAAAAAAAAAAAAAAAAAAAAAAAAAAAAAAAAAAAAAAAAAAAAAAEAAAAAAAAAAgEAAAABAAAAAAAAAAAAAAEAAQAAAAAAAAAAAAAAAAAAAAABAAAAAAAAAAAAAAAAAAAAAAAAAAAAAAAAAAAAAAAAAQEAAAAAAAAAAAAAAQAAAAAAAgAAAAAAAAAAAAAAAAAAAAAAAAAAAAAAAAAAAAAAAAAAAAAAAAAAAAAAAAAAAAAAAAAAAAAAAAABAAAAAAAAAAAAAAAAAAAAAAAAAAAAAAAAAAAAAQAAAAAAAAAAAAAAAAAAAAAAAAAAAAAAAAAAAAAAAAAAAAAAAAAAAAAAAAAAAAAAAAIAAAABAAAAAAAAAAAAAAAAAAEAAAAAAAAAAAAAAAAAAAAAAAAAAAAAAAAAAAAAAAAAAAAAAQAAAAAAAAEAAAAAAAAAAAAAAAAAAAEAAAAAAAAAAAAAAAAAAAAAAAABAAAAAAAAAAAAAAAAAAAAAAAAAAAAAAAAAAAAAAAAAAAAAAAAAQAAAAAAAAAAAAAAAQAAAAEAAAAAAAAAAAAAAAAAAAAAAAEAAAAAAAAAAAAAAAAAAAAAAAAAAAAAAAAAAAAAAAAAAAAAAAEAAAAAAAAAAAAAAAABAAAAAAAAAAABAAAAAAEAAAEAAAAAAAAAAAAAAAAAAAAAAQAAAAAAAAAAAAAAAAAAAAAAAAAAAAAAAAAAAAAAAAAAAAAAAAAAAAAAAAAAAAAAAAAAAAAAAAAAAAAAAAAAAAAAAAAAAAAAAAAAAAAAAAAAAAAAAAAAAAAAAAAAAAAAAAAAAAAAAAAAAAAAAAEAAAAAAAAAAAAAAAAAAAAAAAAAAAAAAAAAAAAAAAAAAAAAAAAAAAAAAAAAAAAAAAAAAAAAAAAAAAAAAAAAAAAAAAAAAAAAAAAAAAAAAAAAAAAAAAAAAgEAAAABAAAAAAAAAAAAAAAAAAAAAAAAAAAAAAABAAAAAAAAAAAAAAAAAQAAAAAAAAAAAAAAAAAAAAABAAAAAAAAAAAAAAAAAAAAAAAAAAAAAAAAAAAAAAAAAAAAAAAAAAAAAAAAAAAAAAAAAAAAAAAAAAAAAAAAAAAAAAAAAAAAAAAAAAAAAAAAAAAAAAAAAAABAAAAAAAAAAAAAAAAAQAAAAAAAAAAAAAAAAAAAAAAAAAAAAAAAAAAAAAAAAAAAAAAAAAAAAAAAAAAAAAAAAEAAAAAAAAAAAAAAAAAAAAAAAAAAAAAAAAAAAAAAAAAAAAAAAAAAAAAAAEAAAAAAAIAAAAAAAAAAAAAAAAAAAAAAAAAAAAAAAEAAAAAAAAAAAAAAAAAAAAAAAAAAAAAAAAAAAAAAAAAAAAAAAAAAAAAAAAAAAAAAAAAAAABAAAAAAAAAAAAAAAAAAAAAAAAAAAAAAAAAAAAAAAAAAAAAAAAAAAAAAEAAAAAAAAAAAAAAAABAAAAAAAAAAAAAQAAAAAAAAAAAAAAAAAAAAABAAAAAAAAAAAAAAAAAAAAAAAAAAAAAAAAAAAAAAAAAAAAAQEAAAAAAAAAAAAAAAAAAAAAAAAAAAAAAAAAAAAAAAAAAAABAQABAAAAAAAAAAAAAAAAAAABAAAAAAAAAAAAAAAAAAAAAAAAAAAAAAAAAAAAAAAAAAAAAAAAAQAAAAAAAAAAAAAAAAAAAAAAAAAAAAAAAAAAAAAAAAAAAAAAAAAAAAAAAAAAAAAAAgAAAAAAAAAAAAAAAAAAAQAAAAAAAAAAAAAAAAABAAAAAAABAAAAAAAAAAAAAAAAAAABAAAAAAAAAAAAAAABAAAAAAAAAAAAAAAAAAAAAAAAAAAAAAAAAAAAAAAAAAAAAAAAAAAAAAAAAAAAAAAAAAAAAAAAAAEAAAAAAAAAAAAAAAAAAAAAAAEAAAAAAAEAAAABAAAAAAAAAQAAAAAAAAAAAAAAAAAAAAAAAAAAAAAAAAAAAAAAAAAAAAAAAAAAAAAAAAAAAAABAAAAAAAAAAAAAAAAAQAAAAAAAAAAAAAAAAAAAAAAAAAAAAAAAAAAAAAAAAAAAAAAAAAAAAAAAAAAAAAAAAAAAAAAAAAAAAAAAAAAAAABAAAAAAAAAQAAAAAAAAAAAAAAAAAAAAAAAAAAAAAAAAAAAAAAAAAAAAAAAAAAAAAAAAAAAAAAAQAAAAAAAAAAAAAAAAAAAAAAAAAAAAAAAAAAAAAAAAAAAAAAAAAAAAAAAAAAAAAAAAAAAAAAAAAAAAAAAAAAAAAAAAAAAAAAAAABAAAAAQAAAAAAAAAAAAAAAAAAAAAAAAAAAAAAAAAAAAAAAAAAAAAAAAAAAAAAAAAAAAIAAAAAAAAAAAAAAAAAAAAAAAAAAAAAAAAAAAAAAAAAAAABAAAAAAAAAAAAAAAAAAAAAAAAAAAAAAAAAAAAAAAAAAAAAAAAAAAAAAAAAAAAAAAAAAAAAAAAAAAAAAAAAAABAAAAAAAAAAAAAAAAAAAAAAAAAAEAAAAAAAAAAQAAAQAAAAAAAAEAAAAAAAAAAAAAAAABAAAAAAAAAAAAAAAAAAABAAAAAAAAAAAAAAAAAAAAAAAAAAAAAAAAAQAAAAAAAAAAAAAAAAABAAAAAAAAAAAAAAAAAAAAAAAAAAAAAAAAAAAAAAAAAAAAAAAAAAAAAAAAAAAAAAAAAAAAAAAAAAAAAAAAAAAAAAAAAAAAAAAAAAAAAAAAAAAAAAABAAAAAAAAAQAAAQAAAAAAAAAAAAAAAAAAAAAAAAAAAAABAgAAAAAAAAAAAAAAAAAAAAEAAAAAAAAAAAAAAAAAAQAAAAAAAAAAAAAAAAAAAAABAAAAAAAAAAAAAAAAAAAAAAAAAAAAAAAAAAAAAAAAAAAAAAAAAAAAAAEAAAAAAQAAAQAAAAAAAAAAAAAAAAEAAAAAAAAAAAAAAAAAAAAAAAAAAQAAAgAAAAAAAAAAAAEAAAEAAAAAAAAAAAAAAAEAAAAAAAAAAAAAAAAAAAAAAAAAAAAAAAAAAAAAAAAAAQEAAAAAAAAAAAAAAAAAAAAAAQAAAQAAAAAAAQAAAAAAAAAAAQAAAAAAAAAAAAAAAAAAAQAAAAABAAEAAAAAAAAAAAAAAAAAAQAAAAAAAAAAAAAAAAAAAQAAAAAAAAAAAAAAAAAAAAAAAAAAAAABAAAAAAAAAAAAAAAAAAAAAAABAAAAAAAAAAAAAAAAAAAAAAAAAAAAAAAAAAAAAAAAAAAAAAAAAAAAAAAAAAAAAAAAAAABAAAAAAAAAAAAAAAAAAAAAAAAAAAAAAAAAAAAAAAAAAAAAAAAAAAAAAAAAAAAAAAAAAEAAAAAAAAAAAEAAAAAAAAAAAAAAAAAAAAAAAAAAQAAAAAAAAAAAAAAAAAAAAAAAAAAAAAAAAAAAAABAAAAAAABAAAAAAAAAAAAAAAAAAAAAAAAAAAAAAAAAAAAAAAAAAAAAAAAAAAAAAAAAAAAAAEAAAAAAAAAAAAAAAAAAAAAAAAAAAAAAAAAAAAAAAAAAAAAAAAAAAAAAAABAAAAAAAAAAAAAAAAAAAAAAAAAAAAAAAAAAAAAAABAAAAAAABAAAAAAAAAAABAAAAAAAAAAAAAQAAAAAAAAAAAAAAAAAAAAAAAAAAAAAAAQAAAAAAAAAAAAAAAAAAAAABAAAAAAAAAAAAAAAAAAAAAAAAAAAAAAAAAAAAAAAAAAAAAAAAAAAAAAAAAAAAAAAAAAAAAAAAAAAAAAAAAAAAAAAAAAAAAAAAAAEAAAAAAAAAAAAAAAEAAAAAAAAAAAAAAAAAAAAAAAAAAAAAAAAAAAAAAAAAAAABAAAAAQACAAAAAAABAAAAAAAAAQAAAQAAAAAAAAAAAAAAAAAAAAAAAAAAAAAAAAAAAAAAAAABAAAAAAAAAAAAAAAAAAAAAAAAAAAAAAAAAAAAAAAAAAAAAAAAAAAAAAABAAAAAAAAAAAAAQAAAAAAAAAAAAAAAQAAAAEAAAAAAAAAAAAAAQAAAAAAAAAAAAAAAAAAAAAAAAAAAAAAAAAAAAAAAAAAAAAAAAAAAAAAAQAAAAAAAAAAAAAAAAAAAAAAAAEBAAAAAAAAAAAAAAAAAAAAAAAAAQAAAAAAAAAAAAAAAAAAAAABAAAAAAAAAAEAAAAAAAAAAAAAAAAAAAAAAAAAAAAAAQAAAAAAAAAAAAAAAAAAAQAAAAAAAAAAAAAAAAAAAAAAAAAAAAAAAAABAAAAAAAAAAAAAAAAAAEAAAAAAAAAAAAAAAAAAAAAAAAAAAAAAAAAAAAAAAAAAAAAAAAAAAAAAAAAAAAAAAAAAAAAAAAAAAAAAAAAAAAAAAAAAAAAAQAAAAAAAAAAAAAAAAAAAAAAAAEAAAAAAAAAAAAAAAAAAAAAAAAAAAAAAQAAAAAAAAAAAAAAAAAAAAAAAAAAAAAAAAAAAAAAAAEAAQAAAAAAAAAAAAAAAAAAAAAAAAAAAAEAAAAAAAAAAAAAAAAAAAAAAAAAAAAAAAAAAAABAAAAAAAAAAAAAAAAAAAAAAAAAAAAAAAAAAAAAAAAAAAAAAAAAAAAAAAAAAAAAAAAAAAAAAAAAAAAAAAAAAAAAAABAAAAAAAAAAAAAAAAAAAAAAAAAAAAAAAAAAAAAAAAAAAAAAAAAAAAAAAAAAAAAAAAAAAAAAAAAAAAAAAAAAAAAAEAAAAAAAAAAAAAAAAAAAAAAAABAAAAAAAAAAAAAAAAAAEAAAAAAAAAAAAAAAAAAAAAAAAAAAAAAAAAAAAAAAAAAAAAAAAAAAAAAAAAAAABAAAAAAAAAAAAAAAAAAAAAAAAAAAAAAAAAAAAAAAAAAAAAAABAAAAAAAAAAAAAAAAAAEAAAAAAAAAAQAAAAAAAAAAAAAAAAAAAAAAAAAAAAAAAAAAAAAAAAAAAAAAAAAAAAAAAAAAAAAAAAAAAAAAAAEAAAAAAAAAAAAAAAAAAAAAAAAAAAAAAAEAAAAAAAAAAAAAAAAAAAAAAAAAAAABAAAAAAAAAAAAAAAAAAAAAAAAAAABAAAAAAAAAAAAAAABAAAAAAAAAQAAAAAAAAAAAAAAAQABAAAAAAAAAAAAAAAAAAAAAAAAAAAAAAAAAAAAAAAAAAAAAAAAAAAAAAAAAAABAAAAAAAAAQAAAAAAAAAAAAAAAAAAAAAAAAAAAAAAAAAAAAAAAAAAAAABAAAAAAAAAAAAAAAAAAAAAAAAAAAAAAAAAAAAAAEAAAAAAAAAAAAAAAAAAAAAAAABAAAAAAAAAAAAAAAAAAAAAAAAAAEAAAAAAAAAAAAAAAAAAAAAAAAAAAAAAAAAAAAAAAAAAAAAAAAAAQAAAAAAAAAAAAAAAAABAAAAAAAAAAAAAAAAAAABAAAAAAAAAAAAAAAAAAAAAAAAAAAAAAAAAAAAAAAAAAAAAAAAAAAAAAAAAAAAAAAAAAAAAAAAAAAAAAAAAAABAAAAAAAAAAAAAAAAAAAAAAAAAAABAAAAAAEAAAAAAAAAAAAAAgAAAAAAAAAAAAAAAAAAAQAAAAAAAAAAAAAAAAAAAAAAAAAAAAAAAAAAAAAAAAAAAAAAAAAAAAAAAAAAAAAAAAAAAAEAAAEAAAAAAAAAAAAAAAAAAAAAAAAAAAAAAAABAAAAAAAAAAAAAAAAAAAAAAAAAAAAAQAAAAAAAAAAAAAAAAAAAAAAAAAAAAAAAAAAAQAAAAAAAAAAAAAAAAAAAAAAAAAAAAAAAAAAAAAAAAAAAAAAAAABAAAAAAAAAAAAAAAAAAAAAAAAAAAAAQAAAAAAAAAAAAAAAAAAAQABAAAAAAAAAAAAAAAAAAAAAAAAAAAAAAAAAAEAAAEAAAAAAAAAAAAAAAAAAAAAAAAAAAAAAAAAAAAAAAAAAQAAAAAAAAAAAAAAAAAAAAAAAAAAAAAAAAAAAAAAAAAAAAAAAAAAAAAAAQAAAAAAAAAAAAAAAAAAAAAAAAEAAAAAAAAAAAAAAAAAAAAAAAAAAAAAAAAAAAAAAAAAAAAAAAAAAAAAAAAAAAAAAAEAAAAAAQAAAAAAAAAAAAAAAAAAAAAAAAAAAAEAAAABAAEAAQAAAAAAAQAAAAAAAAAAAAAAAAAAAAAAAAAAAAAAAAAAAAAAAAAAAAAAAAAAAAAAAAAAAAAAAAAAAQAAAAAAAAAAAAAAAAAAAAAAAAAAAAAAAAAAAAAAAAAAAAEAAAAAAQAAAAAAAAAAAAAAAAAAAAAAAAAAAAAAAAAAAAAAAAAAAAAAAQAAAAAAAAAAAAAAAAAAAAAAAAAAAAAAAAAAAAAAAAAAAAAAAAAAAAAAAAAAAAAAAAAAAAAAAAAAAAAAAAAAAAAAAAAAAAAAAAAAAAAAAAAAAAAAAAAAAAAAAAAAAAAAAAAAAAAAAQAAAAAAAAEAAAAAAAAAAAAAAAAAAAAAAAAAAQAAAAAAAAAAAAABAAAAAAEAAAAAAAAAAQAAAAAAAAEAAAAAAAAAAAAAAAAAAAAAAAAAAAAAAAAAAAEAAAEAAAAAAAAAAAAAAAAAAAAAAAAAAAABAAAAAAAAAAAAAAAAAAAAAAEAAAEAAAAAAAAAAQAAAAAAAAAAAAAAAAAAAAAAAAAAAAAAAAAAAAAAAAAAAAAAAAEAAAAAAAAAAAAAAAAAAAAAAAAAAAEBAAAAAAAAAAAAAAAAAAAAAQAAAAAAAAAAAAAAAAAAAAAAAAAAAQAAAAAAAAAAAAAAAAAAAAAAAAAAAAAAAAAAAAAAAQAAAAAAAAAAAAAAAAAAAAE=",
          "dtype": "i1"
         },
         "x0": " ",
         "xaxis": "x",
         "y": {
          "bdata": "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",
          "dtype": "f8"
         },
         "y0": " ",
         "yaxis": "y"
        }
       ],
       "layout": {
        "boxmode": "group",
        "font": {
         "color": "#8B5CF6",
         "size": 12
        },
        "height": 550,
        "legend": {
         "tracegroupgap": 0
        },
        "margin": {
         "t": 60
        },
        "paper_bgcolor": "rgba(0,0,0,0)",
        "plot_bgcolor": "rgba(0,0,0,0)",
        "template": {
         "data": {
          "bar": [
           {
            "error_x": {
             "color": "#2a3f5f"
            },
            "error_y": {
             "color": "#2a3f5f"
            },
            "marker": {
             "line": {
              "color": "#E5ECF6",
              "width": 0.5
             },
             "pattern": {
              "fillmode": "overlay",
              "size": 10,
              "solidity": 0.2
             }
            },
            "type": "bar"
           }
          ],
          "barpolar": [
           {
            "marker": {
             "line": {
              "color": "#E5ECF6",
              "width": 0.5
             },
             "pattern": {
              "fillmode": "overlay",
              "size": 10,
              "solidity": 0.2
             }
            },
            "type": "barpolar"
           }
          ],
          "carpet": [
           {
            "aaxis": {
             "endlinecolor": "#2a3f5f",
             "gridcolor": "white",
             "linecolor": "white",
             "minorgridcolor": "white",
             "startlinecolor": "#2a3f5f"
            },
            "baxis": {
             "endlinecolor": "#2a3f5f",
             "gridcolor": "white",
             "linecolor": "white",
             "minorgridcolor": "white",
             "startlinecolor": "#2a3f5f"
            },
            "type": "carpet"
           }
          ],
          "choropleth": [
           {
            "colorbar": {
             "outlinewidth": 0,
             "ticks": ""
            },
            "type": "choropleth"
           }
          ],
          "contour": [
           {
            "colorbar": {
             "outlinewidth": 0,
             "ticks": ""
            },
            "colorscale": [
             [
              0.0,
              "#0d0887"
             ],
             [
              0.1111111111111111,
              "#46039f"
             ],
             [
              0.2222222222222222,
              "#7201a8"
             ],
             [
              0.3333333333333333,
              "#9c179e"
             ],
             [
              0.4444444444444444,
              "#bd3786"
             ],
             [
              0.5555555555555556,
              "#d8576b"
             ],
             [
              0.6666666666666666,
              "#ed7953"
             ],
             [
              0.7777777777777778,
              "#fb9f3a"
             ],
             [
              0.8888888888888888,
              "#fdca26"
             ],
             [
              1.0,
              "#f0f921"
             ]
            ],
            "type": "contour"
           }
          ],
          "contourcarpet": [
           {
            "colorbar": {
             "outlinewidth": 0,
             "ticks": ""
            },
            "type": "contourcarpet"
           }
          ],
          "heatmap": [
           {
            "colorbar": {
             "outlinewidth": 0,
             "ticks": ""
            },
            "colorscale": [
             [
              0.0,
              "#0d0887"
             ],
             [
              0.1111111111111111,
              "#46039f"
             ],
             [
              0.2222222222222222,
              "#7201a8"
             ],
             [
              0.3333333333333333,
              "#9c179e"
             ],
             [
              0.4444444444444444,
              "#bd3786"
             ],
             [
              0.5555555555555556,
              "#d8576b"
             ],
             [
              0.6666666666666666,
              "#ed7953"
             ],
             [
              0.7777777777777778,
              "#fb9f3a"
             ],
             [
              0.8888888888888888,
              "#fdca26"
             ],
             [
              1.0,
              "#f0f921"
             ]
            ],
            "type": "heatmap"
           }
          ],
          "histogram": [
           {
            "marker": {
             "pattern": {
              "fillmode": "overlay",
              "size": 10,
              "solidity": 0.2
             }
            },
            "type": "histogram"
           }
          ],
          "histogram2d": [
           {
            "colorbar": {
             "outlinewidth": 0,
             "ticks": ""
            },
            "colorscale": [
             [
              0.0,
              "#0d0887"
             ],
             [
              0.1111111111111111,
              "#46039f"
             ],
             [
              0.2222222222222222,
              "#7201a8"
             ],
             [
              0.3333333333333333,
              "#9c179e"
             ],
             [
              0.4444444444444444,
              "#bd3786"
             ],
             [
              0.5555555555555556,
              "#d8576b"
             ],
             [
              0.6666666666666666,
              "#ed7953"
             ],
             [
              0.7777777777777778,
              "#fb9f3a"
             ],
             [
              0.8888888888888888,
              "#fdca26"
             ],
             [
              1.0,
              "#f0f921"
             ]
            ],
            "type": "histogram2d"
           }
          ],
          "histogram2dcontour": [
           {
            "colorbar": {
             "outlinewidth": 0,
             "ticks": ""
            },
            "colorscale": [
             [
              0.0,
              "#0d0887"
             ],
             [
              0.1111111111111111,
              "#46039f"
             ],
             [
              0.2222222222222222,
              "#7201a8"
             ],
             [
              0.3333333333333333,
              "#9c179e"
             ],
             [
              0.4444444444444444,
              "#bd3786"
             ],
             [
              0.5555555555555556,
              "#d8576b"
             ],
             [
              0.6666666666666666,
              "#ed7953"
             ],
             [
              0.7777777777777778,
              "#fb9f3a"
             ],
             [
              0.8888888888888888,
              "#fdca26"
             ],
             [
              1.0,
              "#f0f921"
             ]
            ],
            "type": "histogram2dcontour"
           }
          ],
          "mesh3d": [
           {
            "colorbar": {
             "outlinewidth": 0,
             "ticks": ""
            },
            "type": "mesh3d"
           }
          ],
          "parcoords": [
           {
            "line": {
             "colorbar": {
              "outlinewidth": 0,
              "ticks": ""
             }
            },
            "type": "parcoords"
           }
          ],
          "pie": [
           {
            "automargin": true,
            "type": "pie"
           }
          ],
          "scatter": [
           {
            "fillpattern": {
             "fillmode": "overlay",
             "size": 10,
             "solidity": 0.2
            },
            "type": "scatter"
           }
          ],
          "scatter3d": [
           {
            "line": {
             "colorbar": {
              "outlinewidth": 0,
              "ticks": ""
             }
            },
            "marker": {
             "colorbar": {
              "outlinewidth": 0,
              "ticks": ""
             }
            },
            "type": "scatter3d"
           }
          ],
          "scattercarpet": [
           {
            "marker": {
             "colorbar": {
              "outlinewidth": 0,
              "ticks": ""
             }
            },
            "type": "scattercarpet"
           }
          ],
          "scattergeo": [
           {
            "marker": {
             "colorbar": {
              "outlinewidth": 0,
              "ticks": ""
             }
            },
            "type": "scattergeo"
           }
          ],
          "scattergl": [
           {
            "marker": {
             "colorbar": {
              "outlinewidth": 0,
              "ticks": ""
             }
            },
            "type": "scattergl"
           }
          ],
          "scattermap": [
           {
            "marker": {
             "colorbar": {
              "outlinewidth": 0,
              "ticks": ""
             }
            },
            "type": "scattermap"
           }
          ],
          "scattermapbox": [
           {
            "marker": {
             "colorbar": {
              "outlinewidth": 0,
              "ticks": ""
             }
            },
            "type": "scattermapbox"
           }
          ],
          "scatterpolar": [
           {
            "marker": {
             "colorbar": {
              "outlinewidth": 0,
              "ticks": ""
             }
            },
            "type": "scatterpolar"
           }
          ],
          "scatterpolargl": [
           {
            "marker": {
             "colorbar": {
              "outlinewidth": 0,
              "ticks": ""
             }
            },
            "type": "scatterpolargl"
           }
          ],
          "scatterternary": [
           {
            "marker": {
             "colorbar": {
              "outlinewidth": 0,
              "ticks": ""
             }
            },
            "type": "scatterternary"
           }
          ],
          "surface": [
           {
            "colorbar": {
             "outlinewidth": 0,
             "ticks": ""
            },
            "colorscale": [
             [
              0.0,
              "#0d0887"
             ],
             [
              0.1111111111111111,
              "#46039f"
             ],
             [
              0.2222222222222222,
              "#7201a8"
             ],
             [
              0.3333333333333333,
              "#9c179e"
             ],
             [
              0.4444444444444444,
              "#bd3786"
             ],
             [
              0.5555555555555556,
              "#d8576b"
             ],
             [
              0.6666666666666666,
              "#ed7953"
             ],
             [
              0.7777777777777778,
              "#fb9f3a"
             ],
             [
              0.8888888888888888,
              "#fdca26"
             ],
             [
              1.0,
              "#f0f921"
             ]
            ],
            "type": "surface"
           }
          ],
          "table": [
           {
            "cells": {
             "fill": {
              "color": "#EBF0F8"
             },
             "line": {
              "color": "white"
             }
            },
            "header": {
             "fill": {
              "color": "#C8D4E3"
             },
             "line": {
              "color": "white"
             }
            },
            "type": "table"
           }
          ]
         },
         "layout": {
          "annotationdefaults": {
           "arrowcolor": "#2a3f5f",
           "arrowhead": 0,
           "arrowwidth": 1
          },
          "autotypenumbers": "strict",
          "coloraxis": {
           "colorbar": {
            "outlinewidth": 0,
            "ticks": ""
           }
          },
          "colorscale": {
           "diverging": [
            [
             0,
             "#8e0152"
            ],
            [
             0.1,
             "#c51b7d"
            ],
            [
             0.2,
             "#de77ae"
            ],
            [
             0.3,
             "#f1b6da"
            ],
            [
             0.4,
             "#fde0ef"
            ],
            [
             0.5,
             "#f7f7f7"
            ],
            [
             0.6,
             "#e6f5d0"
            ],
            [
             0.7,
             "#b8e186"
            ],
            [
             0.8,
             "#7fbc41"
            ],
            [
             0.9,
             "#4d9221"
            ],
            [
             1,
             "#276419"
            ]
           ],
           "sequential": [
            [
             0.0,
             "#0d0887"
            ],
            [
             0.1111111111111111,
             "#46039f"
            ],
            [
             0.2222222222222222,
             "#7201a8"
            ],
            [
             0.3333333333333333,
             "#9c179e"
            ],
            [
             0.4444444444444444,
             "#bd3786"
            ],
            [
             0.5555555555555556,
             "#d8576b"
            ],
            [
             0.6666666666666666,
             "#ed7953"
            ],
            [
             0.7777777777777778,
             "#fb9f3a"
            ],
            [
             0.8888888888888888,
             "#fdca26"
            ],
            [
             1.0,
             "#f0f921"
            ]
           ],
           "sequentialminus": [
            [
             0.0,
             "#0d0887"
            ],
            [
             0.1111111111111111,
             "#46039f"
            ],
            [
             0.2222222222222222,
             "#7201a8"
            ],
            [
             0.3333333333333333,
             "#9c179e"
            ],
            [
             0.4444444444444444,
             "#bd3786"
            ],
            [
             0.5555555555555556,
             "#d8576b"
            ],
            [
             0.6666666666666666,
             "#ed7953"
            ],
            [
             0.7777777777777778,
             "#fb9f3a"
            ],
            [
             0.8888888888888888,
             "#fdca26"
            ],
            [
             1.0,
             "#f0f921"
            ]
           ]
          },
          "colorway": [
           "#636efa",
           "#EF553B",
           "#00cc96",
           "#ab63fa",
           "#FFA15A",
           "#19d3f3",
           "#FF6692",
           "#B6E880",
           "#FF97FF",
           "#FECB52"
          ],
          "font": {
           "color": "#2a3f5f"
          },
          "geo": {
           "bgcolor": "white",
           "lakecolor": "white",
           "landcolor": "#E5ECF6",
           "showlakes": true,
           "showland": true,
           "subunitcolor": "white"
          },
          "hoverlabel": {
           "align": "left"
          },
          "hovermode": "closest",
          "mapbox": {
           "style": "light"
          },
          "paper_bgcolor": "white",
          "plot_bgcolor": "#E5ECF6",
          "polar": {
           "angularaxis": {
            "gridcolor": "white",
            "linecolor": "white",
            "ticks": ""
           },
           "bgcolor": "#E5ECF6",
           "radialaxis": {
            "gridcolor": "white",
            "linecolor": "white",
            "ticks": ""
           }
          },
          "scene": {
           "xaxis": {
            "backgroundcolor": "#E5ECF6",
            "gridcolor": "white",
            "gridwidth": 2,
            "linecolor": "white",
            "showbackground": true,
            "ticks": "",
            "zerolinecolor": "white"
           },
           "yaxis": {
            "backgroundcolor": "#E5ECF6",
            "gridcolor": "white",
            "gridwidth": 2,
            "linecolor": "white",
            "showbackground": true,
            "ticks": "",
            "zerolinecolor": "white"
           },
           "zaxis": {
            "backgroundcolor": "#E5ECF6",
            "gridcolor": "white",
            "gridwidth": 2,
            "linecolor": "white",
            "showbackground": true,
            "ticks": "",
            "zerolinecolor": "white"
           }
          },
          "shapedefaults": {
           "line": {
            "color": "#2a3f5f"
           }
          },
          "ternary": {
           "aaxis": {
            "gridcolor": "white",
            "linecolor": "white",
            "ticks": ""
           },
           "baxis": {
            "gridcolor": "white",
            "linecolor": "white",
            "ticks": ""
           },
           "bgcolor": "#E5ECF6",
           "caxis": {
            "gridcolor": "white",
            "linecolor": "white",
            "ticks": ""
           }
          },
          "title": {
           "x": 0.05
          },
          "xaxis": {
           "automargin": true,
           "gridcolor": "white",
           "linecolor": "white",
           "ticks": "",
           "title": {
            "standoff": 15
           },
           "zerolinecolor": "white",
           "zerolinewidth": 2
          },
          "yaxis": {
           "automargin": true,
           "gridcolor": "white",
           "linecolor": "white",
           "ticks": "",
           "title": {
            "standoff": 15
           },
           "zerolinecolor": "white",
           "zerolinewidth": 2
          }
         }
        },
        "title": {
         "font": {
          "color": "#7C3AED",
          "size": 16
         }
        },
        "xaxis": {
         "anchor": "y",
         "domain": [
          0.0,
          1.0
         ],
         "gridcolor": "rgba(139,92,246,0.2)",
         "tickfont": {
          "color": "#8B5CF6",
          "size": 11
         },
         "title": {
          "font": {
           "color": "#7C3AED",
           "size": 12
          },
          "text": "Collision Count"
         },
         "zerolinecolor": "rgba(139,92,246,0.3)"
        },
        "yaxis": {
         "anchor": "x",
         "domain": [
          0.0,
          1.0
         ],
         "gridcolor": "rgba(139,92,246,0.2)",
         "tickfont": {
          "color": "#8B5CF6",
          "size": 11
         },
         "title": {
          "font": {
           "color": "#7C3AED",
           "size": 12
          },
          "text": "miles"
         },
         "zerolinecolor": "rgba(139,92,246,0.3)"
        }
       }
      }
     },
     "metadata": {},
     "output_type": "display_data"
    },
    {
     "name": "stdout",
     "output_type": "stream",
     "text": [
      "\n",
      "Statistical summary of 'miles' by collision count:\n"
     ]
    },
    {
     "name": "stdout",
     "output_type": "stream",
     "text": [
      "             count         mean          std         min         25%  \\\n",
      "collisions                                                             \n",
      "0           7249.0   424.555899   670.454950     0.00000    35.67516   \n",
      "1            348.0  1294.163843   954.344090    10.51788   557.22864   \n",
      "2             15.0  3444.699968  3416.975191  1017.02112  1467.26808   \n",
      "\n",
      "                   50%         75%          max  \n",
      "collisions                                       \n",
      "0            150.29184   516.56280   7976.06592  \n",
      "1           1075.84572  1939.00488   6648.58104  \n",
      "2           2846.96268  3902.80698  14902.60476  \n"
     ]
    }
   ],
   "source": [
    "# Analyze relationship between target and key features\n",
    "if len(num_features) > 0:\n",
    "    # Select top 3 features most correlated with target for detailed analysis\n",
    "    if target_col in numerical_cols:\n",
    "        target_correlations = df[num_features + [target_col]].corr()[target_col].abs().sort_values(ascending=False)\n",
    "        top_3_features = target_correlations.index[1:4].tolist()  # Exclude target itself\n",
    "    else:\n",
    "        # For categorical target, use features with highest variance\n",
    "        feature_variance = df[num_features].var().sort_values(ascending=False)\n",
    "        top_3_features = feature_variance.head(3).index.tolist()\n",
    "    \n",
    "    print(f\"Analyzing relationship between target '{target_col}' and features: {top_3_features}\")\n",
    "    \n",
    "    # Create box plots showing feature distribution by target class\n",
    "    if len(top_3_features) >= 1:\n",
    "        feature_for_analysis = top_3_features[0]\n",
    "        \n",
    "        fig_target_feature = px.box(\n",
    "            df,\n",
    "            x=target_col,\n",
    "            y=feature_for_analysis,\n",
    "            labels={target_col: 'Collision Count', feature_for_analysis: f'{feature_for_analysis}'}\n",
    "        )\n",
    "        \n",
    "        fig_target_feature.update_traces(marker=dict(color=app_color_palette[5]))\n",
    "        \n",
    "        fig_target_feature.update_layout(\n",
    "            height=550,\n",
    "            paper_bgcolor='rgba(0,0,0,0)',\n",
    "            plot_bgcolor='rgba(0,0,0,0)',\n",
    "            font=dict(color='#8B5CF6', size=12),\n",
    "            title_font=dict(color='#7C3AED', size=16),\n",
    "            xaxis=dict(\n",
    "                gridcolor='rgba(139,92,246,0.2)',\n",
    "                zerolinecolor='rgba(139,92,246,0.3)',\n",
    "                tickfont=dict(color='#8B5CF6', size=11),\n",
    "                title_font=dict(color='#7C3AED', size=12)\n",
    "            ),\n",
    "            yaxis=dict(\n",
    "                gridcolor='rgba(139,92,246,0.2)',\n",
    "                zerolinecolor='rgba(139,92,246,0.3)',\n",
    "                tickfont=dict(color='#8B5CF6', size=11),\n",
    "                title_font=dict(color='#7C3AED', size=12)\n",
    "            )\n",
    "        )\n",
    "        \n",
    "        fig_target_feature.write_html(\n",
    "            \"/Users/yuvalheffetz/ds-agent-projects/session_5feb6ac6-f292-4d0c-9e41-ab6b3ffc14d6/research/plots/target_feature_relationship.html\",\n",
    "            include_plotlyjs=True,\n",
    "            config={'responsive': True, 'displayModeBar': False}\n",
    "        )\n",
    "        \n",
    "        fig_target_feature.show()\n",
    "        \n",
    "        # Print statistical summary by target class\n",
    "        print(f\"\\nStatistical summary of '{feature_for_analysis}' by collision count:\")\n",
    "        print(df.groupby(target_col)[feature_for_analysis].describe())\n",
    "        \n",
    "    else:\n",
    "        print(\"No suitable features found for target-feature analysis.\")\n",
    "        # Create placeholder\n",
    "        fig_target_feature = px.bar(x=['No suitable features'], y=[0])\n",
    "        fig_target_feature.write_html(\n",
    "            \"/Users/yuvalheffetz/ds-agent-projects/session_5feb6ac6-f292-4d0c-9e41-ab6b3ffc14d6/research/plots/target_feature_relationship.html\",\n",
    "            include_plotlyjs=True,\n",
    "            config={'responsive': True, 'displayModeBar': False}\n",
    "        )\n",
    "        \n",
    "else:\n",
    "    print(\"No numerical features available for target-feature analysis.\")\n",
    "    # Create placeholder\n",
    "    fig_target_feature = px.bar(x=['No numerical features'], y=[0])\n",
    "    fig_target_feature.write_html(\n",
    "        \"/Users/yuvalheffetz/ds-agent-projects/session_5feb6ac6-f292-4d0c-9e41-ab6b3ffc14d6/research/plots/target_feature_relationship.html\",\n",
    "        include_plotlyjs=True,\n",
    "        config={'responsive': True, 'displayModeBar': False}\n",
    "    )"
   ]
  },
  {
   "cell_type": "markdown",
   "id": "21",
   "metadata": {},
   "source": [
    "## Summary and Key Findings"
   ]
  },
  {
   "cell_type": "code",
   "execution_count": 11,
   "id": "22",
   "metadata": {
    "execution": {
     "iopub.execute_input": "2025-09-06T20:35:00.406404Z",
     "iopub.status.busy": "2025-09-06T20:35:00.406322Z",
     "iopub.status.idle": "2025-09-06T20:35:00.414217Z",
     "shell.execute_reply": "2025-09-06T20:35:00.413908Z"
    }
   },
   "outputs": [
    {
     "name": "stdout",
     "output_type": "stream",
     "text": [
      "============================================================\n",
      "EXPLORATORY DATA ANALYSIS SUMMARY\n",
      "============================================================\n",
      "\n",
      "📊 Dataset Overview:\n",
      "   • Shape: 7,667 rows × 13 columns\n",
      "   • Target variable: collisions\n",
      "   • Task type: Classification\n",
      "\n",
      "🎯 Target Distribution:\n",
      "   • Class 0: 7,301 (95.2%)\n",
      "   • Class 1: 351 (4.6%)\n",
      "   • Class 2: 15 (0.2%)\n",
      "\n",
      "📈 Feature Types:\n",
      "   • Numerical features: 10\n",
      "   • Categorical features: 2\n",
      "\n",
      "🔍 Data Quality:\n",
      "   • Total missing values: 1,520 (1.53% of all values)\n",
      "   • Columns with missing data: 10\n",
      "\n",
      "📊 Key Insights:\n",
      "   • ⚠️  Severe class imbalance detected (95.2% in majority class)\n",
      "   • ⚠️  1 categorical features with >50 unique values\n",
      "\n",
      "🚀 Recommendations for ML Pipeline:\n",
      "   • Use stratified sampling due to class imbalance\n",
      "   • Consider SMOTE or other resampling techniques\n",
      "   • Apply feature scaling for numerical features\n",
      "   • Apply target encoding for high-cardinality categorical features\n",
      "   • Use PR-AUC as primary metric (ideal for imbalanced data)\n",
      "   • Consider ensemble methods (Random Forest, XGBoost)\n",
      "\n",
      "============================================================\n"
     ]
    }
   ],
   "source": [
    "# Generate comprehensive summary\n",
    "print(\"=\" * 60)\n",
    "print(\"EXPLORATORY DATA ANALYSIS SUMMARY\")\n",
    "print(\"=\" * 60)\n",
    "\n",
    "print(f\"\\n📊 Dataset Overview:\")\n",
    "print(f\"   • Shape: {df.shape[0]:,} rows × {df.shape[1]} columns\")\n",
    "print(f\"   • Target variable: {target_col}\")\n",
    "print(f\"   • Task type: {'Classification' if df[target_col].nunique() <= 10 else 'Regression'}\")\n",
    "\n",
    "print(f\"\\n🎯 Target Distribution:\")\n",
    "target_dist = df[target_col].value_counts().sort_index()\n",
    "for val in target_dist.index:\n",
    "    pct = (target_dist[val] / len(df)) * 100\n",
    "    print(f\"   • Class {val}: {target_dist[val]:,} ({pct:.1f}%)\")\n",
    "\n",
    "print(f\"\\n📈 Feature Types:\")\n",
    "print(f\"   • Numerical features: {len(num_features)}\")\n",
    "print(f\"   • Categorical features: {len(categorical_cols)}\")\n",
    "\n",
    "print(f\"\\n🔍 Data Quality:\")\n",
    "total_missing = df.isnull().sum().sum()\n",
    "missing_pct = (total_missing / (df.shape[0] * df.shape[1])) * 100\n",
    "print(f\"   • Total missing values: {total_missing:,} ({missing_pct:.2f}% of all values)\")\n",
    "print(f\"   • Columns with missing data: {df.isnull().sum().gt(0).sum()}\")\n",
    "\n",
    "if len(num_features) > 0:\n",
    "    print(f\"\\n📊 Key Insights:\")\n",
    "    \n",
    "    # Class imbalance insight\n",
    "    if target_dist.nunique() > 1:\n",
    "        max_class_pct = (target_dist.max() / target_dist.sum()) * 100\n",
    "        if max_class_pct > 80:\n",
    "            print(f\"   • ⚠️  Severe class imbalance detected ({max_class_pct:.1f}% in majority class)\")\n",
    "        elif max_class_pct > 60:\n",
    "            print(f\"   • ⚠️  Moderate class imbalance detected ({max_class_pct:.1f}% in majority class)\")\n",
    "        else:\n",
    "            print(f\"   • ✅ Balanced classes (largest class: {max_class_pct:.1f}%)\")\n",
    "    \n",
    "    # Feature variability insight\n",
    "    zero_var_features = (df[num_features].var() == 0).sum()\n",
    "    if zero_var_features > 0:\n",
    "        print(f\"   • ⚠️  {zero_var_features} features have zero variance\")\n",
    "    \n",
    "    # High cardinality categorical features\n",
    "    high_card_cats = [col for col in categorical_cols if df[col].nunique() > 50]\n",
    "    if high_card_cats:\n",
    "        print(f\"   • ⚠️  {len(high_card_cats)} categorical features with >50 unique values\")\n",
    "    \n",
    "    print(f\"\\n🚀 Recommendations for ML Pipeline:\")\n",
    "    print(f\"   • Use stratified sampling due to class imbalance\")\n",
    "    print(f\"   • Consider SMOTE or other resampling techniques\")\n",
    "    print(f\"   • Apply feature scaling for numerical features\")\n",
    "    if high_card_cats:\n",
    "        print(f\"   • Apply target encoding for high-cardinality categorical features\")\n",
    "    print(f\"   • Use PR-AUC as primary metric (ideal for imbalanced data)\")\n",
    "    print(f\"   • Consider ensemble methods (Random Forest, XGBoost)\")\n",
    "\n",
    "print(\"\\n\" + \"=\"*60)"
   ]
  }
 ],
 "metadata": {
  "kernelspec": {
   "display_name": "Python 3",
   "language": "python",
   "name": "python3"
  },
  "language_info": {
   "codemirror_mode": {
    "name": "ipython",
    "version": 3
   },
   "file_extension": ".py",
   "mimetype": "text/x-python",
   "name": "python",
   "nbconvert_exporter": "python",
   "pygments_lexer": "ipython3",
   "version": "3.12.11"
  }
 },
 "nbformat": 4,
 "nbformat_minor": 5
}
